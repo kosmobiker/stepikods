{
 "cells": [
  {
   "cell_type": "code",
   "execution_count": 444,
   "id": "regular-expansion",
   "metadata": {},
   "outputs": [],
   "source": [
    "import numpy as np\n",
    "import pandas as pd\n",
    "import random\n",
    "random.seed(666)\n",
    "from sklearn.preprocessing import LabelEncoder, OneHotEncoder\n",
    "from sklearn.model_selection import train_test_split\n",
    "from sklearn.linear_model import LogisticRegression\n",
    "from sklearn.preprocessing import MinMaxScaler\n",
    "from scipy.sparse import coo_matrix, hstack\n",
    "from sklearn.metrics import roc_auc_score\n",
    "from sklearn.metrics import f1_score\n",
    "from sklearn.neighbors import KNeighborsClassifier\n",
    "from sklearn.ensemble import RandomForestClassifier\n",
    "from sklearn.svm import LinearSVC"
   ]
  },
  {
   "cell_type": "code",
   "execution_count": 395,
   "id": "exotic-indianapolis",
   "metadata": {},
   "outputs": [],
   "source": [
    "train = pd.read_csv('../../data/aug_train.csv')\n",
    "test = pd.read_csv('../../data/aug_test.csv')"
   ]
  },
  {
   "cell_type": "code",
   "execution_count": 396,
   "id": "religious-volleyball",
   "metadata": {},
   "outputs": [
    {
     "data": {
      "text/html": [
       "<div>\n",
       "<style scoped>\n",
       "    .dataframe tbody tr th:only-of-type {\n",
       "        vertical-align: middle;\n",
       "    }\n",
       "\n",
       "    .dataframe tbody tr th {\n",
       "        vertical-align: top;\n",
       "    }\n",
       "\n",
       "    .dataframe thead th {\n",
       "        text-align: right;\n",
       "    }\n",
       "</style>\n",
       "<table border=\"1\" class=\"dataframe\">\n",
       "  <thead>\n",
       "    <tr style=\"text-align: right;\">\n",
       "      <th></th>\n",
       "      <th>enrollee_id</th>\n",
       "      <th>city</th>\n",
       "      <th>city_development_index</th>\n",
       "      <th>gender</th>\n",
       "      <th>relevent_experience</th>\n",
       "      <th>enrolled_university</th>\n",
       "      <th>education_level</th>\n",
       "      <th>major_discipline</th>\n",
       "      <th>experience</th>\n",
       "      <th>company_size</th>\n",
       "      <th>company_type</th>\n",
       "      <th>last_new_job</th>\n",
       "      <th>training_hours</th>\n",
       "      <th>target</th>\n",
       "    </tr>\n",
       "  </thead>\n",
       "  <tbody>\n",
       "    <tr>\n",
       "      <th>0</th>\n",
       "      <td>8949</td>\n",
       "      <td>city_103</td>\n",
       "      <td>0.920</td>\n",
       "      <td>Male</td>\n",
       "      <td>Has relevent experience</td>\n",
       "      <td>no_enrollment</td>\n",
       "      <td>Graduate</td>\n",
       "      <td>STEM</td>\n",
       "      <td>&gt;20</td>\n",
       "      <td>NaN</td>\n",
       "      <td>NaN</td>\n",
       "      <td>1</td>\n",
       "      <td>36</td>\n",
       "      <td>1.0</td>\n",
       "    </tr>\n",
       "    <tr>\n",
       "      <th>1</th>\n",
       "      <td>29725</td>\n",
       "      <td>city_40</td>\n",
       "      <td>0.776</td>\n",
       "      <td>Male</td>\n",
       "      <td>No relevent experience</td>\n",
       "      <td>no_enrollment</td>\n",
       "      <td>Graduate</td>\n",
       "      <td>STEM</td>\n",
       "      <td>15</td>\n",
       "      <td>50-99</td>\n",
       "      <td>Pvt Ltd</td>\n",
       "      <td>&gt;4</td>\n",
       "      <td>47</td>\n",
       "      <td>0.0</td>\n",
       "    </tr>\n",
       "    <tr>\n",
       "      <th>2</th>\n",
       "      <td>11561</td>\n",
       "      <td>city_21</td>\n",
       "      <td>0.624</td>\n",
       "      <td>NaN</td>\n",
       "      <td>No relevent experience</td>\n",
       "      <td>Full time course</td>\n",
       "      <td>Graduate</td>\n",
       "      <td>STEM</td>\n",
       "      <td>5</td>\n",
       "      <td>NaN</td>\n",
       "      <td>NaN</td>\n",
       "      <td>never</td>\n",
       "      <td>83</td>\n",
       "      <td>0.0</td>\n",
       "    </tr>\n",
       "    <tr>\n",
       "      <th>3</th>\n",
       "      <td>33241</td>\n",
       "      <td>city_115</td>\n",
       "      <td>0.789</td>\n",
       "      <td>NaN</td>\n",
       "      <td>No relevent experience</td>\n",
       "      <td>NaN</td>\n",
       "      <td>Graduate</td>\n",
       "      <td>Business Degree</td>\n",
       "      <td>&lt;1</td>\n",
       "      <td>NaN</td>\n",
       "      <td>Pvt Ltd</td>\n",
       "      <td>never</td>\n",
       "      <td>52</td>\n",
       "      <td>1.0</td>\n",
       "    </tr>\n",
       "    <tr>\n",
       "      <th>4</th>\n",
       "      <td>666</td>\n",
       "      <td>city_162</td>\n",
       "      <td>0.767</td>\n",
       "      <td>Male</td>\n",
       "      <td>Has relevent experience</td>\n",
       "      <td>no_enrollment</td>\n",
       "      <td>Masters</td>\n",
       "      <td>STEM</td>\n",
       "      <td>&gt;20</td>\n",
       "      <td>50-99</td>\n",
       "      <td>Funded Startup</td>\n",
       "      <td>4</td>\n",
       "      <td>8</td>\n",
       "      <td>0.0</td>\n",
       "    </tr>\n",
       "  </tbody>\n",
       "</table>\n",
       "</div>"
      ],
      "text/plain": [
       "   enrollee_id      city  city_development_index gender  \\\n",
       "0         8949  city_103                   0.920   Male   \n",
       "1        29725   city_40                   0.776   Male   \n",
       "2        11561   city_21                   0.624    NaN   \n",
       "3        33241  city_115                   0.789    NaN   \n",
       "4          666  city_162                   0.767   Male   \n",
       "\n",
       "       relevent_experience enrolled_university education_level  \\\n",
       "0  Has relevent experience       no_enrollment        Graduate   \n",
       "1   No relevent experience       no_enrollment        Graduate   \n",
       "2   No relevent experience    Full time course        Graduate   \n",
       "3   No relevent experience                 NaN        Graduate   \n",
       "4  Has relevent experience       no_enrollment         Masters   \n",
       "\n",
       "  major_discipline experience company_size    company_type last_new_job  \\\n",
       "0             STEM        >20          NaN             NaN            1   \n",
       "1             STEM         15        50-99         Pvt Ltd           >4   \n",
       "2             STEM          5          NaN             NaN        never   \n",
       "3  Business Degree         <1          NaN         Pvt Ltd        never   \n",
       "4             STEM        >20        50-99  Funded Startup            4   \n",
       "\n",
       "   training_hours  target  \n",
       "0              36     1.0  \n",
       "1              47     0.0  \n",
       "2              83     0.0  \n",
       "3              52     1.0  \n",
       "4               8     0.0  "
      ]
     },
     "execution_count": 396,
     "metadata": {},
     "output_type": "execute_result"
    }
   ],
   "source": [
    "train.head()"
   ]
  },
  {
   "cell_type": "code",
   "execution_count": 397,
   "id": "recognized-principal",
   "metadata": {},
   "outputs": [
    {
     "data": {
      "text/html": [
       "<div>\n",
       "<style scoped>\n",
       "    .dataframe tbody tr th:only-of-type {\n",
       "        vertical-align: middle;\n",
       "    }\n",
       "\n",
       "    .dataframe tbody tr th {\n",
       "        vertical-align: top;\n",
       "    }\n",
       "\n",
       "    .dataframe thead th {\n",
       "        text-align: right;\n",
       "    }\n",
       "</style>\n",
       "<table border=\"1\" class=\"dataframe\">\n",
       "  <thead>\n",
       "    <tr style=\"text-align: right;\">\n",
       "      <th></th>\n",
       "      <th>enrollee_id</th>\n",
       "      <th>city_development_index</th>\n",
       "      <th>training_hours</th>\n",
       "      <th>target</th>\n",
       "    </tr>\n",
       "  </thead>\n",
       "  <tbody>\n",
       "    <tr>\n",
       "      <th>enrollee_id</th>\n",
       "      <td>1.000000</td>\n",
       "      <td>-0.040455</td>\n",
       "      <td>0.000998</td>\n",
       "      <td>0.049475</td>\n",
       "    </tr>\n",
       "    <tr>\n",
       "      <th>city_development_index</th>\n",
       "      <td>-0.040455</td>\n",
       "      <td>1.000000</td>\n",
       "      <td>0.001920</td>\n",
       "      <td>-0.341665</td>\n",
       "    </tr>\n",
       "    <tr>\n",
       "      <th>training_hours</th>\n",
       "      <td>0.000998</td>\n",
       "      <td>0.001920</td>\n",
       "      <td>1.000000</td>\n",
       "      <td>-0.021577</td>\n",
       "    </tr>\n",
       "    <tr>\n",
       "      <th>target</th>\n",
       "      <td>0.049475</td>\n",
       "      <td>-0.341665</td>\n",
       "      <td>-0.021577</td>\n",
       "      <td>1.000000</td>\n",
       "    </tr>\n",
       "  </tbody>\n",
       "</table>\n",
       "</div>"
      ],
      "text/plain": [
       "                        enrollee_id  city_development_index  training_hours  \\\n",
       "enrollee_id                1.000000               -0.040455        0.000998   \n",
       "city_development_index    -0.040455                1.000000        0.001920   \n",
       "training_hours             0.000998                0.001920        1.000000   \n",
       "target                     0.049475               -0.341665       -0.021577   \n",
       "\n",
       "                          target  \n",
       "enrollee_id             0.049475  \n",
       "city_development_index -0.341665  \n",
       "training_hours         -0.021577  \n",
       "target                  1.000000  "
      ]
     },
     "execution_count": 397,
     "metadata": {},
     "output_type": "execute_result"
    }
   ],
   "source": [
    "train.corr()"
   ]
  },
  {
   "cell_type": "code",
   "execution_count": 398,
   "id": "essential-receiver",
   "metadata": {},
   "outputs": [
    {
     "data": {
      "text/html": [
       "<div>\n",
       "<style scoped>\n",
       "    .dataframe tbody tr th:only-of-type {\n",
       "        vertical-align: middle;\n",
       "    }\n",
       "\n",
       "    .dataframe tbody tr th {\n",
       "        vertical-align: top;\n",
       "    }\n",
       "\n",
       "    .dataframe thead th {\n",
       "        text-align: right;\n",
       "    }\n",
       "</style>\n",
       "<table border=\"1\" class=\"dataframe\">\n",
       "  <thead>\n",
       "    <tr style=\"text-align: right;\">\n",
       "      <th></th>\n",
       "      <th>enrollee_id</th>\n",
       "      <th>city_development_index</th>\n",
       "      <th>training_hours</th>\n",
       "    </tr>\n",
       "  </thead>\n",
       "  <tbody>\n",
       "    <tr>\n",
       "      <th>enrollee_id</th>\n",
       "      <td>1.000000</td>\n",
       "      <td>-0.045087</td>\n",
       "      <td>0.003239</td>\n",
       "    </tr>\n",
       "    <tr>\n",
       "      <th>city_development_index</th>\n",
       "      <td>-0.045087</td>\n",
       "      <td>1.000000</td>\n",
       "      <td>-0.022653</td>\n",
       "    </tr>\n",
       "    <tr>\n",
       "      <th>training_hours</th>\n",
       "      <td>0.003239</td>\n",
       "      <td>-0.022653</td>\n",
       "      <td>1.000000</td>\n",
       "    </tr>\n",
       "  </tbody>\n",
       "</table>\n",
       "</div>"
      ],
      "text/plain": [
       "                        enrollee_id  city_development_index  training_hours\n",
       "enrollee_id                1.000000               -0.045087        0.003239\n",
       "city_development_index    -0.045087                1.000000       -0.022653\n",
       "training_hours             0.003239               -0.022653        1.000000"
      ]
     },
     "execution_count": 398,
     "metadata": {},
     "output_type": "execute_result"
    }
   ],
   "source": [
    "test.corr()"
   ]
  },
  {
   "cell_type": "code",
   "execution_count": 399,
   "id": "floral-version",
   "metadata": {},
   "outputs": [
    {
     "name": "stdout",
     "output_type": "stream",
     "text": [
      "<class 'pandas.core.frame.DataFrame'>\n",
      "RangeIndex: 19158 entries, 0 to 19157\n",
      "Data columns (total 14 columns):\n",
      " #   Column                  Non-Null Count  Dtype  \n",
      "---  ------                  --------------  -----  \n",
      " 0   enrollee_id             19158 non-null  int64  \n",
      " 1   city                    19158 non-null  object \n",
      " 2   city_development_index  19158 non-null  float64\n",
      " 3   gender                  14650 non-null  object \n",
      " 4   relevent_experience     19158 non-null  object \n",
      " 5   enrolled_university     18772 non-null  object \n",
      " 6   education_level         18698 non-null  object \n",
      " 7   major_discipline        16345 non-null  object \n",
      " 8   experience              19093 non-null  object \n",
      " 9   company_size            13220 non-null  object \n",
      " 10  company_type            13018 non-null  object \n",
      " 11  last_new_job            18735 non-null  object \n",
      " 12  training_hours          19158 non-null  int64  \n",
      " 13  target                  19158 non-null  float64\n",
      "dtypes: float64(2), int64(2), object(10)\n",
      "memory usage: 2.0+ MB\n"
     ]
    }
   ],
   "source": [
    "train.info()"
   ]
  },
  {
   "cell_type": "code",
   "execution_count": 400,
   "id": "reverse-quantum",
   "metadata": {},
   "outputs": [],
   "source": [
    "# y = train['target'].astype('int')\n",
    "# train = train.drop('target', axis=1)"
   ]
  },
  {
   "cell_type": "code",
   "execution_count": 401,
   "id": "formed-length",
   "metadata": {},
   "outputs": [
    {
     "data": {
      "text/plain": [
       "enrollee_id               0.000000\n",
       "city                      0.000000\n",
       "city_development_index    0.000000\n",
       "gender                    0.235306\n",
       "relevent_experience       0.000000\n",
       "enrolled_university       0.020148\n",
       "education_level           0.024011\n",
       "major_discipline          0.146832\n",
       "experience                0.003393\n",
       "company_size              0.309949\n",
       "company_type              0.320493\n",
       "last_new_job              0.022080\n",
       "training_hours            0.000000\n",
       "target                    0.000000\n",
       "dtype: float64"
      ]
     },
     "execution_count": 401,
     "metadata": {},
     "output_type": "execute_result"
    }
   ],
   "source": [
    "train.isna().sum()/train.shape[0]"
   ]
  },
  {
   "cell_type": "code",
   "execution_count": 402,
   "id": "divine-postcard",
   "metadata": {},
   "outputs": [
    {
     "data": {
      "text/plain": [
       "enrollee_id               0.000000\n",
       "city                      0.000000\n",
       "city_development_index    0.000000\n",
       "gender                    0.238610\n",
       "relevent_experience       0.000000\n",
       "enrolled_university       0.014561\n",
       "education_level           0.024425\n",
       "major_discipline          0.146548\n",
       "experience                0.002349\n",
       "company_size              0.292156\n",
       "company_type              0.297792\n",
       "last_new_job              0.018788\n",
       "training_hours            0.000000\n",
       "dtype: float64"
      ]
     },
     "execution_count": 402,
     "metadata": {},
     "output_type": "execute_result"
    }
   ],
   "source": [
    "test.isna().sum()/test.shape[0]"
   ]
  },
  {
   "cell_type": "code",
   "execution_count": 403,
   "id": "efficient-offset",
   "metadata": {},
   "outputs": [
    {
     "name": "stdout",
     "output_type": "stream",
     "text": [
      "city_103    0.227320\n",
      "city_21     0.141038\n",
      "city_16     0.080019\n",
      "city_114    0.069736\n",
      "city_160    0.044107\n",
      "              ...   \n",
      "city_129    0.000157\n",
      "city_111    0.000157\n",
      "city_121    0.000157\n",
      "city_140    0.000052\n",
      "city_171    0.000052\n",
      "Name: city, Length: 123, dtype: float64 \n",
      "\n",
      "Male      0.902457\n",
      "Female    0.084505\n",
      "Other     0.013038\n",
      "Name: gender, dtype: float64 \n",
      "\n",
      "Has relevent experience    0.719908\n",
      "No relevent experience     0.280092\n",
      "Name: relevent_experience, dtype: float64 \n",
      "\n",
      "no_enrollment       0.736043\n",
      "Full time course    0.200139\n",
      "Part time course    0.063818\n",
      "Name: enrolled_university, dtype: float64 \n",
      "\n",
      "Graduate          0.620280\n",
      "Masters           0.233234\n",
      "High School       0.107872\n",
      "Phd               0.022141\n",
      "Primary School    0.016472\n",
      "Name: education_level, dtype: float64 \n",
      "\n",
      "STEM               0.886632\n",
      "Humanities         0.040930\n",
      "Other              0.023310\n",
      "Business Degree    0.020006\n",
      "Arts               0.015479\n",
      "No Major           0.013643\n",
      "Name: major_discipline, dtype: float64 \n",
      "\n",
      ">20    0.172105\n",
      "5      0.074897\n",
      "4      0.073482\n",
      "3      0.070916\n",
      "6      0.063688\n",
      "2      0.059027\n",
      "7      0.053842\n",
      "10     0.051590\n",
      "9      0.051328\n",
      "8      0.042005\n",
      "15     0.035929\n",
      "11     0.034777\n",
      "14     0.030692\n",
      "1      0.028754\n",
      "<1     0.027340\n",
      "16     0.026607\n",
      "12     0.025873\n",
      "13     0.020898\n",
      "17     0.017912\n",
      "19     0.015922\n",
      "18     0.014665\n",
      "20     0.007752\n",
      "Name: experience, dtype: float64 \n",
      "\n",
      "50-99        0.233207\n",
      "100-500      0.194478\n",
      "10000+       0.152723\n",
      "10/49        0.111271\n",
      "1000-4999    0.100454\n",
      "<10          0.098941\n",
      "500-999      0.066339\n",
      "5000-9999    0.042587\n",
      "Name: company_size, dtype: float64 \n",
      "\n",
      "Pvt Ltd                0.754110\n",
      "Funded Startup         0.076894\n",
      "Public Sector          0.073360\n",
      "Early Stage Startup    0.046320\n",
      "NGO                    0.040022\n",
      "Other                  0.009295\n",
      "Name: company_type, dtype: float64 \n",
      "\n",
      "1        0.429143\n",
      ">4       0.175607\n",
      "2        0.154790\n",
      "never    0.130878\n",
      "4        0.054924\n",
      "3        0.054657\n",
      "Name: last_new_job, dtype: float64 \n",
      "\n"
     ]
    }
   ],
   "source": [
    "obj_column = train.dtypes[train.dtypes == 'object'].index\n",
    "for obj in obj_column:\n",
    "    print(train[obj].value_counts(normalize=True), '\\n')"
   ]
  },
  {
   "cell_type": "code",
   "execution_count": 404,
   "id": "damaged-torture",
   "metadata": {},
   "outputs": [
    {
     "data": {
      "text/plain": [
       "enrollee_id                True\n",
       "city                       True\n",
       "city_development_index     True\n",
       "gender                    False\n",
       "relevent_experience        True\n",
       "enrolled_university        True\n",
       "education_level            True\n",
       "major_discipline          False\n",
       "experience                 True\n",
       "company_size              False\n",
       "company_type              False\n",
       "last_new_job               True\n",
       "training_hours             True\n",
       "target                     True\n",
       "dtype: bool"
      ]
     },
     "execution_count": 404,
     "metadata": {},
     "output_type": "execute_result"
    }
   ],
   "source": [
    "train.isna().sum()/train.shape[0] < 0.1"
   ]
  },
  {
   "cell_type": "code",
   "execution_count": 405,
   "id": "indirect-frederick",
   "metadata": {},
   "outputs": [],
   "source": [
    "def fill_NA(df, *cols):\n",
    "    temp_df = df[df.columns[df.isna().sum()/df.shape[0] < 0.1]]\n",
    "    temp_df = temp_df.fillna('NA').drop('enrollee_id', axis=1)\n",
    "    oh_enc = OneHotEncoder()\n",
    "    oh_enc.fit(temp_df)\n",
    "    for col in cols:\n",
    "        X_test = temp_df[df[col].isna()] #X_test, y_test will be predicted\n",
    "        X_train = temp_df[~df[col].isna()] #X_train\n",
    "        y_train = df[~df[col].isna()][col] #y_train\n",
    "        lb_enc = LabelEncoder()\n",
    "        y_train_enc = lb_enc.fit_transform(y_train)\n",
    "        X_train_enc = oh_enc.transform(X_train)\n",
    "        X_test_enc = oh_enc.transform(X_test)\n",
    "#         clf = LogisticRegression(max_iter = 1000, n_jobs=-1)\n",
    "        clf = KNeighborsClassifier(n_neighbors=5)\n",
    "        clf.fit(X_train_enc, y_train_enc)\n",
    "        y_pred = clf.predict(X_test_enc)\n",
    "        print(np.unique(y_pred, return_counts=True))\n",
    "        y_pred = lb_enc.inverse_transform(y_pred)\n",
    "        df.loc[df.isna()[col], col] = y_pred"
   ]
  },
  {
   "cell_type": "code",
   "execution_count": 406,
   "id": "friendly-alliance",
   "metadata": {},
   "outputs": [
    {
     "name": "stdout",
     "output_type": "stream",
     "text": [
      "(array([0, 1, 2]), array([  37, 4470,    1], dtype=int64))\n",
      "(array([0, 1, 2, 3, 4, 5]), array([  11,    8,   43,    8,    7, 2736], dtype=int64))\n",
      "(array([0, 1, 2, 3, 4, 5, 6, 7]), array([1121, 1379,  473,  941, 1351,  148,   53,  472], dtype=int64))\n",
      "(array([0, 1, 2, 3, 4, 5]), array([  84,  142,   92,    3,  408, 5411], dtype=int64))\n"
     ]
    }
   ],
   "source": [
    "fill_NA(train, 'gender', 'major_discipline', 'company_size', 'company_type')"
   ]
  },
  {
   "cell_type": "code",
   "execution_count": 407,
   "id": "circular-booth",
   "metadata": {},
   "outputs": [
    {
     "name": "stdout",
     "output_type": "stream",
     "text": [
      "(array([0, 1]), array([  9, 499], dtype=int64))\n",
      "(array([2, 5]), array([  4, 308], dtype=int64))\n",
      "(array([0, 1, 2, 3, 4, 5, 6, 7]), array([122, 170,  41, 105,  96,  13,  20,  55], dtype=int64))\n",
      "(array([0, 1, 2, 4, 5]), array([ 14,   1,   2,  35, 582], dtype=int64))\n"
     ]
    }
   ],
   "source": [
    "fill_NA(test, 'gender', 'major_discipline', 'company_size', 'company_type')"
   ]
  },
  {
   "cell_type": "code",
   "execution_count": 408,
   "id": "becoming-ministry",
   "metadata": {},
   "outputs": [],
   "source": [
    "global_enc = OneHotEncoder(handle_unknown='ignore')"
   ]
  },
  {
   "cell_type": "code",
   "execution_count": 420,
   "id": "dense-edinburgh",
   "metadata": {},
   "outputs": [],
   "source": [
    "y_train = train['target']\n",
    "X_train = train.drop(['target', 'enrollee_id'], axis=1).fillna('NA')\n",
    "X_test = test.drop(['enrollee_id'], axis=1).fillna('NA')"
   ]
  },
  {
   "cell_type": "code",
   "execution_count": 421,
   "id": "fitted-scratch",
   "metadata": {},
   "outputs": [],
   "source": [
    "X_train_obj = X_train[X_train.columns[X_train.dtypes == 'object']]\n",
    "X_test_obj = X_test[X_test.columns[X_test.dtypes == 'object']]"
   ]
  },
  {
   "cell_type": "code",
   "execution_count": 422,
   "id": "looking-fellow",
   "metadata": {},
   "outputs": [],
   "source": [
    "global_enc.fit(X_train_obj)\n",
    "X_train_obj_sparse = global_enc.transform(X_train_obj)\n",
    "X_test_obj_sparse = global_enc.transform(X_test_obj)"
   ]
  },
  {
   "cell_type": "code",
   "execution_count": 423,
   "id": "decent-tracker",
   "metadata": {},
   "outputs": [],
   "source": [
    "scl = MinMaxScaler()\n",
    "X_train_th = scl.fit_transform(X_train[['training_hours', 'city_development_index']])\n",
    "X_test_th = scl.fit_transform(X_test[['training_hours', 'city_development_index']])"
   ]
  },
  {
   "cell_type": "code",
   "execution_count": 424,
   "id": "subtle-chest",
   "metadata": {},
   "outputs": [],
   "source": [
    "X_train = hstack([X_train_obj_sparse, X_train_th])\n",
    "X_test = hstack([X_test_obj_sparse, X_test_th])"
   ]
  },
  {
   "cell_type": "code",
   "execution_count": 425,
   "id": "crazy-apache",
   "metadata": {},
   "outputs": [],
   "source": [
    "X_train, X_holdout, y_train, y_holdout = train_test_split(X_train, y_train, train_size=0.7)"
   ]
  },
  {
   "cell_type": "code",
   "execution_count": 447,
   "id": "magnetic-termination",
   "metadata": {},
   "outputs": [],
   "source": [
    "clf_1 = LogisticRegression(n_jobs=-1)\n",
    "clf_2 = RandomForestClassifier(n_jobs=-1)\n",
    "clf_3 = LinearSVC()"
   ]
  },
  {
   "cell_type": "code",
   "execution_count": 448,
   "id": "broke-universe",
   "metadata": {},
   "outputs": [
    {
     "data": {
      "text/plain": [
       "LinearSVC()"
      ]
     },
     "execution_count": 448,
     "metadata": {},
     "output_type": "execute_result"
    }
   ],
   "source": [
    "clf_1.fit(X_train, y_train)\n",
    "clf_2.fit(X_train, y_train)\n",
    "clf_3.fit(X_train, y_train)"
   ]
  },
  {
   "cell_type": "code",
   "execution_count": 449,
   "id": "authentic-husband",
   "metadata": {},
   "outputs": [],
   "source": [
    "# y_pred = clf_1.predict(X_test).astype('int')\n",
    "y_pred = clf_2.predict(X_test).astype('int')"
   ]
  },
  {
   "cell_type": "code",
   "execution_count": 450,
   "id": "unique-resident",
   "metadata": {},
   "outputs": [
    {
     "data": {
      "text/plain": [
       "0.6377448172577215"
      ]
     },
     "execution_count": 450,
     "metadata": {},
     "output_type": "execute_result"
    }
   ],
   "source": [
    "roc_auc_score(y_holdout, clf_1.predict(X_holdout))"
   ]
  },
  {
   "cell_type": "code",
   "execution_count": 451,
   "id": "regular-isaac",
   "metadata": {},
   "outputs": [
    {
     "data": {
      "text/plain": [
       "0.442367601246106"
      ]
     },
     "execution_count": 451,
     "metadata": {},
     "output_type": "execute_result"
    }
   ],
   "source": [
    "f1_score(y_holdout, clf_1.predict(X_holdout))"
   ]
  },
  {
   "cell_type": "code",
   "execution_count": 452,
   "id": "spectacular-strain",
   "metadata": {},
   "outputs": [],
   "source": [
    "# pd.DataFrame(index=test['enrollee_id'], data=y_pred, columns=['target'])"
   ]
  },
  {
   "cell_type": "code",
   "execution_count": 453,
   "id": "floral-mapping",
   "metadata": {},
   "outputs": [
    {
     "data": {
      "text/plain": [
       "0.6598056117902334"
      ]
     },
     "execution_count": 453,
     "metadata": {},
     "output_type": "execute_result"
    }
   ],
   "source": [
    "roc_auc_score(y_holdout, clf_2.predict(X_holdout))"
   ]
  },
  {
   "cell_type": "code",
   "execution_count": 454,
   "id": "foreign-replication",
   "metadata": {},
   "outputs": [
    {
     "data": {
      "text/plain": [
       "0.48341232227488146"
      ]
     },
     "execution_count": 454,
     "metadata": {},
     "output_type": "execute_result"
    }
   ],
   "source": [
    "f1_score(y_holdout, clf_2.predict(X_holdout))"
   ]
  },
  {
   "cell_type": "code",
   "execution_count": 455,
   "id": "psychological-reunion",
   "metadata": {},
   "outputs": [
    {
     "data": {
      "text/plain": [
       "0.6462178898698075"
      ]
     },
     "execution_count": 455,
     "metadata": {},
     "output_type": "execute_result"
    }
   ],
   "source": [
    "roc_auc_score(y_holdout, clf_3.predict(X_holdout))"
   ]
  },
  {
   "cell_type": "code",
   "execution_count": 456,
   "id": "documentary-platform",
   "metadata": {},
   "outputs": [
    {
     "data": {
      "text/plain": [
       "0.45842498900131984"
      ]
     },
     "execution_count": 456,
     "metadata": {},
     "output_type": "execute_result"
    }
   ],
   "source": [
    "f1_score(y_holdout, clf_3.predict(X_holdout))"
   ]
  },
  {
   "cell_type": "code",
   "execution_count": null,
   "id": "historical-escape",
   "metadata": {},
   "outputs": [],
   "source": []
  },
  {
   "cell_type": "code",
   "execution_count": null,
   "id": "female-hospital",
   "metadata": {},
   "outputs": [],
   "source": []
  }
 ],
 "metadata": {
  "kernelspec": {
   "display_name": "Python 3",
   "language": "python",
   "name": "python3"
  },
  "language_info": {
   "codemirror_mode": {
    "name": "ipython",
    "version": 3
   },
   "file_extension": ".py",
   "mimetype": "text/x-python",
   "name": "python",
   "nbconvert_exporter": "python",
   "pygments_lexer": "ipython3",
   "version": "3.8.5"
  }
 },
 "nbformat": 4,
 "nbformat_minor": 5
}
