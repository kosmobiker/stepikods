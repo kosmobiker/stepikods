{
 "cells": [
  {
   "cell_type": "code",
   "execution_count": 1,
   "metadata": {},
   "outputs": [],
   "source": [
    "import numpy as np\n",
    "import pandas as pd\n",
    "import xgboost as xgb\n",
    "from sklearn.model_selection import StratifiedKFold, train_test_split\n",
    "from sklearn.ensemble import RandomForestClassifier\n",
    "from sklearn.metrics import accuracy_score, confusion_matrix\n",
    "from sklearn.model_selection import GridSearchCV\n",
    "%matplotlib inline\n",
    "import matplotlib.pyplot as plt"
   ]
  },
  {
   "cell_type": "code",
   "execution_count": 2,
   "metadata": {},
   "outputs": [],
   "source": [
    "train_df = pd.read_csv('../../data/forest_train.csv')\n",
    "test_df = pd.read_csv('../../data/forest_test.csv')"
   ]
  },
  {
   "cell_type": "code",
   "execution_count": 3,
   "metadata": {},
   "outputs": [],
   "source": [
    "def write_to_submission_file(predicted_labels, out_file,\n",
    "                             target='Cover_Type', index_label=\"Id\", init_index=15121):\n",
    "    predicted_df = pd.DataFrame(predicted_labels,\n",
    "                                index = np.arange(init_index, \n",
    "                                                  predicted_labels.shape[0] + init_index),\n",
    "                                columns=[target])\n",
    "    predicted_df.to_csv(out_file, index_label=index_label)"
   ]
  },
  {
   "cell_type": "markdown",
   "metadata": {},
   "source": [
    "he study area includes four wilderness areas located in the Roosevelt National Forest of northern Colorado. Each observation is a 30m x 30m patch. You are asked to predict an integer classification for the forest cover type. The seven types are:\n",
    "\n",
    "- 1 - Spruce/Fir\n",
    "- 2 - Lodgepole Pine\n",
    "- 3 - Ponderosa Pine\n",
    "- 4 - Cottonwood/Willow\n",
    "- 5 - Aspen\n",
    "- 6 - Douglas-fir\n",
    "- 7 - Krummholz\n",
    "\n",
    "The training set (15120 observations) contains both features and the Cover_Type. The test set contains only the features. You must predict the Cover_Type for every row in the test set (565892 observations).\n",
    "\n",
    "\n",
    "\n",
    "- Elevation (высота) - Elevation in meters\n",
    "- Aspect - Aspect in degrees azimuth\n",
    "- Slope (наклон) - Slope in degrees\n",
    "- Horizontal_Distance_To_Hydrology (горизонтальное расстояние до воды) - Horz Dist to nearest surface water features\n",
    "- Vertical_Distance_To_Hydrology (вертикальное расстояние до воды) - Vert Dist to nearest surface water features\n",
    "- Horizontal_Distance_To_Roadways (горизонтальное расстояние до дорог) - Horz Dist to nearest roadway\n",
    "- Hillshade_9am (0 to 255 index) - Hillshade index at 9am, summer solstice\n",
    "- Hillshade_Noon (0 to 255 index) - Hillshade index at noon, summer solstice\n",
    "- Hillshade_3pm (0 to 255 index) - Hillshade index at 3pm, summer solstice\n",
    "- Horizontal_Distance_To_Fire_Points (горизонтальное расстояние до центров воспламенения) - Horz Dist to nearest wildfire ignition points\n",
    "- Wilderness_Area (4 binary columns, 0 = absence or 1 = presence) - Wilderness area designation\n",
    "- Soil_Type (тип почвы) - (40 binary columns, 0 = absence or 1 = presence) - Soil Type designation Cover_Type (7 types, integers 1 to 7) - Forest Cover Type designation\n",
    "\n"
   ]
  },
  {
   "cell_type": "code",
   "execution_count": 4,
   "metadata": {},
   "outputs": [],
   "source": [
    "train_df['Under_water'] = train_df.Vertical_Distance_To_Hydrology < 0\n",
    "test_df['Under_water'] = test_df.Vertical_Distance_To_Hydrology < 0"
   ]
  },
  {
   "cell_type": "code",
   "execution_count": 5,
   "metadata": {},
   "outputs": [],
   "source": [
    "train_df['EVDtH'] = train_df.Elevation - train_df.Vertical_Distance_To_Hydrology\n",
    "test_df['EVDtH'] = test_df.Elevation - test_df.Vertical_Distance_To_Hydrology\n",
    "\n",
    "train_df['EHDtH'] = train_df.Elevation - train_df.Horizontal_Distance_To_Hydrology*0.2\n",
    "test_df['EHDtH'] = test_df.Elevation - test_df.Horizontal_Distance_To_Hydrology*0.2"
   ]
  },
  {
   "cell_type": "code",
   "execution_count": 6,
   "metadata": {},
   "outputs": [],
   "source": [
    "train_df['Distanse_to_Hydrolody'] = (train_df['Horizontal_Distance_To_Hydrology'] ** 2 + \n",
    "                                  train_df['Vertical_Distance_To_Hydrology']**2) ** 0.5\n",
    "test_df['Distanse_to_Hydrolody'] = (test_df['Horizontal_Distance_To_Hydrology']**2 + \n",
    "                                 test_df['Vertical_Distance_To_Hydrology']**2) ** 0.5\n",
    "\n",
    "train_df['Hydro_Fire_1'] = train_df['Horizontal_Distance_To_Hydrology'] + \\\n",
    "    train_df['Horizontal_Distance_To_Fire_Points']\n",
    "test_df['Hydro_Fire_1'] = test_df['Horizontal_Distance_To_Hydrology'] + \\\n",
    "    test_df['Horizontal_Distance_To_Fire_Points']\n",
    "\n",
    "train_df['Hydro_Fire_2'] = abs(train_df['Horizontal_Distance_To_Hydrology'] - \\\n",
    "                                train_df['Horizontal_Distance_To_Fire_Points'])\n",
    "test_df['Hydro_Fire_2'] = abs(test_df['Horizontal_Distance_To_Hydrology'] - \\\n",
    "                           test_df['Horizontal_Distance_To_Fire_Points'])\n",
    "\n",
    "train_df['Hydro_Road_1'] = abs(train_df['Horizontal_Distance_To_Hydrology'] + \\\n",
    "                            train_df['Horizontal_Distance_To_Roadways'])\n",
    "test_df['Hydro_Road_1'] = abs(test_df['Horizontal_Distance_To_Hydrology'] + \\\n",
    "                           test_df['Horizontal_Distance_To_Roadways'])\n",
    "\n",
    "train_df['Hydro_Road_2'] = abs(train_df['Horizontal_Distance_To_Hydrology'] - \\\n",
    "                            train_df['Horizontal_Distance_To_Roadways'])\n",
    "test_df['Hydro_Road_2'] = abs(test_df['Horizontal_Distance_To_Hydrology'] - \\\n",
    "                           test_df['Horizontal_Distance_To_Roadways'])\n",
    "\n",
    "train_df['Fire_Road_1'] = abs(train_df['Horizontal_Distance_To_Fire_Points'] + \\\n",
    "                           train_df['Horizontal_Distance_To_Roadways'])\n",
    "test_df['Fire_Road_1'] = abs(test_df['Horizontal_Distance_To_Fire_Points'] + \\\n",
    "                          test_df['Horizontal_Distance_To_Roadways'])\n",
    "\n",
    "train_df['Fire_Road_2'] = abs(train_df['Horizontal_Distance_To_Fire_Points'] - \\\n",
    "                           train_df['Horizontal_Distance_To_Roadways'])\n",
    "test_df['Fire_Road_2'] = abs(test_df['Horizontal_Distance_To_Fire_Points'] - \\\n",
    "                          test_df['Horizontal_Distance_To_Roadways'])"
   ]
  },
  {
   "cell_type": "code",
   "execution_count": 7,
   "metadata": {},
   "outputs": [],
   "source": [
    "y = train_df['Cover_Type']\n",
    "train_df = train_df.drop(['Cover_Type', 'Id'], axis=1)\n",
    "test_df = test_df.drop(['Id'], axis=1)"
   ]
  },
  {
   "cell_type": "code",
   "execution_count": 8,
   "metadata": {},
   "outputs": [],
   "source": [
    "y = y - 1 # Чтоб классы нумеровались от о до 6"
   ]
  },
  {
   "cell_type": "code",
   "execution_count": 9,
   "metadata": {},
   "outputs": [],
   "source": [
    "from hyperopt import hp\n",
    "from hyperopt import fmin, tpe, hp, STATUS_OK, Trials"
   ]
  },
  {
   "cell_type": "code",
   "execution_count": 10,
   "metadata": {},
   "outputs": [],
   "source": [
    "def score(params):\n",
    "    from sklearn.metrics import log_loss\n",
    "    print(\"Training with params:\")\n",
    "    print(params)\n",
    "    params['max_depth'] = int(params['max_depth'])\n",
    "    dtrain = xgb.DMatrix(X_train, label=y_train)\n",
    "    dvalid = xgb.DMatrix(X_test, label=y_test)\n",
    "    model = xgb.train(params, dtrain, params['num_round'])\n",
    "    predictions = model.predict(dvalid).reshape((X_test.shape[0], 7))\n",
    "    score = log_loss(y_test, predictions)\n",
    "    print(\"\\tScore {0}\\n\\n\".format(score))\n",
    "    return {'loss': score, 'status': STATUS_OK}"
   ]
  },
  {
   "cell_type": "code",
   "execution_count": 11,
   "metadata": {},
   "outputs": [],
   "source": [
    "def optimize(trials):\n",
    "    space = {\n",
    "             'num_round': 100,\n",
    "             'learning_rate': hp.quniform('eta', 0.005, 0.05, 0.005),\n",
    "             'max_depth': hp.quniform('max_depth', 3, 14, 1),\n",
    "             'min_child_weight': hp.quniform('min_child_weight', 1, 10, 1),\n",
    "             'subsample': hp.quniform('subsample', 0.5, 1, 0.05),\n",
    "             'gamma': hp.quniform('gamma', 0.5, 1, 0.01),\n",
    "             'colsample_bytree': hp.quniform('colsample_bytree', 0.4, 1, 0.05),\n",
    "             'num_class' : 7,\n",
    "             'eval_metric': 'merror',\n",
    "             'objective': 'multi:softprob',\n",
    "             'nthread' : -1,\n",
    "             'silent' : 1\n",
    "             }\n",
    "    \n",
    "    best = fmin(score, space, algo=tpe.suggest, trials=trials, max_evals=10)\n",
    "    return best"
   ]
  },
  {
   "cell_type": "code",
   "execution_count": 12,
   "metadata": {},
   "outputs": [],
   "source": [
    "X_train, X_test, y_train, y_test = train_test_split(\n",
    "    train_df, y, test_size=0.3, random_state=17)"
   ]
  },
  {
   "cell_type": "code",
   "execution_count": 13,
   "metadata": {},
   "outputs": [
    {
     "name": "stdout",
     "output_type": "stream",
     "text": [
      "Training with params:                                 \n",
      "{'colsample_bytree': 0.8, 'eval_metric': 'merror', 'gamma': 0.9500000000000001, 'learning_rate': 0.02, 'max_depth': 5.0, 'min_child_weight': 5.0, 'nthread': -1, 'num_class': 7, 'num_round': 100, 'objective': 'multi:softprob', 'silent': 1, 'subsample': 0.55}\n",
      "[12:39:50] WARNING: /workspace/src/learner.cc:480:    \n",
      "Parameters: { num_round, silent } might not be used.\n",
      "\n",
      "  This may not be accurate due to some parameters are only used in language bindings but\n",
      "  passed down to XGBoost core.  Or some parameters are not used but slip through this\n",
      "  verification. Please open an issue if you find above cases.\n",
      "\n",
      "\n",
      "\tScore 0.7975908679956639                             \n",
      "\n",
      "\n",
      "Training with params:                                                           \n",
      "{'colsample_bytree': 0.8500000000000001, 'eval_metric': 'merror', 'gamma': 0.67, 'learning_rate': 0.045, 'max_depth': 13.0, 'min_child_weight': 2.0, 'nthread': -1, 'num_class': 7, 'num_round': 100, 'objective': 'multi:softprob', 'silent': 1, 'subsample': 0.75}\n",
      "[12:40:13] WARNING: /workspace/src/learner.cc:480:                              \n",
      "Parameters: { num_round, silent } might not be used.\n",
      "\n",
      "  This may not be accurate due to some parameters are only used in language bindings but\n",
      "  passed down to XGBoost core.  Or some parameters are not used but slip through this\n",
      "  verification. Please open an issue if you find above cases.\n",
      "\n",
      "\n",
      "\tScore 0.3783113968979922                                                       \n",
      "\n",
      "\n",
      "Training with params:                                                           \n",
      "{'colsample_bytree': 0.45, 'eval_metric': 'merror', 'gamma': 0.6900000000000001, 'learning_rate': 0.01, 'max_depth': 8.0, 'min_child_weight': 8.0, 'nthread': -1, 'num_class': 7, 'num_round': 100, 'objective': 'multi:softprob', 'silent': 1, 'subsample': 0.7000000000000001}\n",
      "[12:41:00] WARNING: /workspace/src/learner.cc:480:                              \n",
      "Parameters: { num_round, silent } might not be used.\n",
      "\n",
      "  This may not be accurate due to some parameters are only used in language bindings but\n",
      "  passed down to XGBoost core.  Or some parameters are not used but slip through this\n",
      "  verification. Please open an issue if you find above cases.\n",
      "\n",
      "\n",
      "\tScore 1.0455734922404432                                                       \n",
      "\n",
      "\n",
      "Training with params:                                                           \n",
      "{'colsample_bytree': 0.75, 'eval_metric': 'merror', 'gamma': 0.6900000000000001, 'learning_rate': 0.02, 'max_depth': 9.0, 'min_child_weight': 2.0, 'nthread': -1, 'num_class': 7, 'num_round': 100, 'objective': 'multi:softprob', 'silent': 1, 'subsample': 0.9500000000000001}\n",
      "[12:41:18] WARNING: /workspace/src/learner.cc:480:                              \n",
      "Parameters: { num_round, silent } might not be used.\n",
      "\n",
      "  This may not be accurate due to some parameters are only used in language bindings but\n",
      "  passed down to XGBoost core.  Or some parameters are not used but slip through this\n",
      "  verification. Please open an issue if you find above cases.\n",
      "\n",
      "\n",
      "\tScore 0.6374266211081434                                                       \n",
      "\n",
      "\n",
      "Training with params:                                                           \n",
      "{'colsample_bytree': 0.7000000000000001, 'eval_metric': 'merror', 'gamma': 0.86, 'learning_rate': 0.01, 'max_depth': 10.0, 'min_child_weight': 4.0, 'nthread': -1, 'num_class': 7, 'num_round': 100, 'objective': 'multi:softprob', 'silent': 1, 'subsample': 0.9500000000000001}\n",
      "[12:41:52] WARNING: /workspace/src/learner.cc:480:                              \n",
      "Parameters: { num_round, silent } might not be used.\n",
      "\n",
      "  This may not be accurate due to some parameters are only used in language bindings but\n",
      "  passed down to XGBoost core.  Or some parameters are not used but slip through this\n",
      "  verification. Please open an issue if you find above cases.\n",
      "\n",
      "\n",
      "\tScore 0.9502282521212753                                                       \n",
      "\n",
      "\n",
      "Training with params:                                                           \n",
      "{'colsample_bytree': 0.7000000000000001, 'eval_metric': 'merror', 'gamma': 0.59, 'learning_rate': 0.04, 'max_depth': 8.0, 'min_child_weight': 2.0, 'nthread': -1, 'num_class': 7, 'num_round': 100, 'objective': 'multi:softprob', 'silent': 1, 'subsample': 0.9}\n",
      "[12:42:26] WARNING: /workspace/src/learner.cc:480:                              \n",
      "Parameters: { num_round, silent } might not be used.\n",
      "\n",
      "  This may not be accurate due to some parameters are only used in language bindings but\n",
      "  passed down to XGBoost core.  Or some parameters are not used but slip through this\n",
      "  verification. Please open an issue if you find above cases.\n",
      "\n",
      "\n",
      "\tScore 0.4583627556465448                                                       \n",
      "\n",
      "\n",
      "Training with params:                                                           \n",
      "{'colsample_bytree': 0.55, 'eval_metric': 'merror', 'gamma': 0.78, 'learning_rate': 0.015, 'max_depth': 4.0, 'min_child_weight': 1.0, 'nthread': -1, 'num_class': 7, 'num_round': 100, 'objective': 'multi:softprob', 'silent': 1, 'subsample': 0.9500000000000001}\n",
      "[12:42:55] WARNING: /workspace/src/learner.cc:480:                              \n",
      "Parameters: { num_round, silent } might not be used.\n",
      "\n",
      "  This may not be accurate due to some parameters are only used in language bindings but\n",
      "  passed down to XGBoost core.  Or some parameters are not used but slip through this\n",
      "  verification. Please open an issue if you find above cases.\n",
      "\n",
      "\n",
      "\tScore 0.9627358177890327                                                       \n",
      "\n",
      "\n",
      "Training with params:                                                           \n",
      "{'colsample_bytree': 0.8, 'eval_metric': 'merror', 'gamma': 0.87, 'learning_rate': 0.01, 'max_depth': 4.0, 'min_child_weight': 3.0, 'nthread': -1, 'num_class': 7, 'num_round': 100, 'objective': 'multi:softprob', 'silent': 1, 'subsample': 0.6000000000000001}\n",
      "[12:43:09] WARNING: /workspace/src/learner.cc:480:                              \n",
      "Parameters: { num_round, silent } might not be used.\n",
      "\n",
      "  This may not be accurate due to some parameters are only used in language bindings but\n",
      "  passed down to XGBoost core.  Or some parameters are not used but slip through this\n",
      "  verification. Please open an issue if you find above cases.\n",
      "\n",
      "\n",
      "\tScore 1.1177651446963113                                                       \n",
      "\n",
      "\n",
      "Training with params:                                                           \n",
      "{'colsample_bytree': 0.55, 'eval_metric': 'merror', 'gamma': 0.63, 'learning_rate': 0.05, 'max_depth': 5.0, 'min_child_weight': 3.0, 'nthread': -1, 'num_class': 7, 'num_round': 100, 'objective': 'multi:softprob', 'silent': 1, 'subsample': 0.9500000000000001}\n",
      "[12:43:28] WARNING: /workspace/src/learner.cc:480:                              \n",
      "Parameters: { num_round, silent } might not be used.\n",
      "\n",
      "  This may not be accurate due to some parameters are only used in language bindings but\n",
      "  passed down to XGBoost core.  Or some parameters are not used but slip through this\n",
      "  verification. Please open an issue if you find above cases.\n",
      "\n",
      "\n",
      "\tScore 0.5396356912497332                                                       \n",
      "\n",
      "\n",
      "Training with params:                                                           \n",
      "{'colsample_bytree': 0.45, 'eval_metric': 'merror', 'gamma': 0.5700000000000001, 'learning_rate': 0.03, 'max_depth': 9.0, 'min_child_weight': 1.0, 'nthread': -1, 'num_class': 7, 'num_round': 100, 'objective': 'multi:softprob', 'silent': 1, 'subsample': 0.75}\n",
      "[12:43:43] WARNING: /workspace/src/learner.cc:480:                              \n",
      "Parameters: { num_round, silent } might not be used.\n",
      "\n",
      "  This may not be accurate due to some parameters are only used in language bindings but\n",
      "  passed down to XGBoost core.  Or some parameters are not used but slip through this\n",
      "  verification. Please open an issue if you find above cases.\n",
      "\n",
      "\n",
      "\tScore 0.5203036847286177                                                       \n",
      "\n",
      "\n",
      "100%|██████████| 10/10 [04:14<00:00, 25.43s/trial, best loss: 0.3783113968979922]\n",
      "CPU times: user 4min 13s, sys: 526 ms, total: 4min 13s\n",
      "Wall time: 4min 14s\n"
     ]
    },
    {
     "data": {
      "text/plain": [
       "{'colsample_bytree': 0.8500000000000001,\n",
       " 'eta': 0.045,\n",
       " 'gamma': 0.67,\n",
       " 'max_depth': 13.0,\n",
       " 'min_child_weight': 2.0,\n",
       " 'subsample': 0.75}"
      ]
     },
     "execution_count": 13,
     "metadata": {},
     "output_type": "execute_result"
    }
   ],
   "source": [
    "%%time\n",
    "trials = Trials()\n",
    "best_params = optimize(trials)\n",
    "best_params"
   ]
  },
  {
   "cell_type": "code",
   "execution_count": 14,
   "metadata": {},
   "outputs": [],
   "source": [
    "best_params['max_depth'] = int(best_params['max_depth'])\n",
    "best_params['num_class'] = 7\n",
    "best_params['eval_metric'] = 'merror'\n",
    "best_params['objective'] = 'multi:softprob'\n",
    "best_params['nthread'] = 4\n",
    "best_params['silent'] = 1"
   ]
  },
  {
   "cell_type": "code",
   "execution_count": 15,
   "metadata": {},
   "outputs": [],
   "source": [
    "dtrain = xgb.DMatrix(train_df, y)"
   ]
  },
  {
   "cell_type": "code",
   "execution_count": 16,
   "metadata": {},
   "outputs": [
    {
     "name": "stdout",
     "output_type": "stream",
     "text": [
      "[12:44:05] WARNING: /workspace/src/learner.cc:480: \n",
      "Parameters: { silent } might not be used.\n",
      "\n",
      "  This may not be accurate due to some parameters are only used in language bindings but\n",
      "  passed down to XGBoost core.  Or some parameters are not used but slip through this\n",
      "  verification. Please open an issue if you find above cases.\n",
      "\n",
      "\n",
      "[12:44:05] WARNING: /workspace/src/learner.cc:480: \n",
      "Parameters: { silent } might not be used.\n",
      "\n",
      "  This may not be accurate due to some parameters are only used in language bindings but\n",
      "  passed down to XGBoost core.  Or some parameters are not used but slip through this\n",
      "  verification. Please open an issue if you find above cases.\n",
      "\n",
      "\n",
      "[12:44:05] WARNING: /workspace/src/learner.cc:480: \n",
      "Parameters: { silent } might not be used.\n",
      "\n",
      "  This may not be accurate due to some parameters are only used in language bindings but\n",
      "  passed down to XGBoost core.  Or some parameters are not used but slip through this\n",
      "  verification. Please open an issue if you find above cases.\n",
      "\n",
      "\n",
      "CPU times: user 14min 47s, sys: 5.98 s, total: 14min 53s\n",
      "Wall time: 3min 48s\n"
     ]
    }
   ],
   "source": [
    "%%time\n",
    "xgbCvResult = xgb.cv(best_params, dtrain, \n",
    "                      num_boost_round=500,  \n",
    "                      nfold=3, early_stopping_rounds=10)"
   ]
  },
  {
   "cell_type": "code",
   "execution_count": 17,
   "metadata": {},
   "outputs": [
    {
     "data": {
      "image/png": "[encoded data removed]",
      "text/plain": [
       "<Figure size 432x288 with 1 Axes>"
      ]
     },
     "metadata": {
      "needs_background": "light"
     },
     "output_type": "display_data"
    }
   ],
   "source": [
    "plt.plot(range(xgbCvResult.shape[0]), xgbCvResult['test-merror-mean'])\n",
    "plt.plot(range(xgbCvResult.shape[0]), xgbCvResult['train-merror-mean']);"
   ]
  },
  {
   "cell_type": "code",
   "execution_count": 19,
   "metadata": {},
   "outputs": [
    {
     "data": {
      "text/plain": [
       "354"
      ]
     },
     "execution_count": 19,
     "metadata": {},
     "output_type": "execute_result"
    }
   ],
   "source": [
    "best_num_round = np.argmin(xgbCvResult['test-merror-mean'])\n",
    "best_num_round"
   ]
  },
  {
   "cell_type": "code",
   "execution_count": 20,
   "metadata": {},
   "outputs": [
    {
     "name": "stdout",
     "output_type": "stream",
     "text": [
      "[12:52:01] WARNING: /workspace/src/learner.cc:480: \n",
      "Parameters: { silent } might not be used.\n",
      "\n",
      "  This may not be accurate due to some parameters are only used in language bindings but\n",
      "  passed down to XGBoost core.  Or some parameters are not used but slip through this\n",
      "  verification. Please open an issue if you find above cases.\n",
      "\n",
      "\n"
     ]
    }
   ],
   "source": [
    "bestXgb = xgb.train(best_params, dtrain, num_boost_round=best_num_round)\n",
    "dtest = xgb.DMatrix(test_df)\n",
    "xgboost_predict_proba = bestXgb.predict(dtest)\n",
    "xgboost_prediction = np.argmax(xgboost_predict_proba,\n",
    "                                         axis=1)\n",
    "xgboost_prediction += 1"
   ]
  },
  {
   "cell_type": "code",
   "execution_count": 21,
   "metadata": {},
   "outputs": [],
   "source": [
    "write_to_submission_file(xgboost_prediction, \n",
    "                         'forest_cover_.csv')"
   ]
  },
  {
   "cell_type": "markdown",
   "metadata": {},
   "source": [
    "***Kaggle 0.78033***"
   ]
  },
  {
   "cell_type": "code",
   "execution_count": null,
   "metadata": {},
   "outputs": [],
   "source": []
  },
  {
   "cell_type": "code",
   "execution_count": null,
   "metadata": {},
   "outputs": [],
   "source": []
  },
  {
   "cell_type": "code",
   "execution_count": null,
   "metadata": {},
   "outputs": [],
   "source": []
  },
  {
   "cell_type": "code",
   "execution_count": null,
   "metadata": {},
   "outputs": [],
   "source": []
  }
 ],
 "metadata": {
  "kernelspec": {
   "display_name": "Python 3",
   "language": "python",
   "name": "python3"
  },
  "language_info": {
   "codemirror_mode": {
    "name": "ipython",
    "version": 3
   },
   "file_extension": ".py",
   "mimetype": "text/x-python",
   "name": "python",
   "nbconvert_exporter": "python",
   "pygments_lexer": "ipython3",
   "version": "3.7.4"
  }
 },
 "nbformat": 4,
 "nbformat_minor": 4
}
