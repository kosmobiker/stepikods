{
 "cells": [
  {
   "cell_type": "markdown",
   "metadata": {},
   "source": [
    "[Check List](https://docs.google.com/spreadsheets/d/1OGhh7VFJKKNBQXFrN8AH90cLIxgFGhNQaYIdOq7LN-c/edit#gid=0)"
   ]
  },
  {
   "cell_type": "markdown",
   "metadata": {},
   "source": [
    "# 1. Search"
   ]
  },
  {
   "cell_type": "markdown",
   "metadata": {},
   "source": [
    "## 1.1 Binary search\n",
    "\n",
    "[Given a sorted](https://www.geeksforgeeks.org/binary-search/) (in ascending order) integer array `nums` of n elements and a target value, write a function to search target in `nums`. If target exists, then return its index, otherwise return -1\n",
    "\n",
    "We basically ignore half of the elements just after one comparison.\n",
    "\n",
    "- Compare x with the middle element.\n",
    "- If x matches with middle element, we return the mid index.\n",
    "- Else If x is greater than the mid element, then x can only lie in right half subarray after the mid element. So we recur for right half.\n",
    "- Else (x is smaller) recur for the left half.\n"
   ]
  },
  {
   "cell_type": "code",
   "execution_count": 11,
   "metadata": {},
   "outputs": [],
   "source": [
    "def binary_search(arr, left, right, target):\n",
    "    if right >= left:\n",
    "        mid = left + (right - left) // 2\n",
    "        if arr[mid] == target:\n",
    "            return mid\n",
    "        elif arr[mid] > target:\n",
    "            return binary_search(arr, left, mid - 1, target)\n",
    "        elif arr[mid] < target:\n",
    "            return binary_search(arr, mid + 1, right, target)\n",
    "    else:\n",
    "        return -1"
   ]
  },
  {
   "cell_type": "code",
   "execution_count": 12,
   "metadata": {},
   "outputs": [
    {
     "data": {
      "text/plain": [
       "-1"
      ]
     },
     "execution_count": 12,
     "metadata": {},
     "output_type": "execute_result"
    }
   ],
   "source": [
    "arr = [-1,0,3,5,9,12,14,29,30,31]\n",
    "target = 56\n",
    "binary_search(arr, 0, len(arr)-1, target)"
   ]
  },
  {
   "cell_type": "markdown",
   "metadata": {},
   "source": [
    "## 1.2 H – index\n",
    "[Given an array of citations](https://www.geeksforgeeks.org/what-is-h-index/) sorted in ascending order (each citation is a non-negative integer) of a researcher, write a function to compute the researcher's h-index.\n",
    "\n",
    "According to the definition of h-index on Wikipedia: \n",
    ">\"A scientist has index `h` if `h` of his/her `N` papers have at least `h` citations each, and the other `N − h` papers have no more than `h` citations each.\"\n",
    "\n",
    "Approach for finding the H – index :\n",
    "\n",
    "- *Sort the citation array in ascending order or descending order.*\n",
    "- Iterate from the lowest paper to the highest paper.\n",
    "- The remaining papers (result) is the count of papers that satisfy the condition for H-index.\n"
   ]
  },
  {
   "cell_type": "code",
   "execution_count": 13,
   "metadata": {},
   "outputs": [],
   "source": [
    "def H_index(citations): \n",
    "    citations.sort() \n",
    "    for i, cited in enumerate(citations): \n",
    "        result = len(citations) - i \n",
    "        if result <= cited: \n",
    "            return result \n",
    "    return 0"
   ]
  },
  {
   "cell_type": "code",
   "execution_count": 14,
   "metadata": {},
   "outputs": [
    {
     "data": {
      "text/plain": [
       "10"
      ]
     },
     "execution_count": 14,
     "metadata": {},
     "output_type": "execute_result"
    }
   ],
   "source": [
    "citation = [50, 31, 40, 28, 23, 12, 11, 8, 12, 43, 22, 5, 8, 5, 1, 0, 2, 1, 2, 2, 1] \n",
    "H_index(citation) "
   ]
  },
  {
   "cell_type": "markdown",
   "metadata": {},
   "source": [
    "# 2. Sorting"
   ]
  },
  {
   "cell_type": "markdown",
   "metadata": {},
   "source": [
    "## 2.1 Сounting sort\n",
    "\n",
    "[Counting sort is a sorting technique](https://www.geeksforgeeks.org/counting-sort/) based on keys between a specific range. It works by counting the number of objects having distinct key values (kind of hashing). Then doing some arithmetic to calculate the position of each object in the output sequence.\n",
    "\n",
    "The problem with the basic counting sort was that we could not sort the elements if we have negative numbers in it. Because there are no negative array indices. So what we do is, we find the minimum element and we will store count of that minimum element at zero index."
   ]
  },
  {
   "cell_type": "code",
   "execution_count": 15,
   "metadata": {},
   "outputs": [],
   "source": [
    "arr = [-2, 5, 1, 7, 12, -5, 1, 7, 1, 0 ,2, 5, 4, 5, 7, -3, 76, -4]"
   ]
  },
  {
   "cell_type": "code",
   "execution_count": 16,
   "metadata": {
    "scrolled": true
   },
   "outputs": [],
   "source": [
    "def counting_sort(arr):\n",
    "    count_arr = [0 for _ in range(max(arr) - min(arr) + 1)] \n",
    "    output_arr = [0 for _ in range(len(arr))] \n",
    "  \n",
    "    for i in range(0, len(arr)): \n",
    "        count_arr[arr[i]-min(arr)] += 1\n",
    "    for i in range(1, len(count_arr)): \n",
    "        count_arr[i] += count_arr[i-1]\n",
    "    for i in range(len(arr)-1, -1, -1): \n",
    "        output_arr[count_arr[arr[i] - min(arr)] - 1] = arr[i] \n",
    "        count_arr[arr[i] - min(arr)] -= 1\n",
    "        \n",
    "    return output_arr"
   ]
  },
  {
   "cell_type": "code",
   "execution_count": 17,
   "metadata": {},
   "outputs": [
    {
     "data": {
      "text/plain": [
       "[-5, -4, -3, -2, 0, 1, 1, 1, 2, 4, 5, 5, 5, 7, 7, 7, 12, 76]"
      ]
     },
     "execution_count": 17,
     "metadata": {},
     "output_type": "execute_result"
    }
   ],
   "source": [
    "counting_sort(arr)"
   ]
  },
  {
   "cell_type": "markdown",
   "metadata": {},
   "source": [
    "## 2.2. Merge Sort\n",
    "\n",
    "[Merge Sort](https://www.geeksforgeeks.org/merge-sort/) is a Divide and Conquer algorithm. It divides the input array into two halves, calls itself for the two halves, and then merges the two sorted halves. The merge() function is used for merging two halves. The merge(arr, l, m, r) is a key process that assumes that arr[l..m] and arr[m+1..r] are sorted and merges the two sorted sub-arrays into one. See the following  implementation for details.\n",
    "\n",
    "\n",
    "`MergeSort(arr[], l,  r)\n",
    "If r > l\n",
    "     1. Find the middle point to divide the array into two halves:  \n",
    "             middle m = (l+r)/2\n",
    "     2. Call mergeSort for first half:   \n",
    "             Call mergeSort(arr, l, m)\n",
    "     3. Call mergeSort for second half:\n",
    "             Call mergeSort(arr, m+1, r)\n",
    "     4. Merge the two halves sorted in step 2 and 3:\n",
    "             Call merge(arr, l, m, r)`"
   ]
  },
  {
   "cell_type": "code",
   "execution_count": 18,
   "metadata": {},
   "outputs": [],
   "source": [
    "def merge_sort(nlist):\n",
    "    if len(nlist)>1:\n",
    "        mid = len(nlist)//2\n",
    "        lefthalf = nlist[:mid]\n",
    "        righthalf = nlist[mid:]\n",
    "\n",
    "        mergeSort(lefthalf)\n",
    "        mergeSort(righthalf)\n",
    "        i=j=k=0       \n",
    "        while i < len(lefthalf) and j < len(righthalf):\n",
    "            if lefthalf[i] < righthalf[j]:\n",
    "                nlist[k]=lefthalf[i]\n",
    "                i=i+1\n",
    "            else:\n",
    "                nlist[k]=righthalf[j]\n",
    "                j=j+1\n",
    "            k=k+1\n",
    "\n",
    "        while i < len(lefthalf):\n",
    "            nlist[k]=lefthalf[i]\n",
    "            i=i+1\n",
    "            k=k+1\n",
    "\n",
    "        while j < len(righthalf):\n",
    "            nlist[k]=righthalf[j]\n",
    "            j=j+1\n",
    "            k=k+1\n",
    "            \n",
    "    return nlist"
   ]
  },
  {
   "cell_type": "markdown",
   "metadata": {},
   "source": [
    "merge_sort(arr)"
   ]
  },
  {
   "cell_type": "code",
   "execution_count": 1,
   "metadata": {},
   "outputs": [
    {
     "data": {
      "text/plain": [
       "[0, 1, 4, 9, 16, 25, 36, 49, 64, 81]"
      ]
     },
     "execution_count": 1,
     "metadata": {},
     "output_type": "execute_result"
    }
   ],
   "source": [
    "[i**2 for i in range(10)]"
   ]
  },
  {
   "cell_type": "code",
   "execution_count": 2,
   "metadata": {},
   "outputs": [
    {
     "data": {
      "text/plain": [
       "[0, 1, 8, 27, 64, 125, 216, 343, 512, 729]"
      ]
     },
     "execution_count": 2,
     "metadata": {},
     "output_type": "execute_result"
    }
   ],
   "source": [
    "[i**3 for i in range(10)]"
   ]
  },
  {
   "cell_type": "markdown",
   "metadata": {},
   "source": [
    "## 2.3 Combining sequences\n",
    "\n",
    "Trying to solve this [problem](https://informatics.mccme.ru/mod/statements/view.php?id=1121#1)"
   ]
  },
  {
   "cell_type": "code",
   "execution_count": 21,
   "metadata": {},
   "outputs": [],
   "source": [
    "def comb_seq(x):\n",
    "\n",
    "    c = set()\n",
    "    for i in range(x+2):\n",
    "        c.add(i**2)\n",
    "        c.add(i**3)\n",
    "        \n",
    "    return list(sorted(c))[x]"
   ]
  },
  {
   "cell_type": "code",
   "execution_count": 30,
   "metadata": {},
   "outputs": [
    {
     "data": {
      "text/plain": [
       "16"
      ]
     },
     "execution_count": 30,
     "metadata": {},
     "output_type": "execute_result"
    }
   ],
   "source": [
    "comb_seq(5)"
   ]
  },
  {
   "cell_type": "markdown",
   "metadata": {},
   "source": [
    "## 2.4 Equal arrays\n",
    "\n",
    "[Two arrays](https://afteracademy.com/blog/check-if-two-arrays-are-equal-or-not) are said to be equal if both of them contain the same set of elements, the permutation of the elements may be different though. If there are repetitions, then counts of repeated elements must also be the same for two arrays to be equal"
   ]
  },
  {
   "cell_type": "code",
   "execution_count": 108,
   "metadata": {},
   "outputs": [],
   "source": [
    "A = [1, 7, 9, 7, 8]\n",
    "B = [9, 7, 7, 1, 8, 0]  "
   ]
  },
  {
   "cell_type": "code",
   "execution_count": 104,
   "metadata": {},
   "outputs": [],
   "source": [
    "def eq_arr(arr1, arr2):\n",
    "    if set(arr1) == set(arr2):\n",
    "        return True\n",
    "    else:\n",
    "        return False"
   ]
  },
  {
   "cell_type": "code",
   "execution_count": 105,
   "metadata": {},
   "outputs": [],
   "source": [
    "from collections import defaultdict\n",
    " \n",
    "def Equal_arrays(arr1, arr2, n=len(arr1), m=len(arr2)):\n",
    " \n",
    "    if (n != m):\n",
    "        return False\n",
    " \n",
    "    count = defaultdict(int)\n",
    " \n",
    "    # Store the elements of arr1 and their counts in the dictionary\n",
    "    for i in arr1:\n",
    "        count[i] += 1\n",
    " \n",
    "    # Traverse through arr2 and compare the elements and its count with the elements of arr1\n",
    "    for i in arr2:\n",
    "        if (count[i] == 0):\n",
    "            return False\n",
    "         else:\n",
    "            count[i] -= 1\n",
    " \n",
    "    # Return true if both arr1 and\n",
    "    # arr2 are equal\n",
    "    return True"
   ]
  },
  {
   "cell_type": "code",
   "execution_count": 109,
   "metadata": {},
   "outputs": [
    {
     "data": {
      "text/plain": [
       "False"
      ]
     },
     "execution_count": 109,
     "metadata": {},
     "output_type": "execute_result"
    }
   ],
   "source": [
    "eq_arr1(A, B)"
   ]
  },
  {
   "cell_type": "code",
   "execution_count": 110,
   "metadata": {},
   "outputs": [
    {
     "data": {
      "text/plain": [
       "False"
      ]
     },
     "execution_count": 110,
     "metadata": {},
     "output_type": "execute_result"
    }
   ],
   "source": [
    "Equal_arrays(A, B)"
   ]
  },
  {
   "cell_type": "markdown",
   "metadata": {},
   "source": [
    "## 2.5 Anagram\n",
    "\n",
    "[Two words are anagrams](https://www.hackerrank.com/challenges/anagram/problem) of one another if their letters can be rearranged to form the other word.\n",
    "\n",
    "In this challenge, you will be given a string. You must split it into two contiguous `substrings`, then determine the minimum number of characters to change to make the two `substrings` into anagrams of one another.\n",
    "\n",
    "For example, given the string `abccde`, you would break it into two parts: `abc` and `cde`. Note that all letters have been used, the `substrings` are contiguous and their lengths are equal. Now you can change 'a' and 'b' in the first `substring` to 'd' and 'e' to have `dec` and `cde` which are anagrams. Two changes were necessary.\n",
    "Function should return the minimum number of characters to change to make the words anagrams, or `-1` if it's not possible. \n"
   ]
  },
  {
   "cell_type": "code",
   "execution_count": 106,
   "metadata": {},
   "outputs": [],
   "source": [
    "from collections import Counter\n",
    "\n",
    "def anagram(s):\n",
    "    if len(s)%2: return -1\n",
    "    l = len(s)//2\n",
    "    a = Counter(s[:l])\n",
    "    b = Counter(s[l:])\n",
    "    return l-sum((a & b).values())"
   ]
  },
  {
   "cell_type": "code",
   "execution_count": 109,
   "metadata": {},
   "outputs": [
    {
     "data": {
      "text/plain": [
       "14"
      ]
     },
     "execution_count": 109,
     "metadata": {},
     "output_type": "execute_result"
    }
   ],
   "source": [
    "anagram('asdasdaskjdnkjasbdjashdjjasaaaaaaaaaahvdhjvaddddddavshdvhasvdjdd')"
   ]
  },
  {
   "cell_type": "markdown",
   "metadata": {},
   "source": [
    "## 2.6 Closest Numbers\n",
    "\n",
    "[Sorting is useful](https://www.hackerrank.com/challenges/closest-numbers/problem) as the first step in many different tasks. The most common task is to make finding things easier, but there are other uses as well. In this case, it will make it easier to determine which pair or pairs of elements have the smallest absolute difference between them."
   ]
  },
  {
   "cell_type": "code",
   "execution_count": 97,
   "metadata": {},
   "outputs": [],
   "source": [
    "arr = [-20, -3916237, -357920, -3620601, 7374819, -7330761, 30, 6246457, -6461594, 266854, -520, -470]"
   ]
  },
  {
   "cell_type": "code",
   "execution_count": 98,
   "metadata": {},
   "outputs": [],
   "source": [
    "def Closest_Numbers(arr):\n",
    "    arr.sort()\n",
    "    res = []\n",
    "    min_d = arr[1] - arr[0]\n",
    "    for i in range(len(arr) - 1):\n",
    "        d = arr[i+1] - arr[i]\n",
    "        if d == min_d:\n",
    "            res += (arr[i], arr[i+1])\n",
    "            min_d = d\n",
    "        elif d < min_d:\n",
    "            res = [arr[i], arr[i+1]]\n",
    "            min_d = d\n",
    "            \n",
    "    return res"
   ]
  },
  {
   "cell_type": "code",
   "execution_count": 99,
   "metadata": {},
   "outputs": [
    {
     "data": {
      "text/plain": [
       "[-520, -470, -20, 30]"
      ]
     },
     "execution_count": 99,
     "metadata": {},
     "output_type": "execute_result"
    }
   ],
   "source": [
    "Closest_Numbers(arr)"
   ]
  },
  {
   "cell_type": "markdown",
   "metadata": {},
   "source": [
    "## 2.7 Heap Sort\n",
    "\n",
    "[Heap sort](https://www.geeksforgeeks.org/heap-sort/) is a comparison based sorting technique based on Binary Heap data structure. It is similar to selection sort where we first find the maximum element and place the maximum element at the end. We repeat the same process for the remaining elements.\n",
    "\n",
    "Heap Sort Algorithm for sorting in increasing order: \n",
    "1. Build a max heap from the input data. \n",
    "2. At this point, the largest item is stored at the root of the heap. Replace it with the last item of the heap followed by reducing the size of heap by 1. Finally, heapify the root of the tree. \n",
    "3. Repeat step 2 while size of heap is greater than 1."
   ]
  },
  {
   "cell_type": "code",
   "execution_count": 100,
   "metadata": {},
   "outputs": [],
   "source": [
    "def heapify(arr, n, i):\n",
    "    largest = i\n",
    "    l = 2 * i + 1     \n",
    "    r = 2 * i + 2 \n",
    " \n",
    "    if l < n and arr[largest] < arr[l]:\n",
    "        largest = l\n",
    " \n",
    "    if r < n and arr[largest] < arr[r]:\n",
    "        largest = r\n",
    " \n",
    "    if largest != i:\n",
    "        arr[i], arr[largest] = arr[largest], arr[i]\n",
    "        heapify(arr, n, largest)\n",
    "        \n",
    "def heapSort(arr):\n",
    "    n = len(arr)\n",
    " \n",
    "    for i in range(n//2 - 1, -1, -1):\n",
    "        heapify(arr, n, i)\n",
    " \n",
    "    for i in range(n-1, 0, -1):\n",
    "        arr[i], arr[0] = arr[0], arr[i]  # swap\n",
    "        heapify(arr, i, 0)\n",
    "        \n",
    "    return arr"
   ]
  },
  {
   "cell_type": "code",
   "execution_count": 105,
   "metadata": {},
   "outputs": [
    {
     "data": {
      "text/plain": [
       "[-234, -43, 0, 1, 5, 6, 7, 11, 12, 13, 43, 54, 54, 8439]"
      ]
     },
     "execution_count": 105,
     "metadata": {},
     "output_type": "execute_result"
    }
   ],
   "source": [
    "arr = [12, 11, 13, 5, 6, 7, -43, 43, 54, 54, 8439, 1, 0, -234]\n",
    "heapSort(arr)"
   ]
  },
  {
   "cell_type": "markdown",
   "metadata": {},
   "source": [
    "## 2.8 Full Counting Sort\n",
    "\n",
    "[In this challenge](https://www.hackerrank.com/challenges/countingsort4/problem) you need to print the string that accompanies each integer in a list sorted by the integers. If two strings are associated with the same integer, they must be printed in their original order so your sorting algorithm should be stable. There is one other twist. The first half of the strings encountered in the inputs are to be replaced with the character \"-\" (dash)"
   ]
  },
  {
   "cell_type": "code",
   "execution_count": 122,
   "metadata": {},
   "outputs": [
    {
     "name": "stdin",
     "output_type": "stream",
     "text": [
      " 4\n",
      " 0 a\n",
      " 1 b\n",
      " 0 c\n",
      " 1 d\n"
     ]
    }
   ],
   "source": [
    "arr = []\n",
    "n = int(input().strip())\n",
    "for _ in range(n):\n",
    "    arr.append(input().rstrip().split())"
   ]
  },
  {
   "cell_type": "code",
   "execution_count": 123,
   "metadata": {},
   "outputs": [
    {
     "data": {
      "text/plain": [
       "[['0', 'a'], ['1', 'b'], ['0', 'c'], ['1', 'd']]"
      ]
     },
     "execution_count": 123,
     "metadata": {},
     "output_type": "execute_result"
    }
   ],
   "source": [
    "arr"
   ]
  },
  {
   "cell_type": "code",
   "execution_count": 118,
   "metadata": {},
   "outputs": [],
   "source": [
    "from collections import defaultdict\n",
    "\n",
    "def fullcountSort(arr):\n",
    "    d = defaultdict(list)\n",
    "    h = len(arr)//2\n",
    "    for i,(x,y) in enumerate(arr):\n",
    "        d[int(x)].append(\"-\" if i<h else y)\n",
    "    for i in range(max(d)+1):\n",
    "         for j in d[i]:\n",
    "            print(j, end=' ')"
   ]
  },
  {
   "cell_type": "code",
   "execution_count": 124,
   "metadata": {},
   "outputs": [
    {
     "name": "stdout",
     "output_type": "stream",
     "text": [
      "- c - d "
     ]
    }
   ],
   "source": [
    "fullcountSort(arr)"
   ]
  },
  {
   "cell_type": "markdown",
   "metadata": {},
   "source": [
    "# 3. Stack\n",
    "\n",
    "## 3.1 Simple stack\n",
    "\n",
    "[A stack](https://geekflare.com/python-stack-implementation/) is similar to the pile of books, chairs, etc.., in real-life. And it follows the **Last-in/First-out (LIFO) principle**. It is the simplest data structure. Let’s see the scenario with a real-world example.\n",
    "\n",
    "Let’s say we have a pile of books as follows.\n",
    "\n",
    "![Stack](https://geekflare.com/wp-content/uploads/2020/12/books_stack.gif)\n",
    "\n",
    "When we want the third book from the top then, we have to remove the first two books from the top to take out the third book. Here, the topmost book goes last to the pile and comes first of the pile. The data structure stack follows the same principle Last-in/First-out (LIFO) in programming."
   ]
  },
  {
   "cell_type": "code",
   "execution_count": 14,
   "metadata": {},
   "outputs": [],
   "source": [
    "class Stack:\n",
    "    def __init__(self):\n",
    "        self.elements = []\n",
    "\n",
    "    def push(self, data):\n",
    "        self.elements.append(data)\n",
    "        return data\n",
    "    \n",
    "    def pop(self):\n",
    "        return self.elements.pop()\n",
    "    \n",
    "    def peek(self):\n",
    "        return self.elements[-1]\n",
    "    \n",
    "    def size(self):\n",
    "        return len(self.elements)\n",
    "    \n",
    "    def clear(self):\n",
    "        self.elements = []\n",
    "        print('Stack has been cleared')\n",
    "        \n",
    "    def show_stack(self):\n",
    "        print(*self.elements, end=' ')"
   ]
  },
  {
   "cell_type": "code",
   "execution_count": 15,
   "metadata": {},
   "outputs": [
    {
     "output_type": "execute_result",
     "data": {
      "text/plain": [
       "15"
      ]
     },
     "metadata": {},
     "execution_count": 15
    }
   ],
   "source": [
    "s = Stack()\n",
    "s.push(5)\n",
    "s.push(10)\n",
    "s.push(15)"
   ]
  },
  {
   "cell_type": "code",
   "execution_count": 16,
   "metadata": {},
   "outputs": [
    {
     "output_type": "stream",
     "name": "stdout",
     "text": [
      "5 10 15 "
     ]
    }
   ],
   "source": [
    "s.show_stack()"
   ]
  },
  {
   "cell_type": "markdown",
   "metadata": {},
   "source": [
    "There are mainly two types of queue in Python:\n",
    "\n",
    "- First in First out Queue: For this, the element that goes first will be the first to come out.\n",
    "    To work with FIFO, you have to call Queue() class from queue module.\n",
    "- Last in First out Queue: Over here, the element that is entered last will be the first to come out.\n",
    "    To work with LIFO, you have to call LifoQueue() class from the queue module. "
   ]
  },
  {
   "cell_type": "code",
   "execution_count": 74,
   "metadata": {},
   "outputs": [],
   "source": [
    "from collections import deque\n",
    "stack = deque()"
   ]
  },
  {
   "cell_type": "code",
   "execution_count": 75,
   "metadata": {},
   "outputs": [
    {
     "data": {
      "text/plain": [
       "1"
      ]
     },
     "execution_count": 75,
     "metadata": {},
     "output_type": "execute_result"
    }
   ],
   "source": [
    "stack.append(9)\n",
    "stack.append(11)\n",
    "stack.pop()\n",
    "len(stack)"
   ]
  },
  {
   "cell_type": "markdown",
   "metadata": {},
   "source": [
    "The name `LifoQueue` itself says that it follows the LIFO principle. Hence we can use it as a stack without any doubt. It is from the built-in module queue. The `LifoQueue` provides some handy methods that are useful in the stack implementation. Let’s see them\n",
    "\n",
    "- put(data) – adds or pushes the data to the queue\n",
    "- get() – removes or pops the topmost element from the queue\n",
    "- empty() – returns whether the stack is empty or not\n",
    "- qsize() – returns the length of the queue\n",
    "\n",
    "Difference between `deque` and `LifoQueue` is [here](https://www.geeksforgeeks.org/python-queue-lifoqueue-vs-collections-deque/)"
   ]
  },
  {
   "cell_type": "code",
   "execution_count": 91,
   "metadata": {},
   "outputs": [],
   "source": [
    "from queue import LifoQueue\n",
    "stack = LifoQueue(maxsize=3)"
   ]
  },
  {
   "cell_type": "code",
   "execution_count": 92,
   "metadata": {},
   "outputs": [],
   "source": [
    "stack.put(5)\n",
    "stack.put(15)\n",
    "stack.put(25)"
   ]
  },
  {
   "cell_type": "code",
   "execution_count": 93,
   "metadata": {},
   "outputs": [
    {
     "data": {
      "text/plain": [
       "True"
      ]
     },
     "execution_count": 93,
     "metadata": {},
     "output_type": "execute_result"
    }
   ],
   "source": [
    "stack.full()"
   ]
  },
  {
   "cell_type": "markdown",
   "metadata": {},
   "source": [
    "## 3.2 Correct bracket sequence\n",
    "\n",
    "[Given an expression](https://geekflare.com/python-stack-implementation/), write a program to check whether the parentheses, braces, curly-braces are balanced correctly or not.  \n",
    "the steps to solve the problem.\n",
    "\n",
    "    \n",
    "1. Create a stack to store the characters.\n",
    "2. If the length of the expression is odd, then the expression is Not Balanced\n",
    "3. Iterate through the given expression.\n",
    "    - If the current character is the opening bracket from ( or { or [, then push it to stack.\n",
    "        Else if the current character is a closing bracket ) or } or ], then pop from the stack.\n",
    "    - If the popped character is matching with the starting bracket then continue else brackets are not balanced.\n",
    "4. After the iteration, if the stack is empty then the equation is Balanced else the equation is Not Balanced.\n",
    "\n",
    "We can make use of the set data type for brackets match checking."
   ]
  },
  {
   "cell_type": "code",
   "execution_count": 109,
   "metadata": {},
   "outputs": [],
   "source": [
    "from collections import deque\n",
    "\n",
    "def bracket_check(expression):\n",
    "    stack = deque()\n",
    "    if len(expression) % 2 != 0:\n",
    "        return \"Not Balanced\"\n",
    "    opening_brackets = set('([{') \n",
    "    pairs = set([ ('(',')'), ('[',']'), ('{','}') ])\n",
    "    for bracket in expression:\n",
    "        if bracket in opening_brackets:\n",
    "            stack.append(bracket)\n",
    "        else: \n",
    "            popped_bracket = stack.pop()\n",
    "            if (popped_bracket, bracket) not in pairs:\n",
    "                return \"Not Balanced\"\n",
    "    return \"Balanced\""
   ]
  },
  {
   "cell_type": "code",
   "execution_count": 114,
   "metadata": {},
   "outputs": [
    {
     "data": {
      "text/plain": [
       "'Balanced'"
      ]
     },
     "execution_count": 114,
     "metadata": {},
     "output_type": "execute_result"
    }
   ],
   "source": [
    "bracket_check('()()()')"
   ]
  },
  {
   "cell_type": "markdown",
   "metadata": {},
   "source": [
    "## 3.3 Queue using Two Stacks\n",
    "\n",
    "A [queue](https://www.hackerrank.com/challenges/queue-using-two-stacks/problem) is an abstract data type that maintains the order in which elements were added to it, allowing the oldest elements to be removed from the front and new elements to be added to the rear. This is called a First-In-First-Out (FIFO) data structure because the first element added to the queue (i.e., the one that has been waiting the longest) is always the first one to be removed.\n",
    "\n",
    "A basic queue has the following operations:\n",
    "\n",
    "   - Enqueue: add a new element to the end of the queue.\n",
    "   - Dequeue: remove the element from the front of the queue and return it.\n",
    "\n",
    "The first line contains a single integer,`q` , denoting the number of queries.\n",
    "Each line `i` of the `q` subsequent lines contains a single query in the form described in the problem statement above. All three queries start with an integer denoting the query `type`, but only query `1` is followed by an additional space-separated value, `x` , denoting the value to be enqueued.\n",
    "\n",
    "Really cool explanation is [here](https://habr.com/ru/post/483944/)"
   ]
  },
  {
   "cell_type": "code",
   "execution_count": 21,
   "metadata": {},
   "outputs": [],
   "source": [
    "class Stack:\n",
    "    def __init__(self):\n",
    "        self.stack = []\n",
    "\n",
    "    def __bool__(self):\n",
    "        return bool(self.stack)\n",
    "\n",
    "    def push(self, elem):\n",
    "        if self.stack:\n",
    "            self.stack.append((elem, min(elem, self.stack[-1][1])))\n",
    "        else:\n",
    "            self.stack.append((elem, elem))\n",
    "\n",
    "    def pop(self):\n",
    "        return self.stack.pop()[0]\n",
    "\n",
    "\n",
    "        \n",
    "class Queue:\n",
    "    def __init__(self):\n",
    "        self.s1 = Stack()\n",
    "        self.s2 = Stack()\n",
    "\n",
    "    def push(self, elem):\n",
    "        self.s1.push(elem)\n",
    "\n",
    "    def pop(self):\n",
    "        if not self.s2:\n",
    "            while self.s1:\n",
    "                self.s2.push(self.s1.pop())\n",
    "        return self.s2.pop()"
   ]
  },
  {
   "cell_type": "code",
   "execution_count": 22,
   "metadata": {},
   "outputs": [],
   "source": [
    "a = Queue()"
   ]
  },
  {
   "cell_type": "code",
   "execution_count": 23,
   "metadata": {},
   "outputs": [],
   "source": [
    "a.push(50)"
   ]
  },
  {
   "cell_type": "code",
   "execution_count": 24,
   "metadata": {},
   "outputs": [
    {
     "output_type": "execute_result",
     "data": {
      "text/plain": [
       "50"
      ]
     },
     "metadata": {},
     "execution_count": 24
    }
   ],
   "source": [
    "a.pop()"
   ]
  },
  {
   "cell_type": "markdown",
   "metadata": {},
   "source": [
    "Solution from Indian guy from [Youtube](https://www.youtube.com/watch?v=EUNGb8PMoCc)"
   ]
  },
  {
   "cell_type": "code",
   "execution_count": 25,
   "metadata": {},
   "outputs": [
    {
     "output_type": "stream",
     "name": "stdout",
     "text": [
      "20\n"
     ]
    }
   ],
   "source": [
    "q = int(input())\n",
    "stackpush = []\n",
    "stackdelete = []\n",
    "for i in range(q):\n",
    "    t = list(input().split())\n",
    "    if t[0] == '1':\n",
    "        stackpush.append(t[1])\n",
    "    elif t[0] == '2':\n",
    "        if not stackdelete:\n",
    "            while stackpush:\n",
    "                stackdelete.append(stackpush.pop())\n",
    "        stackdelete.pop()\n",
    "    else:\n",
    "        if not stackdelete:\n",
    "            while stackpush:\n",
    "                stackdelete.append(stackpush.pop())\n",
    "        print(stackdelete[-1])"
   ]
  },
  {
   "source": [
    "## 3.4 Remove All Adjacent Duplicates In String\n",
    "\n",
    "[Given a string](https://leetcode.com/problems/remove-all-adjacent-duplicates-in-string/) `s` of lowercase letters, a duplicate removal consists of choosing two adjacent and equal letters, and removing them.\n",
    "\n",
    "We repeatedly make duplicate removals on S until we no longer can.\n",
    "\n",
    "Return the final string after all such duplicate removals have been made.  It is guaranteed the answer is unique.\n",
    "\n"
   ],
   "cell_type": "markdown",
   "metadata": {}
  },
  {
   "cell_type": "code",
   "execution_count": null,
   "metadata": {},
   "outputs": [],
   "source": []
  },
  {
   "cell_type": "code",
   "execution_count": null,
   "metadata": {},
   "outputs": [],
   "source": []
  },
  {
   "cell_type": "code",
   "execution_count": 8,
   "metadata": {},
   "outputs": [
    {
     "output_type": "stream",
     "name": "stdout",
     "text": [
      "1 2 3 4 5 6 7 8 "
     ]
    }
   ],
   "source": [
    "def numbers(n, i=1):\n",
    "    print(i, end=' ')\n",
    "    if i < n:\n",
    "        return numbers(n, i = i + 1)\n",
    "\n",
    "numbers(8)"
   ]
  },
  {
   "cell_type": "code",
   "execution_count": null,
   "metadata": {},
   "outputs": [],
   "source": []
  }
 ],
 "metadata": {
  "kernelspec": {
   "name": "python388jvsc74a57bd0ecf5722fdaf1897a315d257d89d94520bfcaa453217d5becf09b39e73618b0de",
   "display_name": "Python 3.8.8 64-bit (conda)"
  },
  "language_info": {
   "codemirror_mode": {
    "name": "ipython",
    "version": 3
   },
   "file_extension": ".py",
   "mimetype": "text/x-python",
   "name": "python",
   "nbconvert_exporter": "python",
   "pygments_lexer": "ipython3",
   "version": "3.8.8"
  }
 },
 "nbformat": 4,
 "nbformat_minor": 4
}