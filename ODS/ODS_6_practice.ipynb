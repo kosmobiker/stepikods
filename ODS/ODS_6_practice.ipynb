{
 "cells": [
  {
   "cell_type": "code",
   "execution_count": 13,
   "metadata": {
    "colab": {},
    "colab_type": "code",
    "id": "HKxW4nSSlHeJ"
   },
   "outputs": [],
   "source": [
    "# перед началом работы не забудьте скачать файл train.json.zip с Kaggle и разархивировать его\n",
    "import json\n",
    "import pandas as pd\n",
    "import warnings\n",
    "warnings.filterwarnings('ignore')\n",
    "\n",
    "# сразу загрузим датасет от Renthop\n",
    "with open('../data/train.json', 'r') as raw_data:\n",
    "    data = json.load(raw_data)\n",
    "    df = pd.DataFrame(data)"
   ]
  },
  {
   "cell_type": "code",
   "execution_count": 14,
   "metadata": {
    "colab": {},
    "colab_type": "code",
    "id": "i9TVLw3H5iF4"
   },
   "outputs": [],
   "source": [
    "import numpy as np\n",
    "import pandas as pd\n",
    "import json\n",
    "from sklearn.base import TransformerMixin\n",
    "\n",
    "EPSILON = 1e-5\n",
    "\n",
    "\n",
    "class FeatureEngineer(TransformerMixin):\n",
    "\n",
    "    def apply(self, df, k, condition):\n",
    "        df[k] = df['features'].apply(condition)\n",
    "        df[k] = df[k].astype(np.int8)\n",
    "\n",
    "    def fit(self, X, y=None, **fit_params):\n",
    "        return self\n",
    "\n",
    "    def transform(self, X, y=None):\n",
    "        df = X.copy()\n",
    "\n",
    "        df.features = df.features.apply(lambda x: ' '.join([y.replace(' ', '_') for y in x]))\n",
    "        df.features = df.features.apply(lambda x: x.lower())\n",
    "        df.features = df.features.apply(lambda x: x.replace('-', '_'))\n",
    "\n",
    "        for k, condition in (('dishwasher', lambda x: 'dishwasher' in x),\n",
    "                             ('doorman', lambda x: 'doorman' in x or 'concierge' in x),\n",
    "                             ('pets', lambda x: \"pets\" in x or \"pet\" in x or \"dog\" in x or \"cats\" in x and \"no_pets\" not in x),\n",
    "                             ('air_conditioning', lambda x: 'air_conditioning' in x or 'central' in x),\n",
    "                             ('parking', lambda x: 'parking' in x),\n",
    "                             ('balcony', lambda x: 'balcony' in x or 'deck' in x or 'terrace' in x or 'patio' in x),\n",
    "                             ('bike', lambda x: 'bike' in x),\n",
    "                             ('storage', lambda x: 'storage' in x),\n",
    "                             ('outdoor', lambda x: 'outdoor' in x or 'courtyard' in x or 'garden' in x),\n",
    "                             ('roof', lambda x: 'roof' in x),\n",
    "                             ('gym', lambda x: 'gym' in x or 'fitness' in x),\n",
    "                             ('pool', lambda x: 'pool' in x),\n",
    "                             ('backyard', lambda x: 'backyard' in x),\n",
    "                             ('laundry', lambda x: 'laundry' in x),\n",
    "                             ('hardwood_floors', lambda x: 'hardwood_floors' in x),\n",
    "                             ('new_construction', lambda x: 'new_construction' in x),\n",
    "                             ('dryer', lambda x: 'dryer' in x),\n",
    "                             ('elevator', lambda x: 'elevator' in x),\n",
    "                             ('garage', lambda x: 'garage' in x),\n",
    "                             ('pre_war', lambda x: 'pre_war' in x or 'prewar' in x),\n",
    "                             ('post_war', lambda x: 'post_war' in x or 'postwar' in x),\n",
    "                             ('no_fee', lambda x: 'no_fee' in x),\n",
    "                             ('low_fee', lambda x: 'reduced_fee' in x or 'low_fee' in x),\n",
    "                             ('fire', lambda x: 'fireplace' in x),\n",
    "                             ('private', lambda x: 'private' in x),\n",
    "                             ('wheelchair', lambda x: 'wheelchair' in x),\n",
    "                             ('internet', lambda x: 'wifi' in x or 'wi_fi' in x or 'internet' in x),\n",
    "                             ('yoga', lambda x: 'yoga' in x),\n",
    "                             ('furnished', lambda x: 'furnished' in x),\n",
    "                             ('multi_level', lambda x: 'multi_level' in x),\n",
    "                             ('exclusive', lambda x: 'exclusive' in x),\n",
    "                             ('high_ceil', lambda x: 'high_ceil' in x),\n",
    "                             ('green', lambda x: 'green_b' in x),\n",
    "                             ('stainless', lambda x: 'stainless_' in x),\n",
    "                             ('simplex', lambda x: 'simplex' in x),\n",
    "                             ('public', lambda x: 'public' in x),\n",
    "                             ):\n",
    "            self.apply(df, k, condition)\n",
    "\n",
    "        df['bathrooms'] = df['bathrooms'].apply(lambda x: x if x < 5 else 5)\n",
    "        df['bedrooms'] = df['bedrooms'].apply(lambda x: x if x < 5 else 5)\n",
    "        df[\"num_photos\"] = df[\"photos\"].apply(len)\n",
    "        df[\"num_features\"] = df[\"features\"].apply(len)\n",
    "        created = pd.to_datetime(df.pop(\"created\"))\n",
    "        df[\"listing_age\"] = (pd.to_datetime('today') - created).apply(lambda x: x.days)\n",
    "        df[\"room_dif\"] = df[\"bedrooms\"] - df[\"bathrooms\"]\n",
    "        df[\"room_sum\"] = df[\"bedrooms\"] + df[\"bathrooms\"]\n",
    "        df[\"price_per_room\"] = df[\"price\"] / df[\"room_sum\"].apply(lambda x: max(x, .5))\n",
    "        df[\"bedrooms_share\"] = df[\"bedrooms\"] / df[\"room_sum\"].apply(lambda x: max(x, .5))\n",
    "        df['price'] = df['price'].apply(lambda x: np.log(x + EPSILON))\n",
    "\n",
    "        key_types = df.dtypes.to_dict()\n",
    "        for k in key_types:\n",
    "            if key_types[k].name not in ('int64', 'float64', 'int8'):\n",
    "                df.pop(k)\n",
    "\n",
    "        for k in ('latitude', 'longitude', 'listing_id'):\n",
    "            df.pop(k)\n",
    "        return df\n",
    "\n",
    "\n",
    "def encode(x):\n",
    "    if x == 'low':\n",
    "        return 0\n",
    "    elif x == 'medium':\n",
    "        return 1\n",
    "    elif x == 'high':\n",
    "        return 2\n",
    "\n",
    "\n",
    "def get_data():\n",
    "    with open('../data/train.json', 'r') as raw_data:\n",
    "        data = json.load(raw_data)\n",
    "\n",
    "    df = pd.DataFrame(data)\n",
    "    target = df.pop('interest_level').apply(encode)\n",
    "\n",
    "    df = FeatureEngineer().fit_transform(df)\n",
    "    return df, target"
   ]
  },
  {
   "cell_type": "code",
   "execution_count": 15,
   "metadata": {
    "colab": {},
    "colab_type": "code",
    "id": "zXMxNQeH5iId"
   },
   "outputs": [],
   "source": [
    "x_data, y_data = get_data()"
   ]
  },
  {
   "cell_type": "code",
   "execution_count": 16,
   "metadata": {
    "colab": {
     "base_uri": "https://localhost:8080/",
     "height": 222
    },
    "colab_type": "code",
    "id": "gmAPHVy25iLV",
    "outputId": "c5c49b82-b3f6-4e54-a9df-0fe2ed410bc2"
   },
   "outputs": [
    {
     "data": {
      "text/html": [
       "<div>\n",
       "<style scoped>\n",
       "    .dataframe tbody tr th:only-of-type {\n",
       "        vertical-align: middle;\n",
       "    }\n",
       "\n",
       "    .dataframe tbody tr th {\n",
       "        vertical-align: top;\n",
       "    }\n",
       "\n",
       "    .dataframe thead th {\n",
       "        text-align: right;\n",
       "    }\n",
       "</style>\n",
       "<table border=\"1\" class=\"dataframe\">\n",
       "  <thead>\n",
       "    <tr style=\"text-align: right;\">\n",
       "      <th></th>\n",
       "      <th>bathrooms</th>\n",
       "      <th>bedrooms</th>\n",
       "      <th>price</th>\n",
       "      <th>dishwasher</th>\n",
       "      <th>doorman</th>\n",
       "      <th>pets</th>\n",
       "      <th>air_conditioning</th>\n",
       "      <th>parking</th>\n",
       "      <th>balcony</th>\n",
       "      <th>bike</th>\n",
       "      <th>...</th>\n",
       "      <th>stainless</th>\n",
       "      <th>simplex</th>\n",
       "      <th>public</th>\n",
       "      <th>num_photos</th>\n",
       "      <th>num_features</th>\n",
       "      <th>listing_age</th>\n",
       "      <th>room_dif</th>\n",
       "      <th>room_sum</th>\n",
       "      <th>price_per_room</th>\n",
       "      <th>bedrooms_share</th>\n",
       "    </tr>\n",
       "  </thead>\n",
       "  <tbody>\n",
       "    <tr>\n",
       "      <td>4</td>\n",
       "      <td>1.0</td>\n",
       "      <td>1</td>\n",
       "      <td>7.783224</td>\n",
       "      <td>1</td>\n",
       "      <td>0</td>\n",
       "      <td>1</td>\n",
       "      <td>0</td>\n",
       "      <td>0</td>\n",
       "      <td>0</td>\n",
       "      <td>0</td>\n",
       "      <td>...</td>\n",
       "      <td>0</td>\n",
       "      <td>0</td>\n",
       "      <td>0</td>\n",
       "      <td>12</td>\n",
       "      <td>92</td>\n",
       "      <td>1507</td>\n",
       "      <td>0.0</td>\n",
       "      <td>2.0</td>\n",
       "      <td>1200.000000</td>\n",
       "      <td>0.500000</td>\n",
       "    </tr>\n",
       "    <tr>\n",
       "      <td>6</td>\n",
       "      <td>1.0</td>\n",
       "      <td>2</td>\n",
       "      <td>8.242756</td>\n",
       "      <td>1</td>\n",
       "      <td>1</td>\n",
       "      <td>0</td>\n",
       "      <td>0</td>\n",
       "      <td>0</td>\n",
       "      <td>0</td>\n",
       "      <td>0</td>\n",
       "      <td>...</td>\n",
       "      <td>0</td>\n",
       "      <td>0</td>\n",
       "      <td>0</td>\n",
       "      <td>6</td>\n",
       "      <td>70</td>\n",
       "      <td>1522</td>\n",
       "      <td>1.0</td>\n",
       "      <td>3.0</td>\n",
       "      <td>1266.666667</td>\n",
       "      <td>0.666667</td>\n",
       "    </tr>\n",
       "    <tr>\n",
       "      <td>9</td>\n",
       "      <td>1.0</td>\n",
       "      <td>2</td>\n",
       "      <td>8.159089</td>\n",
       "      <td>1</td>\n",
       "      <td>1</td>\n",
       "      <td>0</td>\n",
       "      <td>0</td>\n",
       "      <td>0</td>\n",
       "      <td>0</td>\n",
       "      <td>0</td>\n",
       "      <td>...</td>\n",
       "      <td>0</td>\n",
       "      <td>0</td>\n",
       "      <td>0</td>\n",
       "      <td>6</td>\n",
       "      <td>79</td>\n",
       "      <td>1508</td>\n",
       "      <td>1.0</td>\n",
       "      <td>3.0</td>\n",
       "      <td>1165.000000</td>\n",
       "      <td>0.666667</td>\n",
       "    </tr>\n",
       "    <tr>\n",
       "      <td>10</td>\n",
       "      <td>1.5</td>\n",
       "      <td>3</td>\n",
       "      <td>8.006368</td>\n",
       "      <td>0</td>\n",
       "      <td>0</td>\n",
       "      <td>0</td>\n",
       "      <td>0</td>\n",
       "      <td>0</td>\n",
       "      <td>0</td>\n",
       "      <td>0</td>\n",
       "      <td>...</td>\n",
       "      <td>0</td>\n",
       "      <td>0</td>\n",
       "      <td>0</td>\n",
       "      <td>5</td>\n",
       "      <td>0</td>\n",
       "      <td>1499</td>\n",
       "      <td>1.5</td>\n",
       "      <td>4.5</td>\n",
       "      <td>666.666667</td>\n",
       "      <td>0.666667</td>\n",
       "    </tr>\n",
       "    <tr>\n",
       "      <td>15</td>\n",
       "      <td>1.0</td>\n",
       "      <td>0</td>\n",
       "      <td>7.935587</td>\n",
       "      <td>0</td>\n",
       "      <td>1</td>\n",
       "      <td>0</td>\n",
       "      <td>0</td>\n",
       "      <td>0</td>\n",
       "      <td>0</td>\n",
       "      <td>0</td>\n",
       "      <td>...</td>\n",
       "      <td>0</td>\n",
       "      <td>0</td>\n",
       "      <td>0</td>\n",
       "      <td>4</td>\n",
       "      <td>51</td>\n",
       "      <td>1495</td>\n",
       "      <td>-1.0</td>\n",
       "      <td>1.0</td>\n",
       "      <td>2795.000000</td>\n",
       "      <td>0.000000</td>\n",
       "    </tr>\n",
       "  </tbody>\n",
       "</table>\n",
       "<p>5 rows × 46 columns</p>\n",
       "</div>"
      ],
      "text/plain": [
       "    bathrooms  bedrooms     price  dishwasher  doorman  pets  \\\n",
       "4         1.0         1  7.783224           1        0     1   \n",
       "6         1.0         2  8.242756           1        1     0   \n",
       "9         1.0         2  8.159089           1        1     0   \n",
       "10        1.5         3  8.006368           0        0     0   \n",
       "15        1.0         0  7.935587           0        1     0   \n",
       "\n",
       "    air_conditioning  parking  balcony  bike  ...  stainless  simplex  public  \\\n",
       "4                  0        0        0     0  ...          0        0       0   \n",
       "6                  0        0        0     0  ...          0        0       0   \n",
       "9                  0        0        0     0  ...          0        0       0   \n",
       "10                 0        0        0     0  ...          0        0       0   \n",
       "15                 0        0        0     0  ...          0        0       0   \n",
       "\n",
       "    num_photos  num_features  listing_age  room_dif  room_sum  price_per_room  \\\n",
       "4           12            92         1507       0.0       2.0     1200.000000   \n",
       "6            6            70         1522       1.0       3.0     1266.666667   \n",
       "9            6            79         1508       1.0       3.0     1165.000000   \n",
       "10           5             0         1499       1.5       4.5      666.666667   \n",
       "15           4            51         1495      -1.0       1.0     2795.000000   \n",
       "\n",
       "    bedrooms_share  \n",
       "4         0.500000  \n",
       "6         0.666667  \n",
       "9         0.666667  \n",
       "10        0.666667  \n",
       "15        0.000000  \n",
       "\n",
       "[5 rows x 46 columns]"
      ]
     },
     "execution_count": 16,
     "metadata": {},
     "output_type": "execute_result"
    }
   ],
   "source": [
    "x_data.head(5)"
   ]
  },
  {
   "cell_type": "code",
   "execution_count": 17,
   "metadata": {
    "colab": {},
    "colab_type": "code",
    "id": "LrlQ7EjR7M7E"
   },
   "outputs": [],
   "source": [
    "x_data = x_data.values"
   ]
  },
  {
   "cell_type": "code",
   "execution_count": 18,
   "metadata": {
    "colab": {
     "base_uri": "https://localhost:8080/",
     "height": 748
    },
    "colab_type": "code",
    "id": "ODEo1Sr47rru",
    "outputId": "60bd7344-6747-429b-c1b5-4a5529c19467"
   },
   "outputs": [
    {
     "data": {
      "text/plain": [
       "-0.6922702822749353"
      ]
     },
     "execution_count": 18,
     "metadata": {},
     "output_type": "execute_result"
    }
   ],
   "source": [
    "from sklearn.linear_model import LogisticRegression\n",
    "\n",
    "from sklearn.ensemble import RandomForestClassifier\n",
    "\n",
    "from sklearn.model_selection import cross_val_score\n",
    "\n",
    "from sklearn.feature_selection import SelectFromModel\n",
    "\n",
    "cross_val_score(LogisticRegression(), x_data, y_data, scoring='neg_log_loss').mean()"
   ]
  },
  {
   "cell_type": "code",
   "execution_count": 21,
   "metadata": {
    "colab": {
     "base_uri": "https://localhost:8080/",
     "height": 748
    },
    "colab_type": "code",
    "id": "YfVoPJDc7zAg",
    "outputId": "b068904f-5bd3-46c4-f006-67aa3bfa5e52"
   },
   "outputs": [
    {
     "data": {
      "text/plain": [
       "-0.6725480668269141"
      ]
     },
     "execution_count": 21,
     "metadata": {},
     "output_type": "execute_result"
    }
   ],
   "source": [
    "from sklearn.preprocessing import StandardScaler\n",
    "\n",
    "cross_val_score(LogisticRegression(), StandardScaler().fit_transform(x_data), y_data, scoring='neg_log_loss').mean()"
   ]
  },
  {
   "cell_type": "code",
   "execution_count": 22,
   "metadata": {
    "colab": {
     "base_uri": "https://localhost:8080/",
     "height": 748
    },
    "colab_type": "code",
    "id": "eQqehmOT8ctf",
    "outputId": "475e71a3-3da5-4b5d-d307-39acccdb4fab"
   },
   "outputs": [
    {
     "data": {
      "text/plain": [
       "-0.687707738631698"
      ]
     },
     "execution_count": 22,
     "metadata": {},
     "output_type": "execute_result"
    }
   ],
   "source": [
    "from sklearn.preprocessing import MinMaxScaler\n",
    "\n",
    "cross_val_score(LogisticRegression(), MinMaxScaler().fit_transform(x_data), y_data, scoring='neg_log_loss').mean()"
   ]
  },
  {
   "cell_type": "code",
   "execution_count": 23,
   "metadata": {
    "colab": {},
    "colab_type": "code",
    "id": "qdWeujOE8nCP"
   },
   "outputs": [],
   "source": [
    "rooms = df[\"bedrooms\"].apply(lambda x: max(x, .5))\n",
    "# избегаем деления на ноль; .5 выбран более или менее произвольно\n",
    "df[\"price_per_bedroom\"] = df[\"price\"] / rooms"
   ]
  },
  {
   "cell_type": "code",
   "execution_count": 24,
   "metadata": {
    "colab": {
     "base_uri": "https://localhost:8080/",
     "height": 783
    },
    "colab_type": "code",
    "id": "Rvi3f6V58nFM",
    "outputId": "0782b114-20ca-483c-b3e5-b56cdb60d997"
   },
   "outputs": [
    {
     "name": "stdout",
     "output_type": "stream",
     "text": [
      "LR + selection:  -0.71360527429795\n",
      "LR:  -0.6723768575473414\n",
      "RF:  -1.9525704072211914\n"
     ]
    }
   ],
   "source": [
    "from sklearn.pipeline import make_pipeline\n",
    "\n",
    "\n",
    "x_data, y_data = get_data()\n",
    "x_data = x_data.values\n",
    "\n",
    "pipe1 = make_pipeline(StandardScaler(),\n",
    "                      SelectFromModel(estimator=RandomForestClassifier()),\n",
    "                      LogisticRegression())\n",
    "\n",
    "pipe2 = make_pipeline(StandardScaler(),\n",
    "                      LogisticRegression())\n",
    "\n",
    "rf = RandomForestClassifier()\n",
    "\n",
    "print('LR + selection: ', cross_val_score(pipe1, x_data, y_data, scoring='neg_log_loss').mean())\n",
    "print('LR: ', cross_val_score(pipe2, x_data, y_data, scoring='neg_log_loss').mean())\n",
    "print('RF: ', cross_val_score(rf, x_data, y_data, scoring='neg_log_loss').mean())\n"
   ]
  },
  {
   "cell_type": "code",
   "execution_count": 25,
   "metadata": {
    "colab": {},
    "colab_type": "code",
    "id": "mkNwjzZF8nIa"
   },
   "outputs": [],
   "source": [
    "from sklearn.feature_selection import VarianceThreshold\n",
    "\n",
    "from sklearn.datasets import make_classification\n",
    "\n",
    "x_data_generated, y_data_generated = make_classification()"
   ]
  },
  {
   "cell_type": "code",
   "execution_count": 26,
   "metadata": {
    "colab": {},
    "colab_type": "code",
    "id": "przZY4H-8nMB"
   },
   "outputs": [
    {
     "data": {
      "text/plain": [
       "(100, 20)"
      ]
     },
     "execution_count": 26,
     "metadata": {},
     "output_type": "execute_result"
    }
   ],
   "source": [
    "x_data_generated.shape"
   ]
  },
  {
   "cell_type": "code",
   "execution_count": 27,
   "metadata": {
    "colab": {},
    "colab_type": "code",
    "id": "xwS4DaR_8nQA"
   },
   "outputs": [
    {
     "data": {
      "text/plain": [
       "(100, 20)"
      ]
     },
     "execution_count": 27,
     "metadata": {},
     "output_type": "execute_result"
    }
   ],
   "source": [
    "VarianceThreshold(.7).fit_transform(x_data_generated).shape"
   ]
  },
  {
   "cell_type": "code",
   "execution_count": 28,
   "metadata": {},
   "outputs": [
    {
     "data": {
      "text/plain": [
       "(100, 17)"
      ]
     },
     "execution_count": 28,
     "metadata": {},
     "output_type": "execute_result"
    }
   ],
   "source": [
    "VarianceThreshold(.8).fit_transform(x_data_generated).shape"
   ]
  },
  {
   "cell_type": "code",
   "execution_count": 29,
   "metadata": {},
   "outputs": [
    {
     "data": {
      "text/plain": [
       "(100, 13)"
      ]
     },
     "execution_count": 29,
     "metadata": {},
     "output_type": "execute_result"
    }
   ],
   "source": [
    "VarianceThreshold(.9).fit_transform(x_data_generated).shape"
   ]
  },
  {
   "cell_type": "code",
   "execution_count": 30,
   "metadata": {},
   "outputs": [],
   "source": [
    "from sklearn.feature_selection import SelectKBest, f_classif\n",
    "x_data_kbest = SelectKBest(f_classif, k=5).fit_transform(x_data_generated, y_data_generated)\n",
    "x_data_varth = VarianceThreshold(.9).fit_transform(x_data_generated)"
   ]
  },
  {
   "cell_type": "code",
   "execution_count": 31,
   "metadata": {},
   "outputs": [],
   "source": [
    "from sklearn.linear_model import LogisticRegression\n",
    "from sklearn.model_selection import cross_val_score"
   ]
  },
  {
   "cell_type": "code",
   "execution_count": 32,
   "metadata": {},
   "outputs": [
    {
     "data": {
      "text/plain": [
       "-0.35442239256480884"
      ]
     },
     "execution_count": 32,
     "metadata": {},
     "output_type": "execute_result"
    }
   ],
   "source": [
    "cross_val_score(LogisticRegression(), x_data_generated, y_data_generated, scoring='neg_log_loss').mean()"
   ]
  },
  {
   "cell_type": "code",
   "execution_count": 33,
   "metadata": {},
   "outputs": [
    {
     "data": {
      "text/plain": [
       "-0.238571437075628"
      ]
     },
     "execution_count": 33,
     "metadata": {},
     "output_type": "execute_result"
    }
   ],
   "source": [
    "cross_val_score(LogisticRegression(), x_data_kbest, y_data_generated, scoring='neg_log_loss').mean()"
   ]
  },
  {
   "cell_type": "code",
   "execution_count": 34,
   "metadata": {},
   "outputs": [
    {
     "data": {
      "text/plain": [
       "-0.2928767357872344"
      ]
     },
     "execution_count": 34,
     "metadata": {},
     "output_type": "execute_result"
    }
   ],
   "source": [
    "cross_val_score(LogisticRegression(), x_data_varth, y_data_generated, scoring='neg_log_loss').mean()"
   ]
  },
  {
   "cell_type": "code",
   "execution_count": null,
   "metadata": {},
   "outputs": [],
   "source": [
    "from mlxtend.feature_selection import SequentialFeatureSelector as SFS"
   ]
  },
  {
   "cell_type": "code",
   "execution_count": 35,
   "metadata": {},
   "outputs": [],
   "source": [
    "#selector = SFS(LogisticRegression(), scoring='neg_log_loss', verbose=2, k_features=3, forward=False, n_jobs=-1)"
   ]
  },
  {
   "cell_type": "code",
   "execution_count": null,
   "metadata": {},
   "outputs": [],
   "source": [
    "%%time\n",
    "#selector.fit(StandardScaler().fit_transform(x_data), y_data)\n",
    "#ооооочень долго"
   ]
  },
  {
   "cell_type": "markdown",
   "metadata": {},
   "source": [
    "[Parallel(n_jobs=-1)]: Using backend LokyBackend with 2 concurrent workers.\n",
    "[Parallel(n_jobs=-1)]: Done  37 tasks      | elapsed:  5.1min\n",
    "[Parallel(n_jobs=-1)]: Done  46 out of  46 | elapsed:  6.3min finished\n",
    "\n",
    "[2020-08-01 09:32:40] Features: 45/3 -- score: -0.6671071695131933[Parallel(n_jobs=-1)]: Using backend LokyBackend with 2 concurrent workers.\n",
    "[Parallel(n_jobs=-1)]: Done  37 tasks      | elapsed:  5.0min\n",
    "[Parallel(n_jobs=-1)]: Done  45 out of  45 | elapsed:  6.0min finished\n",
    "\n",
    "[2020-08-01 09:38:40] Features: 44/3 -- score: -0.6669186131812352[Parallel(n_jobs=-1)]: Using backend LokyBackend with 2 concurrent workers.\n",
    "[Parallel(n_jobs=-1)]: Done  37 tasks      | elapsed:  4.9min\n",
    "[Parallel(n_jobs=-1)]: Done  44 out of  44 | elapsed:  5.8min finished\n",
    "\n",
    "[2020-08-01 09:44:29] Features: 43/3 -- score: -0.6666909829567097[Parallel(n_jobs=-1)]: Using backend LokyBackend with 2 concurrent workers.\n",
    "[Parallel(n_jobs=-1)]: Done  37 tasks      | elapsed:  4.9min\n",
    "[Parallel(n_jobs=-1)]: Done  43 out of  43 | elapsed:  5.6min finished\n",
    "\n",
    "[2020-08-01 09:50:07] Features: 42/3 -- score: -0.6665929241958064[Parallel(n_jobs=-1)]: Using backend LokyBackend with 2 concurrent workers.\n",
    "[Parallel(n_jobs=-1)]: Done  37 tasks      | elapsed:  4.9min\n",
    "[Parallel(n_jobs=-1)]: Done  42 out of  42 | elapsed:  5.4min finished\n",
    "\n",
    "[2020-08-01 09:55:34] Features: 41/3 -- score: -0.6665474652803584[Parallel(n_jobs=-1)]: Using backend LokyBackend with 2 concurrent workers.\n",
    "[Parallel(n_jobs=-1)]: Done  37 tasks      | elapsed:  4.8min\n",
    "[Parallel(n_jobs=-1)]: Done  41 out of  41 | elapsed:  5.3min finished\n",
    "\n",
    "[2020-08-01 10:00:50] Features: 40/3 -- score: -0.666452774472609[Parallel(n_jobs=-1)]: Using backend LokyBackend with 2 concurrent workers.\n",
    "[Parallel(n_jobs=-1)]: Done  37 tasks      | elapsed:  4.8min\n",
    "[Parallel(n_jobs=-1)]: Done  40 out of  40 | elapsed:  5.1min finished\n",
    "\n",
    "[2020-08-01 10:05:58] Features: 39/3 -- score: -0.6665123116703842[Parallel(n_jobs=-1)]: Using backend LokyBackend with 2 concurrent workers.\n",
    "[Parallel(n_jobs=-1)]: Done  39 out of  39 | elapsed:  4.9min finished\n",
    "\n",
    "[2020-08-01 10:10:54] Features: 38/3 -- score: -0.6664838616229884[Parallel(n_jobs=-1)]: Using backend LokyBackend with 2 concurrent workers.\n",
    "[Parallel(n_jobs=-1)]: Done  38 out of  38 | elapsed:  4.7min finished\n",
    "\n",
    "[2020-08-01 10:15:38] Features: 37/3 -- score: -0.6664108299623923[Parallel(n_jobs=-1)]: Using backend LokyBackend with 2 concurrent workers.\n",
    "[Parallel(n_jobs=-1)]: Done  37 out of  37 | elapsed:  4.6min finished\n",
    "\n",
    "[2020-08-01 10:20:12] Features: 36/3 -- score: -0.6663448857380193[Parallel(n_jobs=-1)]: Using backend LokyBackend with 2 concurrent workers.\n",
    "[Parallel(n_jobs=-1)]: Done  36 out of  36 | elapsed:  4.4min finished\n",
    "\n",
    "[2020-08-01 10:24:38] Features: 35/3 -- score: -0.6663469245658475[Parallel(n_jobs=-1)]: Using backend LokyBackend with 2 concurrent workers.\n",
    "[Parallel(n_jobs=-1)]: Done  35 out of  35 | elapsed:  4.3min finished\n",
    "\n",
    "[2020-08-01 10:28:59] Features: 34/3 -- score: -0.6664097738467556[Parallel(n_jobs=-1)]: Using backend LokyBackend with 2 concurrent workers.\n",
    "[Parallel(n_jobs=-1)]: Done  34 out of  34 | elapsed:  4.1min finished\n",
    "\n",
    "[2020-08-01 10:33:06] Features: 33/3 -- score: -0.6664377807453471[Parallel(n_jobs=-1)]: Using backend LokyBackend with 2 concurrent workers.\n",
    "[Parallel(n_jobs=-1)]: Done  33 out of  33 | elapsed:  4.0min finished\n",
    "\n",
    "[2020-08-01 10:37:05] Features: 32/3 -- score: -0.6663957474119856[Parallel(n_jobs=-1)]: Using backend LokyBackend with 2 concurrent workers.\n",
    "[Parallel(n_jobs=-1)]: Done  32 out of  32 | elapsed:  3.9min finished\n",
    "\n",
    "[2020-08-01 10:40:58] Features: 31/3 -- score: -0.6663968068388562[Parallel(n_jobs=-1)]: Using backend LokyBackend with 2 concurrent workers.\n",
    "[Parallel(n_jobs=-1)]: Done  31 out of  31 | elapsed:  3.6min finished\n",
    "\n",
    "[2020-08-01 10:44:34] Features: 30/3 -- score: -0.6664970280385335[Parallel(n_jobs=-1)]: Using backend LokyBackend with 2 concurrent workers.\n",
    "[Parallel(n_jobs=-1)]: Done  30 out of  30 | elapsed:  3.4min finished\n",
    "\n",
    "[2020-08-01 10:47:58] Features: 29/3 -- score: -0.6665157982241675[Parallel(n_jobs=-1)]: Using backend LokyBackend with 2 concurrent workers.\n",
    "[Parallel(n_jobs=-1)]: Done  29 out of  29 | elapsed:  3.3min finished\n",
    "\n",
    "[2020-08-01 10:51:14] Features: 28/3 -- score: -0.666533753366545[Parallel(n_jobs=-1)]: Using backend LokyBackend with 2 concurrent workers.\n",
    "[Parallel(n_jobs=-1)]: Done  28 out of  28 | elapsed:  3.1min finished\n",
    "\n",
    "[2020-08-01 10:54:21] Features: 27/3 -- score: -0.6664039018911334[Parallel(n_jobs=-1)]: Using backend LokyBackend with 2 concurrent workers.\n",
    "[Parallel(n_jobs=-1)]: Done  27 out of  27 | elapsed:  2.9min finished\n",
    "\n",
    "[2020-08-01 10:57:14] Features: 26/3 -- score: -0.665940983239518[Parallel(n_jobs=-1)]: Using backend LokyBackend with 2 concurrent workers.\n",
    "[Parallel(n_jobs=-1)]: Done  26 out of  26 | elapsed:  2.7min finished\n",
    "\n",
    "[2020-08-01 10:59:59] Features: 25/3 -- score: -0.6659307403183865[Parallel(n_jobs=-1)]: Using backend LokyBackend with 2 concurrent workers.\n",
    "[Parallel(n_jobs=-1)]: Done  25 out of  25 | elapsed:  2.6min finished\n",
    "\n",
    "[2020-08-01 11:02:36] Features: 24/3 -- score: -0.6659090348139476[Parallel(n_jobs=-1)]: Using backend LokyBackend with 2 concurrent workers.\n",
    "[Parallel(n_jobs=-1)]: Done  24 out of  24 | elapsed:  2.5min finished\n",
    "\n",
    "[2020-08-01 11:05:05] Features: 23/3 -- score: -0.6659980864410959[Parallel(n_jobs=-1)]: Using backend LokyBackend with 2 concurrent workers.\n",
    "[Parallel(n_jobs=-1)]: Done  23 out of  23 | elapsed:  2.3min finished\n",
    "\n",
    "[2020-08-01 11:07:25] Features: 22/3 -- score: -0.6660761346564674[Parallel(n_jobs=-1)]: Using backend LokyBackend with 2 concurrent workers.\n",
    "[Parallel(n_jobs=-1)]: Done  22 out of  22 | elapsed:  2.2min finished\n",
    "\n",
    "[2020-08-01 11:09:36] Features: 21/3 -- score: -0.6661555051305353[Parallel(n_jobs=-1)]: Using backend LokyBackend with 2 concurrent workers.\n",
    "[Parallel(n_jobs=-1)]: Done  21 out of  21 | elapsed:  2.1min finished\n",
    "\n",
    "[2020-08-01 11:11:41] Features: 20/3 -- score: -0.6662619375189207[Parallel(n_jobs=-1)]: Using backend LokyBackend with 2 concurrent workers.\n",
    "[Parallel(n_jobs=-1)]: Done  20 out of  20 | elapsed:  2.0min finished\n",
    "\n",
    "[2020-08-01 11:13:39] Features: 19/3 -- score: -0.6664648371296751[Parallel(n_jobs=-1)]: Using backend LokyBackend with 2 concurrent workers.\n",
    "[Parallel(n_jobs=-1)]: Done  19 out of  19 | elapsed:  1.9min finished\n",
    "\n",
    "[2020-08-01 11:15:30] Features: 18/3 -- score: -0.6666365680644947[Parallel(n_jobs=-1)]: Using backend LokyBackend with 2 concurrent workers.\n",
    "[Parallel(n_jobs=-1)]: Done  18 out of  18 | elapsed:  1.7min finished\n",
    "\n",
    "[2020-08-01 11:17:15] Features: 17/3 -- score: -0.6667954689370459[Parallel(n_jobs=-1)]: Using backend LokyBackend with 2 concurrent workers.\n",
    "[Parallel(n_jobs=-1)]: Done  17 out of  17 | elapsed:  1.5min finished\n",
    "\n",
    "[2020-08-01 11:18:46] Features: 16/3 -- score: -0.6670044422548986[Parallel(n_jobs=-1)]: Using backend LokyBackend with 2 concurrent workers.\n",
    "[Parallel(n_jobs=-1)]: Done  16 out of  16 | elapsed:  1.3min finished\n",
    "\n",
    "[2020-08-01 11:20:05] Features: 15/3 -- score: -0.6672425946905274[Parallel(n_jobs=-1)]: Using backend LokyBackend with 2 concurrent workers.\n",
    "[Parallel(n_jobs=-1)]: Done  15 out of  15 | elapsed:  1.2min finished\n",
    "\n",
    "[2020-08-01 11:21:16] Features: 14/3 -- score: -0.6675018487665072[Parallel(n_jobs=-1)]: Using backend LokyBackend with 2 concurrent workers.\n",
    "[Parallel(n_jobs=-1)]: Done  14 out of  14 | elapsed:  1.1min finished\n",
    "\n",
    "[2020-08-01 11:22:21] Features: 13/3 -- score: -0.6680390324817685[Parallel(n_jobs=-1)]: Using backend LokyBackend with 2 concurrent workers.\n",
    "[Parallel(n_jobs=-1)]: Done  13 out of  13 | elapsed:   58.5s finished\n",
    "\n",
    "[2020-08-01 11:23:20] Features: 12/3 -- score: -0.6686668350603517[Parallel(n_jobs=-1)]: Using backend LokyBackend with 2 concurrent workers.\n",
    "[Parallel(n_jobs=-1)]: Done  12 out of  12 | elapsed:   49.6s finished\n",
    "\n",
    "[2020-08-01 11:24:09] Features: 11/3 -- score: -0.6696584336555628[Parallel(n_jobs=-1)]: Using backend LokyBackend with 2 concurrent workers.\n",
    "[Parallel(n_jobs=-1)]: Done  11 out of  11 | elapsed:   44.3s finished\n",
    "\n",
    "[2020-08-01 11:24:54] Features: 10/3 -- score: -0.6718507838894807[Parallel(n_jobs=-1)]: Using backend LokyBackend with 2 concurrent workers.\n",
    "[Parallel(n_jobs=-1)]: Done  10 out of  10 | elapsed:   38.3s finished\n",
    "\n",
    "[2020-08-01 11:25:32] Features: 9/3 -- score: -0.674430235379908[Parallel(n_jobs=-1)]: Using backend LokyBackend with 2 concurrent workers.\n",
    "[Parallel(n_jobs=-1)]: Done   9 out of   9 | elapsed:   32.3s finished\n",
    "\n",
    "[2020-08-01 11:26:04] Features: 8/3 -- score: -0.6778778386719821[Parallel(n_jobs=-1)]: Using backend LokyBackend with 2 concurrent workers.\n",
    "[Parallel(n_jobs=-1)]: Done   8 out of   8 | elapsed:   26.5s finished\n",
    "\n",
    "[2020-08-01 11:26:31] Features: 7/3 -- score: -0.6815594187948015[Parallel(n_jobs=-1)]: Using backend LokyBackend with 2 concurrent workers.\n",
    "[Parallel(n_jobs=-1)]: Done   7 out of   7 | elapsed:   21.0s finished\n",
    "\n",
    "[2020-08-01 11:26:52] Features: 6/3 -- score: -0.6891743523846027[Parallel(n_jobs=-1)]: Using backend LokyBackend with 2 concurrent workers.\n",
    "[Parallel(n_jobs=-1)]: Done   6 out of   6 | elapsed:   15.8s finished\n",
    "\n",
    "[2020-08-01 11:27:08] Features: 5/3 -- score: -0.6978513510617517[Parallel(n_jobs=-1)]: Using backend LokyBackend with 2 concurrent workers.\n",
    "[Parallel(n_jobs=-1)]: Done   5 out of   5 | elapsed:   10.2s remaining:    0.0s\n",
    "[Parallel(n_jobs=-1)]: Done   5 out of   5 | elapsed:   10.2s finished\n",
    "\n",
    "[2020-08-01 11:27:18] Features: 4/3 -- score: -0.6997647604172826[Parallel(n_jobs=-1)]: Using backend LokyBackend with 2 concurrent workers.\n",
    "\n",
    "CPU times: user 55.1 s, sys: 12.1 s, total: 1min 7s\n",
    "Wall time: 2h 1min 15s\n",
    "\n",
    "[Parallel(n_jobs=-1)]: Done   4 out of   4 | elapsed:    6.4s remaining:    0.0s\n",
    "[Parallel(n_jobs=-1)]: Done   4 out of   4 | elapsed:    6.4s finished\n",
    "\n",
    "[2020-08-01 11:27:25] Features: 3/3 -- score: -0.707677861049149\n",
    "\n",
    "SequentialFeatureSelector(clone_estimator=True, cv=5,\n",
    "                          estimator=LogisticRegression(C=1.0, class_weight=None,\n",
    "                                                       dual=False,\n",
    "                                                       fit_intercept=True,\n",
    "                                                       intercept_scaling=1,\n",
    "                                                       l1_ratio=None,\n",
    "                                                       max_iter=100,\n",
    "                                                       multi_class='auto',\n",
    "                                                       n_jobs=None,\n",
    "                                                       penalty='l2',\n",
    "                                                       random_state=None,\n",
    "                                                       solver='lbfgs',\n",
    "                                                       tol=0.0001, verbose=0,\n",
    "                                                       warm_start=False),\n",
    "                          floating=False, forward=False, k_features=3,\n",
    "                          n_jobs=-1, pre_dispatch='2*n_jobs',\n",
    "                          scoring='neg_log_loss', verbose=2)"
   ]
  },
  {
   "cell_type": "code",
   "execution_count": null,
   "metadata": {},
   "outputs": [],
   "source": []
  }
 ],
 "metadata": {
  "colab": {
   "collapsed_sections": [],
   "name": "ODS_6_practice",
   "provenance": []
  },
  "kernelspec": {
   "display_name": "Python 3",
   "language": "python",
   "name": "python3"
  },
  "language_info": {
   "codemirror_mode": {
    "name": "ipython",
    "version": 3
   },
   "file_extension": ".py",
   "mimetype": "text/x-python",
   "name": "python",
   "nbconvert_exporter": "python",
   "pygments_lexer": "ipython3",
   "version": "3.7.4"
  }
 },
 "nbformat": 4,
 "nbformat_minor": 1
}
