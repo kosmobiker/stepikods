{
 "cells": [
  {
   "cell_type": "code",
   "execution_count": 47,
   "id": "3440d248",
   "metadata": {},
   "outputs": [
    {
     "ename": "LoadError",
     "evalue": "ArgumentError: Package DataFrames [a93c6f00-e57d-5684-b7b6-d8193f3e46c0] is required but does not seem to be installed:\n - Run `Pkg.instantiate()` to install all recorded dependencies.\n",
     "output_type": "error",
     "traceback": [
      "ArgumentError: Package DataFrames [a93c6f00-e57d-5684-b7b6-d8193f3e46c0] is required but does not seem to be installed:\n - Run `Pkg.instantiate()` to install all recorded dependencies.\n",
      "",
      "Stacktrace:",
      " [1] _require(pkg::Base.PkgId)",
      "   @ Base ./loading.jl:1012",
      " [2] require(uuidkey::Base.PkgId)",
      "   @ Base ./loading.jl:936",
      " [3] require(into::Module, mod::Symbol)",
      "   @ Base ./loading.jl:923",
      " [4] eval",
      "   @ ./boot.jl:360 [inlined]",
      " [5] include_string(mapexpr::typeof(REPL.softscope), mod::Module, code::String, filename::String)",
      "   @ Base ./loading.jl:1116"
     ]
    }
   ],
   "source": [
    "using DataFrames, Random, CSV, Statistics, DataStructures, Missings"
   ]
  },
  {
   "cell_type": "code",
   "execution_count": 48,
   "id": "5964d2dd",
   "metadata": {},
   "outputs": [
    {
     "data": {
      "text/plain": [
       "20"
      ]
     },
     "execution_count": 48,
     "metadata": {},
     "output_type": "execute_result"
    }
   ],
   "source": [
    "ENV[\"LINES\"] = 20"
   ]
  },
  {
   "cell_type": "code",
   "execution_count": 49,
   "id": "ddd2c54c",
   "metadata": {},
   "outputs": [
    {
     "ename": "LoadError",
     "evalue": "UndefVarError: CSV not defined",
     "output_type": "error",
     "traceback": [
      "UndefVarError: CSV not defined",
      "",
      "Stacktrace:",
      " [1] top-level scope",
      "   @ In[49]:1",
      " [2] eval",
      "   @ ./boot.jl:360 [inlined]",
      " [3] include_string(mapexpr::typeof(REPL.softscope), mod::Module, code::String, filename::String)",
      "   @ Base ./loading.jl:1116"
     ]
    }
   ],
   "source": [
    "df = DataFrame(CSV.File(\"work/Documents/stepikods/data/2_Lifetech_DA_test (scoring).csv\"))\r\n",
    "first(df, 5)"
   ]
  },
  {
   "cell_type": "code",
   "execution_count": 35,
   "id": "8aec7a2f",
   "metadata": {},
   "outputs": [
    {
     "ename": "LoadError",
     "evalue": "UndefVarError: df not defined",
     "output_type": "error",
     "traceback": [
      "UndefVarError: df not defined",
      "",
      "Stacktrace:",
      " [1] top-level scope",
      "   @ In[35]:1",
      " [2] eval",
      "   @ ./boot.jl:360 [inlined]",
      " [3] include_string(mapexpr::typeof(REPL.softscope), mod::Module, code::String, filename::String)",
      "   @ Base ./loading.jl:1116"
     ]
    }
   ],
   "source": [
    "names(df)"
   ]
  },
  {
   "cell_type": "code",
   "execution_count": 36,
   "id": "bc1df860",
   "metadata": {},
   "outputs": [
    {
     "ename": "LoadError",
     "evalue": "UndefVarError: describe not defined",
     "output_type": "error",
     "traceback": [
      "UndefVarError: describe not defined",
      "",
      "Stacktrace:",
      " [1] top-level scope",
      "   @ In[36]:1",
      " [2] eval",
      "   @ ./boot.jl:360 [inlined]",
      " [3] include_string(mapexpr::typeof(REPL.softscope), mod::Module, code::String, filename::String)",
      "   @ Base ./loading.jl:1116"
     ]
    }
   ],
   "source": [
    "describe(df)"
   ]
  },
  {
   "cell_type": "code",
   "execution_count": 37,
   "id": "4acef4da",
   "metadata": {},
   "outputs": [
    {
     "ename": "LoadError",
     "evalue": "UndefVarError: df not defined",
     "output_type": "error",
     "traceback": [
      "UndefVarError: df not defined",
      "",
      "Stacktrace:",
      " [1] top-level scope",
      "   @ In[37]:1",
      " [2] eval",
      "   @ ./boot.jl:360 [inlined]",
      " [3] include_string(mapexpr::typeof(REPL.softscope), mod::Module, code::String, filename::String)",
      "   @ Base ./loading.jl:1116"
     ]
    }
   ],
   "source": [
    "counter(df.\"RATINGCLASS\")"
   ]
  },
  {
   "cell_type": "code",
   "execution_count": 38,
   "id": "bbbb1bac",
   "metadata": {},
   "outputs": [
    {
     "ename": "LoadError",
     "evalue": "UndefVarError: df not defined",
     "output_type": "error",
     "traceback": [
      "UndefVarError: df not defined",
      "",
      "Stacktrace:",
      " [1] top-level scope",
      "   @ In[38]:1",
      " [2] eval",
      "   @ ./boot.jl:360 [inlined]",
      " [3] include_string(mapexpr::typeof(REPL.softscope), mod::Module, code::String, filename::String)",
      "   @ Base ./loading.jl:1116"
     ]
    }
   ],
   "source": [
    "df.\"RATINGCLASS\" = coalesce.(df.\"RATINGCLASS\", \"Unknown\")"
   ]
  },
  {
   "cell_type": "code",
   "execution_count": 39,
   "id": "381b8b41",
   "metadata": {},
   "outputs": [
    {
     "ename": "LoadError",
     "evalue": "UndefVarError: passmissing not defined",
     "output_type": "error",
     "traceback": [
      "UndefVarError: passmissing not defined",
      "",
      "Stacktrace:",
      " [1] top-level scope",
      "   @ In[39]:1",
      " [2] eval",
      "   @ ./boot.jl:360 [inlined]",
      " [3] include_string(mapexpr::typeof(REPL.softscope), mod::Module, code::String, filename::String)",
      "   @ Base ./loading.jl:1116"
     ]
    }
   ],
   "source": [
    "df.MEDIAN_LT = passmissing(replace).(df.MEDIAN_LT, \",\"=>\".\")\r\n",
    "df.MEDIAN_LT = passmissing(parse).(Float64, df.MEDIAN_LT)\r\n",
    "median_MEDIAN_LT = median(skipmissing(df.MEDIAN_LT))\r\n",
    "df.MEDIAN_LT = coalesce.(df.MEDIAN_LT, median_MEDIAN_LT)"
   ]
  },
  {
   "cell_type": "code",
   "execution_count": 40,
   "id": "7b30afd3",
   "metadata": {},
   "outputs": [
    {
     "ename": "LoadError",
     "evalue": "UndefVarError: df not defined",
     "output_type": "error",
     "traceback": [
      "UndefVarError: df not defined",
      "",
      "Stacktrace:",
      " [1] top-level scope",
      "   @ In[40]:1",
      " [2] eval",
      "   @ ./boot.jl:360 [inlined]",
      " [3] include_string(mapexpr::typeof(REPL.softscope), mod::Module, code::String, filename::String)",
      "   @ Base ./loading.jl:1116"
     ]
    }
   ],
   "source": [
    "counter(df.CNT_SMART_SALES)"
   ]
  },
  {
   "cell_type": "code",
   "execution_count": 41,
   "id": "47aac563",
   "metadata": {},
   "outputs": [
    {
     "ename": "LoadError",
     "evalue": "UndefVarError: df not defined",
     "output_type": "error",
     "traceback": [
      "UndefVarError: df not defined",
      "",
      "Stacktrace:",
      " [1] top-level scope",
      "   @ In[41]:1",
      " [2] eval",
      "   @ ./boot.jl:360 [inlined]",
      " [3] include_string(mapexpr::typeof(REPL.softscope), mod::Module, code::String, filename::String)",
      "   @ Base ./loading.jl:1116"
     ]
    }
   ],
   "source": [
    "counter(df.REV_CNT_MNTH)"
   ]
  },
  {
   "cell_type": "code",
   "execution_count": 42,
   "id": "c298a116",
   "metadata": {},
   "outputs": [
    {
     "ename": "LoadError",
     "evalue": "UndefVarError: df not defined",
     "output_type": "error",
     "traceback": [
      "UndefVarError: df not defined",
      "",
      "Stacktrace:",
      " [1] top-level scope",
      "   @ In[42]:1",
      " [2] eval",
      "   @ ./boot.jl:360 [inlined]",
      " [3] include_string(mapexpr::typeof(REPL.softscope), mod::Module, code::String, filename::String)",
      "   @ Base ./loading.jl:1116"
     ]
    }
   ],
   "source": [
    "counter(df.MAX_DAYS_W_OUTGOING)"
   ]
  },
  {
   "cell_type": "code",
   "execution_count": 43,
   "id": "7c34e4c4",
   "metadata": {},
   "outputs": [
    {
     "ename": "LoadError",
     "evalue": "UndefVarError: df not defined",
     "output_type": "error",
     "traceback": [
      "UndefVarError: df not defined",
      "",
      "Stacktrace:",
      " [1] top-level scope",
      "   @ In[43]:1",
      " [2] eval",
      "   @ ./boot.jl:360 [inlined]",
      " [3] include_string(mapexpr::typeof(REPL.softscope), mod::Module, code::String, filename::String)",
      "   @ Base ./loading.jl:1116"
     ]
    }
   ],
   "source": [
    "median_MAX_DAYS_W_OUTGOING = convert(Int64, round(median(skipmissing(df.MAX_DAYS_W_OUTGOING)), digits=0))\r\n",
    "df.MAX_DAYS_W_OUTGOING = coalesce.(df.MAX_DAYS_W_OUTGOING, median_MAX_DAYS_W_OUTGOING)"
   ]
  },
  {
   "cell_type": "code",
   "execution_count": 44,
   "id": "0f4c1de6",
   "metadata": {},
   "outputs": [
    {
     "ename": "LoadError",
     "evalue": "UndefVarError: df not defined",
     "output_type": "error",
     "traceback": [
      "UndefVarError: df not defined",
      "",
      "Stacktrace:",
      " [1] top-level scope",
      "   @ In[44]:1",
      " [2] eval",
      "   @ ./boot.jl:360 [inlined]",
      " [3] include_string(mapexpr::typeof(REPL.softscope), mod::Module, code::String, filename::String)",
      "   @ Base ./loading.jl:1116"
     ]
    }
   ],
   "source": [
    "median_MAX_DAYS_W_MB = convert(Int64, round(median(skipmissing(df.MAX_DAYS_W_MB)), digits=0))\r\n",
    "df.MAX_DAYS_W_MB = coalesce.(df.MAX_DAYS_W_MB, median_MAX_DAYS_W_MB)"
   ]
  },
  {
   "cell_type": "code",
   "execution_count": 45,
   "id": "a91c6ebb",
   "metadata": {},
   "outputs": [
    {
     "ename": "LoadError",
     "evalue": "UndefVarError: df not defined",
     "output_type": "error",
     "traceback": [
      "UndefVarError: df not defined",
      "",
      "Stacktrace:",
      " [1] top-level scope",
      "   @ In[45]:1",
      " [2] eval",
      "   @ ./boot.jl:360 [inlined]",
      " [3] include_string(mapexpr::typeof(REPL.softscope), mod::Module, code::String, filename::String)",
      "   @ Base ./loading.jl:1116"
     ]
    }
   ],
   "source": [
    "median_MAX_DAYS_IN_DEBT = convert(Int64, round(median(skipmissing(df.MAX_DAYS_IN_DEBT)), digits=0))\r\n",
    "df.MAX_DAYS_IN_DEBT = coalesce.(df.MAX_DAYS_IN_DEBT, median_MAX_DAYS_IN_DEBT)"
   ]
  },
  {
   "cell_type": "code",
   "execution_count": 46,
   "id": "c009f878",
   "metadata": {},
   "outputs": [
    {
     "ename": "LoadError",
     "evalue": "UndefVarError: passmissing not defined",
     "output_type": "error",
     "traceback": [
      "UndefVarError: passmissing not defined",
      "",
      "Stacktrace:",
      " [1] top-level scope",
      "   @ In[46]:1",
      " [2] eval",
      "   @ ./boot.jl:360 [inlined]",
      " [3] include_string(mapexpr::typeof(REPL.softscope), mod::Module, code::String, filename::String)",
      "   @ Base ./loading.jl:1116"
     ]
    }
   ],
   "source": [
    "df.MAX_DEBT_SUM = passmissing(replace).(df.MAX_DEBT_SUM, \",\"=>\".\")\r\n",
    "df.MAX_DEBT_SUM = passmissing(parse).(Float64, df.MAX_DEBT_SUM)\r\n",
    "median_MAX_DEBT_SUM = median(skipmissing(df.MAX_DEBT_SUM))\r\n",
    "df.MAX_DEBT_SUM = coalesce.(df.MAX_DEBT_SUM, mean_MAX_DEBT_SUM)"
   ]
  },
  {
   "cell_type": "code",
   "execution_count": null,
   "id": "a2a564af",
   "metadata": {},
   "outputs": [],
   "source": []
  },
  {
   "cell_type": "code",
   "execution_count": null,
   "id": "9e84dcdd",
   "metadata": {},
   "outputs": [],
   "source": []
  },
  {
   "cell_type": "code",
   "execution_count": null,
   "id": "9c59e41b",
   "metadata": {},
   "outputs": [],
   "source": []
  },
  {
   "cell_type": "code",
   "execution_count": null,
   "id": "df7158b1",
   "metadata": {},
   "outputs": [],
   "source": []
  }
 ],
 "metadata": {
  "kernelspec": {
   "display_name": "Julia 1.6.2",
   "language": "julia",
   "name": "julia-1.6"
  },
  "language_info": {
   "file_extension": ".jl",
   "mimetype": "application/julia",
   "name": "julia",
   "version": "1.6.2"
  }
 },
 "nbformat": 4,
 "nbformat_minor": 5
}
