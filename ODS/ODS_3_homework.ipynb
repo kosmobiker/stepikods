{
   "cells":[
      {
         "cell_type":"markdown",
         "metadata":{

         },
         "source":[
            "<<<<<<< HEAD"            "# <center>Домашнее задание № 3 (демо). <br>Деревья решений в игрушечной задаче и на данных Adult репозитория UCI\n",
            "\n",
            "**В задании Вам предлагается разобраться с тем, как работает дерево решений, на игрушечном примере, затем обучить и настроить деревья и (при желании) случайный лес в задаче классификации на данных Adult репозитория UCI. Ответьте на все вопросы в этой тетрадке и заполните ответы в [гугл-форме](https://docs.google.com/forms/d/1bC3jNPH7XZUty_DaIvt0fPrsiS8YFkcpeBKHPSG0hw0/edit).**"
         ]
      },
      {
         "cell_type":"markdown",
         "metadata":{

         },
         "source":[
            "Подключаем необходимые библиотеки"            "======="            "# Домашнее задание № 3 #"            >>>>>>> a56f3666a5023227744273cd17b9cabd59846713
         ]
      },
      {
         "cell_type":"code",
         "<<<<<<< HEAD"         "execution_count":1,
         "======="         "execution_count":4,
         >>>>>>> a56f3666a5023227744273cd17b9cabd59846713         "metadata":{

         },
         "outputs":[

         ],
         "source":[
            "%matplotlib inline\n",
            "from matplotlib import pyplot as plt\n",
            "plt.rcParams['figure.figsize'] = (10, 8)\n",
            "import seaborn as sns\n",
            "import numpy as np\n",
            "import pandas as pd\n",
            "from sklearn.preprocessing import LabelEncoder\n",
            "import collections\n",
            "from sklearn.model_selection import GridSearchCV\n",
            "from sklearn import preprocessing\n",
            "from sklearn.tree import DecisionTreeClassifier, export_graphviz\n",
            "from sklearn.ensemble import RandomForestClassifier\n",
            "from sklearn.metrics import accuracy_score"
         ]
      },
      {
         "<<<<<<< HEAD"         "cell_type":"markdown",
         "metadata":{

         },
         "source":[
            "## Часть 1. Игрушечный набор данных \"девушка в баре\""
         ]
      },
      {
         "cell_type":"markdown",
         "metadata":{
            "collapsed":true
         },
         "source":[
            "**Цель –  \"на пальцах\", с помощью игрушечной задачи классификации разобраться в том, как работают деревья решений. Само по себе дерево решений – довольно слабый алгоритм, но основанные на нем алгоритмы случайного леса и градиентного бустинга - пожалуй, лучшее, что есть на сегодняшний день (в задачах, где можно обойтись без нейронных сетей). Поэтому разобраться в том, как работает дерево решений, полезно.**"
         ]
      },
      {
         "cell_type":"markdown",
         "metadata":{

         },
         "source":[
            "**Рассмотрим игрушечную задачу бинарной классификации: поедет ли с Вами девушка из бара? Это будет зависеть от Вашей внешности и красноречия, крепости предлагаемых напитков и, как это ни меркантильно, от количества потраченных в баре денег.**\n",
            "<img src='../../img/toy_data.png'>"
         ]
      },
      {
         "cell_type":"markdown",
         "metadata":{

         },
         "source":[
            "### Создание набора данных"
         ]
      },
      {
         "cell_type":"code",
         "execution_count":2,
         "======="         "cell_type":"code",
         "execution_count":5,
         >>>>>>> a56f3666a5023227744273cd17b9cabd59846713         "metadata":{

         },
         "outputs":[

         ],
         "source":[
            "# Создание датафрейма с dummy variables\n",
            "def create_df(dic, feature_list):\n",
            "    out = pd.DataFrame(dic)\n",
            "    out = pd.concat([out, pd.get_dummies(out[feature_list])], axis = 1)\n",
            "    out.drop(feature_list, axis = 1, inplace = True)\n",
            "    return out\n",
            "\n",
            "# Некоторые значения признаков есть в тесте, но нет в трейне и наоборот\n",
            "def intersect_features(train, test):\n",
            "<<<<<<< HEAD"            "    common_feat = list( set(train.keys()) & set(test.keys()))\n",
            "======="            "    common_feat = list(set(train.keys()) & set(test.keys()))\n",
            >>>>>>> a56f3666a5023227744273cd17b9cabd59846713            "    return train[common_feat], test[common_feat]"
         ]
      },
      {
         "cell_type":"code",
         "<<<<<<< HEAD"         "execution_count":3,
         "======="         "execution_count":6,
         >>>>>>> a56f3666a5023227744273cd17b9cabd59846713         "metadata":{

         },
         "outputs":[

         ],
         "source":[
            "features = ['Внешность', 'Алкоголь_в_напитке',\n",
            "            'Уровень_красноречия', 'Потраченные_деньги']"
         ]
      },
      {
         "cell_type":"markdown",
         "metadata":{

         },
         "source":[
            "<<<<<<< HEAD"            "**Обучающая выборка**"            "======="            "## Обучающая выборка##"            >>>>>>> a56f3666a5023227744273cd17b9cabd59846713
         ]
      },
      {
         "cell_type":"code",
         "<<<<<<< HEAD"         "execution_count":4,
         "======="         "execution_count":7,
         >>>>>>> a56f3666a5023227744273cd17b9cabd59846713         "metadata":{

         },
         "outputs":[
            {
               "data":{
                  "text/html":[
                     "<div>\n",
                     "<style scoped>\n",
                     "    .dataframe tbody tr th:only-of-type {\n",
                     "        vertical-align: middle;\n",
                     "    }\n",
                     "\n",
                     "    .dataframe tbody tr th {\n",
                     "        vertical-align: top;\n",
                     "    }\n",
                     "\n",
                     "    .dataframe thead th {\n",
                     "        text-align: right;\n",
                     "    }\n",
                     "</style>\n",
                     "<table border=\"1\" class=\"dataframe\">\n",
                     "  <thead>\n",
                     "    <tr style=\"text-align: right;\">\n",
                     "      <th></th>\n",
                     "      <th>Поедет</th>\n",
                     "      <th>Внешность_отталкивающая</th>\n",
                     "      <th>Внешность_приятная</th>\n",
                     "      <th>Алкоголь_в_напитке_да</th>\n",
                     "      <th>Алкоголь_в_напитке_нет</th>\n",
                     "      <th>Уровень_красноречия_высокий</th>\n",
                     "      <th>Уровень_красноречия_низкий</th>\n",
                     "      <th>Уровень_красноречия_средний</th>\n",
                     "      <th>Потраченные_деньги_мало</th>\n",
                     "      <th>Потраченные_деньги_много</th>\n",
                     "    </tr>\n",
                     "  </thead>\n",
                     "  <tbody>\n",
                     "    <tr>\n",
                     "      <th>0</th>\n",
                     "      <td>0</td>\n",
                     "      <td>0</td>\n",
                     "      <td>1</td>\n",
                     "      <td>1</td>\n",
                     "      <td>0</td>\n",
                     "      <td>1</td>\n",
                     "      <td>0</td>\n",
                     "      <td>0</td>\n",
                     "      <td>0</td>\n",
                     "      <td>1</td>\n",
                     "    </tr>\n",
                     "    <tr>\n",
                     "      <th>1</th>\n",
                     "      <td>1</td>\n",
                     "      <td>0</td>\n",
                     "      <td>1</td>\n",
                     "      <td>1</td>\n",
                     "      <td>0</td>\n",
                     "      <td>0</td>\n",
                     "      <td>1</td>\n",
                     "      <td>0</td>\n",
                     "      <td>1</td>\n",
                     "      <td>0</td>\n",
                     "    </tr>\n",
                     "    <tr>\n",
                     "      <th>2</th>\n",
                     "      <td>0</td>\n",
                     "      <td>0</td>\n",
                     "      <td>1</td>\n",
                     "      <td>0</td>\n",
                     "      <td>1</td>\n",
                     "      <td>0</td>\n",
                     "      <td>0</td>\n",
                     "      <td>1</td>\n",
                     "      <td>0</td>\n",
                     "      <td>1</td>\n",
                     "    </tr>\n",
                     "    <tr>\n",
                     "      <th>3</th>\n",
                     "      <td>1</td>\n",
                     "      <td>1</td>\n",
                     "      <td>0</td>\n",
                     "      <td>0</td>\n",
                     "      <td>1</td>\n",
                     "      <td>0</td>\n",
                     "      <td>0</td>\n",
                     "      <td>1</td>\n",
                     "      <td>1</td>\n",
                     "      <td>0</td>\n",
                     "    </tr>\n",
                     "    <tr>\n",
                     "      <th>4</th>\n",
                     "      <td>1</td>\n",
                     "      <td>1</td>\n",
                     "      <td>0</td>\n",
                     "      <td>1</td>\n",
                     "      <td>0</td>\n",
                     "      <td>0</td>\n",
                     "      <td>1</td>\n",
                     "      <td>0</td>\n",
                     "      <td>0</td>\n",
                     "      <td>1</td>\n",
                     "    </tr>\n",
                     "    <tr>\n",
                     "      <th>5</th>\n",
                     "      <td>0</td>\n",
                     "      <td>1</td>\n",
                     "      <td>0</td>\n",
                     "      <td>1</td>\n",
                     "      <td>0</td>\n",
                     "      <td>1</td>\n",
                     "      <td>0</td>\n",
                     "      <td>0</td>\n",
                     "      <td>0</td>\n",
                     "      <td>1</td>\n",
                     "    </tr>\n",
                     "    <tr>\n",
                     "      <th>6</th>\n",
                     "      <td>0</td>\n",
                     "      <td>0</td>\n",
                     "      <td>1</td>\n",
                     "      <td>1</td>\n",
                     "      <td>0</td>\n",
                     "      <td>0</td>\n",
                     "      <td>0</td>\n",
                     "      <td>1</td>\n",
                     "      <td>0</td>\n",
                     "      <td>1</td>\n",
                     "    </tr>\n",
                     "  </tbody>\n",
                     "</table>\n",
                     "</div>"
                  ],
                  "text/plain":[
                     "   Поедет  Внешность_отталкивающая  Внешность_приятная  Алкоголь_в_напитке_да  \\\n",
                     "0       0                        0                   1                      1   \n",
                     "1       1                        0                   1                      1   \n",
                     "2       0                        0                   1                      0   \n",
                     "3       1                        1                   0                      0   \n",
                     "4       1                        1                   0                      1   \n",
                     "5       0                        1                   0                      1   \n",
                     "6       0                        0                   1                      1   \n",
                     "\n",
                     "   Алкоголь_в_напитке_нет  Уровень_красноречия_высокий  \\\n",
                     "0                       0                            1   \n",
                     "1                       0                            0   \n",
                     "2                       1                            0   \n",
                     "3                       1                            0   \n",
                     "4                       0                            0   \n",
                     "5                       0                            1   \n",
                     "6                       0                            0   \n",
                     "\n",
                     "   Уровень_красноречия_низкий  Уровень_красноречия_средний  \\\n",
                     "0                           0                            0   \n",
                     "1                           1                            0   \n",
                     "2                           0                            1   \n",
                     "3                           0                            1   \n",
                     "4                           1                            0   \n",
                     "5                           0                            0   \n",
                     "6                           0                            1   \n",
                     "\n",
                     "   Потраченные_деньги_мало  Потраченные_деньги_много  \n",
                     "0                        0                         1  \n",
                     "1                        1                         0  \n",
                     "2                        0                         1  \n",
                     "3                        1                         0  \n",
                     "4                        0                         1  \n",
                     "5                        0                         1  \n",
                     "6                        0                         1  "
                  ]
               },
               "<<<<<<< HEAD"               "execution_count":4,
               "======="               "execution_count":7,
               >>>>>>> a56f3666a5023227744273cd17b9cabd59846713               "metadata":{

               },
               "output_type":"execute_result"
            }
         ],
         "source":[
            "df_train = {}\n",
            "df_train['Внешность'] = ['приятная', 'приятная', 'приятная', 'отталкивающая',\n",
            "                         'отталкивающая', 'отталкивающая', 'приятная'] \n",
            "df_train['Алкоголь_в_напитке'] = ['да', 'да', 'нет', 'нет', 'да', 'да', 'да']\n",
            "df_train['Уровень_красноречия'] = ['высокий', 'низкий', 'средний', 'средний', 'низкий',\n",
            "                                   'высокий', 'средний']\n",
            "df_train['Потраченные_деньги'] = ['много', 'мало', 'много', 'мало', 'много',\n",
            "                                  'много', 'много']\n",
            "df_train['Поедет'] = LabelEncoder().fit_transform(['+', '-', '+', '-', '-', '+', '+'])\n",
            "\n",
            "df_train = create_df(df_train, features)\n",
            "df_train"
         ]
      },
      {
         "cell_type":"markdown",
         "metadata":{

         },
         "source":[
            "<<<<<<< HEAD"            "**Тестовая выборка**"            "======="            "## Тестовая выборка##\n"            >>>>>>> a56f3666a5023227744273cd17b9cabd59846713
         ]
      },
      {
         "cell_type":"code",
         "<<<<<<< HEAD"         "execution_count":5,
         "======="         "execution_count":9,
         >>>>>>> a56f3666a5023227744273cd17b9cabd59846713         "metadata":{

         },
         "outputs":[
            {
               "data":{
                  "text/html":[
                     "<div>\n",
                     "<style scoped>\n",
                     "    .dataframe tbody tr th:only-of-type {\n",
                     "        vertical-align: middle;\n",
                     "    }\n",
                     "\n",
                     "    .dataframe tbody tr th {\n",
                     "        vertical-align: top;\n",
                     "    }\n",
                     "\n",
                     "    .dataframe thead th {\n",
                     "        text-align: right;\n",
                     "    }\n",
                     "</style>\n",
                     "<table border=\"1\" class=\"dataframe\">\n",
                     "  <thead>\n",
                     "    <tr style=\"text-align: right;\">\n",
                     "      <th></th>\n",
                     "      <th>Внешность_отталкивающая</th>\n",
                     "      <th>Внешность_приятная</th>\n",
                     "      <th>Алкоголь_в_напитке_да</th>\n",
                     "      <th>Алкоголь_в_напитке_нет</th>\n",
                     "      <th>Уровень_красноречия_высокий</th>\n",
                     "      <th>Уровень_красноречия_средний</th>\n",
                     "      <th>Потраченные_деньги_мало</th>\n",
                     "      <th>Потраченные_деньги_много</th>\n",
                     "    </tr>\n",
                     "  </thead>\n",
                     "  <tbody>\n",
                     "    <tr>\n",
                     "      <th>0</th>\n",
                     "      <td>0</td>\n",
                     "      <td>1</td>\n",
                     "      <td>0</td>\n",
                     "      <td>1</td>\n",
                     "      <td>0</td>\n",
                     "      <td>1</td>\n",
                     "      <td>0</td>\n",
                     "      <td>1</td>\n",
                     "    </tr>\n",
                     "    <tr>\n",
                     "      <th>1</th>\n",
                     "      <td>0</td>\n",
                     "      <td>1</td>\n",
                     "      <td>1</td>\n",
                     "      <td>0</td>\n",
                     "      <td>1</td>\n",
                     "      <td>0</td>\n",
                     "      <td>1</td>\n",
                     "      <td>0</td>\n",
                     "    </tr>\n",
                     "    <tr>\n",
                     "      <th>2</th>\n",
                     "      <td>1</td>\n",
                     "      <td>0</td>\n",
                     "      <td>1</td>\n",
                     "      <td>0</td>\n",
                     "      <td>0</td>\n",
                     "      <td>1</td>\n",
                     "      <td>0</td>\n",
                     "      <td>1</td>\n",
                     "    </tr>\n",
                     "  </tbody>\n",
                     "</table>\n",
                     "</div>"
                  ],
                  "text/plain":[
                     "   Внешность_отталкивающая  Внешность_приятная  Алкоголь_в_напитке_да  \\\n",
                     "0                        0                   1                      0   \n",
                     "1                        0                   1                      1   \n",
                     "2                        1                   0                      1   \n",
                     "\n",
                     "   Алкоголь_в_напитке_нет  Уровень_красноречия_высокий  \\\n",
                     "0                       1                            0   \n",
                     "1                       0                            1   \n",
                     "2                       0                            0   \n",
                     "\n",
                     "   Уровень_красноречия_средний  Потраченные_деньги_мало  \\\n",
                     "0                            1                        0   \n",
                     "1                            0                        1   \n",
                     "2                            1                        0   \n",
                     "\n",
                     "   Потраченные_деньги_много  \n",
                     "0                         1  \n",
                     "1                         0  \n",
                     "2                         1  "
                  ]
               },
               "<<<<<<< HEAD"               "execution_count":5,
               "======="               "execution_count":9,
               >>>>>>> a56f3666a5023227744273cd17b9cabd59846713               "metadata":{

               },
               "output_type":"execute_result"
            }
         ],
         "source":[
            "df_test = {}\n",
            "df_test['Внешность'] = ['приятная', 'приятная', 'отталкивающая'] \n",
            "df_test['Алкоголь_в_напитке'] = ['нет', 'да', 'да']\n",
            "df_test['Уровень_красноречия'] = ['средний', 'высокий', 'средний']\n",
            "df_test['Потраченные_деньги'] = ['много', 'мало', 'много']\n",
            "df_test = create_df(df_test, features)\n",
            "df_test"
         ]
      },
      {
         "cell_type":"code",
         "<<<<<<< HEAD"         "execution_count":6,
         "======="         "execution_count":10,
         >>>>>>> a56f3666a5023227744273cd17b9cabd59846713         "metadata":{

         },
         "outputs":[
            {
               "data":{
                  "text/html":[
                     "<div>\n",
                     "<style scoped>\n",
                     "    .dataframe tbody tr th:only-of-type {\n",
                     "        vertical-align: middle;\n",
                     "    }\n",
                     "\n",
                     "    .dataframe tbody tr th {\n",
                     "        vertical-align: top;\n",
                     "    }\n",
                     "\n",
                     "    .dataframe thead th {\n",
                     "        text-align: right;\n",
                     "    }\n",
                     "</style>\n",
                     "<table border=\"1\" class=\"dataframe\">\n",
                     "  <thead>\n",
                     "    <tr style=\"text-align: right;\">\n",
                     "      <th></th>\n",
                     "<<<<<<< HEAD"                     "      <th>Уровень_красноречия_средний</th>\n",
                     "      <th>Внешность_отталкивающая</th>\n",
                     "      <th>Внешность_приятная</th>\n",
                     "      <th>Потраченные_деньги_много</th>\n",
                     "      <th>Потраченные_деньги_мало</th>\n",
                     "      <th>Алкоголь_в_напитке_да</th>\n",
                     "      <th>Алкоголь_в_напитке_нет</th>\n",
                     "      <th>Уровень_красноречия_высокий</th>\n",
                     "======="                     "      <th>Внешность_отталкивающая</th>\n",
                     "      <th>Потраченные_деньги_мало</th>\n",
                     "      <th>Уровень_красноречия_высокий</th>\n",
                     "      <th>Алкоголь_в_напитке_да</th>\n",
                     "      <th>Уровень_красноречия_средний</th>\n",
                     "      <th>Внешность_приятная</th>\n",
                     "      <th>Алкоголь_в_напитке_нет</th>\n",
                     "      <th>Потраченные_деньги_много</th>\n",
                     >>>>>>> a56f3666a5023227744273cd17b9cabd59846713                     "    </tr>\n",
                     "  </thead>\n",
                     "  <tbody>\n",
                     "    <tr>\n",
                     "      <th>0</th>\n",
                     "      <td>0</td>\n",
                     "      <td>0</td>\n",
                     "      <td>1</td>\n",
                     "      <td>1</td>\n",
                     "      <td>0</td>\n",
                     "      <td>1</td>\n",
                     "      <td>0</td>\n",
                     "      <td>1</td>\n",
                     "    </tr>\n",
                     "    <tr>\n",
                     "      <th>1</th>\n",
                     "      <td>0</td>\n",
                     "<<<<<<< HEAD"                     "      <td>0</td>\n",
                     "      <td>1</td>\n",
                     "      <td>0</td>\n",
                     "      <td>1</td>\n",
                     "======="                     "      <td>1</td>\n",
                     "      <td>0</td>\n",
                     "      <td>1</td>\n",
                     "      <td>0</td>\n",
                     >>>>>>> a56f3666a5023227744273cd17b9cabd59846713                     "      <td>1</td>\n",
                     "      <td>0</td>\n",
                     "      <td>0</td>\n",
                     "    </tr>\n",
                     "    <tr>\n",
                     "      <th>2</th>\n",
                     "<<<<<<< HEAD"                     "      <td>1</td>\n",
                     "      <td>0</td>\n",
                     "      <td>1</td>\n",
                     "      <td>1</td>\n",
                     "      <td>0</td>\n",
                     "      <td>0</td>\n",
                     "      <td>1</td>\n",
                     "      <td>0</td>\n",
                     "======="                     "      <td>0</td>\n",
                     "      <td>0</td>\n",
                     "      <td>0</td>\n",
                     "      <td>0</td>\n",
                     "      <td>1</td>\n",
                     "      <td>1</td>\n",
                     "      <td>1</td>\n",
                     "      <td>1</td>\n",
                     >>>>>>> a56f3666a5023227744273cd17b9cabd59846713                     "    </tr>\n",
                     "    <tr>\n",
                     "      <th>3</th>\n",
                     "      <td>1</td>\n",
                     "      <td>1</td>\n",
                     "      <td>0</td>\n",
                     "      <td>0</td>\n",
                     "      <td>1</td>\n",
                     "      <td>0</td>\n",
                     "      <td>1</td>\n",
                     "      <td>0</td>\n",
                     "    </tr>\n",
                     "    <tr>\n",
                     "      <th>4</th>\n",
                     "<<<<<<< HEAD"                     "      <td>0</td>\n",
                     "      <td>1</td>\n",
                     "      <td>0</td>\n",
                     "      <td>1</td>\n",
                     "======="                     "      <td>1</td>\n",
                     "      <td>0</td>\n",
                     >>>>>>> a56f3666a5023227744273cd17b9cabd59846713                     "      <td>0</td>\n",
                     "      <td>1</td>\n",
                     "      <td>0</td>\n",
                     "      <td>0</td>\n",
                     "<<<<<<< HEAD"                     "    </tr>\n",
                     "    <tr>\n",
                     "      <th>5</th>\n",
                     "      <td>0</td>\n",
                     "      <td>1</td>\n",
                     "      <td>0</td>\n",
                     "      <td>1</td>\n",
                     "      <td>0</td>\n",
                     "      <td>1</td>\n",
                     "      <td>0</td>\n",
                     "======="                     "      <td>0</td>\n",
                     "      <td>1</td>\n",
                     "    </tr>\n",
                     "    <tr>\n",
                     "      <th>5</th>\n",
                     "      <td>1</td>\n",
                     "      <td>0</td>\n",
                     "      <td>1</td>\n",
                     "      <td>1</td>\n",
                     "      <td>0</td>\n",
                     "      <td>0</td>\n",
                     "      <td>0</td>\n",
                     >>>>>>> a56f3666a5023227744273cd17b9cabd59846713                     "      <td>1</td>\n",
                     "    </tr>\n",
                     "    <tr>\n",
                     "      <th>6</th>\n",
                     "<<<<<<< HEAD"                     "      <td>1</td>\n",
                     "      <td>0</td>\n",
                     "      <td>1</td>\n",
                     "      <td>1</td>\n",
                     "      <td>0</td>\n",
                     "      <td>1</td>\n",
                     "      <td>0</td>\n",
                     "      <td>0</td>\n",
                     "======="                     "      <td>0</td>\n",
                     "      <td>0</td>\n",
                     "      <td>0</td>\n",
                     "      <td>1</td>\n",
                     "      <td>1</td>\n",
                     "      <td>1</td>\n",
                     "      <td>0</td>\n",
                     "      <td>1</td>\n",
                     >>>>>>> a56f3666a5023227744273cd17b9cabd59846713                     "    </tr>\n",
                     "  </tbody>\n",
                     "</table>\n",
                     "</div>"
                  ],
                  "text/plain":[
                     "<<<<<<< HEAD"                     "   Уровень_красноречия_средний  Внешность_отталкивающая  Внешность_приятная  \\\n",
                     "0                            0                        0                   1   \n",
                     "1                            0                        0                   1   \n",
                     "2                            1                        0                   1   \n",
                     "3                            1                        1                   0   \n",
                     "4                            0                        1                   0   \n",
                     "5                            0                        1                   0   \n",
                     "6                            1                        0                   1   \n",
                     "\n",
                     "   Потраченные_деньги_много  Потраченные_деньги_мало  Алкоголь_в_напитке_да  \\\n",
                     "0                         1                        0                      1   \n",
                     "1                         0                        1                      1   \n",
                     "2                         1                        0                      0   \n",
                     "3                         0                        1                      0   \n",
                     "4                         1                        0                      1   \n",
                     "5                         1                        0                      1   \n",
                     "6                         1                        0                      1   \n",
                     "\n",
                     "   Алкоголь_в_напитке_нет  Уровень_красноречия_высокий  \n",
                     "0                       0                            1  \n",
                     "1                       0                            0  \n",
                     "2                       1                            0  \n",
                     "3                       1                            0  \n",
                     "4                       0                            0  \n",
                     "5                       0                            1  \n",
                     "6                       0                            0  "
                  ]
               },
               "execution_count":6,
               "======="               "   Внешность_отталкивающая  Потраченные_деньги_мало  \\\n",
               "0                        0                        0   \n",
               "1                        0                        1   \n",
               "2                        0                        0   \n",
               "3                        1                        1   \n",
               "4                        1                        0   \n",
               "5                        1                        0   \n",
               "6                        0                        0   \n",
               "\n",
               "   Уровень_красноречия_высокий  Алкоголь_в_напитке_да  \\\n",
               "0                            1                      1   \n",
               "1                            0                      1   \n",
               "2                            0                      0   \n",
               "3                            0                      0   \n",
               "4                            0                      1   \n",
               "5                            1                      1   \n",
               "6                            0                      1   \n",
               "\n",
               "   Уровень_красноречия_средний  Внешность_приятная  Алкоголь_в_напитке_нет  \\\n",
               "0                            0                   1                       0   \n",
               "1                            0                   1                       0   \n",
               "2                            1                   1                       1   \n",
               "3                            1                   0                       1   \n",
               "4                            0                   0                       0   \n",
               "5                            0                   0                       0   \n",
               "6                            1                   1                       0   \n",
               "\n",
               "   Потраченные_деньги_много  \n",
               "0                         1  \n",
               "1                         0  \n",
               "2                         1  \n",
               "3                         0  \n",
               "4                         1  \n",
               "5                         1  \n",
               "6                         1  "
            ]
         },
         "execution_count":10,
         >>>>>>> a56f3666a5023227744273cd17b9cabd59846713         "metadata":{

         },
         "output_type":"execute_result"
      }
   ],
   "source":[
      "# Некоторые значения признаков есть в тесте, но нет в трейне и наоборот\n",
      "y = df_train['Поедет']\n",
      "df_train, df_test = intersect_features(train=df_train, test=df_test)\n",
      "df_train"
   ]
},
{
   "cell_type":"code",
   "<<<<<<< HEAD"   "execution_count":7,
   "======="   "execution_count":11,
   >>>>>>> a56f3666a5023227744273cd17b9cabd59846713   "metadata":{

   },
   "outputs":[
      {
         "data":{
            "text/html":[
               "<div>\n",
               "<style scoped>\n",
               "    .dataframe tbody tr th:only-of-type {\n",
               "        vertical-align: middle;\n",
               "    }\n",
               "\n",
               "    .dataframe tbody tr th {\n",
               "        vertical-align: top;\n",
               "    }\n",
               "\n",
               "    .dataframe thead th {\n",
               "        text-align: right;\n",
               "    }\n",
               "</style>\n",
               "<table border=\"1\" class=\"dataframe\">\n",
               "  <thead>\n",
               "    <tr style=\"text-align: right;\">\n",
               "      <th></th>\n",
               "<<<<<<< HEAD"               "      <th>Уровень_красноречия_средний</th>\n",
               "      <th>Внешность_отталкивающая</th>\n",
               "      <th>Внешность_приятная</th>\n",
               "      <th>Потраченные_деньги_много</th>\n",
               "      <th>Потраченные_деньги_мало</th>\n",
               "      <th>Алкоголь_в_напитке_да</th>\n",
               "      <th>Алкоголь_в_напитке_нет</th>\n",
               "      <th>Уровень_красноречия_высокий</th>\n",
               "======="               "      <th>Внешность_отталкивающая</th>\n",
               "      <th>Потраченные_деньги_мало</th>\n",
               "      <th>Уровень_красноречия_высокий</th>\n",
               "      <th>Алкоголь_в_напитке_да</th>\n",
               "      <th>Уровень_красноречия_средний</th>\n",
               "      <th>Внешность_приятная</th>\n",
               "      <th>Алкоголь_в_напитке_нет</th>\n",
               "      <th>Потраченные_деньги_много</th>\n",
               >>>>>>> a56f3666a5023227744273cd17b9cabd59846713               "    </tr>\n",
               "  </thead>\n",
               "  <tbody>\n",
               "    <tr>\n",
               "      <th>0</th>\n",
               "<<<<<<< HEAD"               "      <td>1</td>\n",
               "      <td>0</td>\n",
               "      <td>1</td>\n",
               "      <td>1</td>\n",
               "      <td>0</td>\n",
               "      <td>0</td>\n",
               "      <td>1</td>\n",
               "      <td>0</td>\n",
               "======="               "      <td>0</td>\n",
               "      <td>0</td>\n",
               "      <td>0</td>\n",
               "      <td>0</td>\n",
               "      <td>1</td>\n",
               "      <td>1</td>\n",
               "      <td>1</td>\n",
               "      <td>1</td>\n",
               >>>>>>> a56f3666a5023227744273cd17b9cabd59846713               "    </tr>\n",
               "    <tr>\n",
               "      <th>1</th>\n",
               "      <td>0</td>\n",
               "<<<<<<< HEAD"               "      <td>0</td>\n",
               "      <td>1</td>\n",
               "      <td>0</td>\n",
               "======="               "      <td>1</td>\n",
               >>>>>>> a56f3666a5023227744273cd17b9cabd59846713               "      <td>1</td>\n",
               "      <td>1</td>\n",
               "      <td>0</td>\n",
               "      <td>1</td>\n",
               "<<<<<<< HEAD
======="               "      <td>0</td>\n",
               "      <td>0</td>\n",
               >>>>>>> a56f3666a5023227744273cd17b9cabd59846713               "    </tr>\n",
               "    <tr>\n",
               "      <th>2</th>\n",
               "      <td>1</td>\n",
               "<<<<<<< HEAD"               "      <td>1</td>\n",
               "      <td>0</td>\n",
               "      <td>1</td>\n",
               "      <td>0</td>\n",
               "      <td>1</td>\n",
               "      <td>0</td>\n",
               "      <td>0</td>\n",
               "======="               "      <td>0</td>\n",
               "      <td>0</td>\n",
               "      <td>1</td>\n",
               "      <td>1</td>\n",
               "      <td>0</td>\n",
               "      <td>0</td>\n",
               "      <td>1</td>\n",
               >>>>>>> a56f3666a5023227744273cd17b9cabd59846713               "    </tr>\n",
               "  </tbody>\n",
               "</table>\n",
               "</div>"
            ],
            "text/plain":[
               "<<<<<<< HEAD"               "   Уровень_красноречия_средний  Внешность_отталкивающая  Внешность_приятная  \\\n",
               "0                            1                        0                   1   \n",
               "1                            0                        0                   1   \n",
               "2                            1                        1                   0   \n",
               "\n",
               "   Потраченные_деньги_много  Потраченные_деньги_мало  Алкоголь_в_напитке_да  \\\n",
               "0                         1                        0                      0   \n",
               "1                         0                        1                      1   \n",
               "2                         1                        0                      1   \n",
               "\n",
               "   Алкоголь_в_напитке_нет  Уровень_красноречия_высокий  \n",
               "0                       1                            0  \n",
               "1                       0                            1  \n",
               "2                       0                            0  "
            ]
         },
         "execution_count":7,
         "metadata":{

         },
         "output_type":"execute_result"
      }
   ],
   "source":[
      "df_test"
   ]
},
{
   "cell_type":"markdown",
   "metadata":{

   },
   "source":[
      "**Постройте от руки (или в графическом редакторе) дерево решений для этого набора данных. Дополнительно (для желающих) – можете сделать отрисовку дерева и написать код для построения всего дерева.**"
   ]
},
{
   "cell_type":"markdown",
   "metadata":{

   },
   "source":[
      "<font color='red'>Вопрос 1.</font> Какова энтропия начальной системы ($S_0$)? Под состояниями системы понимаем значения признака \"Поедет\" – 0 или 1 (то есть всего 2 состояния)."
   ]
},
{
   "cell_type":"markdown",
   "metadata":{

   },
   "source":[
      "<font color='red'>Вопрос 2. </font> Рассмотрим разбиение обучающей выборки по признаку \"Внешность\\_приятная\". Какова энтропия  $S_1$ левой группы, тех, у кого внешность приятная, и правой группы – $S_2$? Каков прирост информации  при данном разбиении (IG)? "
   ]
},
{
   "cell_type":"code",
   "execution_count":8,
   "metadata":{

   },
   "outputs":[

   ],
   "source":[
      "S0 = -4/7*np.log2(4/7) - 3/7*np.log2(3/7) #0.9852281360342515"
   ]
},
{
   "cell_type":"code",
   "execution_count":9,
   "metadata":{

   },
   "outputs":[

   ],
   "source":[
      "S1 = -3/4*np.log2(3/4) - 1/4*np.log2(1/4) #0.8112781244591328\n",
      "S2 = -2/3*np.log2(2/3) - 1/3*np.log2(1/3) #0.9182958340544896\n",
      "IG = S0 - 4/7*S1 - 3/7*S2 #0.12808527889139443"
   ]
},
{
   "cell_type":"markdown",
   "metadata":{

   },
   "source":[
      "**Постройте с помощью `sklearn` дерево решений, обучив его на обучающей выборке. Глубину можно не ограничивать.**"
   ]
},
{
   "cell_type":"code",
   "execution_count":10,
   "metadata":{

   },
   "outputs":[

   ],
   "source":[
      "tree = DecisionTreeClassifier(random_state=17)\n",
      "tree.fit(df_train, y)\n",
      "tree_pred = tree.predict(df_test)"
   ]
},
{
   "cell_type":"code",
   "execution_count":11,
   "metadata":{

   },
   "outputs":[
      {
         "data":{
            "text/plain":[
               "array([0, 1, 1])"               "======="               "   Внешность_отталкивающая  Потраченные_деньги_мало  \\\n",
               "0                        0                        0   \n",
               "1                        0                        1   \n",
               "2                        1                        0   \n",
               "\n",
               "   Уровень_красноречия_высокий  Алкоголь_в_напитке_да  \\\n",
               "0                            0                      0   \n",
               "1                            1                      1   \n",
               "2                            0                      1   \n",
               "\n",
               "   Уровень_красноречия_средний  Внешность_приятная  Алкоголь_в_напитке_нет  \\\n",
               "0                            1                   1                       1   \n",
               "1                            0                   1                       0   \n",
               "2                            1                   0                       0   \n",
               "\n",
               "   Потраченные_деньги_много  \n",
               "0                         1  \n",
               "1                         0  \n",
               "2                         1  "               >>>>>>> a56f3666a5023227744273cd17b9cabd59846713
            ]
         },
         "execution_count":11,
         "metadata":{

         },
         "output_type":"execute_result"
      }
   ],
   "source":[
      "<<<<<<< HEAD"      "tree_pred"
   ]
},
{
   "cell_type":"markdown",
   "metadata":{

   },
   "source":[
      "**Дополнительно: отобразите дерево с помощью graphviz. Можно использовать `pydot` или, например, [онлайн-сервис](https://www.coolutils.com/ru/online/DOT-to-PNG) dot2png.**"
   ]
},
{
   "cell_type":"code",
   "execution_count":12,
   "metadata":{

   },
   "outputs":[

   ],
   "source":[
      "export_graphviz(tree, feature_names=df_train.columns, out_file='test_tree.dot', filled=True)"
   ]
},
{
   "cell_type":"markdown",
   "metadata":{

   },
   "source":[
      "![](test_tree.png)"
   ]
},
{
   "cell_type":"markdown",
   "metadata":{

   },
   "source":[
      "## Часть 2. Функции для расчета энтропии и прироста информации"
   ]
},
{
   "cell_type":"markdown",
   "metadata":{

   },
   "source":[
      "Примерчик для проверки: 9 синих шариков и 11 желтых. Пусть шарик находится в состоянии \"1\", если он синий и \"0\" – если он желтый."
   ]
},
{
   "cell_type":"code",
   "execution_count":13,
   "metadata":{

   },
   "outputs":[

   ],
   "source":[
      "balls = [1 for i in range(9)] + [0 for i in range(11)]"
   ]
},
{
   "cell_type":"markdown",
   "metadata":{

   },
   "source":[
      "Дальше пусть шарики разбиваются на 2 группы"
   ]
},
{
   "cell_type":"code",
   "execution_count":14,
   "metadata":{

   },
   "outputs":[

   ],
   "source":[
      "# две группы\n",
      "balls_left  = [1 for i in range(8)] + [0 for i in range(5)] # 8 синих и 5 желтых\n",
      "balls_right = [1 for i in range(1)] + [0 for i in range(6)] # 1 синий и 6 желтых"
   ]
},
{
   "cell_type":"markdown",
   "metadata":{

   },
   "source":[
      "**Реализуйте функцию для расчета энтропии Шеннона.**"      "======="      "df_test"      >>>>>>> a56f3666a5023227744273cd17b9cabd59846713
   ]
},
{
   "cell_type":"code",
   "<<<<<<< HEAD"   "execution_count":15,
   "metadata":{

   },
   "outputs":[

   ],
   "source":[
      "def entropy(labels, base=2):\n",
      "    value,counts = np.unique(labels, return_counts=True)\n",
      "    norm_counts = counts / counts.sum()\n",
      "    return -(norm_counts * np.log(norm_counts)/np.log(base)).sum()"
   ]
},
{
   "cell_type":"markdown",
   "metadata":{

   },
   "source":[
      "Проверка"
   ]
},
{
   "cell_type":"code",
   "execution_count":16,
   "metadata":{

   },
   "outputs":[
      {
         "name":"stdout",
         "output_type":"stream",
         "text":[
            "CPU times: user 4 µs, sys: 1e+03 ns, total: 5 µs\n",
            "Wall time: 10.7 µs\n",
            "0.9927744539878083\n",
            "0.961236604722876\n",
            "0.5916727785823274\n",
            "2.584962500721156\n"
         ]
      }
   ],
   "source":[
      "%time\n",
      "print(entropy(balls)) # 9 синих и 11 желтых\n",
      "print(entropy(balls_left)) # 8 синих и 5 желтых\n",
      "print(entropy(balls_right)) # 1 синий и 6 желтых\n",
      "print(entropy([1,2,3,4,5,6])) # энтропия игральной кости с несмещенным центром тяжести\n",
      "\n"
   ]
},
{
   "cell_type":"markdown",
   "metadata":{

   },
   "source":[
      "<font color='red'>Вопрос 3.</font> Чему равна энтропия состояния, заданного списком `balls_left`?"
   ]
},
{
   "cell_type":"markdown",
   "metadata":{

   },
   "source":[
      "<font color='red'>Вопрос 4.</font> Чему равна энтропия игральной кости с несмещенным центром тяжести?"
   ]
},
{
   "cell_type":"code",
   "execution_count":17,
   "metadata":{

   },
   "outputs":[

   ],
   "source":[
      "# расчет прироста информации\n",
      "\n",
      "def information_gain(root, left, right):\n",
      "    return entropy(root) - len(left)/len(root)*entropy(left) - len(right)/len(root)*entropy(right)"
   ]
},
{
   "cell_type":"markdown",
   "metadata":{

   },
   "source":[
      "<font color='red'>Вопрос 5.  </font> Каков прирост информации при разделении выборки на `balls_left` и `balls_right`?"
   ]
},
{
   "cell_type":"code",
   "execution_count":18,
   "metadata":{

   },
   "outputs":[
      {
         "data":{
            "text/plain":[
               "0.16088518841412427"
            ]
         },
         "execution_count":18,
         "metadata":{

         },
         "output_type":"execute_result"
      }
   ],
   "source":[
      "information_gain(balls, balls_left, balls_right) #0.16088518841412427"
   ]
},
{
   "cell_type":"code",
   "execution_count":19,
   "metadata":{

   },
   "outputs":[

   ],
   "source":[
      "def best_feature_to_split(X, y):\n",
      "    ''' Выводит прирост информации при разбиении по каждому признаку'''\n",
      "    out = []\n",
      "    for i in X.columns:\n",
      "        out.append(information_gain(y,y[X[i]==0],y[X[i]==1]))\n",
      "    return out"
   ]
},
{
   "cell_type":"code",
   "execution_count":20,
   "metadata":{

   },
   "outputs":[
      {
         "data":{
            "text/plain":[
               "[0.02024420715375619,\n",
               " 0.12808527889139454,\n",
               " 0.12808527889139454,\n",
               " 0.46956521111470706,\n",
               " 0.46956521111470706,\n",
               " 0.0059777114237739015,\n",
               " 0.0059777114237739015,\n",
               " 0.2916919971380596]"
            ]
         },
         "execution_count":20,
         "metadata":{

         },
         "output_type":"execute_result"
      }
   ],
   "source":[
      "best_feature_to_split(df_train, y)"
   ]
},
{
   "cell_type":"code",
   "execution_count":21,
   "metadata":{

   },
   "outputs":[

   ],
   "source":[
      "def btree(X,y):\n",
      "    clf = best_feature_to_split(X, y)\n",
      "    param = clf.index(max(clf))\n",
      "    ly = y[X.ix[:,param] == 0]\n",
      "    ry = y[X.ix[:,param] == 1]\n",
      "    print ('Column_' + str(param) + ' N/Y?')\n",
      "    print ('Entropy: ',entropy (ly), entropy (ry))\n",
      "    print ('N count:',ly.count(),'/', 'Y count:',ry.count())\n",
      "    if entropy (ly) != 0:\n",
      "        left = X[X.ix[:,param] == 0]\n",
      "        btree(left, ly)\n",
      "    if entropy (ry) != 0:\n",
      "        right = X[X.ix[:,param] == 1]\n",
      "        btree(right, ry)"
   ]
},
{
   "cell_type":"code",
   "execution_count":22,
   "metadata":{

   },
   "outputs":[
      {
         "name":"stdout",
         "output_type":"stream",
         "text":[
            "Column_3 N/Y?\n",
            "Entropy:  -0.0 0.7219280948873623\n",
            "N count: 2 / Y count: 5\n",
            "Column_1 N/Y?\n",
            "Entropy:  -0.0 1.0\n",
            "N count: 3 / Y count: 2\n",
            "Column_7 N/Y?\n",
            "Entropy:  -0.0 -0.0\n",
            "N count: 1 / Y count: 1\n"
         ]
      },
      {
         "name":"stderr",
         "output_type":"stream",
         "text":[
            "/home/vlad/anaconda3/lib/python3.7/site-packages/ipykernel_launcher.py:4: DeprecationWarning: \n",
            ".ix is deprecated. Please use\n",
            ".loc for label based indexing or\n",
            ".iloc for positional indexing\n",
            "\n",
            "See the documentation here:\n",
            "http://pandas.pydata.org/pandas-docs/stable/indexing.html#ix-indexer-is-deprecated\n",
            "  after removing the cwd from sys.path.\n",
            "/home/vlad/anaconda3/lib/python3.7/site-packages/ipykernel_launcher.py:5: DeprecationWarning: \n",
            ".ix is deprecated. Please use\n",
            ".loc for label based indexing or\n",
            ".iloc for positional indexing\n",
            "\n",
            "See the documentation here:\n",
            "http://pandas.pydata.org/pandas-docs/stable/indexing.html#ix-indexer-is-deprecated\n",
            "  \"\"\"\n",
            "/home/vlad/anaconda3/lib/python3.7/site-packages/ipykernel_launcher.py:13: DeprecationWarning: \n",
            ".ix is deprecated. Please use\n",
            ".loc for label based indexing or\n",
            ".iloc for positional indexing\n",
            "\n",
            "See the documentation here:\n",
            "http://pandas.pydata.org/pandas-docs/stable/indexing.html#ix-indexer-is-deprecated\n",
            "  del sys.path[0]\n"
         ]
      }
   ],
   "source":[
      "btree (df_train,y)"
   ]
},
{
   "cell_type":"markdown",
   "metadata":{

   },
   "source":[
      "**Опционально:**\n",
      "\n",
      " - реализуйте алгоритм построения дерева за счет рекурсивного вызова функции `best_feature_to_split`\n",
      " - нарисуйте полученное дерево"
   ]
},
{
   "cell_type":"markdown",
   "metadata":{

   },
   "source":[
      "## Часть 3. Набор данных \"Adult\""
   ]
},
{
   "cell_type":"markdown",
   "metadata":{

   },
   "source":[
      "**Описание набора:**"
   ]
},
{
   "cell_type":"markdown",
   "metadata":{

   },
   "source":[
      "**[Набор](http://archive.ics.uci.edu/ml/machine-learning-databases/adult) данных UCI Adult** (качать не надо, все есть в репозитории): классификация людей с помощью демографических данных для прогнозирования, зарабатывает ли человек более \\$ 50 000 в год.\n",
      "\n",
      "Описание признаков: \n",
      "\n",
      "**Age** – возраст, количественный признак  \n",
      "**Workclass** – тип работодателя, количественный признак  \n",
      "**fnlwgt** – итоговый вес обьекта, количественный признак    \n",
      "**Education** – уровень образования, качественный признак  \n",
      "**Education_Num** – количество лет обучения, количественный признак  \n",
      "**Martial_Status** – семейное положение, категориальный признак  \n",
      "**Occupation** – профессия, категориальный признак  \n",
      "**Relationship** – тип семейных отношений, категориальный признак    \n",
      "**Race** – раса, категориальный признак  \n",
      "**Sex** – пол, качественный признак  \n",
      "**Capital_Gain** – прирост капитала, количественный признак  \n",
      "**Capital_Loss** – потери капитала, количественный признак  \n",
      "**Hours_per_week** – количество часов работы в неделю, количественный признак  \n",
      "**Country** – страна, категориальный признак  \n",
      "   \n",
      "Целевая переменная: **Target** – уровень заработка, категориальный (бинарный) признак  "
   ]
},
{
   "cell_type":"markdown",
   "metadata":{

   },
   "source":[
      "**Считываем обучающую и тестовую выборки.**"
   ]
},
{
   "cell_type":"code",
   "execution_count":23,
   "metadata":{

   },
   "outputs":[

   ],
   "source":[
      "data_train = pd.read_csv('https://raw.githubusercontent.com/Yorko/mlcourse.ai/master/data/adult_train.csv', sep=';') "
   ]
},
{
   "cell_type":"code",
   "execution_count":24,
   "metadata":{

   },
   "outputs":[
      {
         "data":{
            "text/html":[
               "<div>\n",
               "<style scoped>\n",
               "    .dataframe tbody tr th:only-of-type {\n",
               "        vertical-align: middle;\n",
               "    }\n",
               "\n",
               "    .dataframe tbody tr th {\n",
               "        vertical-align: top;\n",
               "    }\n",
               "\n",
               "    .dataframe thead th {\n",
               "        text-align: right;\n",
               "    }\n",
               "</style>\n",
               "<table border=\"1\" class=\"dataframe\">\n",
               "  <thead>\n",
               "    <tr style=\"text-align: right;\">\n",
               "      <th></th>\n",
               "      <th>Age</th>\n",
               "      <th>Workclass</th>\n",
               "      <th>fnlwgt</th>\n",
               "      <th>Education</th>\n",
               "      <th>Education_Num</th>\n",
               "      <th>Martial_Status</th>\n",
               "      <th>Occupation</th>\n",
               "      <th>Relationship</th>\n",
               "      <th>Race</th>\n",
               "      <th>Sex</th>\n",
               "      <th>Capital_Gain</th>\n",
               "      <th>Capital_Loss</th>\n",
               "      <th>Hours_per_week</th>\n",
               "      <th>Country</th>\n",
               "      <th>Target</th>\n",
               "    </tr>\n",
               "  </thead>\n",
               "  <tbody>\n",
               "    <tr>\n",
               "      <th>32556</th>\n",
               "      <td>27</td>\n",
               "      <td>Private</td>\n",
               "      <td>257302</td>\n",
               "      <td>Assoc-acdm</td>\n",
               "      <td>12</td>\n",
               "      <td>Married-civ-spouse</td>\n",
               "      <td>Tech-support</td>\n",
               "      <td>Wife</td>\n",
               "      <td>White</td>\n",
               "      <td>Female</td>\n",
               "      <td>0</td>\n",
               "      <td>0</td>\n",
               "      <td>38</td>\n",
               "      <td>United-States</td>\n",
               "      <td>&lt;=50K</td>\n",
               "    </tr>\n",
               "    <tr>\n",
               "      <th>32557</th>\n",
               "      <td>40</td>\n",
               "      <td>Private</td>\n",
               "      <td>154374</td>\n",
               "      <td>HS-grad</td>\n",
               "      <td>9</td>\n",
               "      <td>Married-civ-spouse</td>\n",
               "      <td>Machine-op-inspct</td>\n",
               "      <td>Husband</td>\n",
               "      <td>White</td>\n",
               "      <td>Male</td>\n",
               "      <td>0</td>\n",
               "      <td>0</td>\n",
               "      <td>40</td>\n",
               "      <td>United-States</td>\n",
               "      <td>&gt;50K</td>\n",
               "    </tr>\n",
               "    <tr>\n",
               "      <th>32558</th>\n",
               "      <td>58</td>\n",
               "      <td>Private</td>\n",
               "      <td>151910</td>\n",
               "      <td>HS-grad</td>\n",
               "      <td>9</td>\n",
               "      <td>Widowed</td>\n",
               "      <td>Adm-clerical</td>\n",
               "      <td>Unmarried</td>\n",
               "      <td>White</td>\n",
               "      <td>Female</td>\n",
               "      <td>0</td>\n",
               "      <td>0</td>\n",
               "      <td>40</td>\n",
               "      <td>United-States</td>\n",
               "      <td>&lt;=50K</td>\n",
               "    </tr>\n",
               "    <tr>\n",
               "      <th>32559</th>\n",
               "      <td>22</td>\n",
               "      <td>Private</td>\n",
               "      <td>201490</td>\n",
               "      <td>HS-grad</td>\n",
               "      <td>9</td>\n",
               "      <td>Never-married</td>\n",
               "      <td>Adm-clerical</td>\n",
               "      <td>Own-child</td>\n",
               "      <td>White</td>\n",
               "      <td>Male</td>\n",
               "      <td>0</td>\n",
               "      <td>0</td>\n",
               "      <td>20</td>\n",
               "      <td>United-States</td>\n",
               "      <td>&lt;=50K</td>\n",
               "    </tr>\n",
               "    <tr>\n",
               "      <th>32560</th>\n",
               "      <td>52</td>\n",
               "      <td>Self-emp-inc</td>\n",
               "      <td>287927</td>\n",
               "      <td>HS-grad</td>\n",
               "      <td>9</td>\n",
               "      <td>Married-civ-spouse</td>\n",
               "      <td>Exec-managerial</td>\n",
               "      <td>Wife</td>\n",
               "      <td>White</td>\n",
               "      <td>Female</td>\n",
               "      <td>15024</td>\n",
               "      <td>0</td>\n",
               "      <td>40</td>\n",
               "      <td>United-States</td>\n",
               "      <td>&gt;50K</td>\n",
               "    </tr>\n",
               "  </tbody>\n",
               "</table>\n",
               "</div>"
            ],
            "text/plain":[
               "       Age      Workclass  fnlwgt    Education  Education_Num  \\\n",
               "32556   27        Private  257302   Assoc-acdm             12   \n",
               "32557   40        Private  154374      HS-grad              9   \n",
               "32558   58        Private  151910      HS-grad              9   \n",
               "32559   22        Private  201490      HS-grad              9   \n",
               "32560   52   Self-emp-inc  287927      HS-grad              9   \n",
               "\n",
               "            Martial_Status          Occupation Relationship    Race      Sex  \\\n",
               "32556   Married-civ-spouse        Tech-support         Wife   White   Female   \n",
               "32557   Married-civ-spouse   Machine-op-inspct      Husband   White     Male   \n",
               "32558              Widowed        Adm-clerical    Unmarried   White   Female   \n",
               "32559        Never-married        Adm-clerical    Own-child   White     Male   \n",
               "32560   Married-civ-spouse     Exec-managerial         Wife   White   Female   \n",
               "\n",
               "       Capital_Gain  Capital_Loss  Hours_per_week         Country  Target  \n",
               "32556             0             0              38   United-States   <=50K  \n",
               "32557             0             0              40   United-States    >50K  \n",
               "32558             0             0              40   United-States   <=50K  \n",
               "32559             0             0              20   United-States   <=50K  \n",
               "32560         15024             0              40   United-States    >50K  "
            ]
         },
         "execution_count":24,
         "metadata":{

         },
         "output_type":"execute_result"
      }
   ],
   "source":[
      "data_train.tail()"
   ]
},
{
   "cell_type":"code",
   "execution_count":25,
   "metadata":{

   },
   "outputs":[

   ],
   "source":[
      "data_test = pd.read_csv('https://raw.githubusercontent.com/Yorko/mlcourse.ai/master/data/adult_test.csv', sep=';') "
   ]
},
{
   "cell_type":"code",
   "execution_count":26,
   "metadata":{

   },
   "outputs":[
      {
         "data":{
            "text/html":[
               "<div>\n",
               "<style scoped>\n",
               "    .dataframe tbody tr th:only-of-type {\n",
               "        vertical-align: middle;\n",
               "    }\n",
               "\n",
               "    .dataframe tbody tr th {\n",
               "        vertical-align: top;\n",
               "    }\n",
               "\n",
               "    .dataframe thead th {\n",
               "        text-align: right;\n",
               "    }\n",
               "</style>\n",
               "<table border=\"1\" class=\"dataframe\">\n",
               "  <thead>\n",
               "    <tr style=\"text-align: right;\">\n",
               "      <th></th>\n",
               "      <th>Age</th>\n",
               "      <th>Workclass</th>\n",
               "      <th>fnlwgt</th>\n",
               "      <th>Education</th>\n",
               "      <th>Education_Num</th>\n",
               "      <th>Martial_Status</th>\n",
               "      <th>Occupation</th>\n",
               "      <th>Relationship</th>\n",
               "      <th>Race</th>\n",
               "      <th>Sex</th>\n",
               "      <th>Capital_Gain</th>\n",
               "      <th>Capital_Loss</th>\n",
               "      <th>Hours_per_week</th>\n",
               "      <th>Country</th>\n",
               "      <th>Target</th>\n",
               "    </tr>\n",
               "  </thead>\n",
               "  <tbody>\n",
               "    <tr>\n",
               "      <th>16277</th>\n",
               "      <td>39</td>\n",
               "      <td>Private</td>\n",
               "      <td>215419.0</td>\n",
               "      <td>Bachelors</td>\n",
               "      <td>13.0</td>\n",
               "      <td>Divorced</td>\n",
               "      <td>Prof-specialty</td>\n",
               "      <td>Not-in-family</td>\n",
               "      <td>White</td>\n",
               "      <td>Female</td>\n",
               "      <td>0.0</td>\n",
               "      <td>0.0</td>\n",
               "      <td>36.0</td>\n",
               "      <td>United-States</td>\n",
               "      <td>&lt;=50K.</td>\n",
               "    </tr>\n",
               "    <tr>\n",
               "      <th>16278</th>\n",
               "      <td>64</td>\n",
               "      <td>NaN</td>\n",
               "      <td>321403.0</td>\n",
               "      <td>HS-grad</td>\n",
               "      <td>9.0</td>\n",
               "      <td>Widowed</td>\n",
               "      <td>NaN</td>\n",
               "      <td>Other-relative</td>\n",
               "      <td>Black</td>\n",
               "      <td>Male</td>\n",
               "      <td>0.0</td>\n",
               "      <td>0.0</td>\n",
               "      <td>40.0</td>\n",
               "      <td>United-States</td>\n",
               "      <td>&lt;=50K.</td>\n",
               "    </tr>\n",
               "    <tr>\n",
               "      <th>16279</th>\n",
               "      <td>38</td>\n",
               "      <td>Private</td>\n",
               "      <td>374983.0</td>\n",
               "      <td>Bachelors</td>\n",
               "      <td>13.0</td>\n",
               "      <td>Married-civ-spouse</td>\n",
               "      <td>Prof-specialty</td>\n",
               "      <td>Husband</td>\n",
               "      <td>White</td>\n",
               "      <td>Male</td>\n",
               "      <td>0.0</td>\n",
               "      <td>0.0</td>\n",
               "      <td>50.0</td>\n",
               "      <td>United-States</td>\n",
               "      <td>&lt;=50K.</td>\n",
               "    </tr>\n",
               "    <tr>\n",
               "      <th>16280</th>\n",
               "      <td>44</td>\n",
               "      <td>Private</td>\n",
               "      <td>83891.0</td>\n",
               "      <td>Bachelors</td>\n",
               "      <td>13.0</td>\n",
               "      <td>Divorced</td>\n",
               "      <td>Adm-clerical</td>\n",
               "      <td>Own-child</td>\n",
               "      <td>Asian-Pac-Islander</td>\n",
               "      <td>Male</td>\n",
               "      <td>5455.0</td>\n",
               "      <td>0.0</td>\n",
               "      <td>40.0</td>\n",
               "      <td>United-States</td>\n",
               "      <td>&lt;=50K.</td>\n",
               "    </tr>\n",
               "    <tr>\n",
               "      <th>16281</th>\n",
               "      <td>35</td>\n",
               "      <td>Self-emp-inc</td>\n",
               "      <td>182148.0</td>\n",
               "      <td>Bachelors</td>\n",
               "      <td>13.0</td>\n",
               "      <td>Married-civ-spouse</td>\n",
               "      <td>Exec-managerial</td>\n",
               "      <td>Husband</td>\n",
               "      <td>White</td>\n",
               "      <td>Male</td>\n",
               "      <td>0.0</td>\n",
               "      <td>0.0</td>\n",
               "      <td>60.0</td>\n",
               "      <td>United-States</td>\n",
               "      <td>&gt;50K.</td>\n",
               "    </tr>\n",
               "  </tbody>\n",
               "</table>\n",
               "</div>"
            ],
            "text/plain":[
               "      Age      Workclass    fnlwgt   Education  Education_Num  \\\n",
               "16277  39        Private  215419.0   Bachelors           13.0   \n",
               "16278  64            NaN  321403.0     HS-grad            9.0   \n",
               "16279  38        Private  374983.0   Bachelors           13.0   \n",
               "16280  44        Private   83891.0   Bachelors           13.0   \n",
               "16281  35   Self-emp-inc  182148.0   Bachelors           13.0   \n",
               "\n",
               "            Martial_Status        Occupation     Relationship  \\\n",
               "16277             Divorced    Prof-specialty    Not-in-family   \n",
               "16278              Widowed               NaN   Other-relative   \n",
               "16279   Married-civ-spouse    Prof-specialty          Husband   \n",
               "16280             Divorced      Adm-clerical        Own-child   \n",
               "16281   Married-civ-spouse   Exec-managerial          Husband   \n",
               "\n",
               "                      Race      Sex  Capital_Gain  Capital_Loss  \\\n",
               "16277                White   Female           0.0           0.0   \n",
               "16278                Black     Male           0.0           0.0   \n",
               "16279                White     Male           0.0           0.0   \n",
               "16280   Asian-Pac-Islander     Male        5455.0           0.0   \n",
               "16281                White     Male           0.0           0.0   \n",
               "\n",
               "       Hours_per_week         Country   Target  \n",
               "16277            36.0   United-States   <=50K.  \n",
               "16278            40.0   United-States   <=50K.  \n",
               "16279            50.0   United-States   <=50K.  \n",
               "16280            40.0   United-States   <=50K.  \n",
               "16281            60.0   United-States    >50K.  "
            ]
         },
         "execution_count":26,
         "metadata":{

         },
         "output_type":"execute_result"
      }
   ],
   "source":[
      "data_test.tail()"
   ]
},
{
   "cell_type":"code",
   "execution_count":27,
   "metadata":{

   },
   "outputs":[

   ],
   "source":[
      "# необходимо убрать строки с неправильными метками в тестовой выборке\n",
      "data_test = data_test[(data_test['Target'] == ' >50K.') \n",
      "                      | (data_test['Target']==' <=50K.')]\n",
      "\n",
      "# перекодируем target в числовое поле\n",
      "data_train.at[data_train['Target'] == ' <=50K', 'Target'] = 0\n",
      "data_train.at[data_train['Target'] == ' >50K', 'Target'] = 1\n",
      "\n",
      "data_test.at[data_test['Target'] == ' <=50K.', 'Target'] = 0\n",
      "data_test.at[data_test['Target'] == ' >50K.', 'Target'] = 1"
   ]
},
{
   "cell_type":"markdown",
   "metadata":{

   },
   "source":[
      "**Первичный анализ данных.**"
   ]
},
{
   "cell_type":"code",
   "execution_count":28,
   "metadata":{

   },
   "outputs":[
      {
         "data":{
            "text/html":[
               "<div>\n",
               "<style scoped>\n",
               "    .dataframe tbody tr th:only-of-type {\n",
               "        vertical-align: middle;\n",
               "    }\n",
               "\n",
               "    .dataframe tbody tr th {\n",
               "        vertical-align: top;\n",
               "    }\n",
               "\n",
               "    .dataframe thead th {\n",
               "        text-align: right;\n",
               "    }\n",
               "</style>\n",
               "<table border=\"1\" class=\"dataframe\">\n",
               "  <thead>\n",
               "    <tr style=\"text-align: right;\">\n",
               "      <th></th>\n",
               "      <th>count</th>\n",
               "      <th>unique</th>\n",
               "      <th>top</th>\n",
               "      <th>freq</th>\n",
               "      <th>mean</th>\n",
               "      <th>std</th>\n",
               "      <th>min</th>\n",
               "      <th>25%</th>\n",
               "      <th>50%</th>\n",
               "      <th>75%</th>\n",
               "      <th>max</th>\n",
               "    </tr>\n",
               "  </thead>\n",
               "  <tbody>\n",
               "    <tr>\n",
               "      <th>Age</th>\n",
               "      <td>16281</td>\n",
               "      <td>73</td>\n",
               "      <td>35</td>\n",
               "      <td>461</td>\n",
               "      <td>NaN</td>\n",
               "      <td>NaN</td>\n",
               "      <td>NaN</td>\n",
               "      <td>NaN</td>\n",
               "      <td>NaN</td>\n",
               "      <td>NaN</td>\n",
               "      <td>NaN</td>\n",
               "    </tr>\n",
               "    <tr>\n",
               "      <th>Workclass</th>\n",
               "      <td>15318</td>\n",
               "      <td>8</td>\n",
               "      <td>Private</td>\n",
               "      <td>11210</td>\n",
               "      <td>NaN</td>\n",
               "      <td>NaN</td>\n",
               "      <td>NaN</td>\n",
               "      <td>NaN</td>\n",
               "      <td>NaN</td>\n",
               "      <td>NaN</td>\n",
               "      <td>NaN</td>\n",
               "    </tr>\n",
               "    <tr>\n",
               "      <th>fnlwgt</th>\n",
               "      <td>16281</td>\n",
               "      <td>NaN</td>\n",
               "      <td>NaN</td>\n",
               "      <td>NaN</td>\n",
               "      <td>189436</td>\n",
               "      <td>105715</td>\n",
               "      <td>13492</td>\n",
               "      <td>116736</td>\n",
               "      <td>177831</td>\n",
               "      <td>238384</td>\n",
               "      <td>1.4904e+06</td>\n",
               "    </tr>\n",
               "    <tr>\n",
               "      <th>Education</th>\n",
               "      <td>16281</td>\n",
               "      <td>16</td>\n",
               "      <td>HS-grad</td>\n",
               "      <td>5283</td>\n",
               "      <td>NaN</td>\n",
               "      <td>NaN</td>\n",
               "      <td>NaN</td>\n",
               "      <td>NaN</td>\n",
               "      <td>NaN</td>\n",
               "      <td>NaN</td>\n",
               "      <td>NaN</td>\n",
               "    </tr>\n",
               "    <tr>\n",
               "      <th>Education_Num</th>\n",
               "      <td>16281</td>\n",
               "      <td>NaN</td>\n",
               "      <td>NaN</td>\n",
               "      <td>NaN</td>\n",
               "      <td>10.0729</td>\n",
               "      <td>2.56755</td>\n",
               "      <td>1</td>\n",
               "      <td>9</td>\n",
               "      <td>10</td>\n",
               "      <td>12</td>\n",
               "      <td>16</td>\n",
               "    </tr>\n",
               "    <tr>\n",
               "      <th>Martial_Status</th>\n",
               "      <td>16281</td>\n",
               "      <td>7</td>\n",
               "      <td>Married-civ-spouse</td>\n",
               "      <td>7403</td>\n",
               "      <td>NaN</td>\n",
               "      <td>NaN</td>\n",
               "      <td>NaN</td>\n",
               "      <td>NaN</td>\n",
               "      <td>NaN</td>\n",
               "      <td>NaN</td>\n",
               "      <td>NaN</td>\n",
               "    </tr>\n",
               "    <tr>\n",
               "      <th>Occupation</th>\n",
               "      <td>15315</td>\n",
               "      <td>14</td>\n",
               "      <td>Prof-specialty</td>\n",
               "      <td>2032</td>\n",
               "      <td>NaN</td>\n",
               "      <td>NaN</td>\n",
               "      <td>NaN</td>\n",
               "      <td>NaN</td>\n",
               "      <td>NaN</td>\n",
               "      <td>NaN</td>\n",
               "      <td>NaN</td>\n",
               "    </tr>\n",
               "    <tr>\n",
               "      <th>Relationship</th>\n",
               "      <td>16281</td>\n",
               "      <td>6</td>\n",
               "      <td>Husband</td>\n",
               "      <td>6523</td>\n",
               "      <td>NaN</td>\n",
               "      <td>NaN</td>\n",
               "      <td>NaN</td>\n",
               "      <td>NaN</td>\n",
               "      <td>NaN</td>\n",
               "      <td>NaN</td>\n",
               "      <td>NaN</td>\n",
               "    </tr>\n",
               "    <tr>\n",
               "      <th>Race</th>\n",
               "      <td>16281</td>\n",
               "      <td>5</td>\n",
               "      <td>White</td>\n",
               "      <td>13946</td>\n",
               "      <td>NaN</td>\n",
               "      <td>NaN</td>\n",
               "      <td>NaN</td>\n",
               "      <td>NaN</td>\n",
               "      <td>NaN</td>\n",
               "      <td>NaN</td>\n",
               "      <td>NaN</td>\n",
               "    </tr>\n",
               "    <tr>\n",
               "      <th>Sex</th>\n",
               "      <td>16281</td>\n",
               "      <td>2</td>\n",
               "      <td>Male</td>\n",
               "      <td>10860</td>\n",
               "      <td>NaN</td>\n",
               "      <td>NaN</td>\n",
               "      <td>NaN</td>\n",
               "      <td>NaN</td>\n",
               "      <td>NaN</td>\n",
               "      <td>NaN</td>\n",
               "      <td>NaN</td>\n",
               "    </tr>\n",
               "    <tr>\n",
               "      <th>Capital_Gain</th>\n",
               "      <td>16281</td>\n",
               "      <td>NaN</td>\n",
               "      <td>NaN</td>\n",
               "      <td>NaN</td>\n",
               "      <td>1081.91</td>\n",
               "      <td>7583.94</td>\n",
               "      <td>0</td>\n",
               "      <td>0</td>\n",
               "      <td>0</td>\n",
               "      <td>0</td>\n",
               "      <td>99999</td>\n",
               "    </tr>\n",
               "    <tr>\n",
               "      <th>Capital_Loss</th>\n",
               "      <td>16281</td>\n",
               "      <td>NaN</td>\n",
               "      <td>NaN</td>\n",
               "      <td>NaN</td>\n",
               "      <td>87.8993</td>\n",
               "      <td>403.105</td>\n",
               "      <td>0</td>\n",
               "      <td>0</td>\n",
               "      <td>0</td>\n",
               "      <td>0</td>\n",
               "      <td>3770</td>\n",
               "    </tr>\n",
               "    <tr>\n",
               "      <th>Hours_per_week</th>\n",
               "      <td>16281</td>\n",
               "      <td>NaN</td>\n",
               "      <td>NaN</td>\n",
               "      <td>NaN</td>\n",
               "      <td>40.3922</td>\n",
               "      <td>12.4793</td>\n",
               "      <td>1</td>\n",
               "      <td>40</td>\n",
               "      <td>40</td>\n",
               "      <td>45</td>\n",
               "      <td>99</td>\n",
               "    </tr>\n",
               "    <tr>\n",
               "      <th>Country</th>\n",
               "      <td>16007</td>\n",
               "      <td>40</td>\n",
               "      <td>United-States</td>\n",
               "      <td>14662</td>\n",
               "      <td>NaN</td>\n",
               "      <td>NaN</td>\n",
               "      <td>NaN</td>\n",
               "      <td>NaN</td>\n",
               "      <td>NaN</td>\n",
               "      <td>NaN</td>\n",
               "      <td>NaN</td>\n",
               "    </tr>\n",
               "    <tr>\n",
               "      <th>Target</th>\n",
               "      <td>16281</td>\n",
               "      <td>NaN</td>\n",
               "      <td>NaN</td>\n",
               "      <td>NaN</td>\n",
               "      <td>0.236226</td>\n",
               "      <td>0.424776</td>\n",
               "      <td>0</td>\n",
               "      <td>0</td>\n",
               "      <td>0</td>\n",
               "      <td>0</td>\n",
               "      <td>1</td>\n",
               "    </tr>\n",
               "  </tbody>\n",
               "</table>\n",
               "</div>"
            ],
            "text/plain":[
               "                count unique                  top   freq      mean       std  \\\n",
               "Age             16281     73                   35    461       NaN       NaN   \n",
               "Workclass       15318      8              Private  11210       NaN       NaN   \n",
               "fnlwgt          16281    NaN                  NaN    NaN    189436    105715   \n",
               "Education       16281     16              HS-grad   5283       NaN       NaN   \n",
               "Education_Num   16281    NaN                  NaN    NaN   10.0729   2.56755   \n",
               "Martial_Status  16281      7   Married-civ-spouse   7403       NaN       NaN   \n",
               "Occupation      15315     14       Prof-specialty   2032       NaN       NaN   \n",
               "Relationship    16281      6              Husband   6523       NaN       NaN   \n",
               "Race            16281      5                White  13946       NaN       NaN   \n",
               "Sex             16281      2                 Male  10860       NaN       NaN   \n",
               "Capital_Gain    16281    NaN                  NaN    NaN   1081.91   7583.94   \n",
               "Capital_Loss    16281    NaN                  NaN    NaN   87.8993   403.105   \n",
               "Hours_per_week  16281    NaN                  NaN    NaN   40.3922   12.4793   \n",
               "Country         16007     40        United-States  14662       NaN       NaN   \n",
               "Target          16281    NaN                  NaN    NaN  0.236226  0.424776   \n",
               "\n",
               "                  min     25%     50%     75%         max  \n",
               "Age               NaN     NaN     NaN     NaN         NaN  \n",
               "Workclass         NaN     NaN     NaN     NaN         NaN  \n",
               "fnlwgt          13492  116736  177831  238384  1.4904e+06  \n",
               "Education         NaN     NaN     NaN     NaN         NaN  \n",
               "Education_Num       1       9      10      12          16  \n",
               "Martial_Status    NaN     NaN     NaN     NaN         NaN  \n",
               "Occupation        NaN     NaN     NaN     NaN         NaN  \n",
               "Relationship      NaN     NaN     NaN     NaN         NaN  \n",
               "Race              NaN     NaN     NaN     NaN         NaN  \n",
               "Sex               NaN     NaN     NaN     NaN         NaN  \n",
               "Capital_Gain        0       0       0       0       99999  \n",
               "Capital_Loss        0       0       0       0        3770  \n",
               "Hours_per_week      1      40      40      45          99  \n",
               "Country           NaN     NaN     NaN     NaN         NaN  \n",
               "Target              0       0       0       0           1  "
            ]
         },
         "execution_count":28,
         "metadata":{

         },
         "output_type":"execute_result"
      }
   ],
   "source":[
      "data_test.describe(include='all').T"
   ]
},
{
   "cell_type":"code",
   "execution_count":29,
   "metadata":{

   },
   "outputs":[
      {
         "data":{
            "text/plain":[
               "0    24720\n",
               "1     7841\n",
               "Name: Target, dtype: int64"
            ]
         },
         "execution_count":29,
         "metadata":{

         },
         "output_type":"execute_result"
      }
   ],
   "source":[
      "data_train['Target'].value_counts()"
   ]
},
{
   "cell_type":"code",
   "execution_count":30,
   "metadata":{

   },
   "outputs":[
      {
         "data":{
            "image/png":"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\n",
            "text/plain":[
               "<Figure size 1800x1800 with 15 Axes>"
            ]
         },
         "metadata":{
            "needs_background":"light"
         },
         "output_type":"display_data"
      }
   ],
   "source":[
      "fig = plt.figure(figsize=(25, 25))\n",
      "cols = 3\n",
      "rows = np.ceil(float(data_train.shape[1]) / cols)\n",
      "for i, column in enumerate(data_train.columns):\n",
      "    ax = fig.add_subplot(rows, cols, i + 1)\n",
      "    ax.set_title(column)\n",
      "    if data_train.dtypes[column] == np.object:\n",
      "        data_train[column].value_counts().plot(kind=\"bar\", axes=ax)\n",
      "    else:\n",
      "        data_train[column].hist(axes=ax)\n",
      "        plt.xticks(rotation=\"vertical\")\n",
      "plt.subplots_adjust(hspace=0.7, wspace=0.2)"
   ]
},
{
   "cell_type":"markdown",
   "metadata":{

   },
   "source":[
      "**Проверяем типы данных**"
   ]
},
{
   "cell_type":"code",
   "execution_count":31,
   "metadata":{

   },
   "outputs":[
      {
         "data":{
            "text/plain":[
               "Age                int64\n",
               "Workclass         object\n",
               "fnlwgt             int64\n",
               "Education         object\n",
               "Education_Num      int64\n",
               "Martial_Status    object\n",
               "Occupation        object\n",
               "Relationship      object\n",
               "Race              object\n",
               "Sex               object\n",
               "Capital_Gain       int64\n",
               "Capital_Loss       int64\n",
               "Hours_per_week     int64\n",
               "Country           object\n",
               "Target             int64\n",
               "dtype: object"
            ]
         },
         "execution_count":31,
         "metadata":{

         },
         "output_type":"execute_result"
      }
   ],
   "source":[
      "data_train.dtypes"
   ]
},
{
   "cell_type":"code",
   "execution_count":32,
   "metadata":{

   },
   "outputs":[
      {
         "data":{
            "text/plain":[
               "Age                object\n",
               "Workclass          object\n",
               "fnlwgt            float64\n",
               "Education          object\n",
               "Education_Num     float64\n",
               "Martial_Status     object\n",
               "Occupation         object\n",
               "Relationship       object\n",
               "Race               object\n",
               "Sex                object\n",
               "Capital_Gain      float64\n",
               "Capital_Loss      float64\n",
               "Hours_per_week    float64\n",
               "Country            object\n",
               "Target              int64\n",
               "dtype: object"
            ]
         },
         "execution_count":32,
         "metadata":{

         },
         "output_type":"execute_result"
      }
   ],
   "source":[
      "data_test.dtypes"
   ]
},
{
   "cell_type":"markdown",
   "metadata":{

   },
   "source":[
      "Выяснилось, что в тесте возраст отнесен к типу object, необходимо это исправить."
   ]
},
{
   "cell_type":"code",
   "execution_count":33,
   "metadata":{

   },
   "outputs":[

   ],
   "source":[
      "data_test['Age'] = data_test['Age'].astype(int)"
   ]
},
{
   "cell_type":"markdown",
   "metadata":{

   },
   "source":[
      "Также приведем показатели типа float в int для соответствия train и test выборок."
   ]
},
{
   "cell_type":"code",
   "execution_count":34,
   "metadata":{

   },
   "outputs":[

   ],
   "source":[
      "data_test['fnlwgt'] = data_test['fnlwgt'].astype(int)\n",
      "data_test['Education_Num'] = data_test['Education_Num'].astype(int)\n",
      "data_test['Capital_Gain'] = data_test['Capital_Gain'].astype(int)\n",
      "data_test['Capital_Loss'] = data_test['Capital_Loss'].astype(int)\n",
      "data_test['Hours_per_week'] = data_test['Hours_per_week'].astype(int)"
   ]
},
{
   "cell_type":"markdown",
   "metadata":{

   },
   "source":[
      "**Заполним пропуски в количественных полях медианными значениями, а в категориальных – наиболее часто встречающимся значением**"
   ]
},
{
   "cell_type":"code",
   "execution_count":35,
   "metadata":{

   },
   "outputs":[
      {
         "name":"stdout",
         "output_type":"stream",
         "text":[
            "categorical_columns_test: ['Workclass', 'Education', 'Martial_Status', 'Occupation', 'Relationship', 'Race', 'Sex', 'Country']\n",
            "categorical_columns_train: ['Workclass', 'Education', 'Martial_Status', 'Occupation', 'Relationship', 'Race', 'Sex', 'Country']\n",
            "numerical_columns_test: ['Age', 'fnlwgt', 'Education_Num', 'Capital_Gain', 'Capital_Loss', 'Hours_per_week', 'Target']\n",
            "numerical_columns_train: ['Age', 'fnlwgt', 'Education_Num', 'Capital_Gain', 'Capital_Loss', 'Hours_per_week', 'Target']\n"
         ]
      }
   ],
   "source":[
      "# выделим в выборках категориальные и числовые поля\n",
      "\n",
      "categorical_columns_train = [c for c in data_train.columns \n",
      "                             if data_train[c].dtype.name == 'object']\n",
      "numerical_columns_train = [c for c in data_train.columns \n",
      "                           if data_train[c].dtype.name != 'object']\n",
      "\n",
      "categorical_columns_test = [c for c in data_test.columns \n",
      "                            if data_test[c].dtype.name == 'object']\n",
      "numerical_columns_test = [c for c in data_test.columns \n",
      "                          if data_test[c].dtype.name != 'object']\n",
      "\n",
      "print('categorical_columns_test:', categorical_columns_test)\n",
      "print('categorical_columns_train:', categorical_columns_train)\n",
      "print('numerical_columns_test:', numerical_columns_test)\n",
      "print('numerical_columns_train:', numerical_columns_train)"
   ]
},
{
   "cell_type":"code",
   "execution_count":36,
   "metadata":{

   },
   "outputs":[

   ],
   "source":[
      "# заполним пропуски\n",
      "\n",
      "for c in categorical_columns_train:\n",
      "    data_train[c] = data_train[c].fillna(data_train[c].mode())\n",
      "for c in categorical_columns_test:\n",
      "    data_test[c] = data_test[c].fillna(data_train[c].mode())\n",
      "    \n",
      "for c in numerical_columns_train:\n",
      "    data_train[c] = data_train[c].fillna(data_train[c].median())\n",
      "for c in numerical_columns_test:\n",
      "    data_test[c] = data_test[c].fillna(data_train[c].median())    "
   ]
},
{
   "cell_type":"markdown",
   "metadata":{

   },
   "source":[
      "**Кодируем категориальные признаки 'Workclass', 'Education', 'Martial_Status', 'Occupation', 'Relationship', 'Race', 'Sex', 'Country'. Это можно сделать с помощью метода `pandas get_dummies`.**"
   ]
},
{
   "cell_type":"code",
   "execution_count":37,
   "metadata":{

   },
   "outputs":[

   ],
   "source":[
      "data_train = pd.concat([data_train, pd.get_dummies(data_train['Workclass'], \n",
      "                                                   prefix=\"Workclass\"),\n",
      "                      pd.get_dummies(data_train['Education'], prefix=\"Education\"),\n",
      "                      pd.get_dummies(data_train['Martial_Status'], prefix=\"Martial_Status\"),\n",
      "                      pd.get_dummies(data_train['Occupation'], prefix=\"Occupation\"),\n",
      "                      pd.get_dummies(data_train['Relationship'], prefix=\"Relationship\"),\n",
      "                      pd.get_dummies(data_train['Race'], prefix=\"Race\"),\n",
      "                      pd.get_dummies(data_train['Sex'], prefix=\"Sex\"),\n",
      "                      pd.get_dummies(data_train['Country'], prefix=\"Country\")],\n",
      "                     axis=1)\n",
      "\n",
      "data_test = pd.concat([data_test, pd.get_dummies(data_test['Workclass'], prefix=\"Workclass\"),\n",
      "                      pd.get_dummies(data_test['Education'], prefix=\"Education\"),\n",
      "                      pd.get_dummies(data_test['Martial_Status'], prefix=\"Martial_Status\"),\n",
      "                      pd.get_dummies(data_test['Occupation'], prefix=\"Occupation\"),\n",
      "                      pd.get_dummies(data_test['Relationship'], prefix=\"Relationship\"),\n",
      "                      pd.get_dummies(data_test['Race'], prefix=\"Race\"),\n",
      "                      pd.get_dummies(data_test['Sex'], prefix=\"Sex\"),\n",
      "                      pd.get_dummies(data_test['Country'], prefix=\"Country\")],\n",
      "                     axis=1)"
   ]
},
{
   "cell_type":"code",
   "execution_count":38,
   "metadata":{

   },
   "outputs":[

   ],
   "source":[
      "data_train.drop(['Workclass', 'Education', 'Martial_Status',\n",
      "                 'Occupation', 'Relationship', 'Race', 'Sex', 'Country'],\n",
      "                axis=1, inplace=True)\n",
      "data_test.drop(['Workclass', 'Education', 'Martial_Status', 'Occupation', \n",
      "                'Relationship', 'Race', 'Sex', 'Country'],\n",
      "               axis=1, inplace=True)"
   ]
},
{
   "cell_type":"code",
   "execution_count":39,
   "metadata":{

   },
   "outputs":[
      {
         "data":{
            "text/html":[
               "<div>\n",
               "<style scoped>\n",
               "    .dataframe tbody tr th:only-of-type {\n",
               "        vertical-align: middle;\n",
               "    }\n",
               "\n",
               "    .dataframe tbody tr th {\n",
               "        vertical-align: top;\n",
               "    }\n",
               "\n",
               "    .dataframe thead th {\n",
               "        text-align: right;\n",
               "    }\n",
               "</style>\n",
               "<table border=\"1\" class=\"dataframe\">\n",
               "  <thead>\n",
               "    <tr style=\"text-align: right;\">\n",
               "      <th></th>\n",
               "      <th>count</th>\n",
               "      <th>mean</th>\n",
               "      <th>std</th>\n",
               "      <th>min</th>\n",
               "      <th>25%</th>\n",
               "      <th>50%</th>\n",
               "      <th>75%</th>\n",
               "      <th>max</th>\n",
               "    </tr>\n",
               "  </thead>\n",
               "  <tbody>\n",
               "    <tr>\n",
               "      <th>Age</th>\n",
               "      <td>16281.0</td>\n",
               "      <td>38.767459</td>\n",
               "      <td>13.849187</td>\n",
               "      <td>17.0</td>\n",
               "      <td>28.0</td>\n",
               "      <td>37.0</td>\n",
               "      <td>48.0</td>\n",
               "      <td>90.0</td>\n",
               "    </tr>\n",
               "    <tr>\n",
               "      <th>fnlwgt</th>\n",
               "      <td>16281.0</td>\n",
               "      <td>189435.677784</td>\n",
               "      <td>105714.907671</td>\n",
               "      <td>13492.0</td>\n",
               "      <td>116736.0</td>\n",
               "      <td>177831.0</td>\n",
               "      <td>238384.0</td>\n",
               "      <td>1490400.0</td>\n",
               "    </tr>\n",
               "    <tr>\n",
               "      <th>Education_Num</th>\n",
               "      <td>16281.0</td>\n",
               "      <td>10.072907</td>\n",
               "      <td>2.567545</td>\n",
               "      <td>1.0</td>\n",
               "      <td>9.0</td>\n",
               "      <td>10.0</td>\n",
               "      <td>12.0</td>\n",
               "      <td>16.0</td>\n",
               "    </tr>\n",
               "    <tr>\n",
               "      <th>Capital_Gain</th>\n",
               "      <td>16281.0</td>\n",
               "      <td>1081.905104</td>\n",
               "      <td>7583.935968</td>\n",
               "      <td>0.0</td>\n",
               "      <td>0.0</td>\n",
               "      <td>0.0</td>\n",
               "      <td>0.0</td>\n",
               "      <td>99999.0</td>\n",
               "    </tr>\n",
               "    <tr>\n",
               "      <th>Capital_Loss</th>\n",
               "      <td>16281.0</td>\n",
               "      <td>87.899269</td>\n",
               "      <td>403.105286</td>\n",
               "      <td>0.0</td>\n",
               "      <td>0.0</td>\n",
               "      <td>0.0</td>\n",
               "      <td>0.0</td>\n",
               "      <td>3770.0</td>\n",
               "    </tr>\n",
               "    <tr>\n",
               "      <th>Hours_per_week</th>\n",
               "      <td>16281.0</td>\n",
               "      <td>40.392236</td>\n",
               "      <td>12.479332</td>\n",
               "      <td>1.0</td>\n",
               "      <td>40.0</td>\n",
               "      <td>40.0</td>\n",
               "      <td>45.0</td>\n",
               "      <td>99.0</td>\n",
               "    </tr>\n",
               "    <tr>\n",
               "      <th>Target</th>\n",
               "      <td>16281.0</td>\n",
               "      <td>0.236226</td>\n",
               "      <td>0.424776</td>\n",
               "      <td>0.0</td>\n",
               "      <td>0.0</td>\n",
               "      <td>0.0</td>\n",
               "      <td>0.0</td>\n",
               "      <td>1.0</td>\n",
               "    </tr>\n",
               "    <tr>\n",
               "      <th>Workclass_ Federal-gov</th>\n",
               "      <td>16281.0</td>\n",
               "      <td>0.028991</td>\n",
               "      <td>0.167786</td>\n",
               "      <td>0.0</td>\n",
               "      <td>0.0</td>\n",
               "      <td>0.0</td>\n",
               "      <td>0.0</td>\n",
               "      <td>1.0</td>\n",
               "    </tr>\n",
               "    <tr>\n",
               "      <th>Workclass_ Local-gov</th>\n",
               "      <td>16281.0</td>\n",
               "      <td>0.064062</td>\n",
               "      <td>0.244872</td>\n",
               "      <td>0.0</td>\n",
               "      <td>0.0</td>\n",
               "      <td>0.0</td>\n",
               "      <td>0.0</td>\n",
               "      <td>1.0</td>\n",
               "    </tr>\n",
               "    <tr>\n",
               "      <th>Workclass_ Never-worked</th>\n",
               "      <td>16281.0</td>\n",
               "      <td>0.000184</td>\n",
               "      <td>0.013574</td>\n",
               "      <td>0.0</td>\n",
               "      <td>0.0</td>\n",
               "      <td>0.0</td>\n",
               "      <td>0.0</td>\n",
               "      <td>1.0</td>\n",
               "    </tr>\n",
               "    <tr>\n",
               "      <th>Workclass_ Private</th>\n",
               "      <td>16281.0</td>\n",
               "      <td>0.688533</td>\n",
               "      <td>0.463108</td>\n",
               "      <td>0.0</td>\n",
               "      <td>0.0</td>\n",
               "      <td>1.0</td>\n",
               "      <td>1.0</td>\n",
               "      <td>1.0</td>\n",
               "    </tr>\n",
               "    <tr>\n",
               "      <th>Workclass_ Self-emp-inc</th>\n",
               "      <td>16281.0</td>\n",
               "      <td>0.035563</td>\n",
               "      <td>0.185203</td>\n",
               "      <td>0.0</td>\n",
               "      <td>0.0</td>\n",
               "      <td>0.0</td>\n",
               "      <td>0.0</td>\n",
               "      <td>1.0</td>\n",
               "    </tr>\n",
               "    <tr>\n",
               "      <th>Workclass_ Self-emp-not-inc</th>\n",
               "      <td>16281.0</td>\n",
               "      <td>0.081138</td>\n",
               "      <td>0.273055</td>\n",
               "      <td>0.0</td>\n",
               "      <td>0.0</td>\n",
               "      <td>0.0</td>\n",
               "      <td>0.0</td>\n",
               "      <td>1.0</td>\n",
               "    </tr>\n",
               "    <tr>\n",
               "      <th>Workclass_ State-gov</th>\n",
               "      <td>16281.0</td>\n",
               "      <td>0.041951</td>\n",
               "      <td>0.200483</td>\n",
               "      <td>0.0</td>\n",
               "      <td>0.0</td>\n",
               "      <td>0.0</td>\n",
               "      <td>0.0</td>\n",
               "      <td>1.0</td>\n",
               "    </tr>\n",
               "    <tr>\n",
               "      <th>Workclass_ Without-pay</th>\n",
               "      <td>16281.0</td>\n",
               "      <td>0.000430</td>\n",
               "      <td>0.020731</td>\n",
               "      <td>0.0</td>\n",
               "      <td>0.0</td>\n",
               "      <td>0.0</td>\n",
               "      <td>0.0</td>\n",
               "      <td>1.0</td>\n",
               "    </tr>\n",
               "    <tr>\n",
               "      <th>Education_ 10th</th>\n",
               "      <td>16281.0</td>\n",
               "      <td>0.028008</td>\n",
               "      <td>0.165001</td>\n",
               "      <td>0.0</td>\n",
               "      <td>0.0</td>\n",
               "      <td>0.0</td>\n",
               "      <td>0.0</td>\n",
               "      <td>1.0</td>\n",
               "    </tr>\n",
               "    <tr>\n",
               "      <th>Education_ 11th</th>\n",
               "      <td>16281.0</td>\n",
               "      <td>0.039125</td>\n",
               "      <td>0.193899</td>\n",
               "      <td>0.0</td>\n",
               "      <td>0.0</td>\n",
               "      <td>0.0</td>\n",
               "      <td>0.0</td>\n",
               "      <td>1.0</td>\n",
               "    </tr>\n",
               "    <tr>\n",
               "      <th>Education_ 12th</th>\n",
               "      <td>16281.0</td>\n",
               "      <td>0.013758</td>\n",
               "      <td>0.116490</td>\n",
               "      <td>0.0</td>\n",
               "      <td>0.0</td>\n",
               "      <td>0.0</td>\n",
               "      <td>0.0</td>\n",
               "      <td>1.0</td>\n",
               "    </tr>\n",
               "    <tr>\n",
               "      <th>Education_ 1st-4th</th>\n",
               "      <td>16281.0</td>\n",
               "      <td>0.004852</td>\n",
               "      <td>0.069491</td>\n",
               "      <td>0.0</td>\n",
               "      <td>0.0</td>\n",
               "      <td>0.0</td>\n",
               "      <td>0.0</td>\n",
               "      <td>1.0</td>\n",
               "    </tr>\n",
               "    <tr>\n",
               "      <th>Education_ 5th-6th</th>\n",
               "      <td>16281.0</td>\n",
               "      <td>0.010810</td>\n",
               "      <td>0.103412</td>\n",
               "      <td>0.0</td>\n",
               "      <td>0.0</td>\n",
               "      <td>0.0</td>\n",
               "      <td>0.0</td>\n",
               "      <td>1.0</td>\n",
               "    </tr>\n",
               "    <tr>\n",
               "      <th>Education_ 7th-8th</th>\n",
               "      <td>16281.0</td>\n",
               "      <td>0.018979</td>\n",
               "      <td>0.136456</td>\n",
               "      <td>0.0</td>\n",
               "      <td>0.0</td>\n",
               "      <td>0.0</td>\n",
               "      <td>0.0</td>\n",
               "      <td>1.0</td>\n",
               "    </tr>\n",
               "    <tr>\n",
               "      <th>Education_ 9th</th>\n",
               "      <td>16281.0</td>\n",
               "      <td>0.014864</td>\n",
               "      <td>0.121012</td>\n",
               "      <td>0.0</td>\n",
               "      <td>0.0</td>\n",
               "      <td>0.0</td>\n",
               "      <td>0.0</td>\n",
               "      <td>1.0</td>\n",
               "    </tr>\n",
               "    <tr>\n",
               "      <th>Education_ Assoc-acdm</th>\n",
               "      <td>16281.0</td>\n",
               "      <td>0.032799</td>\n",
               "      <td>0.178116</td>\n",
               "      <td>0.0</td>\n",
               "      <td>0.0</td>\n",
               "      <td>0.0</td>\n",
               "      <td>0.0</td>\n",
               "      <td>1.0</td>\n",
               "    </tr>\n",
               "    <tr>\n",
               "      <th>Education_ Assoc-voc</th>\n",
               "      <td>16281.0</td>\n",
               "      <td>0.041705</td>\n",
               "      <td>0.199920</td>\n",
               "      <td>0.0</td>\n",
               "      <td>0.0</td>\n",
               "      <td>0.0</td>\n",
               "      <td>0.0</td>\n",
               "      <td>1.0</td>\n",
               "    </tr>\n",
               "    <tr>\n",
               "      <th>Education_ Bachelors</th>\n",
               "      <td>16281.0</td>\n",
               "      <td>0.163995</td>\n",
               "      <td>0.370282</td>\n",
               "      <td>0.0</td>\n",
               "      <td>0.0</td>\n",
               "      <td>0.0</td>\n",
               "      <td>0.0</td>\n",
               "      <td>1.0</td>\n",
               "    </tr>\n",
               "    <tr>\n",
               "      <th>Education_ Doctorate</th>\n",
               "      <td>16281.0</td>\n",
               "      <td>0.011117</td>\n",
               "      <td>0.104854</td>\n",
               "      <td>0.0</td>\n",
               "      <td>0.0</td>\n",
               "      <td>0.0</td>\n",
               "      <td>0.0</td>\n",
               "      <td>1.0</td>\n",
               "    </tr>\n",
               "    <tr>\n",
               "      <th>Education_ HS-grad</th>\n",
               "      <td>16281.0</td>\n",
               "      <td>0.324489</td>\n",
               "      <td>0.468198</td>\n",
               "      <td>0.0</td>\n",
               "      <td>0.0</td>\n",
               "      <td>0.0</td>\n",
               "      <td>1.0</td>\n",
               "      <td>1.0</td>\n",
               "    </tr>\n",
               "    <tr>\n",
               "      <th>Education_ Masters</th>\n",
               "      <td>16281.0</td>\n",
               "      <td>0.057367</td>\n",
               "      <td>0.232551</td>\n",
               "      <td>0.0</td>\n",
               "      <td>0.0</td>\n",
               "      <td>0.0</td>\n",
               "      <td>0.0</td>\n",
               "      <td>1.0</td>\n",
               "    </tr>\n",
               "    <tr>\n",
               "      <th>Education_ Preschool</th>\n",
               "      <td>16281.0</td>\n",
               "      <td>0.001965</td>\n",
               "      <td>0.044292</td>\n",
               "      <td>0.0</td>\n",
               "      <td>0.0</td>\n",
               "      <td>0.0</td>\n",
               "      <td>0.0</td>\n",
               "      <td>1.0</td>\n",
               "    </tr>\n",
               "    <tr>\n",
               "      <th>Education_ Prof-school</th>\n",
               "      <td>16281.0</td>\n",
               "      <td>0.015847</td>\n",
               "      <td>0.124886</td>\n",
               "      <td>0.0</td>\n",
               "      <td>0.0</td>\n",
               "      <td>0.0</td>\n",
               "      <td>0.0</td>\n",
               "      <td>1.0</td>\n",
               "    </tr>\n",
               "    <tr>\n",
               "      <th>...</th>\n",
               "      <td>...</td>\n",
               "      <td>...</td>\n",
               "      <td>...</td>\n",
               "      <td>...</td>\n",
               "      <td>...</td>\n",
               "      <td>...</td>\n",
               "      <td>...</td>\n",
               "      <td>...</td>\n",
               "    </tr>\n",
               "    <tr>\n",
               "      <th>Country_ Germany</th>\n",
               "      <td>16281.0</td>\n",
               "      <td>0.004238</td>\n",
               "      <td>0.064964</td>\n",
               "      <td>0.0</td>\n",
               "      <td>0.0</td>\n",
               "      <td>0.0</td>\n",
               "      <td>0.0</td>\n",
               "      <td>1.0</td>\n",
               "    </tr>\n",
               "    <tr>\n",
               "      <th>Country_ Greece</th>\n",
               "      <td>16281.0</td>\n",
               "      <td>0.001228</td>\n",
               "      <td>0.035028</td>\n",
               "      <td>0.0</td>\n",
               "      <td>0.0</td>\n",
               "      <td>0.0</td>\n",
               "      <td>0.0</td>\n",
               "      <td>1.0</td>\n",
               "    </tr>\n",
               "    <tr>\n",
               "      <th>Country_ Guatemala</th>\n",
               "      <td>16281.0</td>\n",
               "      <td>0.001474</td>\n",
               "      <td>0.038367</td>\n",
               "      <td>0.0</td>\n",
               "      <td>0.0</td>\n",
               "      <td>0.0</td>\n",
               "      <td>0.0</td>\n",
               "      <td>1.0</td>\n",
               "    </tr>\n",
               "    <tr>\n",
               "      <th>Country_ Haiti</th>\n",
               "      <td>16281.0</td>\n",
               "      <td>0.001904</td>\n",
               "      <td>0.043595</td>\n",
               "      <td>0.0</td>\n",
               "      <td>0.0</td>\n",
               "      <td>0.0</td>\n",
               "      <td>0.0</td>\n",
               "      <td>1.0</td>\n",
               "    </tr>\n",
               "    <tr>\n",
               "      <th>Country_ Honduras</th>\n",
               "      <td>16281.0</td>\n",
               "      <td>0.000430</td>\n",
               "      <td>0.020731</td>\n",
               "      <td>0.0</td>\n",
               "      <td>0.0</td>\n",
               "      <td>0.0</td>\n",
               "      <td>0.0</td>\n",
               "      <td>1.0</td>\n",
               "    </tr>\n",
               "    <tr>\n",
               "      <th>Country_ Hong</th>\n",
               "      <td>16281.0</td>\n",
               "      <td>0.000614</td>\n",
               "      <td>0.024776</td>\n",
               "      <td>0.0</td>\n",
               "      <td>0.0</td>\n",
               "      <td>0.0</td>\n",
               "      <td>0.0</td>\n",
               "      <td>1.0</td>\n",
               "    </tr>\n",
               "    <tr>\n",
               "      <th>Country_ Hungary</th>\n",
               "      <td>16281.0</td>\n",
               "      <td>0.000369</td>\n",
               "      <td>0.019194</td>\n",
               "      <td>0.0</td>\n",
               "      <td>0.0</td>\n",
               "      <td>0.0</td>\n",
               "      <td>0.0</td>\n",
               "      <td>1.0</td>\n",
               "    </tr>\n",
               "    <tr>\n",
               "      <th>Country_ India</th>\n",
               "      <td>16281.0</td>\n",
               "      <td>0.003132</td>\n",
               "      <td>0.055883</td>\n",
               "      <td>0.0</td>\n",
               "      <td>0.0</td>\n",
               "      <td>0.0</td>\n",
               "      <td>0.0</td>\n",
               "      <td>1.0</td>\n",
               "    </tr>\n",
               "    <tr>\n",
               "      <th>Country_ Iran</th>\n",
               "      <td>16281.0</td>\n",
               "      <td>0.000983</td>\n",
               "      <td>0.031334</td>\n",
               "      <td>0.0</td>\n",
               "      <td>0.0</td>\n",
               "      <td>0.0</td>\n",
               "      <td>0.0</td>\n",
               "      <td>1.0</td>\n",
               "    </tr>\n",
               "    <tr>\n",
               "      <th>Country_ Ireland</th>\n",
               "      <td>16281.0</td>\n",
               "      <td>0.000798</td>\n",
               "      <td>0.028247</td>\n",
               "      <td>0.0</td>\n",
               "      <td>0.0</td>\n",
               "      <td>0.0</td>\n",
               "      <td>0.0</td>\n",
               "      <td>1.0</td>\n",
               "    </tr>\n",
               "    <tr>\n",
               "      <th>Country_ Italy</th>\n",
               "      <td>16281.0</td>\n",
               "      <td>0.001965</td>\n",
               "      <td>0.044292</td>\n",
               "      <td>0.0</td>\n",
               "      <td>0.0</td>\n",
               "      <td>0.0</td>\n",
               "      <td>0.0</td>\n",
               "      <td>1.0</td>\n",
               "    </tr>\n",
               "    <tr>\n",
               "      <th>Country_ Jamaica</th>\n",
               "      <td>16281.0</td>\n",
               "      <td>0.001536</td>\n",
               "      <td>0.039157</td>\n",
               "      <td>0.0</td>\n",
               "      <td>0.0</td>\n",
               "      <td>0.0</td>\n",
               "      <td>0.0</td>\n",
               "      <td>1.0</td>\n",
               "    </tr>\n",
               "    <tr>\n",
               "      <th>Country_ Japan</th>\n",
               "      <td>16281.0</td>\n",
               "      <td>0.001843</td>\n",
               "      <td>0.042888</td>\n",
               "      <td>0.0</td>\n",
               "      <td>0.0</td>\n",
               "      <td>0.0</td>\n",
               "      <td>0.0</td>\n",
               "      <td>1.0</td>\n",
               "    </tr>\n",
               "    <tr>\n",
               "      <th>Country_ Laos</th>\n",
               "      <td>16281.0</td>\n",
               "      <td>0.000307</td>\n",
               "      <td>0.017522</td>\n",
               "      <td>0.0</td>\n",
               "      <td>0.0</td>\n",
               "      <td>0.0</td>\n",
               "      <td>0.0</td>\n",
               "      <td>1.0</td>\n",
               "    </tr>\n",
               "    <tr>\n",
               "      <th>Country_ Mexico</th>\n",
               "      <td>16281.0</td>\n",
               "      <td>0.018918</td>\n",
               "      <td>0.136239</td>\n",
               "      <td>0.0</td>\n",
               "      <td>0.0</td>\n",
               "      <td>0.0</td>\n",
               "      <td>0.0</td>\n",
               "      <td>1.0</td>\n",
               "    </tr>\n",
               "    <tr>\n",
               "      <th>Country_ Nicaragua</th>\n",
               "      <td>16281.0</td>\n",
               "      <td>0.000921</td>\n",
               "      <td>0.030340</td>\n",
               "      <td>0.0</td>\n",
               "      <td>0.0</td>\n",
               "      <td>0.0</td>\n",
               "      <td>0.0</td>\n",
               "      <td>1.0</td>\n",
               "    </tr>\n",
               "    <tr>\n",
               "      <th>Country_ Outlying-US(Guam-USVI-etc)</th>\n",
               "      <td>16281.0</td>\n",
               "      <td>0.000553</td>\n",
               "      <td>0.023506</td>\n",
               "      <td>0.0</td>\n",
               "      <td>0.0</td>\n",
               "      <td>0.0</td>\n",
               "      <td>0.0</td>\n",
               "      <td>1.0</td>\n",
               "    </tr>\n",
               "    <tr>\n",
               "      <th>Country_ Peru</th>\n",
               "      <td>16281.0</td>\n",
               "      <td>0.000921</td>\n",
               "      <td>0.030340</td>\n",
               "      <td>0.0</td>\n",
               "      <td>0.0</td>\n",
               "      <td>0.0</td>\n",
               "      <td>0.0</td>\n",
               "      <td>1.0</td>\n",
               "    </tr>\n",
               "    <tr>\n",
               "      <th>Country_ Philippines</th>\n",
               "      <td>16281.0</td>\n",
               "      <td>0.005958</td>\n",
               "      <td>0.076959</td>\n",
               "      <td>0.0</td>\n",
               "      <td>0.0</td>\n",
               "      <td>0.0</td>\n",
               "      <td>0.0</td>\n",
               "      <td>1.0</td>\n",
               "    </tr>\n",
               "    <tr>\n",
               "      <th>Country_ Poland</th>\n",
               "      <td>16281.0</td>\n",
               "      <td>0.001658</td>\n",
               "      <td>0.040691</td>\n",
               "      <td>0.0</td>\n",
               "      <td>0.0</td>\n",
               "      <td>0.0</td>\n",
               "      <td>0.0</td>\n",
               "      <td>1.0</td>\n",
               "    </tr>\n",
               "    <tr>\n",
               "      <th>Country_ Portugal</th>\n",
               "      <td>16281.0</td>\n",
               "      <td>0.001843</td>\n",
               "      <td>0.042888</td>\n",
               "      <td>0.0</td>\n",
               "      <td>0.0</td>\n",
               "      <td>0.0</td>\n",
               "      <td>0.0</td>\n",
               "      <td>1.0</td>\n",
               "    </tr>\n",
               "    <tr>\n",
               "      <th>Country_ Puerto-Rico</th>\n",
               "      <td>16281.0</td>\n",
               "      <td>0.004299</td>\n",
               "      <td>0.065431</td>\n",
               "      <td>0.0</td>\n",
               "      <td>0.0</td>\n",
               "      <td>0.0</td>\n",
               "      <td>0.0</td>\n",
               "      <td>1.0</td>\n",
               "    </tr>\n",
               "    <tr>\n",
               "      <th>Country_ Scotland</th>\n",
               "      <td>16281.0</td>\n",
               "      <td>0.000553</td>\n",
               "      <td>0.023506</td>\n",
               "      <td>0.0</td>\n",
               "      <td>0.0</td>\n",
               "      <td>0.0</td>\n",
               "      <td>0.0</td>\n",
               "      <td>1.0</td>\n",
               "    </tr>\n",
               "    <tr>\n",
               "      <th>Country_ South</th>\n",
               "      <td>16281.0</td>\n",
               "      <td>0.002150</td>\n",
               "      <td>0.046317</td>\n",
               "      <td>0.0</td>\n",
               "      <td>0.0</td>\n",
               "      <td>0.0</td>\n",
               "      <td>0.0</td>\n",
               "      <td>1.0</td>\n",
               "    </tr>\n",
               "    <tr>\n",
               "      <th>Country_ Taiwan</th>\n",
               "      <td>16281.0</td>\n",
               "      <td>0.000860</td>\n",
               "      <td>0.029312</td>\n",
               "      <td>0.0</td>\n",
               "      <td>0.0</td>\n",
               "      <td>0.0</td>\n",
               "      <td>0.0</td>\n",
               "      <td>1.0</td>\n",
               "    </tr>\n",
               "    <tr>\n",
               "      <th>Country_ Thailand</th>\n",
               "      <td>16281.0</td>\n",
               "      <td>0.000737</td>\n",
               "      <td>0.027140</td>\n",
               "      <td>0.0</td>\n",
               "      <td>0.0</td>\n",
               "      <td>0.0</td>\n",
               "      <td>0.0</td>\n",
               "      <td>1.0</td>\n",
               "    </tr>\n",
               "    <tr>\n",
               "      <th>Country_ Trinadad&amp;Tobago</th>\n",
               "      <td>16281.0</td>\n",
               "      <td>0.000491</td>\n",
               "      <td>0.022162</td>\n",
               "      <td>0.0</td>\n",
               "      <td>0.0</td>\n",
               "      <td>0.0</td>\n",
               "      <td>0.0</td>\n",
               "      <td>1.0</td>\n",
               "    </tr>\n",
               "    <tr>\n",
               "      <th>Country_ United-States</th>\n",
               "      <td>16281.0</td>\n",
               "      <td>0.900559</td>\n",
               "      <td>0.299262</td>\n",
               "      <td>0.0</td>\n",
               "      <td>1.0</td>\n",
               "      <td>1.0</td>\n",
               "      <td>1.0</td>\n",
               "      <td>1.0</td>\n",
               "    </tr>\n",
               "    <tr>\n",
               "      <th>Country_ Vietnam</th>\n",
               "      <td>16281.0</td>\n",
               "      <td>0.001167</td>\n",
               "      <td>0.034143</td>\n",
               "      <td>0.0</td>\n",
               "      <td>0.0</td>\n",
               "      <td>0.0</td>\n",
               "      <td>0.0</td>\n",
               "      <td>1.0</td>\n",
               "    </tr>\n",
               "    <tr>\n",
               "      <th>Country_ Yugoslavia</th>\n",
               "      <td>16281.0</td>\n",
               "      <td>0.000430</td>\n",
               "      <td>0.020731</td>\n",
               "      <td>0.0</td>\n",
               "      <td>0.0</td>\n",
               "      <td>0.0</td>\n",
               "      <td>0.0</td>\n",
               "      <td>1.0</td>\n",
               "    </tr>\n",
               "  </tbody>\n",
               "</table>\n",
               "<p>105 rows × 8 columns</p>\n",
               "</div>"
            ],
            "text/plain":[
               "                                       count           mean            std  \\\n",
               "Age                                  16281.0      38.767459      13.849187   \n",
               "fnlwgt                               16281.0  189435.677784  105714.907671   \n",
               "Education_Num                        16281.0      10.072907       2.567545   \n",
               "Capital_Gain                         16281.0    1081.905104    7583.935968   \n",
               "Capital_Loss                         16281.0      87.899269     403.105286   \n",
               "Hours_per_week                       16281.0      40.392236      12.479332   \n",
               "Target                               16281.0       0.236226       0.424776   \n",
               "Workclass_ Federal-gov               16281.0       0.028991       0.167786   \n",
               "Workclass_ Local-gov                 16281.0       0.064062       0.244872   \n",
               "Workclass_ Never-worked              16281.0       0.000184       0.013574   \n",
               "Workclass_ Private                   16281.0       0.688533       0.463108   \n",
               "Workclass_ Self-emp-inc              16281.0       0.035563       0.185203   \n",
               "Workclass_ Self-emp-not-inc          16281.0       0.081138       0.273055   \n",
               "Workclass_ State-gov                 16281.0       0.041951       0.200483   \n",
               "Workclass_ Without-pay               16281.0       0.000430       0.020731   \n",
               "Education_ 10th                      16281.0       0.028008       0.165001   \n",
               "Education_ 11th                      16281.0       0.039125       0.193899   \n",
               "Education_ 12th                      16281.0       0.013758       0.116490   \n",
               "Education_ 1st-4th                   16281.0       0.004852       0.069491   \n",
               "Education_ 5th-6th                   16281.0       0.010810       0.103412   \n",
               "Education_ 7th-8th                   16281.0       0.018979       0.136456   \n",
               "Education_ 9th                       16281.0       0.014864       0.121012   \n",
               "Education_ Assoc-acdm                16281.0       0.032799       0.178116   \n",
               "Education_ Assoc-voc                 16281.0       0.041705       0.199920   \n",
               "Education_ Bachelors                 16281.0       0.163995       0.370282   \n",
               "Education_ Doctorate                 16281.0       0.011117       0.104854   \n",
               "Education_ HS-grad                   16281.0       0.324489       0.468198   \n",
               "Education_ Masters                   16281.0       0.057367       0.232551   \n",
               "Education_ Preschool                 16281.0       0.001965       0.044292   \n",
               "Education_ Prof-school               16281.0       0.015847       0.124886   \n",
               "...                                      ...            ...            ...   \n",
               "Country_ Germany                     16281.0       0.004238       0.064964   \n",
               "Country_ Greece                      16281.0       0.001228       0.035028   \n",
               "Country_ Guatemala                   16281.0       0.001474       0.038367   \n",
               "Country_ Haiti                       16281.0       0.001904       0.043595   \n",
               "Country_ Honduras                    16281.0       0.000430       0.020731   \n",
               "Country_ Hong                        16281.0       0.000614       0.024776   \n",
               "Country_ Hungary                     16281.0       0.000369       0.019194   \n",
               "Country_ India                       16281.0       0.003132       0.055883   \n",
               "Country_ Iran                        16281.0       0.000983       0.031334   \n",
               "Country_ Ireland                     16281.0       0.000798       0.028247   \n",
               "Country_ Italy                       16281.0       0.001965       0.044292   \n",
               "Country_ Jamaica                     16281.0       0.001536       0.039157   \n",
               "Country_ Japan                       16281.0       0.001843       0.042888   \n",
               "Country_ Laos                        16281.0       0.000307       0.017522   \n",
               "Country_ Mexico                      16281.0       0.018918       0.136239   \n",
               "Country_ Nicaragua                   16281.0       0.000921       0.030340   \n",
               "Country_ Outlying-US(Guam-USVI-etc)  16281.0       0.000553       0.023506   \n",
               "Country_ Peru                        16281.0       0.000921       0.030340   \n",
               "Country_ Philippines                 16281.0       0.005958       0.076959   \n",
               "Country_ Poland                      16281.0       0.001658       0.040691   \n",
               "Country_ Portugal                    16281.0       0.001843       0.042888   \n",
               "Country_ Puerto-Rico                 16281.0       0.004299       0.065431   \n",
               "Country_ Scotland                    16281.0       0.000553       0.023506   \n",
               "Country_ South                       16281.0       0.002150       0.046317   \n",
               "Country_ Taiwan                      16281.0       0.000860       0.029312   \n",
               "Country_ Thailand                    16281.0       0.000737       0.027140   \n",
               "Country_ Trinadad&Tobago             16281.0       0.000491       0.022162   \n",
               "Country_ United-States               16281.0       0.900559       0.299262   \n",
               "Country_ Vietnam                     16281.0       0.001167       0.034143   \n",
               "Country_ Yugoslavia                  16281.0       0.000430       0.020731   \n",
               "\n",
               "                                         min       25%       50%       75%  \\\n",
               "Age                                     17.0      28.0      37.0      48.0   \n",
               "fnlwgt                               13492.0  116736.0  177831.0  238384.0   \n",
               "Education_Num                            1.0       9.0      10.0      12.0   \n",
               "Capital_Gain                             0.0       0.0       0.0       0.0   \n",
               "Capital_Loss                             0.0       0.0       0.0       0.0   \n",
               "Hours_per_week                           1.0      40.0      40.0      45.0   \n",
               "Target                                   0.0       0.0       0.0       0.0   \n",
               "Workclass_ Federal-gov                   0.0       0.0       0.0       0.0   \n",
               "Workclass_ Local-gov                     0.0       0.0       0.0       0.0   \n",
               "Workclass_ Never-worked                  0.0       0.0       0.0       0.0   \n",
               "Workclass_ Private                       0.0       0.0       1.0       1.0   \n",
               "Workclass_ Self-emp-inc                  0.0       0.0       0.0       0.0   \n",
               "Workclass_ Self-emp-not-inc              0.0       0.0       0.0       0.0   \n",
               "Workclass_ State-gov                     0.0       0.0       0.0       0.0   \n",
               "Workclass_ Without-pay                   0.0       0.0       0.0       0.0   \n",
               "Education_ 10th                          0.0       0.0       0.0       0.0   \n",
               "Education_ 11th                          0.0       0.0       0.0       0.0   \n",
               "Education_ 12th                          0.0       0.0       0.0       0.0   \n",
               "Education_ 1st-4th                       0.0       0.0       0.0       0.0   \n",
               "Education_ 5th-6th                       0.0       0.0       0.0       0.0   \n",
               "Education_ 7th-8th                       0.0       0.0       0.0       0.0   \n",
               "Education_ 9th                           0.0       0.0       0.0       0.0   \n",
               "Education_ Assoc-acdm                    0.0       0.0       0.0       0.0   \n",
               "Education_ Assoc-voc                     0.0       0.0       0.0       0.0   \n",
               "Education_ Bachelors                     0.0       0.0       0.0       0.0   \n",
               "Education_ Doctorate                     0.0       0.0       0.0       0.0   \n",
               "Education_ HS-grad                       0.0       0.0       0.0       1.0   \n",
               "Education_ Masters                       0.0       0.0       0.0       0.0   \n",
               "Education_ Preschool                     0.0       0.0       0.0       0.0   \n",
               "Education_ Prof-school                   0.0       0.0       0.0       0.0   \n",
               "...                                      ...       ...       ...       ...   \n",
               "Country_ Germany                         0.0       0.0       0.0       0.0   \n",
               "Country_ Greece                          0.0       0.0       0.0       0.0   \n",
               "Country_ Guatemala                       0.0       0.0       0.0       0.0   \n",
               "Country_ Haiti                           0.0       0.0       0.0       0.0   \n",
               "Country_ Honduras                        0.0       0.0       0.0       0.0   \n",
               "Country_ Hong                            0.0       0.0       0.0       0.0   \n",
               "Country_ Hungary                         0.0       0.0       0.0       0.0   \n",
               "Country_ India                           0.0       0.0       0.0       0.0   \n",
               "Country_ Iran                            0.0       0.0       0.0       0.0   \n",
               "Country_ Ireland                         0.0       0.0       0.0       0.0   \n",
               "Country_ Italy                           0.0       0.0       0.0       0.0   \n",
               "Country_ Jamaica                         0.0       0.0       0.0       0.0   \n",
               "Country_ Japan                           0.0       0.0       0.0       0.0   \n",
               "Country_ Laos                            0.0       0.0       0.0       0.0   \n",
               "Country_ Mexico                          0.0       0.0       0.0       0.0   \n",
               "Country_ Nicaragua                       0.0       0.0       0.0       0.0   \n",
               "Country_ Outlying-US(Guam-USVI-etc)      0.0       0.0       0.0       0.0   \n",
               "Country_ Peru                            0.0       0.0       0.0       0.0   \n",
               "Country_ Philippines                     0.0       0.0       0.0       0.0   \n",
               "Country_ Poland                          0.0       0.0       0.0       0.0   \n",
               "Country_ Portugal                        0.0       0.0       0.0       0.0   \n",
               "Country_ Puerto-Rico                     0.0       0.0       0.0       0.0   \n",
               "Country_ Scotland                        0.0       0.0       0.0       0.0   \n",
               "Country_ South                           0.0       0.0       0.0       0.0   \n",
               "Country_ Taiwan                          0.0       0.0       0.0       0.0   \n",
               "Country_ Thailand                        0.0       0.0       0.0       0.0   \n",
               "Country_ Trinadad&Tobago                 0.0       0.0       0.0       0.0   \n",
               "Country_ United-States                   0.0       1.0       1.0       1.0   \n",
               "Country_ Vietnam                         0.0       0.0       0.0       0.0   \n",
               "Country_ Yugoslavia                      0.0       0.0       0.0       0.0   \n",
               "\n",
               "                                           max  \n",
               "Age                                       90.0  \n",
               "fnlwgt                               1490400.0  \n",
               "Education_Num                             16.0  \n",
               "Capital_Gain                           99999.0  \n",
               "Capital_Loss                            3770.0  \n",
               "Hours_per_week                            99.0  \n",
               "Target                                     1.0  \n",
               "Workclass_ Federal-gov                     1.0  \n",
               "Workclass_ Local-gov                       1.0  \n",
               "Workclass_ Never-worked                    1.0  \n",
               "Workclass_ Private                         1.0  \n",
               "Workclass_ Self-emp-inc                    1.0  \n",
               "Workclass_ Self-emp-not-inc                1.0  \n",
               "Workclass_ State-gov                       1.0  \n",
               "Workclass_ Without-pay                     1.0  \n",
               "Education_ 10th                            1.0  \n",
               "Education_ 11th                            1.0  \n",
               "Education_ 12th                            1.0  \n",
               "Education_ 1st-4th                         1.0  \n",
               "Education_ 5th-6th                         1.0  \n",
               "Education_ 7th-8th                         1.0  \n",
               "Education_ 9th                             1.0  \n",
               "Education_ Assoc-acdm                      1.0  \n",
               "Education_ Assoc-voc                       1.0  \n",
               "Education_ Bachelors                       1.0  \n",
               "Education_ Doctorate                       1.0  \n",
               "Education_ HS-grad                         1.0  \n",
               "Education_ Masters                         1.0  \n",
               "Education_ Preschool                       1.0  \n",
               "Education_ Prof-school                     1.0  \n",
               "...                                        ...  \n",
               "Country_ Germany                           1.0  \n",
               "Country_ Greece                            1.0  \n",
               "Country_ Guatemala                         1.0  \n",
               "Country_ Haiti                             1.0  \n",
               "Country_ Honduras                          1.0  \n",
               "Country_ Hong                              1.0  \n",
               "Country_ Hungary                           1.0  \n",
               "Country_ India                             1.0  \n",
               "Country_ Iran                              1.0  \n",
               "Country_ Ireland                           1.0  \n",
               "Country_ Italy                             1.0  \n",
               "Country_ Jamaica                           1.0  \n",
               "Country_ Japan                             1.0  \n",
               "Country_ Laos                              1.0  \n",
               "Country_ Mexico                            1.0  \n",
               "Country_ Nicaragua                         1.0  \n",
               "Country_ Outlying-US(Guam-USVI-etc)        1.0  \n",
               "Country_ Peru                              1.0  \n",
               "Country_ Philippines                       1.0  \n",
               "Country_ Poland                            1.0  \n",
               "Country_ Portugal                          1.0  \n",
               "Country_ Puerto-Rico                       1.0  \n",
               "Country_ Scotland                          1.0  \n",
               "Country_ South                             1.0  \n",
               "Country_ Taiwan                            1.0  \n",
               "Country_ Thailand                          1.0  \n",
               "Country_ Trinadad&Tobago                   1.0  \n",
               "Country_ United-States                     1.0  \n",
               "Country_ Vietnam                           1.0  \n",
               "Country_ Yugoslavia                        1.0  \n",
               "\n",
               "[105 rows x 8 columns]"
            ]
         },
         "execution_count":39,
         "metadata":{

         },
         "output_type":"execute_result"
      }
   ],
   "source":[
      "data_test.describe(include='all').T"
   ]
},
{
   "cell_type":"code",
   "execution_count":40,
   "metadata":{

   },
   "outputs":[
      {
         "data":{
            "text/plain":[
               "{'Country_ Holand-Netherlands'}"
            ]
         },
         "execution_count":40,
         "metadata":{

         },
         "output_type":"execute_result"
      }
   ],
   "source":[
      "set(data_train.columns) - set(data_test.columns)"
   ]
},
{
   "cell_type":"code",
   "execution_count":41,
   "metadata":{

   },
   "outputs":[
      {
         "data":{
            "text/plain":[
               "((32561, 106), (16281, 105))"
            ]
         },
         "execution_count":41,
         "metadata":{

         },
         "output_type":"execute_result"
      }
   ],
   "source":[
      "data_train.shape, data_test.shape"
   ]
},
{
   "cell_type":"markdown",
   "metadata":{

   },
   "source":[
      "**В тестовой выборке не оказалось Голландии. Заведем необходимый признак из нулей.**"
   ]
},
{
   "cell_type":"code",
   "execution_count":42,
   "metadata":{

   },
   "outputs":[

   ],
   "source":[
      "data_test['Country_ Holand-Netherlands'] = np.zeros([data_test.shape[0], 1])"
   ]
},
{
   "cell_type":"code",
   "execution_count":43,
   "metadata":{

   },
   "outputs":[
      {
         "data":{
            "text/plain":[
               "set()"
            ]
         },
         "execution_count":43,
         "metadata":{

         },
         "output_type":"execute_result"
      }
   ],
   "source":[
      "set(data_train.columns) - set(data_test.columns)"
   ]
},
{
   "cell_type":"code",
   "execution_count":44,
   "metadata":{

   },
   "outputs":[
      {
         "data":{
            "text/html":[
               "<div>\n",
               "<style scoped>\n",
               "    .dataframe tbody tr th:only-of-type {\n",
               "        vertical-align: middle;\n",
               "    }\n",
               "\n",
               "    .dataframe tbody tr th {\n",
               "        vertical-align: top;\n",
               "    }\n",
               "\n",
               "    .dataframe thead th {\n",
               "        text-align: right;\n",
               "    }\n",
               "</style>\n",
               "<table border=\"1\" class=\"dataframe\">\n",
               "  <thead>\n",
               "    <tr style=\"text-align: right;\">\n",
               "      <th></th>\n",
               "      <th>Age</th>\n",
               "      <th>fnlwgt</th>\n",
               "      <th>Education_Num</th>\n",
               "      <th>Capital_Gain</th>\n",
               "      <th>Capital_Loss</th>\n",
               "      <th>Hours_per_week</th>\n",
               "      <th>Target</th>\n",
               "      <th>Workclass_ Federal-gov</th>\n",
               "      <th>Workclass_ Local-gov</th>\n",
               "      <th>Workclass_ Never-worked</th>\n",
               "      <th>...</th>\n",
               "      <th>Country_ Portugal</th>\n",
               "      <th>Country_ Puerto-Rico</th>\n",
               "      <th>Country_ Scotland</th>\n",
               "      <th>Country_ South</th>\n",
               "      <th>Country_ Taiwan</th>\n",
               "      <th>Country_ Thailand</th>\n",
               "      <th>Country_ Trinadad&amp;Tobago</th>\n",
               "      <th>Country_ United-States</th>\n",
               "      <th>Country_ Vietnam</th>\n",
               "      <th>Country_ Yugoslavia</th>\n",
               "    </tr>\n",
               "  </thead>\n",
               "  <tbody>\n",
               "    <tr>\n",
               "      <th>0</th>\n",
               "      <td>39</td>\n",
               "      <td>77516</td>\n",
               "      <td>13</td>\n",
               "      <td>2174</td>\n",
               "      <td>0</td>\n",
               "      <td>40</td>\n",
               "      <td>0</td>\n",
               "      <td>0</td>\n",
               "      <td>0</td>\n",
               "      <td>0</td>\n",
               "      <td>...</td>\n",
               "      <td>0</td>\n",
               "      <td>0</td>\n",
               "      <td>0</td>\n",
               "      <td>0</td>\n",
               "      <td>0</td>\n",
               "      <td>0</td>\n",
               "      <td>0</td>\n",
               "      <td>1</td>\n",
               "      <td>0</td>\n",
               "      <td>0</td>\n",
               "    </tr>\n",
               "    <tr>\n",
               "      <th>1</th>\n",
               "      <td>50</td>\n",
               "      <td>83311</td>\n",
               "      <td>13</td>\n",
               "      <td>0</td>\n",
               "      <td>0</td>\n",
               "      <td>13</td>\n",
               "      <td>0</td>\n",
               "      <td>0</td>\n",
               "      <td>0</td>\n",
               "      <td>0</td>\n",
               "      <td>...</td>\n",
               "      <td>0</td>\n",
               "      <td>0</td>\n",
               "      <td>0</td>\n",
               "      <td>0</td>\n",
               "      <td>0</td>\n",
               "      <td>0</td>\n",
               "      <td>0</td>\n",
               "      <td>1</td>\n",
               "      <td>0</td>\n",
               "      <td>0</td>\n",
               "    </tr>\n",
               "  </tbody>\n",
               "</table>\n",
               "<p>2 rows × 106 columns</p>\n",
               "</div>"
            ],
            "text/plain":[
               "   Age  fnlwgt  Education_Num  Capital_Gain  Capital_Loss  Hours_per_week  \\\n",
               "0   39   77516             13          2174             0              40   \n",
               "1   50   83311             13             0             0              13   \n",
               "\n",
               "   Target  Workclass_ Federal-gov  Workclass_ Local-gov  \\\n",
               "0       0                       0                     0   \n",
               "1       0                       0                     0   \n",
               "\n",
               "   Workclass_ Never-worked  ...  Country_ Portugal  Country_ Puerto-Rico  \\\n",
               "0                        0  ...                  0                     0   \n",
               "1                        0  ...                  0                     0   \n",
               "\n",
               "   Country_ Scotland  Country_ South  Country_ Taiwan  Country_ Thailand  \\\n",
               "0                  0               0                0                  0   \n",
               "1                  0               0                0                  0   \n",
               "\n",
               "   Country_ Trinadad&Tobago  Country_ United-States  Country_ Vietnam  \\\n",
               "0                         0                       1                 0   \n",
               "1                         0                       1                 0   \n",
               "\n",
               "   Country_ Yugoslavia  \n",
               "0                    0  \n",
               "1                    0  \n",
               "\n",
               "[2 rows x 106 columns]"
            ]
         },
         "execution_count":44,
         "metadata":{

         },
         "output_type":"execute_result"
      }
   ],
   "source":[
      "data_train.head(2)"
   ]
},
{
   "cell_type":"code",
   "execution_count":45,
   "metadata":{

   },
   "outputs":[
      {
         "data":{
            "text/html":[
               "<div>\n",
               "<style scoped>\n",
               "    .dataframe tbody tr th:only-of-type {\n",
               "        vertical-align: middle;\n",
               "    }\n",
               "\n",
               "    .dataframe tbody tr th {\n",
               "        vertical-align: top;\n",
               "    }\n",
               "\n",
               "    .dataframe thead th {\n",
               "        text-align: right;\n",
               "    }\n",
               "</style>\n",
               "<table border=\"1\" class=\"dataframe\">\n",
               "  <thead>\n",
               "    <tr style=\"text-align: right;\">\n",
               "      <th></th>\n",
               "      <th>Age</th>\n",
               "      <th>fnlwgt</th>\n",
               "      <th>Education_Num</th>\n",
               "      <th>Capital_Gain</th>\n",
               "      <th>Capital_Loss</th>\n",
               "      <th>Hours_per_week</th>\n",
               "      <th>Target</th>\n",
               "      <th>Workclass_ Federal-gov</th>\n",
               "      <th>Workclass_ Local-gov</th>\n",
               "      <th>Workclass_ Never-worked</th>\n",
               "      <th>...</th>\n",
               "      <th>Country_ Puerto-Rico</th>\n",
               "      <th>Country_ Scotland</th>\n",
               "      <th>Country_ South</th>\n",
               "      <th>Country_ Taiwan</th>\n",
               "      <th>Country_ Thailand</th>\n",
               "      <th>Country_ Trinadad&amp;Tobago</th>\n",
               "      <th>Country_ United-States</th>\n",
               "      <th>Country_ Vietnam</th>\n",
               "      <th>Country_ Yugoslavia</th>\n",
               "      <th>Country_ Holand-Netherlands</th>\n",
               "    </tr>\n",
               "  </thead>\n",
               "  <tbody>\n",
               "    <tr>\n",
               "      <th>1</th>\n",
               "      <td>25</td>\n",
               "      <td>226802</td>\n",
               "      <td>7</td>\n",
               "      <td>0</td>\n",
               "      <td>0</td>\n",
               "      <td>40</td>\n",
               "      <td>0</td>\n",
               "      <td>0</td>\n",
               "      <td>0</td>\n",
               "      <td>0</td>\n",
               "      <td>...</td>\n",
               "      <td>0</td>\n",
               "      <td>0</td>\n",
               "      <td>0</td>\n",
               "      <td>0</td>\n",
               "      <td>0</td>\n",
               "      <td>0</td>\n",
               "      <td>1</td>\n",
               "      <td>0</td>\n",
               "      <td>0</td>\n",
               "      <td>0.0</td>\n",
               "    </tr>\n",
               "    <tr>\n",
               "      <th>2</th>\n",
               "      <td>38</td>\n",
               "      <td>89814</td>\n",
               "      <td>9</td>\n",
               "      <td>0</td>\n",
               "      <td>0</td>\n",
               "      <td>50</td>\n",
               "      <td>0</td>\n",
               "      <td>0</td>\n",
               "      <td>0</td>\n",
               "      <td>0</td>\n",
               "      <td>...</td>\n",
               "      <td>0</td>\n",
               "      <td>0</td>\n",
               "      <td>0</td>\n",
               "      <td>0</td>\n",
               "      <td>0</td>\n",
               "      <td>0</td>\n",
               "      <td>1</td>\n",
               "      <td>0</td>\n",
               "      <td>0</td>\n",
               "      <td>0.0</td>\n",
               "    </tr>\n",
               "  </tbody>\n",
               "</table>\n",
               "<p>2 rows × 106 columns</p>\n",
               "</div>"
            ],
            "text/plain":[
               "   Age  fnlwgt  Education_Num  Capital_Gain  Capital_Loss  Hours_per_week  \\\n",
               "1   25  226802              7             0             0              40   \n",
               "2   38   89814              9             0             0              50   \n",
               "\n",
               "   Target  Workclass_ Federal-gov  Workclass_ Local-gov  \\\n",
               "1       0                       0                     0   \n",
               "2       0                       0                     0   \n",
               "\n",
               "   Workclass_ Never-worked  ...  Country_ Puerto-Rico  Country_ Scotland  \\\n",
               "1                        0  ...                     0                  0   \n",
               "2                        0  ...                     0                  0   \n",
               "\n",
               "   Country_ South  Country_ Taiwan  Country_ Thailand  \\\n",
               "1               0                0                  0   \n",
               "2               0                0                  0   \n",
               "\n",
               "   Country_ Trinadad&Tobago  Country_ United-States  Country_ Vietnam  \\\n",
               "1                         0                       1                 0   \n",
               "2                         0                       1                 0   \n",
               "\n",
               "   Country_ Yugoslavia  Country_ Holand-Netherlands  \n",
               "1                    0                          0.0  \n",
               "2                    0                          0.0  \n",
               "\n",
               "[2 rows x 106 columns]"
            ]
         },
         "execution_count":45,
         "metadata":{

         },
         "output_type":"execute_result"
      }
   ],
   "source":[
      "data_test.head(2)"
   ]
},
{
   "cell_type":"code",
   "execution_count":46,
   "metadata":{

   },
   "outputs":[

   ],
   "source":[
      "X_train = data_train.drop(['Target'], axis=1)\n",
      "y_train = data_train['Target']\n",
      "\n",
      "X_test = data_test.drop(['Target'], axis=1)\n",
      "y_test = data_test['Target']"
   ]
},
{
   "cell_type":"markdown",
   "metadata":{

   },
   "source":[
      "## 3.1. Дерево решений без настройки параметров "
   ]
},
{
   "cell_type":"markdown",
   "metadata":{

   },
   "source":[
      "**Обучите на имеющейся выборке дерево решений (`DecisionTreeClassifier`) максимальной глубины 3 и получите качество на тесте. Используйте параметр `random_state` = 17 для воспроизводимости результатов.**"
   ]
},
{
   "cell_type":"code",
   "execution_count":47,
   "metadata":{

   },
   "outputs":[
      {
         "data":{
            "text/plain":[
               "DecisionTreeClassifier(class_weight=None, criterion='gini', max_depth=3,\n",
               "            max_features=None, max_leaf_nodes=None,\n",
               "            min_impurity_decrease=0.0, min_impurity_split=None,\n",
               "            min_samples_leaf=1, min_samples_split=2,\n",
               "            min_weight_fraction_leaf=0.0, presort=False, random_state=17,\n",
               "            splitter='best')"
            ]
         },
         "execution_count":47,
         "metadata":{

         },
         "output_type":"execute_result"
      }
   ],
   "source":[
      "tree = DecisionTreeClassifier(max_depth=3, random_state=17)\n",
      "tree.fit(X_train, y_train)"
   ]
},
{
   "cell_type":"markdown",
   "metadata":{

   },
   "source":[
      "**Сделайте с помощью полученной модели прогноз для тестовой выборки.**"
   ]
},
{
   "cell_type":"code",
   "execution_count":48,
   "metadata":{

   },
   "outputs":[

   ],
   "source":[
      "tree_predictions = tree.predict(X_test)"
   ]
},
{
   "cell_type":"code",
   "execution_count":49,
   "metadata":{

   },
   "outputs":[
      {
         "data":{
            "text/plain":[
               "0.8447884036607088"
            ]
         },
         "execution_count":49,
         "metadata":{

         },
         "output_type":"execute_result"
      }
   ],
   "source":[
      "accuracy_score(y_test, tree_predictions) #0.8447884036607088"
   ]
},
{
   "cell_type":"markdown",
   "metadata":{

   },
   "source":[
      "<font color='red'>Вопрос 6.  </font> Какова доля правильных ответов дерева решений на тестовой выборке при максимальной глубине дерева = 3 и random_state = 17?"
   ]
},
{
   "cell_type":"markdown",
   "metadata":{

   },
   "source":[
      "## 3.2. Дерево решений с настройкой параметров "
   ]
},
{
   "cell_type":"markdown",
   "metadata":{

   },
   "source":[
      "**Обучите на имеющейся выборке дерево решений (`DecisionTreeClassifier`, опять `random_state` = 17 ). Максимальную глубину настройте на кросс-валидации с помощью `GridSearchCV`. Проведите 5-кратную кросс-валидацию**"
   ]
},
{
   "cell_type":"code",
   "execution_count":50,
   "metadata":{

   },
   "outputs":[
      {
         "name":"stdout",
         "output_type":"stream",
         "text":[
            "Fitting 5 folds for each of 9 candidates, totalling 45 fits\n"
         ]
      },
      {
         "name":"stderr",
         "output_type":"stream",
         "text":[
            "[Parallel(n_jobs=-1)]: Using backend LokyBackend with 4 concurrent workers.\n",
            "[Parallel(n_jobs=-1)]: Done  45 out of  45 | elapsed:    7.0s finished\n"
         ]
      },
      {
         "data":{
            "text/plain":[
               "GridSearchCV(cv=5, error_score='raise-deprecating',\n",
               "       estimator=DecisionTreeClassifier(class_weight=None, criterion='gini', max_depth=3,\n",
               "            max_features=None, max_leaf_nodes=None,\n",
               "            min_impurity_decrease=0.0, min_impurity_split=None,\n",
               "            min_samples_leaf=1, min_samples_split=2,\n",
               "            min_weight_fraction_leaf=0.0, presort=False, random_state=17,\n",
               "            splitter='best'),\n",
               "       fit_params=None, iid='warn', n_jobs=-1,\n",
               "       param_grid={'max_depth': range(2, 11)}, pre_dispatch='2*n_jobs',\n",
               "       refit=True, return_train_score='warn', scoring=None, verbose=True)"
            ]
         },
         "execution_count":50,
         "metadata":{

         },
         "output_type":"execute_result"
      }
   ],
   "source":[
      "tree_params = {'max_depth': range(2,11)}\n",
      "locally_best_tree = GridSearchCV(tree, tree_params,cv=5, n_jobs=-1, verbose=True) # Ваш код здесь                      \n",
      "locally_best_tree.fit(X_train, y_train)"
   ]
},
{
   "cell_type":"code",
   "execution_count":51,
   "metadata":{

   },
   "outputs":[
      {
         "name":"stdout",
         "output_type":"stream",
         "text":[
            "Best params: {'max_depth': 9}\n",
            "Best cross validaton score 0.8562697705844415\n"
         ]
      }
   ],
   "source":[
      "print(\"Best params:\", locally_best_tree.best_params_)\n",
      "print(\"Best cross validaton score\", locally_best_tree.best_score_)"
   ]
},
{
   "cell_type":"markdown",
   "metadata":{

   },
   "source":[
      "**Обучите на имеющейся выборке дерево решений максимальной глубины 9 (это лучшее значение `max_depth` в моем случае) и   оцените долю правильных ответов на тесте. Используйте параметр random_state = 17 для воспроизводимости результатов.**"
   ]
},
{
   "cell_type":"code",
   "execution_count":52,
   "metadata":{

   },
   "outputs":[
      {
         "data":{
            "text/plain":[
               "0.8471838339168356"
            ]
         },
         "execution_count":52,
         "metadata":{

         },
         "output_type":"execute_result"
      }
   ],
   "source":[
      "tuned_tree = DecisionTreeClassifier(max_depth=9, random_state=17)\n",
      "tuned_tree.fit(X_train, y_train)\n",
      "tuned_tree_predictions = tuned_tree.predict(X_test)\n",
      "accuracy_score(y_test, tuned_tree_predictions) #0.8471838339168356"
   ]
},
{
   "cell_type":"markdown",
   "metadata":{

   },
   "source":[
      "<font color='red'>Вопрос 7.  </font> Какова доля правильных ответов дерева решений на тестовой выборке при максимальной глубине дерева = 9 и random_state = 17?"
   ]
},
{
   "cell_type":"markdown",
   "metadata":{

   },
   "source":[
      "## 3.3. Случайный лес без настройки параметров  (опционально)¶"
   ]
},
{
   "cell_type":"markdown",
   "metadata":{

   },
   "source":[
      "**Немного забежим вперед и попробуем в нашей задаче случайный лес. Пока можно его себе представлять, как куча деревьев решений, обученных на немного разных подвыборках исходной обучающей выборки, причем эта куча деревьев обычно работает существенно лучше, чем отдельные деревья. **\n",
      "\n",
      "**Обучите на имеющейся выборке случайный лес (`RandomForestClassifier`), число деревьев сделайте равным ста, а `random_state` = 17.**"
   ]
},
{
   "cell_type":"code",
   "execution_count":53,
   "metadata":{

   },
   "outputs":[
      {
         "data":{
            "text/plain":[
               "RandomForestClassifier(bootstrap=True, class_weight=None, criterion='gini',\n",
               "            max_depth=None, max_features='auto', max_leaf_nodes=None,\n",
               "            min_impurity_decrease=0.0, min_impurity_split=None,\n",
               "            min_samples_leaf=1, min_samples_split=2,\n",
               "            min_weight_fraction_leaf=0.0, n_estimators=100, n_jobs=None,\n",
               "            oob_score=False, random_state=17, verbose=0, warm_start=False)"
            ]
         },
         "execution_count":53,
         "metadata":{

         },
         "output_type":"execute_result"
      }
   ],
   "source":[
      "rf = RandomForestClassifier(n_estimators=100, random_state = 17)\n",
      "rf.fit(X_train, y_train)"
   ]
},
{
   "cell_type":"markdown",
   "metadata":{

   },
   "source":[
      "**Сделайте с помощью полученной модели прогноз для тестовой выборки.**"
   ]
},
{
   "cell_type":"code",
   "execution_count":54,
   "metadata":{

   },
   "outputs":[

   ],
   "source":[
      "forest_predictions = rf.predict(X_test)"
   ]
},
{
   "cell_type":"code",
   "execution_count":55,
   "metadata":{

   },
   "outputs":[
      {
         "data":{
            "text/plain":[
               "0.8576254529820035"
            ]
         },
         "execution_count":55,
         "metadata":{

         },
         "output_type":"execute_result"
      }
   ],
   "source":[
      "accuracy_score(y_test,forest_predictions)"
   ]
},
{
   "cell_type":"markdown",
   "metadata":{

   },
   "source":[
      "## 3.4. Случайный лес с настройкой параметров  (опционально)"
   ]
},
{
   "cell_type":"markdown",
   "metadata":{

   },
   "source":[
      "**Обучите на имеющейся выборке случайный лес (`RandomForestClassifier`). Максимальную глубину и максимальное число признаков для каждого дерева настройте с помощью GridSearchCV.**"
   ]
},
{
   "cell_type":"code",
   "execution_count":58,
   "metadata":{

   },
   "outputs":[
      {
         "name":"stdout",
         "output_type":"stream",
         "text":[
            "Fitting 5 folds for each of 33 candidates, totalling 165 fits\n"
         ]
      },
      {
         "name":"stderr",
         "output_type":"stream",
         "text":[
            "[Parallel(n_jobs=-1)]: Using backend LokyBackend with 4 concurrent workers.\n",
            "[Parallel(n_jobs=-1)]: Done  42 tasks      | elapsed:  2.0min\n",
            "[Parallel(n_jobs=-1)]: Done 165 out of 165 | elapsed:  8.6min finished\n"
         ]
      },
      {
         "data":{
            "text/plain":[
               "GridSearchCV(cv=5, error_score='raise-deprecating',\n",
               "       estimator=RandomForestClassifier(bootstrap=True, class_weight=None, criterion='gini',\n",
               "            max_depth=None, max_features='auto', max_leaf_nodes=None,\n",
               "            min_impurity_decrease=0.0, min_impurity_split=None,\n",
               "            min_samples_leaf=1, min_samples_split=2,\n",
               "            min_weight_fraction_leaf=0.0, n_estimators=100, n_jobs=None,\n",
               "            oob_score=False, random_state=17, verbose=0, warm_start=False),\n",
               "       fit_params=None, iid='warn', n_jobs=-1,\n",
               "       param_grid={'max_depth': range(10, 21), 'max_features': range(5, 35, 10)},\n",
               "       pre_dispatch='2*n_jobs', refit=True, return_train_score='warn',\n",
               "       scoring=None, verbose=True)"
            ]
         },
         "execution_count":58,
         "metadata":{

         },
         "output_type":"execute_result"
      }
   ],
   "source":[
      "forest_params = {'max_depth': range(10, 21),\n",
      "                'max_features': range(5, 35, 10)}\n",
      "locally_best_forest = GridSearchCV(rf, forest_params,cv=5, n_jobs=-1, verbose=True)\n",
      "locally_best_forest.fit(X_train, y_train)"
   ]
},
{
   "cell_type":"code",
   "execution_count":59,
   "metadata":{

   },
   "outputs":[
      {
         "name":"stdout",
         "output_type":"stream",
         "text":[
            "Best params: {'max_depth': 16, 'max_features': 25}\n",
            "Best cross validaton score 0.8651147077792452\n"
         ]
      }
   ],
   "source":[
      "print(\"Best params:\", locally_best_forest.best_params_)\n",
      "print(\"Best cross validaton score\", locally_best_forest.best_score_)"
   ]
},
{
   "cell_type":"markdown",
   "metadata":{

   },
   "source":[
      "**Сделайте с помощью полученной модели прогноз для тестовой выборки.**"
   ]
},
{
   "cell_type":"code",
   "execution_count":null,
   "metadata":{

   },
   "outputs":[

   ],
   "source":[
      "tuned_forest_predictions = locally_best_forest.predict(X_test) \n",
      "accuracy_score(y_test, tuned_forest_predictions)"
   ]   "======="   "execution_count":null,
   "metadata":{

   },
   "outputs":[

   ],
   "source":[

   ]   >>>>>>> a56f3666a5023227744273cd17b9cabd59846713
},
{
   "cell_type":"code",
   "execution_count":null,
   "metadata":{

   },
   "outputs":[

   ],
   "source":[

   ]
}
],
"metadata":{
   "kernelspec":{
      "display_name":"Python 3",
      "language":"python",
      "name":"python3"
   },
   "language_info":{
      "codemirror_mode":{
         "name":"ipython",
         "version":3
      },
      "file_extension":".py",
      "mimetype":"text/x-python",
      "name":"python",
      "nbconvert_exporter":"python",
      "pygments_lexer":"ipython3",
      "version":"3.7.3"
   }
},
"nbformat":4,
"<<<<<<< HEAD""nbformat_minor":1
======="nbformat_minor":2
>>>>>>> a56f3666a5023227744273cd17b9cabd59846713
}
