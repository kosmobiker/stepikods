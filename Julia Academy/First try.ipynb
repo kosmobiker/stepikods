{
 "cells": [
  {
   "cell_type": "code",
   "execution_count": 1,
   "metadata": {},
   "outputs": [
    {
     "name": "stderr",
     "output_type": "stream",
     "text": [
      "┌ Info: Precompiling CSV [336ed68f-0bac-5ca0-87d4-7b16caf5d00b]\n",
      "└ @ Base loading.jl:1317\n"
     ]
    }
   ],
   "source": [
    "using DataFrames, Random, CSV, Statistics, DataStructures, Missings"
   ]
  },
  {
   "cell_type": "code",
   "execution_count": 2,
   "metadata": {},
   "outputs": [
    {
     "data": {
      "text/plain": [
       "20"
      ]
     },
     "execution_count": 2,
     "metadata": {},
     "output_type": "execute_result"
    }
   ],
   "source": [
    "ENV[\"LINES\"] = 20"
   ]
  },
  {
   "cell_type": "code",
   "execution_count": 3,
   "metadata": {},
   "outputs": [
    {
     "data": {
      "text/html": [
       "<div class=\"data-frame\"><p>5 rows × 15 columns (omitted printing of 7 columns)</p><table class=\"data-frame\"><thead><tr><th></th><th>ID</th><th>MAX_DEBT</th><th>target (60+)</th><th>IS_BILLING</th><th>RATINGCLASS</th><th>NEW_MSISDN</th><th>MEDIAN_LT</th><th>CNT_SMART_SALES</th></tr><tr><th></th><th title=\"Int64\">Int64</th><th title=\"Int64\">Int64</th><th title=\"Int64\">Int64</th><th title=\"Int64\">Int64</th><th title=\"Union{Missing, String}\">String?</th><th title=\"Int64\">Int64</th><th title=\"Union{Missing, String}\">String?</th><th title=\"Union{Missing, Int64}\">Int64?</th></tr></thead><tbody><tr><th>1</th><td>1</td><td>0</td><td>0</td><td>1</td><td><em>missing</em></td><td>1</td><td>13,64</td><td>1</td></tr><tr><th>2</th><td>2</td><td>4</td><td>0</td><td>0</td><td>D3</td><td>1</td><td><em>missing</em></td><td><em>missing</em></td></tr><tr><th>3</th><td>3</td><td>2</td><td>0</td><td>0</td><td>-10006</td><td>1</td><td><em>missing</em></td><td><em>missing</em></td></tr><tr><th>4</th><td>4</td><td>4</td><td>0</td><td>1</td><td>B2</td><td>0</td><td>44,98</td><td>0</td></tr><tr><th>5</th><td>5</td><td>157</td><td>1</td><td>1</td><td>-10006</td><td>1</td><td>17,34</td><td>1</td></tr></tbody></table></div>"
      ],
      "text/latex": [
       "\\begin{tabular}{r|ccccccccc}\n",
       "\t& ID & MAX\\_DEBT & target (60+) & IS\\_BILLING & RATINGCLASS & NEW\\_MSISDN & MEDIAN\\_LT & CNT\\_SMART\\_SALES & \\\\\n",
       "\t\\hline\n",
       "\t& Int64 & Int64 & Int64 & Int64 & String? & Int64 & String? & Int64? & \\\\\n",
       "\t\\hline\n",
       "\t1 & 1 & 0 & 0 & 1 & \\emph{missing} & 1 & 13,64 & 1 & $\\dots$ \\\\\n",
       "\t2 & 2 & 4 & 0 & 0 & D3 & 1 & \\emph{missing} & \\emph{missing} & $\\dots$ \\\\\n",
       "\t3 & 3 & 2 & 0 & 0 & -10006 & 1 & \\emph{missing} & \\emph{missing} & $\\dots$ \\\\\n",
       "\t4 & 4 & 4 & 0 & 1 & B2 & 0 & 44,98 & 0 & $\\dots$ \\\\\n",
       "\t5 & 5 & 157 & 1 & 1 & -10006 & 1 & 17,34 & 1 & $\\dots$ \\\\\n",
       "\\end{tabular}\n"
      ],
      "text/plain": [
       "\u001b[1m5×15 DataFrame\u001b[0m\n",
       "\u001b[1m Row \u001b[0m│\u001b[1m ID    \u001b[0m\u001b[1m MAX_DEBT \u001b[0m\u001b[1m target (60+) \u001b[0m\u001b[1m IS_BILLING \u001b[0m\u001b[1m RATINGCLASS \u001b[0m\u001b[1m NEW_MSISDN \u001b[0m\u001b[1m MED\u001b[0m ⋯\n",
       "\u001b[1m     \u001b[0m│\u001b[90m Int64 \u001b[0m\u001b[90m Int64    \u001b[0m\u001b[90m Int64        \u001b[0m\u001b[90m Int64      \u001b[0m\u001b[90m String?     \u001b[0m\u001b[90m Int64      \u001b[0m\u001b[90m Str\u001b[0m ⋯\n",
       "─────┼──────────────────────────────────────────────────────────────────────────\n",
       "   1 │     1         0             0           1 \u001b[90m missing     \u001b[0m          1  13, ⋯\n",
       "   2 │     2         4             0           0  D3                    1 \u001b[90m mis\u001b[0m\n",
       "   3 │     3         2             0           0  -10006                1 \u001b[90m mis\u001b[0m\n",
       "   4 │     4         4             0           1  B2                    0  44,\n",
       "   5 │     5       157             1           1  -10006                1  17, ⋯\n",
       "\u001b[36m                                                               9 columns omitted\u001b[0m"
      ]
     },
     "execution_count": 3,
     "metadata": {},
     "output_type": "execute_result"
    }
   ],
   "source": [
    "df = DataFrame(CSV.File(\"../data/2_Lifetech_DA_test (scoring).csv\"))\n",
    "first(df, 5)"
   ]
  },
  {
   "cell_type": "code",
   "execution_count": 4,
   "metadata": {},
   "outputs": [
    {
     "data": {
      "text/plain": [
       "15-element Vector{String}:\n",
       " \"ID\"\n",
       " \"MAX_DEBT\"\n",
       " \"target (60+)\"\n",
       " \"IS_BILLING\"\n",
       " \"RATINGCLASS\"\n",
       " \"NEW_MSISDN\"\n",
       " \"MEDIAN_LT\"\n",
       " \"CNT_SMART_SALES\"\n",
       " \"REV_CNT_MNTH\"\n",
       " \"MAX_DAYS_W_OUTGOING\"\n",
       " \"MAX_DAYS_W_MB\"\n",
       " \"MAX_DAYS_IN_DEBT\"\n",
       " \"MAX_DEBT_SUM\"\n",
       " \"Column14\"\n",
       " \"Column15\""
      ]
     },
     "execution_count": 4,
     "metadata": {},
     "output_type": "execute_result"
    }
   ],
   "source": [
    "names(df)"
   ]
  },
  {
   "cell_type": "code",
   "execution_count": 5,
   "metadata": {},
   "outputs": [
    {
     "data": {
      "text/html": [
       "<div class=\"data-frame\"><p>15 rows × 7 columns</p><table class=\"data-frame\"><thead><tr><th></th><th>variable</th><th>mean</th><th>min</th><th>median</th><th>max</th><th>nmissing</th><th>eltype</th></tr><tr><th></th><th title=\"Symbol\">Symbol</th><th title=\"Union{Nothing, Float64}\">Union…</th><th title=\"Any\">Any</th><th title=\"Union{Nothing, Float64}\">Union…</th><th title=\"Any\">Any</th><th title=\"Int64\">Int64</th><th title=\"Type\">Type</th></tr></thead><tbody><tr><th>1</th><td>ID</td><td>8605.5</td><td>1</td><td>8605.5</td><td>17210</td><td>0</td><td>Int64</td></tr><tr><th>2</th><td>MAX_DEBT</td><td>51.4468</td><td>0</td><td>6.0</td><td>571</td><td>0</td><td>Int64</td></tr><tr><th>3</th><td>target (60+)</td><td>0.153806</td><td>0</td><td>0.0</td><td>1</td><td>0</td><td>Int64</td></tr><tr><th>4</th><td>IS_BILLING</td><td>0.65491</td><td>0</td><td>1.0</td><td>1</td><td>0</td><td>Int64</td></tr><tr><th>5</th><td>RATINGCLASS</td><td></td><td>-10006</td><td></td><td>F</td><td>1096</td><td>Union{Missing, String}</td></tr><tr><th>6</th><td>NEW_MSISDN</td><td>0.75369</td><td>0</td><td>1.0</td><td>1</td><td>0</td><td>Int64</td></tr><tr><th>7</th><td>MEDIAN_LT</td><td></td><td>0</td><td></td><td>99,36</td><td>4264</td><td>Union{Missing, String}</td></tr><tr><th>8</th><td>CNT_SMART_SALES</td><td>0.891381</td><td>0</td><td>1.0</td><td>7</td><td>4459</td><td>Union{Missing, Int64}</td></tr><tr><th>9</th><td>REV_CNT_MNTH</td><td>4.68088</td><td>0</td><td>6.0</td><td>6</td><td>4425</td><td>Union{Missing, Int64}</td></tr><tr><th>10</th><td>MAX_DAYS_W_OUTGOING</td><td>99.8041</td><td>0</td><td>116.0</td><td>184</td><td>4448</td><td>Union{Missing, Int64}</td></tr><tr><th>11</th><td>MAX_DAYS_W_MB</td><td>81.1761</td><td>0</td><td>80.0</td><td>184</td><td>4438</td><td>Union{Missing, Int64}</td></tr><tr><th>12</th><td>MAX_DAYS_IN_DEBT</td><td>66.4616</td><td>0</td><td>4.0</td><td>1096</td><td>4635</td><td>Union{Missing, Int64}</td></tr><tr><th>13</th><td>MAX_DEBT_SUM</td><td></td><td>0</td><td></td><td>99,98</td><td>4563</td><td>Union{Missing, String}</td></tr><tr><th>14</th><td>Column14</td><td></td><td></td><td></td><td></td><td>17210</td><td>Missing</td></tr><tr><th>15</th><td>Column15</td><td></td><td></td><td></td><td></td><td>17210</td><td>Missing</td></tr></tbody></table></div>"
      ],
      "text/latex": [
       "\\begin{tabular}{r|ccccccc}\n",
       "\t& variable & mean & min & median & max & nmissing & eltype\\\\\n",
       "\t\\hline\n",
       "\t& Symbol & Union… & Any & Union… & Any & Int64 & Type\\\\\n",
       "\t\\hline\n",
       "\t1 & ID & 8605.5 & 1 & 8605.5 & 17210 & 0 & Int64 \\\\\n",
       "\t2 & MAX\\_DEBT & 51.4468 & 0 & 6.0 & 571 & 0 & Int64 \\\\\n",
       "\t3 & target (60+) & 0.153806 & 0 & 0.0 & 1 & 0 & Int64 \\\\\n",
       "\t4 & IS\\_BILLING & 0.65491 & 0 & 1.0 & 1 & 0 & Int64 \\\\\n",
       "\t5 & RATINGCLASS &  & -10006 &  & F & 1096 & Union\\{Missing, String\\} \\\\\n",
       "\t6 & NEW\\_MSISDN & 0.75369 & 0 & 1.0 & 1 & 0 & Int64 \\\\\n",
       "\t7 & MEDIAN\\_LT &  & 0 &  & 99,36 & 4264 & Union\\{Missing, String\\} \\\\\n",
       "\t8 & CNT\\_SMART\\_SALES & 0.891381 & 0 & 1.0 & 7 & 4459 & Union\\{Missing, Int64\\} \\\\\n",
       "\t9 & REV\\_CNT\\_MNTH & 4.68088 & 0 & 6.0 & 6 & 4425 & Union\\{Missing, Int64\\} \\\\\n",
       "\t10 & MAX\\_DAYS\\_W\\_OUTGOING & 99.8041 & 0 & 116.0 & 184 & 4448 & Union\\{Missing, Int64\\} \\\\\n",
       "\t11 & MAX\\_DAYS\\_W\\_MB & 81.1761 & 0 & 80.0 & 184 & 4438 & Union\\{Missing, Int64\\} \\\\\n",
       "\t12 & MAX\\_DAYS\\_IN\\_DEBT & 66.4616 & 0 & 4.0 & 1096 & 4635 & Union\\{Missing, Int64\\} \\\\\n",
       "\t13 & MAX\\_DEBT\\_SUM &  & 0 &  & 99,98 & 4563 & Union\\{Missing, String\\} \\\\\n",
       "\t14 & Column14 &  &  &  &  & 17210 & Missing \\\\\n",
       "\t15 & Column15 &  &  &  &  & 17210 & Missing \\\\\n",
       "\\end{tabular}\n"
      ],
      "text/plain": [
       "\u001b[1m15×7 DataFrame\u001b[0m\n",
       "\u001b[1m Row \u001b[0m│\u001b[1m variable            \u001b[0m\u001b[1m mean     \u001b[0m\u001b[1m min    \u001b[0m\u001b[1m median \u001b[0m\u001b[1m max   \u001b[0m\u001b[1m nmissing \u001b[0m\u001b[1m eltype \u001b[0m ⋯\n",
       "\u001b[1m     \u001b[0m│\u001b[90m Symbol              \u001b[0m\u001b[90m Union…   \u001b[0m\u001b[90m Any    \u001b[0m\u001b[90m Union… \u001b[0m\u001b[90m Any   \u001b[0m\u001b[90m Int64    \u001b[0m\u001b[90m Type   \u001b[0m ⋯\n",
       "─────┼──────────────────────────────────────────────────────────────────────────\n",
       "   1 │ ID                   8605.5    1       8605.5  17210         0  Int64   ⋯\n",
       "   2 │ MAX_DEBT             51.4468   0       6.0     571           0  Int64\n",
       "   3 │ target (60+)         0.153806  0       0.0     1             0  Int64\n",
       "   4 │ IS_BILLING           0.65491   0       1.0     1             0  Int64\n",
       "   5 │ RATINGCLASS         \u001b[90m          \u001b[0m -10006 \u001b[90m        \u001b[0m F          1096  Union{M ⋯\n",
       "   6 │ NEW_MSISDN           0.75369   0       1.0     1             0  Int64\n",
       "  ⋮  │          ⋮              ⋮        ⋮       ⋮       ⋮       ⋮              ⋱\n",
       "  11 │ MAX_DAYS_W_MB        81.1761   0       80.0    184        4438  Union{M\n",
       "  12 │ MAX_DAYS_IN_DEBT     66.4616   0       4.0     1096       4635  Union{M\n",
       "  13 │ MAX_DEBT_SUM        \u001b[90m          \u001b[0m 0      \u001b[90m        \u001b[0m 99,98      4563  Union{M ⋯\n",
       "  14 │ Column14            \u001b[90m          \u001b[0m\u001b[90m        \u001b[0m\u001b[90m        \u001b[0m\u001b[90m       \u001b[0m    17210  Missing\n",
       "  15 │ Column15            \u001b[90m          \u001b[0m\u001b[90m        \u001b[0m\u001b[90m        \u001b[0m\u001b[90m       \u001b[0m    17210  Missing\n",
       "\u001b[36m                                                     1 column and 4 rows omitted\u001b[0m"
      ]
     },
     "execution_count": 5,
     "metadata": {},
     "output_type": "execute_result"
    }
   ],
   "source": [
    "describe(df)"
   ]
  },
  {
   "cell_type": "code",
   "execution_count": 6,
   "metadata": {},
   "outputs": [
    {
     "data": {
      "text/plain": [
       "Accumulator{Union{Missing, String}, Int64} with 19 entries:\n",
       "  \"-10006\" => 3659\n",
       "  \"C3\"     => 791\n",
       "  \"B2\"     => 1854\n",
       "  \"2\"      => 1300\n",
       "  \"B1\"     => 1428\n",
       "  \"B3\"     => 1153\n",
       "  \"C1\"     => 1057\n",
       "  \"C2\"     => 958\n",
       "  \"A2\"     => 119\n",
       "  \"E1\"     => 254\n",
       "  \"D2\"     => 491\n",
       "  \"E3\"     => 146\n",
       "  \"E2\"     => 136\n",
       "  \"A3\"     => 571\n",
       "  \"D3\"     => 350\n",
       "  ⋮        => ⋮"
      ]
     },
     "execution_count": 6,
     "metadata": {},
     "output_type": "execute_result"
    }
   ],
   "source": [
    "counter(df.\"RATINGCLASS\")"
   ]
  },
  {
   "cell_type": "code",
   "execution_count": 7,
   "metadata": {},
   "outputs": [
    {
     "data": {
      "text/plain": [
       "17210-element Vector{String}:\n",
       " \"Unknown\"\n",
       " \"D3\"\n",
       " \"-10006\"\n",
       " \"B2\"\n",
       " \"-10006\"\n",
       " \"2\"\n",
       " \"B1\"\n",
       " \"E1\"\n",
       " ⋮\n",
       " \"F\"\n",
       " \"Unknown\"\n",
       " \"E1\"\n",
       " \"C2\"\n",
       " \"2\"\n",
       " \"-10006\"\n",
       " \"B2\""
      ]
     },
     "execution_count": 7,
     "metadata": {},
     "output_type": "execute_result"
    }
   ],
   "source": [
    "df.\"RATINGCLASS\" = coalesce.(df.\"RATINGCLASS\", \"Unknown\")"
   ]
  },
  {
   "cell_type": "code",
   "execution_count": 8,
   "metadata": {},
   "outputs": [
    {
     "data": {
      "text/plain": [
       "17210-element Vector{Float64}:\n",
       " 13.64\n",
       " 21.27\n",
       " 21.27\n",
       " 44.98\n",
       " 17.34\n",
       " 19.86\n",
       " 27.0\n",
       " 21.27\n",
       "  ⋮\n",
       " 17.69\n",
       " 11.64\n",
       " 31.08\n",
       " 55.43\n",
       " 37.49\n",
       " 10.05\n",
       " 11.59"
      ]
     },
     "execution_count": 8,
     "metadata": {},
     "output_type": "execute_result"
    }
   ],
   "source": [
    "df.MEDIAN_LT = passmissing(replace).(df.MEDIAN_LT, \",\"=>\".\")\n",
    "df.MEDIAN_LT = passmissing(parse).(Float64, df.MEDIAN_LT)\n",
    "median_MEDIAN_LT = median(skipmissing(df.MEDIAN_LT))\n",
    "df.MEDIAN_LT = coalesce.(df.MEDIAN_LT, median_MEDIAN_LT)"
   ]
  },
  {
   "cell_type": "code",
   "execution_count": 9,
   "metadata": {},
   "outputs": [
    {
     "data": {
      "text/plain": [
       "Accumulator{Union{Missing, Int64}, Int64} with 9 entries:\n",
       "  0       => 5325\n",
       "  4       => 158\n",
       "  5       => 36\n",
       "  7       => 2\n",
       "  2       => 2020\n",
       "  6       => 6\n",
       "  missing => 4459\n",
       "  3       => 630\n",
       "  1       => 4574"
      ]
     },
     "execution_count": 9,
     "metadata": {},
     "output_type": "execute_result"
    }
   ],
   "source": [
    "counter(df.CNT_SMART_SALES)"
   ]
  },
  {
   "cell_type": "code",
   "execution_count": 10,
   "metadata": {},
   "outputs": [
    {
     "data": {
      "text/plain": [
       "Accumulator{Union{Missing, Int64}, Int64} with 8 entries:\n",
       "  5       => 1360\n",
       "  4       => 715\n",
       "  6       => 7836\n",
       "  0       => 1258\n",
       "  2       => 497\n",
       "  missing => 4425\n",
       "  3       => 528\n",
       "  1       => 591"
      ]
     },
     "execution_count": 10,
     "metadata": {},
     "output_type": "execute_result"
    }
   ],
   "source": [
    "counter(df.REV_CNT_MNTH)"
   ]
  },
  {
   "cell_type": "code",
   "execution_count": 11,
   "metadata": {},
   "outputs": [
    {
     "data": {
      "text/plain": [
       "Accumulator{Union{Missing, Int64}, Int64} with 186 entries:\n",
       "  56  => 33\n",
       "  35  => 36\n",
       "  60  => 28\n",
       "  67  => 42\n",
       "  73  => 47\n",
       "  115 => 49\n",
       "  112 => 50\n",
       "  86  => 42\n",
       "  168 => 140\n",
       "  183 => 83\n",
       "  177 => 123\n",
       "  12  => 37\n",
       "  75  => 44\n",
       "  23  => 42\n",
       "  111 => 66\n",
       "  ⋮   => ⋮"
      ]
     },
     "execution_count": 11,
     "metadata": {},
     "output_type": "execute_result"
    }
   ],
   "source": [
    "counter(df.MAX_DAYS_W_OUTGOING)"
   ]
  },
  {
   "cell_type": "code",
   "execution_count": 12,
   "metadata": {},
   "outputs": [
    {
     "data": {
      "text/plain": [
       "17210-element Vector{Int64}:\n",
       "  26\n",
       " 116\n",
       " 116\n",
       " 180\n",
       " 168\n",
       " 164\n",
       "   8\n",
       " 116\n",
       "   ⋮\n",
       " 155\n",
       " 147\n",
       " 100\n",
       "  84\n",
       " 146\n",
       " 114\n",
       "   0"
      ]
     },
     "execution_count": 12,
     "metadata": {},
     "output_type": "execute_result"
    }
   ],
   "source": [
    "median_MAX_DAYS_W_OUTGOING = convert(Int64, round(median(skipmissing(df.MAX_DAYS_W_OUTGOING)), digits=0))\n",
    "df.MAX_DAYS_W_OUTGOING = coalesce.(df.MAX_DAYS_W_OUTGOING, median_MAX_DAYS_W_OUTGOING)"
   ]
  },
  {
   "cell_type": "code",
   "execution_count": 13,
   "metadata": {},
   "outputs": [
    {
     "data": {
      "text/plain": [
       "17210-element Vector{Int64}:\n",
       " 182\n",
       "  80\n",
       "  80\n",
       " 169\n",
       "  82\n",
       " 128\n",
       "   8\n",
       "  80\n",
       "   ⋮\n",
       " 111\n",
       " 156\n",
       "  74\n",
       "  79\n",
       " 173\n",
       " 151\n",
       "   0"
      ]
     },
     "execution_count": 13,
     "metadata": {},
     "output_type": "execute_result"
    }
   ],
   "source": [
    "median_MAX_DAYS_W_MB = convert(Int64, round(median(skipmissing(df.MAX_DAYS_W_MB)), digits=0))\n",
    "df.MAX_DAYS_W_MB = coalesce.(df.MAX_DAYS_W_MB, median_MAX_DAYS_W_MB)"
   ]
  },
  {
   "cell_type": "code",
   "execution_count": 14,
   "metadata": {},
   "outputs": [
    {
     "data": {
      "text/plain": [
       "17210-element Vector{Int64}:\n",
       "  2\n",
       "  4\n",
       "  4\n",
       "  0\n",
       " 36\n",
       "  0\n",
       "  4\n",
       "  4\n",
       "  ⋮\n",
       " 92\n",
       "  0\n",
       "  0\n",
       " 33\n",
       " 47\n",
       "  0\n",
       "  0"
      ]
     },
     "execution_count": 14,
     "metadata": {},
     "output_type": "execute_result"
    }
   ],
   "source": [
    "median_MAX_DAYS_IN_DEBT = convert(Int64, round(median(skipmissing(df.MAX_DAYS_IN_DEBT)), digits=0))\n",
    "df.MAX_DAYS_IN_DEBT = coalesce.(df.MAX_DAYS_IN_DEBT, median_MAX_DAYS_IN_DEBT)"
   ]
  },
  {
   "cell_type": "code",
   "execution_count": 15,
   "metadata": {},
   "outputs": [
    {
     "data": {
      "text/plain": [
       "17210-element Vector{Float64}:\n",
       " 14.1\n",
       "  2.17\n",
       "  2.17\n",
       "  0.0\n",
       " 14.99\n",
       "  0.0\n",
       "  2.17\n",
       "  2.17\n",
       "  ⋮\n",
       " 37.06\n",
       "  0.0\n",
       "  0.0\n",
       " 20.74\n",
       "  4.64\n",
       "  0.0\n",
       "  0.0"
      ]
     },
     "execution_count": 15,
     "metadata": {},
     "output_type": "execute_result"
    }
   ],
   "source": [
    "df.MAX_DEBT_SUM = passmissing(replace).(df.MAX_DEBT_SUM, \",\"=>\".\")\n",
    "df.MAX_DEBT_SUM = passmissing(parse).(Float64, df.MAX_DEBT_SUM)\n",
    "median_MAX_DEBT_SUM = median(skipmissing(df.MAX_DEBT_SUM))\n",
    "df.MAX_DEBT_SUM = coalesce.(df.MAX_DEBT_SUM, median_MAX_DEBT_SUM)"
   ]
  },
  {
   "cell_type": "code",
   "execution_count": null,
   "metadata": {},
   "outputs": [],
   "source": []
  },
  {
   "cell_type": "code",
   "execution_count": null,
   "metadata": {},
   "outputs": [],
   "source": []
  },
  {
   "cell_type": "code",
   "execution_count": null,
   "metadata": {},
   "outputs": [],
   "source": []
  },
  {
   "cell_type": "code",
   "execution_count": null,
   "metadata": {},
   "outputs": [],
   "source": []
  }
 ],
 "metadata": {
  "kernelspec": {
   "display_name": "Julia 1.6.1",
   "language": "julia",
   "name": "julia-1.6"
  },
  "language_info": {
   "file_extension": ".jl",
   "mimetype": "application/julia",
   "name": "julia",
   "version": "1.6.1"
  }
 },
 "nbformat": 4,
 "nbformat_minor": 5
}