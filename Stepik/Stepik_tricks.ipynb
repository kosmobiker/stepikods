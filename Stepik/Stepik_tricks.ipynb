{
 "cells": [
  {
   "cell_type": "code",
   "execution_count": 1,
   "metadata": {},
   "outputs": [],
   "source": [
    "import numpy as np\n",
    "import pandas as pd\n",
    "%matplotlib inline"
   ]
  },
  {
   "cell_type": "code",
   "execution_count": 3,
   "metadata": {},
   "outputs": [],
   "source": [
    "movie = pd.read_csv('~/Documents/Stepik + ODS/data/movie_metadata.csv')"
   ]
  },
  {
   "cell_type": "code",
   "execution_count": 5,
   "metadata": {},
   "outputs": [],
   "source": [
    "genres = movie[['movie_title', 'genres']]"
   ]
  },
  {
   "cell_type": "code",
   "execution_count": 6,
   "metadata": {},
   "outputs": [],
   "source": [
    "budget=movie[['budget', 'duration']]"
   ]
  },
  {
   "cell_type": "code",
   "execution_count": 7,
   "metadata": {},
   "outputs": [
    {
     "data": {
      "text/html": [
       "<div>\n",
       "<style scoped>\n",
       "    .dataframe tbody tr th:only-of-type {\n",
       "        vertical-align: middle;\n",
       "    }\n",
       "\n",
       "    .dataframe tbody tr th {\n",
       "        vertical-align: top;\n",
       "    }\n",
       "\n",
       "    .dataframe thead th {\n",
       "        text-align: right;\n",
       "    }\n",
       "</style>\n",
       "<table border=\"1\" class=\"dataframe\">\n",
       "  <thead>\n",
       "    <tr style=\"text-align: right;\">\n",
       "      <th></th>\n",
       "      <th>budget</th>\n",
       "      <th>duration</th>\n",
       "    </tr>\n",
       "  </thead>\n",
       "  <tbody>\n",
       "    <tr>\n",
       "      <td>0</td>\n",
       "      <td>237000001.0</td>\n",
       "      <td>179.0</td>\n",
       "    </tr>\n",
       "    <tr>\n",
       "      <td>1</td>\n",
       "      <td>300000001.0</td>\n",
       "      <td>170.0</td>\n",
       "    </tr>\n",
       "    <tr>\n",
       "      <td>2</td>\n",
       "      <td>245000001.0</td>\n",
       "      <td>149.0</td>\n",
       "    </tr>\n",
       "    <tr>\n",
       "      <td>3</td>\n",
       "      <td>250000001.0</td>\n",
       "      <td>165.0</td>\n",
       "    </tr>\n",
       "    <tr>\n",
       "      <td>4</td>\n",
       "      <td>NaN</td>\n",
       "      <td>NaN</td>\n",
       "    </tr>\n",
       "    <tr>\n",
       "      <td>...</td>\n",
       "      <td>...</td>\n",
       "      <td>...</td>\n",
       "    </tr>\n",
       "    <tr>\n",
       "      <td>5038</td>\n",
       "      <td>NaN</td>\n",
       "      <td>88.0</td>\n",
       "    </tr>\n",
       "    <tr>\n",
       "      <td>5039</td>\n",
       "      <td>NaN</td>\n",
       "      <td>44.0</td>\n",
       "    </tr>\n",
       "    <tr>\n",
       "      <td>5040</td>\n",
       "      <td>1401.0</td>\n",
       "      <td>77.0</td>\n",
       "    </tr>\n",
       "    <tr>\n",
       "      <td>5041</td>\n",
       "      <td>NaN</td>\n",
       "      <td>101.0</td>\n",
       "    </tr>\n",
       "    <tr>\n",
       "      <td>5042</td>\n",
       "      <td>1101.0</td>\n",
       "      <td>91.0</td>\n",
       "    </tr>\n",
       "  </tbody>\n",
       "</table>\n",
       "<p>5043 rows × 2 columns</p>\n",
       "</div>"
      ],
      "text/plain": [
       "           budget  duration\n",
       "0     237000001.0     179.0\n",
       "1     300000001.0     170.0\n",
       "2     245000001.0     149.0\n",
       "3     250000001.0     165.0\n",
       "4             NaN       NaN\n",
       "...           ...       ...\n",
       "5038          NaN      88.0\n",
       "5039          NaN      44.0\n",
       "5040       1401.0      77.0\n",
       "5041          NaN     101.0\n",
       "5042       1101.0      91.0\n",
       "\n",
       "[5043 rows x 2 columns]"
      ]
     },
     "execution_count": 7,
     "metadata": {},
     "output_type": "execute_result"
    }
   ],
   "source": [
    "budget.applymap(lambda x: x + 1) # применяет ф-цию к каждому значению датасета"
   ]
  },
  {
   "cell_type": "code",
   "execution_count": 8,
   "metadata": {},
   "outputs": [
    {
     "data": {
      "text/plain": [
       "budget      3.975262e+07\n",
       "duration    1.072011e+02\n",
       "dtype: float64"
      ]
     },
     "execution_count": 8,
     "metadata": {},
     "output_type": "execute_result"
    }
   ],
   "source": [
    "budget.apply(np.mean, axis=0) # применяет функцию к колонке, или к строке"
   ]
  },
  {
   "cell_type": "code",
   "execution_count": 9,
   "metadata": {},
   "outputs": [
    {
     "data": {
      "text/html": [
       "<div>\n",
       "<style scoped>\n",
       "    .dataframe tbody tr th:only-of-type {\n",
       "        vertical-align: middle;\n",
       "    }\n",
       "\n",
       "    .dataframe tbody tr th {\n",
       "        vertical-align: top;\n",
       "    }\n",
       "\n",
       "    .dataframe thead th {\n",
       "        text-align: right;\n",
       "    }\n",
       "</style>\n",
       "<table border=\"1\" class=\"dataframe\">\n",
       "  <thead>\n",
       "    <tr style=\"text-align: right;\">\n",
       "      <th></th>\n",
       "      <th>budget</th>\n",
       "      <th>duration</th>\n",
       "    </tr>\n",
       "  </thead>\n",
       "  <tbody>\n",
       "    <tr>\n",
       "      <td>0</td>\n",
       "      <td>237000001.0</td>\n",
       "      <td>179.0</td>\n",
       "    </tr>\n",
       "    <tr>\n",
       "      <td>1</td>\n",
       "      <td>300000001.0</td>\n",
       "      <td>170.0</td>\n",
       "    </tr>\n",
       "    <tr>\n",
       "      <td>2</td>\n",
       "      <td>245000001.0</td>\n",
       "      <td>149.0</td>\n",
       "    </tr>\n",
       "    <tr>\n",
       "      <td>3</td>\n",
       "      <td>250000001.0</td>\n",
       "      <td>165.0</td>\n",
       "    </tr>\n",
       "    <tr>\n",
       "      <td>4</td>\n",
       "      <td>NaN</td>\n",
       "      <td>NaN</td>\n",
       "    </tr>\n",
       "    <tr>\n",
       "      <td>...</td>\n",
       "      <td>...</td>\n",
       "      <td>...</td>\n",
       "    </tr>\n",
       "    <tr>\n",
       "      <td>5038</td>\n",
       "      <td>NaN</td>\n",
       "      <td>88.0</td>\n",
       "    </tr>\n",
       "    <tr>\n",
       "      <td>5039</td>\n",
       "      <td>NaN</td>\n",
       "      <td>44.0</td>\n",
       "    </tr>\n",
       "    <tr>\n",
       "      <td>5040</td>\n",
       "      <td>1401.0</td>\n",
       "      <td>77.0</td>\n",
       "    </tr>\n",
       "    <tr>\n",
       "      <td>5041</td>\n",
       "      <td>NaN</td>\n",
       "      <td>101.0</td>\n",
       "    </tr>\n",
       "    <tr>\n",
       "      <td>5042</td>\n",
       "      <td>1101.0</td>\n",
       "      <td>91.0</td>\n",
       "    </tr>\n",
       "  </tbody>\n",
       "</table>\n",
       "<p>5043 rows × 2 columns</p>\n",
       "</div>"
      ],
      "text/plain": [
       "           budget  duration\n",
       "0     237000001.0     179.0\n",
       "1     300000001.0     170.0\n",
       "2     245000001.0     149.0\n",
       "3     250000001.0     165.0\n",
       "4             NaN       NaN\n",
       "...           ...       ...\n",
       "5038          NaN      88.0\n",
       "5039          NaN      44.0\n",
       "5040       1401.0      77.0\n",
       "5041          NaN     101.0\n",
       "5042       1101.0      91.0\n",
       "\n",
       "[5043 rows x 2 columns]"
      ]
     },
     "execution_count": 9,
     "metadata": {},
     "output_type": "execute_result"
    }
   ],
   "source": [
    "budget.transform(lambda x: x + 1)"
   ]
  },
  {
   "cell_type": "code",
   "execution_count": 10,
   "metadata": {},
   "outputs": [],
   "source": [
    "def mm(col):\n",
    "    return np.mean(col) + 1"
   ]
  },
  {
   "cell_type": "code",
   "execution_count": 11,
   "metadata": {},
   "outputs": [
    {
     "data": {
      "text/plain": [
       "budget      3.975262e+07\n",
       "duration    1.082011e+02\n",
       "dtype: float64"
      ]
     },
     "execution_count": 11,
     "metadata": {},
     "output_type": "execute_result"
    }
   ],
   "source": [
    "budget.apply(mm)"
   ]
  },
  {
   "cell_type": "code",
   "execution_count": 12,
   "metadata": {},
   "outputs": [
    {
     "data": {
      "text/plain": [
       "nan"
      ]
     },
     "execution_count": 12,
     "metadata": {},
     "output_type": "execute_result"
    }
   ],
   "source": [
    "# np array выигрывает в скорости по сравнению с pd.DataFrame\n",
    "np.mean(budget['budget'].values)"
   ]
  },
  {
   "cell_type": "code",
   "execution_count": 13,
   "metadata": {},
   "outputs": [
    {
     "data": {
      "text/plain": [
       "39752620.436387606"
      ]
     },
     "execution_count": 13,
     "metadata": {},
     "output_type": "execute_result"
    }
   ],
   "source": [
    "# но и имеет свои неудобства: применяем dropna() чтобы посчитать mean()\n",
    "np.mean(budget['budget'].dropna().values)"
   ]
  },
  {
   "cell_type": "code",
   "execution_count": 16,
   "metadata": {},
   "outputs": [],
   "source": [
    "df = pd.read_csv('https://stepik.org/media/attachments/course/4852/iris.csv')"
   ]
  },
  {
   "cell_type": "code",
   "execution_count": 24,
   "metadata": {},
   "outputs": [
    {
     "name": "stdout",
     "output_type": "stream",
     "text": [
      "CPU times: user 3.59 ms, sys: 0 ns, total: 3.59 ms\n",
      "Wall time: 3.42 ms\n"
     ]
    },
    {
     "data": {
      "text/plain": [
       "Unnamed: 0      74.500000\n",
       "sepal length     5.843333\n",
       "sepal width      3.054000\n",
       "petal length     3.758667\n",
       "petal width      1.198667\n",
       "species          1.000000\n",
       "dtype: float64"
      ]
     },
     "execution_count": 24,
     "metadata": {},
     "output_type": "execute_result"
    }
   ],
   "source": [
    "%%time\n",
    "df.apply(np.mean)"
   ]
  },
  {
   "cell_type": "code",
   "execution_count": 25,
   "metadata": {},
   "outputs": [
    {
     "name": "stdout",
     "output_type": "stream",
     "text": [
      "CPU times: user 609 µs, sys: 13 µs, total: 622 µs\n",
      "Wall time: 592 µs\n"
     ]
    },
    {
     "data": {
      "text/plain": [
       "Unnamed: 0      74.500000\n",
       "sepal length     5.843333\n",
       "sepal width      3.054000\n",
       "petal length     3.758667\n",
       "petal width      1.198667\n",
       "species          1.000000\n",
       "dtype: float64"
      ]
     },
     "execution_count": 25,
     "metadata": {},
     "output_type": "execute_result"
    }
   ],
   "source": [
    "%%time\n",
    "df.apply('mean')"
   ]
  },
  {
   "cell_type": "code",
   "execution_count": 26,
   "metadata": {},
   "outputs": [
    {
     "name": "stdout",
     "output_type": "stream",
     "text": [
      "CPU times: user 498 µs, sys: 0 ns, total: 498 µs\n",
      "Wall time: 464 µs\n"
     ]
    },
    {
     "data": {
      "text/plain": [
       "Unnamed: 0      74.500000\n",
       "sepal length     5.843333\n",
       "sepal width      3.054000\n",
       "petal length     3.758667\n",
       "petal width      1.198667\n",
       "species          1.000000\n",
       "dtype: float64"
      ]
     },
     "execution_count": 26,
     "metadata": {},
     "output_type": "execute_result"
    }
   ],
   "source": [
    "%%time\n",
    "df.mean(axis=0)"
   ]
  },
  {
   "cell_type": "code",
   "execution_count": 27,
   "metadata": {},
   "outputs": [
    {
     "name": "stdout",
     "output_type": "stream",
     "text": [
      "CPU times: user 23.2 ms, sys: 3.98 ms, total: 27.2 ms\n",
      "Wall time: 25.9 ms\n"
     ]
    },
    {
     "data": {
      "text/plain": [
       "Unnamed: 0      74.500000\n",
       "sepal length     5.843333\n",
       "sepal width      3.054000\n",
       "petal length     3.758667\n",
       "petal width      1.198667\n",
       "species          1.000000\n",
       "Name: mean, dtype: float64"
      ]
     },
     "execution_count": 27,
     "metadata": {},
     "output_type": "execute_result"
    }
   ],
   "source": [
    "%%time\n",
    "df.describe().loc['mean'] "
   ]
  },
  {
   "cell_type": "code",
   "execution_count": 28,
   "metadata": {},
   "outputs": [],
   "source": [
    "stock=pd.read_csv('https://raw.githubusercontent.com/PacktPublishing/Pandas-Cookbook/master/data/amzn_stock.csv')"
   ]
  },
  {
   "cell_type": "code",
   "execution_count": 29,
   "metadata": {},
   "outputs": [
    {
     "data": {
      "text/html": [
       "<div>\n",
       "<style scoped>\n",
       "    .dataframe tbody tr th:only-of-type {\n",
       "        vertical-align: middle;\n",
       "    }\n",
       "\n",
       "    .dataframe tbody tr th {\n",
       "        vertical-align: top;\n",
       "    }\n",
       "\n",
       "    .dataframe thead th {\n",
       "        text-align: right;\n",
       "    }\n",
       "</style>\n",
       "<table border=\"1\" class=\"dataframe\">\n",
       "  <thead>\n",
       "    <tr style=\"text-align: right;\">\n",
       "      <th></th>\n",
       "      <th>Date</th>\n",
       "      <th>Open</th>\n",
       "      <th>High</th>\n",
       "      <th>Low</th>\n",
       "      <th>Close</th>\n",
       "      <th>Volume</th>\n",
       "    </tr>\n",
       "  </thead>\n",
       "  <tbody>\n",
       "    <tr>\n",
       "      <td>0</td>\n",
       "      <td>2010-01-04</td>\n",
       "      <td>136.25</td>\n",
       "      <td>136.61</td>\n",
       "      <td>133.14</td>\n",
       "      <td>133.90</td>\n",
       "      <td>7600543</td>\n",
       "    </tr>\n",
       "    <tr>\n",
       "      <td>1</td>\n",
       "      <td>2010-01-05</td>\n",
       "      <td>133.43</td>\n",
       "      <td>135.48</td>\n",
       "      <td>131.81</td>\n",
       "      <td>134.69</td>\n",
       "      <td>8856456</td>\n",
       "    </tr>\n",
       "    <tr>\n",
       "      <td>2</td>\n",
       "      <td>2010-01-06</td>\n",
       "      <td>134.60</td>\n",
       "      <td>134.73</td>\n",
       "      <td>131.65</td>\n",
       "      <td>132.25</td>\n",
       "      <td>7180977</td>\n",
       "    </tr>\n",
       "    <tr>\n",
       "      <td>3</td>\n",
       "      <td>2010-01-07</td>\n",
       "      <td>132.01</td>\n",
       "      <td>132.32</td>\n",
       "      <td>128.80</td>\n",
       "      <td>130.00</td>\n",
       "      <td>11030124</td>\n",
       "    </tr>\n",
       "    <tr>\n",
       "      <td>4</td>\n",
       "      <td>2010-01-08</td>\n",
       "      <td>130.56</td>\n",
       "      <td>133.68</td>\n",
       "      <td>129.03</td>\n",
       "      <td>133.52</td>\n",
       "      <td>9833829</td>\n",
       "    </tr>\n",
       "  </tbody>\n",
       "</table>\n",
       "</div>"
      ],
      "text/plain": [
       "         Date    Open    High     Low   Close    Volume\n",
       "0  2010-01-04  136.25  136.61  133.14  133.90   7600543\n",
       "1  2010-01-05  133.43  135.48  131.81  134.69   8856456\n",
       "2  2010-01-06  134.60  134.73  131.65  132.25   7180977\n",
       "3  2010-01-07  132.01  132.32  128.80  130.00  11030124\n",
       "4  2010-01-08  130.56  133.68  129.03  133.52   9833829"
      ]
     },
     "execution_count": 29,
     "metadata": {},
     "output_type": "execute_result"
    }
   ],
   "source": [
    "stock.head()"
   ]
  },
  {
   "cell_type": "code",
   "execution_count": 30,
   "metadata": {},
   "outputs": [],
   "source": [
    "# делаем дату индексом\n",
    "stock=pd.read_csv('https://raw.githubusercontent.com/PacktPublishing/Pandas-Cookbook/master/data/amzn_stock.csv',\n",
    "                  index_col='Date', parse_dates=True)"
   ]
  },
  {
   "cell_type": "code",
   "execution_count": 31,
   "metadata": {},
   "outputs": [
    {
     "data": {
      "text/html": [
       "<div>\n",
       "<style scoped>\n",
       "    .dataframe tbody tr th:only-of-type {\n",
       "        vertical-align: middle;\n",
       "    }\n",
       "\n",
       "    .dataframe tbody tr th {\n",
       "        vertical-align: top;\n",
       "    }\n",
       "\n",
       "    .dataframe thead th {\n",
       "        text-align: right;\n",
       "    }\n",
       "</style>\n",
       "<table border=\"1\" class=\"dataframe\">\n",
       "  <thead>\n",
       "    <tr style=\"text-align: right;\">\n",
       "      <th></th>\n",
       "      <th>Open</th>\n",
       "      <th>High</th>\n",
       "      <th>Low</th>\n",
       "      <th>Close</th>\n",
       "      <th>Volume</th>\n",
       "    </tr>\n",
       "    <tr>\n",
       "      <th>Date</th>\n",
       "      <th></th>\n",
       "      <th></th>\n",
       "      <th></th>\n",
       "      <th></th>\n",
       "      <th></th>\n",
       "    </tr>\n",
       "  </thead>\n",
       "  <tbody>\n",
       "    <tr>\n",
       "      <td>2010-01-04</td>\n",
       "      <td>136.25</td>\n",
       "      <td>136.61</td>\n",
       "      <td>133.14</td>\n",
       "      <td>133.90</td>\n",
       "      <td>7600543</td>\n",
       "    </tr>\n",
       "    <tr>\n",
       "      <td>2010-01-05</td>\n",
       "      <td>133.43</td>\n",
       "      <td>135.48</td>\n",
       "      <td>131.81</td>\n",
       "      <td>134.69</td>\n",
       "      <td>8856456</td>\n",
       "    </tr>\n",
       "    <tr>\n",
       "      <td>2010-01-06</td>\n",
       "      <td>134.60</td>\n",
       "      <td>134.73</td>\n",
       "      <td>131.65</td>\n",
       "      <td>132.25</td>\n",
       "      <td>7180977</td>\n",
       "    </tr>\n",
       "    <tr>\n",
       "      <td>2010-01-07</td>\n",
       "      <td>132.01</td>\n",
       "      <td>132.32</td>\n",
       "      <td>128.80</td>\n",
       "      <td>130.00</td>\n",
       "      <td>11030124</td>\n",
       "    </tr>\n",
       "    <tr>\n",
       "      <td>2010-01-08</td>\n",
       "      <td>130.56</td>\n",
       "      <td>133.68</td>\n",
       "      <td>129.03</td>\n",
       "      <td>133.52</td>\n",
       "      <td>9833829</td>\n",
       "    </tr>\n",
       "    <tr>\n",
       "      <td>...</td>\n",
       "      <td>...</td>\n",
       "      <td>...</td>\n",
       "      <td>...</td>\n",
       "      <td>...</td>\n",
       "      <td>...</td>\n",
       "    </tr>\n",
       "    <tr>\n",
       "      <td>2010-12-27</td>\n",
       "      <td>181.90</td>\n",
       "      <td>183.14</td>\n",
       "      <td>180.45</td>\n",
       "      <td>182.14</td>\n",
       "      <td>2249734</td>\n",
       "    </tr>\n",
       "    <tr>\n",
       "      <td>2010-12-28</td>\n",
       "      <td>182.10</td>\n",
       "      <td>182.77</td>\n",
       "      <td>181.05</td>\n",
       "      <td>181.09</td>\n",
       "      <td>1975718</td>\n",
       "    </tr>\n",
       "    <tr>\n",
       "      <td>2010-12-29</td>\n",
       "      <td>181.80</td>\n",
       "      <td>184.35</td>\n",
       "      <td>180.41</td>\n",
       "      <td>183.37</td>\n",
       "      <td>3122379</td>\n",
       "    </tr>\n",
       "    <tr>\n",
       "      <td>2010-12-30</td>\n",
       "      <td>183.92</td>\n",
       "      <td>184.55</td>\n",
       "      <td>182.75</td>\n",
       "      <td>182.75</td>\n",
       "      <td>1961549</td>\n",
       "    </tr>\n",
       "    <tr>\n",
       "      <td>2010-12-31</td>\n",
       "      <td>181.96</td>\n",
       "      <td>182.30</td>\n",
       "      <td>179.51</td>\n",
       "      <td>180.00</td>\n",
       "      <td>3453895</td>\n",
       "    </tr>\n",
       "  </tbody>\n",
       "</table>\n",
       "<p>251 rows × 5 columns</p>\n",
       "</div>"
      ],
      "text/plain": [
       "              Open    High     Low   Close    Volume\n",
       "Date                                                \n",
       "2010-01-04  136.25  136.61  133.14  133.90   7600543\n",
       "2010-01-05  133.43  135.48  131.81  134.69   8856456\n",
       "2010-01-06  134.60  134.73  131.65  132.25   7180977\n",
       "2010-01-07  132.01  132.32  128.80  130.00  11030124\n",
       "2010-01-08  130.56  133.68  129.03  133.52   9833829\n",
       "...            ...     ...     ...     ...       ...\n",
       "2010-12-27  181.90  183.14  180.45  182.14   2249734\n",
       "2010-12-28  182.10  182.77  181.05  181.09   1975718\n",
       "2010-12-29  181.80  184.35  180.41  183.37   3122379\n",
       "2010-12-30  183.92  184.55  182.75  182.75   1961549\n",
       "2010-12-31  181.96  182.30  179.51  180.00   3453895\n",
       "\n",
       "[251 rows x 5 columns]"
      ]
     },
     "execution_count": 31,
     "metadata": {},
     "output_type": "execute_result"
    }
   ],
   "source": [
    "stock['2010']"
   ]
  },
  {
   "cell_type": "code",
   "execution_count": 32,
   "metadata": {},
   "outputs": [
    {
     "data": {
      "text/html": [
       "<div>\n",
       "<style scoped>\n",
       "    .dataframe tbody tr th:only-of-type {\n",
       "        vertical-align: middle;\n",
       "    }\n",
       "\n",
       "    .dataframe tbody tr th {\n",
       "        vertical-align: top;\n",
       "    }\n",
       "\n",
       "    .dataframe thead th {\n",
       "        text-align: right;\n",
       "    }\n",
       "</style>\n",
       "<table border=\"1\" class=\"dataframe\">\n",
       "  <thead>\n",
       "    <tr style=\"text-align: right;\">\n",
       "      <th></th>\n",
       "      <th>Open</th>\n",
       "      <th>High</th>\n",
       "      <th>Low</th>\n",
       "      <th>Close</th>\n",
       "      <th>Volume</th>\n",
       "    </tr>\n",
       "    <tr>\n",
       "      <th>Date</th>\n",
       "      <th></th>\n",
       "      <th></th>\n",
       "      <th></th>\n",
       "      <th></th>\n",
       "      <th></th>\n",
       "    </tr>\n",
       "  </thead>\n",
       "  <tbody>\n",
       "    <tr>\n",
       "      <td>2010-02-01</td>\n",
       "      <td>123.18</td>\n",
       "      <td>124.86</td>\n",
       "      <td>113.82</td>\n",
       "      <td>118.87</td>\n",
       "      <td>37774317</td>\n",
       "    </tr>\n",
       "    <tr>\n",
       "      <td>2010-02-02</td>\n",
       "      <td>118.79</td>\n",
       "      <td>118.98</td>\n",
       "      <td>114.40</td>\n",
       "      <td>118.12</td>\n",
       "      <td>23084986</td>\n",
       "    </tr>\n",
       "    <tr>\n",
       "      <td>2010-02-03</td>\n",
       "      <td>117.12</td>\n",
       "      <td>119.61</td>\n",
       "      <td>116.56</td>\n",
       "      <td>119.10</td>\n",
       "      <td>12409012</td>\n",
       "    </tr>\n",
       "    <tr>\n",
       "      <td>2010-02-04</td>\n",
       "      <td>118.64</td>\n",
       "      <td>120.33</td>\n",
       "      <td>115.74</td>\n",
       "      <td>115.94</td>\n",
       "      <td>12783912</td>\n",
       "    </tr>\n",
       "    <tr>\n",
       "      <td>2010-02-05</td>\n",
       "      <td>115.88</td>\n",
       "      <td>117.65</td>\n",
       "      <td>114.10</td>\n",
       "      <td>117.39</td>\n",
       "      <td>11027086</td>\n",
       "    </tr>\n",
       "    <tr>\n",
       "      <td>...</td>\n",
       "      <td>...</td>\n",
       "      <td>...</td>\n",
       "      <td>...</td>\n",
       "      <td>...</td>\n",
       "      <td>...</td>\n",
       "    </tr>\n",
       "    <tr>\n",
       "      <td>2011-03-25</td>\n",
       "      <td>171.64</td>\n",
       "      <td>173.49</td>\n",
       "      <td>170.30</td>\n",
       "      <td>170.98</td>\n",
       "      <td>4294302</td>\n",
       "    </tr>\n",
       "    <tr>\n",
       "      <td>2011-03-28</td>\n",
       "      <td>171.80</td>\n",
       "      <td>172.50</td>\n",
       "      <td>169.25</td>\n",
       "      <td>169.35</td>\n",
       "      <td>3400936</td>\n",
       "    </tr>\n",
       "    <tr>\n",
       "      <td>2011-03-29</td>\n",
       "      <td>170.73</td>\n",
       "      <td>174.84</td>\n",
       "      <td>170.07</td>\n",
       "      <td>174.62</td>\n",
       "      <td>4887443</td>\n",
       "    </tr>\n",
       "    <tr>\n",
       "      <td>2011-03-30</td>\n",
       "      <td>177.78</td>\n",
       "      <td>181.16</td>\n",
       "      <td>177.66</td>\n",
       "      <td>179.42</td>\n",
       "      <td>6860586</td>\n",
       "    </tr>\n",
       "    <tr>\n",
       "      <td>2011-03-31</td>\n",
       "      <td>179.31</td>\n",
       "      <td>181.57</td>\n",
       "      <td>178.50</td>\n",
       "      <td>180.13</td>\n",
       "      <td>4828345</td>\n",
       "    </tr>\n",
       "  </tbody>\n",
       "</table>\n",
       "<p>294 rows × 5 columns</p>\n",
       "</div>"
      ],
      "text/plain": [
       "              Open    High     Low   Close    Volume\n",
       "Date                                                \n",
       "2010-02-01  123.18  124.86  113.82  118.87  37774317\n",
       "2010-02-02  118.79  118.98  114.40  118.12  23084986\n",
       "2010-02-03  117.12  119.61  116.56  119.10  12409012\n",
       "2010-02-04  118.64  120.33  115.74  115.94  12783912\n",
       "2010-02-05  115.88  117.65  114.10  117.39  11027086\n",
       "...            ...     ...     ...     ...       ...\n",
       "2011-03-25  171.64  173.49  170.30  170.98   4294302\n",
       "2011-03-28  171.80  172.50  169.25  169.35   3400936\n",
       "2011-03-29  170.73  174.84  170.07  174.62   4887443\n",
       "2011-03-30  177.78  181.16  177.66  179.42   6860586\n",
       "2011-03-31  179.31  181.57  178.50  180.13   4828345\n",
       "\n",
       "[294 rows x 5 columns]"
      ]
     },
     "execution_count": 32,
     "metadata": {},
     "output_type": "execute_result"
    }
   ],
   "source": [
    "stock['2010-02':'2011-03']"
   ]
  },
  {
   "cell_type": "code",
   "execution_count": 33,
   "metadata": {},
   "outputs": [
    {
     "data": {
      "text/html": [
       "<div>\n",
       "<style scoped>\n",
       "    .dataframe tbody tr th:only-of-type {\n",
       "        vertical-align: middle;\n",
       "    }\n",
       "\n",
       "    .dataframe tbody tr th {\n",
       "        vertical-align: top;\n",
       "    }\n",
       "\n",
       "    .dataframe thead th {\n",
       "        text-align: right;\n",
       "    }\n",
       "</style>\n",
       "<table border=\"1\" class=\"dataframe\">\n",
       "  <thead>\n",
       "    <tr style=\"text-align: right;\">\n",
       "      <th></th>\n",
       "      <th>Open</th>\n",
       "      <th>High</th>\n",
       "      <th>Low</th>\n",
       "      <th>Close</th>\n",
       "      <th>Volume</th>\n",
       "    </tr>\n",
       "    <tr>\n",
       "      <th>Date</th>\n",
       "      <th></th>\n",
       "      <th></th>\n",
       "      <th></th>\n",
       "      <th></th>\n",
       "      <th></th>\n",
       "    </tr>\n",
       "  </thead>\n",
       "  <tbody>\n",
       "    <tr>\n",
       "      <td>2010-01-04 00:00:00</td>\n",
       "      <td>136.25</td>\n",
       "      <td>136.61</td>\n",
       "      <td>133.14</td>\n",
       "      <td>133.90</td>\n",
       "      <td>7600543.0</td>\n",
       "    </tr>\n",
       "    <tr>\n",
       "      <td>2010-01-04 02:00:00</td>\n",
       "      <td>NaN</td>\n",
       "      <td>NaN</td>\n",
       "      <td>NaN</td>\n",
       "      <td>NaN</td>\n",
       "      <td>NaN</td>\n",
       "    </tr>\n",
       "    <tr>\n",
       "      <td>2010-01-04 04:00:00</td>\n",
       "      <td>NaN</td>\n",
       "      <td>NaN</td>\n",
       "      <td>NaN</td>\n",
       "      <td>NaN</td>\n",
       "      <td>NaN</td>\n",
       "    </tr>\n",
       "    <tr>\n",
       "      <td>2010-01-04 06:00:00</td>\n",
       "      <td>NaN</td>\n",
       "      <td>NaN</td>\n",
       "      <td>NaN</td>\n",
       "      <td>NaN</td>\n",
       "      <td>NaN</td>\n",
       "    </tr>\n",
       "    <tr>\n",
       "      <td>2010-01-04 08:00:00</td>\n",
       "      <td>NaN</td>\n",
       "      <td>NaN</td>\n",
       "      <td>NaN</td>\n",
       "      <td>NaN</td>\n",
       "      <td>NaN</td>\n",
       "    </tr>\n",
       "    <tr>\n",
       "      <td>...</td>\n",
       "      <td>...</td>\n",
       "      <td>...</td>\n",
       "      <td>...</td>\n",
       "      <td>...</td>\n",
       "      <td>...</td>\n",
       "    </tr>\n",
       "    <tr>\n",
       "      <td>2017-07-16 16:00:00</td>\n",
       "      <td>NaN</td>\n",
       "      <td>NaN</td>\n",
       "      <td>NaN</td>\n",
       "      <td>NaN</td>\n",
       "      <td>NaN</td>\n",
       "    </tr>\n",
       "    <tr>\n",
       "      <td>2017-07-16 18:00:00</td>\n",
       "      <td>NaN</td>\n",
       "      <td>NaN</td>\n",
       "      <td>NaN</td>\n",
       "      <td>NaN</td>\n",
       "      <td>NaN</td>\n",
       "    </tr>\n",
       "    <tr>\n",
       "      <td>2017-07-16 20:00:00</td>\n",
       "      <td>NaN</td>\n",
       "      <td>NaN</td>\n",
       "      <td>NaN</td>\n",
       "      <td>NaN</td>\n",
       "      <td>NaN</td>\n",
       "    </tr>\n",
       "    <tr>\n",
       "      <td>2017-07-16 22:00:00</td>\n",
       "      <td>NaN</td>\n",
       "      <td>NaN</td>\n",
       "      <td>NaN</td>\n",
       "      <td>NaN</td>\n",
       "      <td>NaN</td>\n",
       "    </tr>\n",
       "    <tr>\n",
       "      <td>2017-07-17 00:00:00</td>\n",
       "      <td>1004.69</td>\n",
       "      <td>1014.75</td>\n",
       "      <td>1003.81</td>\n",
       "      <td>1010.04</td>\n",
       "      <td>3668721.0</td>\n",
       "    </tr>\n",
       "  </tbody>\n",
       "</table>\n",
       "<p>33013 rows × 5 columns</p>\n",
       "</div>"
      ],
      "text/plain": [
       "                        Open     High      Low    Close     Volume\n",
       "Date                                                              \n",
       "2010-01-04 00:00:00   136.25   136.61   133.14   133.90  7600543.0\n",
       "2010-01-04 02:00:00      NaN      NaN      NaN      NaN        NaN\n",
       "2010-01-04 04:00:00      NaN      NaN      NaN      NaN        NaN\n",
       "2010-01-04 06:00:00      NaN      NaN      NaN      NaN        NaN\n",
       "2010-01-04 08:00:00      NaN      NaN      NaN      NaN        NaN\n",
       "...                      ...      ...      ...      ...        ...\n",
       "2017-07-16 16:00:00      NaN      NaN      NaN      NaN        NaN\n",
       "2017-07-16 18:00:00      NaN      NaN      NaN      NaN        NaN\n",
       "2017-07-16 20:00:00      NaN      NaN      NaN      NaN        NaN\n",
       "2017-07-16 22:00:00      NaN      NaN      NaN      NaN        NaN\n",
       "2017-07-17 00:00:00  1004.69  1014.75  1003.81  1010.04  3668721.0\n",
       "\n",
       "[33013 rows x 5 columns]"
      ]
     },
     "execution_count": 33,
     "metadata": {},
     "output_type": "execute_result"
    }
   ],
   "source": [
    "stock.resample('2h').asfreq()"
   ]
  },
  {
   "cell_type": "code",
   "execution_count": 34,
   "metadata": {},
   "outputs": [
    {
     "data": {
      "text/html": [
       "<div>\n",
       "<style scoped>\n",
       "    .dataframe tbody tr th:only-of-type {\n",
       "        vertical-align: middle;\n",
       "    }\n",
       "\n",
       "    .dataframe tbody tr th {\n",
       "        vertical-align: top;\n",
       "    }\n",
       "\n",
       "    .dataframe thead th {\n",
       "        text-align: right;\n",
       "    }\n",
       "</style>\n",
       "<table border=\"1\" class=\"dataframe\">\n",
       "  <thead>\n",
       "    <tr style=\"text-align: right;\">\n",
       "      <th></th>\n",
       "      <th>Open</th>\n",
       "      <th>High</th>\n",
       "      <th>Low</th>\n",
       "      <th>Close</th>\n",
       "      <th>Volume</th>\n",
       "    </tr>\n",
       "    <tr>\n",
       "      <th>Date</th>\n",
       "      <th></th>\n",
       "      <th></th>\n",
       "      <th></th>\n",
       "      <th></th>\n",
       "      <th></th>\n",
       "    </tr>\n",
       "  </thead>\n",
       "  <tbody>\n",
       "    <tr>\n",
       "      <td>2010-01-10</td>\n",
       "      <td>133.3700</td>\n",
       "      <td>134.564</td>\n",
       "      <td>130.8860</td>\n",
       "      <td>132.872</td>\n",
       "      <td>8900385.80</td>\n",
       "    </tr>\n",
       "    <tr>\n",
       "      <td>2010-01-17</td>\n",
       "      <td>129.5660</td>\n",
       "      <td>130.472</td>\n",
       "      <td>126.9940</td>\n",
       "      <td>128.252</td>\n",
       "      <td>10756782.40</td>\n",
       "    </tr>\n",
       "    <tr>\n",
       "      <td>2010-01-24</td>\n",
       "      <td>126.5475</td>\n",
       "      <td>128.255</td>\n",
       "      <td>123.7925</td>\n",
       "      <td>125.360</td>\n",
       "      <td>9883903.25</td>\n",
       "    </tr>\n",
       "    <tr>\n",
       "      <td>2010-01-31</td>\n",
       "      <td>123.5780</td>\n",
       "      <td>125.528</td>\n",
       "      <td>120.5840</td>\n",
       "      <td>122.796</td>\n",
       "      <td>18627194.20</td>\n",
       "    </tr>\n",
       "    <tr>\n",
       "      <td>2010-02-07</td>\n",
       "      <td>118.7220</td>\n",
       "      <td>120.286</td>\n",
       "      <td>114.9240</td>\n",
       "      <td>117.884</td>\n",
       "      <td>19415862.60</td>\n",
       "    </tr>\n",
       "    <tr>\n",
       "      <td>...</td>\n",
       "      <td>...</td>\n",
       "      <td>...</td>\n",
       "      <td>...</td>\n",
       "      <td>...</td>\n",
       "      <td>...</td>\n",
       "    </tr>\n",
       "    <tr>\n",
       "      <td>2017-06-25</td>\n",
       "      <td>1003.6940</td>\n",
       "      <td>1007.236</td>\n",
       "      <td>993.9580</td>\n",
       "      <td>999.006</td>\n",
       "      <td>3435057.40</td>\n",
       "    </tr>\n",
       "    <tr>\n",
       "      <td>2017-07-02</td>\n",
       "      <td>987.3720</td>\n",
       "      <td>994.062</td>\n",
       "      <td>974.0140</td>\n",
       "      <td>981.004</td>\n",
       "      <td>3719885.20</td>\n",
       "    </tr>\n",
       "    <tr>\n",
       "      <td>2017-07-09</td>\n",
       "      <td>967.1325</td>\n",
       "      <td>976.000</td>\n",
       "      <td>958.6025</td>\n",
       "      <td>967.240</td>\n",
       "      <td>3116265.75</td>\n",
       "    </tr>\n",
       "    <tr>\n",
       "      <td>2017-07-16</td>\n",
       "      <td>997.1340</td>\n",
       "      <td>1003.062</td>\n",
       "      <td>991.6220</td>\n",
       "      <td>999.910</td>\n",
       "      <td>3024161.20</td>\n",
       "    </tr>\n",
       "    <tr>\n",
       "      <td>2017-07-23</td>\n",
       "      <td>1004.6900</td>\n",
       "      <td>1014.750</td>\n",
       "      <td>1003.8100</td>\n",
       "      <td>1010.040</td>\n",
       "      <td>3668721.00</td>\n",
       "    </tr>\n",
       "  </tbody>\n",
       "</table>\n",
       "<p>394 rows × 5 columns</p>\n",
       "</div>"
      ],
      "text/plain": [
       "                 Open      High        Low     Close       Volume\n",
       "Date                                                             \n",
       "2010-01-10   133.3700   134.564   130.8860   132.872   8900385.80\n",
       "2010-01-17   129.5660   130.472   126.9940   128.252  10756782.40\n",
       "2010-01-24   126.5475   128.255   123.7925   125.360   9883903.25\n",
       "2010-01-31   123.5780   125.528   120.5840   122.796  18627194.20\n",
       "2010-02-07   118.7220   120.286   114.9240   117.884  19415862.60\n",
       "...               ...       ...        ...       ...          ...\n",
       "2017-06-25  1003.6940  1007.236   993.9580   999.006   3435057.40\n",
       "2017-07-02   987.3720   994.062   974.0140   981.004   3719885.20\n",
       "2017-07-09   967.1325   976.000   958.6025   967.240   3116265.75\n",
       "2017-07-16   997.1340  1003.062   991.6220   999.910   3024161.20\n",
       "2017-07-23  1004.6900  1014.750  1003.8100  1010.040   3668721.00\n",
       "\n",
       "[394 rows x 5 columns]"
      ]
     },
     "execution_count": 34,
     "metadata": {},
     "output_type": "execute_result"
    }
   ],
   "source": [
    "stock.resample('1w').mean()"
   ]
  },
  {
   "cell_type": "code",
   "execution_count": null,
   "metadata": {},
   "outputs": [],
   "source": []
  },
  {
   "cell_type": "code",
   "execution_count": null,
   "metadata": {},
   "outputs": [],
   "source": []
  },
  {
   "cell_type": "code",
   "execution_count": null,
   "metadata": {},
   "outputs": [],
   "source": []
  },
  {
   "cell_type": "code",
   "execution_count": null,
   "metadata": {},
   "outputs": [],
   "source": []
  },
  {
   "cell_type": "code",
   "execution_count": null,
   "metadata": {},
   "outputs": [],
   "source": []
  },
  {
   "cell_type": "code",
   "execution_count": null,
   "metadata": {},
   "outputs": [],
   "source": []
  },
  {
   "cell_type": "code",
   "execution_count": null,
   "metadata": {},
   "outputs": [],
   "source": []
  },
  {
   "cell_type": "code",
   "execution_count": null,
   "metadata": {},
   "outputs": [],
   "source": []
  },
  {
   "cell_type": "code",
   "execution_count": null,
   "metadata": {},
   "outputs": [],
   "source": []
  },
  {
   "cell_type": "code",
   "execution_count": null,
   "metadata": {},
   "outputs": [],
   "source": []
  },
  {
   "cell_type": "code",
   "execution_count": null,
   "metadata": {},
   "outputs": [],
   "source": []
  }
 ],
 "metadata": {
  "kernelspec": {
   "display_name": "Python 3",
   "language": "python",
   "name": "python3"
  },
  "language_info": {
   "codemirror_mode": {
    "name": "ipython",
    "version": 3
   },
   "file_extension": ".py",
   "mimetype": "text/x-python",
   "name": "python",
   "nbconvert_exporter": "python",
   "pygments_lexer": "ipython3",
   "version": "3.7.4"
  }
 },
 "nbformat": 4,
 "nbformat_minor": 2
}
