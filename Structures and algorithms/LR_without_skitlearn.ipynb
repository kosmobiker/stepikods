{
 "cells": [
  {
   "cell_type": "code",
   "execution_count": 1,
   "id": "commercial-turning",
   "metadata": {},
   "outputs": [],
   "source": [
    "import pandas as pd\n",
    "import numpy as np\n",
    "import matplotlib.pyplot as plt\n",
    "import random"
   ]
  },
  {
   "cell_type": "code",
   "execution_count": 3,
   "id": "prompt-belief",
   "metadata": {},
   "outputs": [],
   "source": [
    "df = pd.DataFrame({\"age\": [22,25,47,52, 46,56,55,60,62,61,18,28,27,29,49,55,25,58,19,18,21,26,40,45,50,54,23], \n",
    "                   \"bought_insurance\":[0,0,1,0,1,1,0,1,1,1,0,0,0,0,1,1,1,1,0,0,0,0,1,1,1,1,0]})"
   ]
  },
  {
   "cell_type": "code",
   "execution_count": 7,
   "id": "pharmaceutical-anatomy",
   "metadata": {},
   "outputs": [],
   "source": [
    "# Split dataset into Training, and Testing part\n",
    "test = df.sample(7)\n",
    "train = df[~df.isin(test)]\n",
    "train.dropna(inplace = True)"
   ]
  },
  {
   "cell_type": "code",
   "execution_count": 11,
   "id": "psychological-salon",
   "metadata": {},
   "outputs": [],
   "source": [
    "#Activation function\n",
    "def sigmoid(x):\n",
    "    return 1/(1+np.exp(-x))\n",
    "\n",
    "#Loss function\n",
    "def square_loss(y_pred, target):\n",
    "    return np.mean(pow((y_pred - target),2))"
   ]
  },
  {
   "cell_type": "code",
   "execution_count": 23,
   "id": "defined-gregory",
   "metadata": {},
   "outputs": [],
   "source": [
    "#Split X (feature) part and y (target) part\n",
    "X_tr, y_tr = train.age, train['bought_insurance']\n",
    "X_te, y_te = test.age, test['bought_insurance']"
   ]
  },
  {
   "cell_type": "code",
   "execution_count": 25,
   "id": "crude-hardwood",
   "metadata": {},
   "outputs": [],
   "source": [
    "lr = 0.01 #learning late\n",
    "W = np.random.uniform(0,1) # colom 1\n",
    "b = 0.1\n",
    "for i in range(10000):\n",
    "    z = np.dot(X_tr, W) + b\n",
    "    \n",
    "y_pred = sigmoid(z)\n",
    "l = square_loss(y_pred, y_tr)\n",
    "gradient_W = np.dot((y_pred-y_tr).T, X_tr)/X_tr.shape[0]\n",
    "gradient_b = np.mean(y_pred-y_tr)\n",
    "W = W - lr * gradient_W\n",
    "b = b - lr* gradient_b"
   ]
  },
  {
   "cell_type": "code",
   "execution_count": 29,
   "id": "apparent-johns",
   "metadata": {},
   "outputs": [],
   "source": [
    "for i in range(len(X_te)):\n",
    "    r = sigmoid(np.dot(X_te, W) + b)"
   ]
  },
  {
   "cell_type": "markdown",
   "id": "continuing-hollywood",
   "metadata": {},
   "source": [
    "https://www.geeksforgeeks.org/implementation-of-logistic-regression-from-scratch-using-python/"
   ]
  }
 ],
 "metadata": {
  "kernelspec": {
   "name": "python388jvsc74a57bd0ecf5722fdaf1897a315d257d89d94520bfcaa453217d5becf09b39e73618b0de",
   "display_name": "Python 3.8.8 64-bit (conda)"
  },
  "language_info": {
   "codemirror_mode": {
    "name": "ipython",
    "version": 3
   },
   "file_extension": ".py",
   "mimetype": "text/x-python",
   "name": "python",
   "nbconvert_exporter": "python",
   "pygments_lexer": "ipython3",
   "version": "3.8.8"
  }
 },
 "nbformat": 4,
 "nbformat_minor": 5
}