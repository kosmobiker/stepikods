{
 "cells": [
  {
   "cell_type": "code",
   "execution_count": 1,
   "metadata": {},
   "outputs": [],
   "source": [
    "import warnings\n",
    "warnings.filterwarnings('ignore')\n",
    "import numpy as np\n",
    "import pandas as pd\n",
    "import seaborn as sns\n",
    "from sklearn.metrics.regression import mean_squared_error\n",
    "from sklearn.preprocessing import StandardScaler\n",
    "from sklearn.preprocessing import MinMaxScaler\n",
    "from sklearn.model_selection import GridSearchCV, RandomizedSearchCV\n",
    "from sklearn.model_selection import cross_val_score, train_test_split\n",
    "from sklearn.linear_model import LinearRegression, LassoCV, Lasso\n",
    "from sklearn.linear_model import RidgeCV, Ridge\n",
    "from sklearn.ensemble import RandomForestRegressor\n",
    "import matplotlib as plt\n",
    "from sklearn.linear_model import SGDRegressor\n",
    "from xgboost.sklearn import XGBRegressor\n",
    "from catboost import CatBoostRegressor\n",
    "from catboost import Pool, cv"
   ]
  },
  {
   "cell_type": "code",
   "execution_count": 2,
   "metadata": {},
   "outputs": [
    {
     "data": {
      "text/plain": [
       "4"
      ]
     },
     "execution_count": 2,
     "metadata": {},
     "output_type": "execute_result"
    }
   ],
   "source": [
    "import multiprocessing\n",
    "multiprocessing.cpu_count()"
   ]
  },
  {
   "cell_type": "code",
   "execution_count": 3,
   "metadata": {},
   "outputs": [],
   "source": [
    "SEED = 17"
   ]
  },
  {
   "cell_type": "code",
   "execution_count": 4,
   "metadata": {},
   "outputs": [],
   "source": [
    "data = pd.read_csv('../../data/house_train.csv').set_index('Id')\n",
    "test = pd.read_csv('../../data/house_test.csv').set_index('Id')"
   ]
  },
  {
   "cell_type": "code",
   "execution_count": 5,
   "metadata": {},
   "outputs": [],
   "source": [
    "y = np.log(data['SalePrice'])\n",
    "data = data.drop('SalePrice', axis=1)"
   ]
  },
  {
   "cell_type": "code",
   "execution_count": 6,
   "metadata": {},
   "outputs": [],
   "source": [
    "frames = [data, test]\n",
    "all_data = pd.concat(frames)"
   ]
  },
  {
   "cell_type": "code",
   "execution_count": 7,
   "metadata": {
    "scrolled": true
   },
   "outputs": [
    {
     "name": "stdout",
     "output_type": "stream",
     "text": [
      "<class 'pandas.core.frame.DataFrame'>\n",
      "Int64Index: 2919 entries, 1 to 2919\n",
      "Data columns (total 79 columns):\n",
      " #   Column         Non-Null Count  Dtype  \n",
      "---  ------         --------------  -----  \n",
      " 0   MSSubClass     2919 non-null   int64  \n",
      " 1   MSZoning       2915 non-null   object \n",
      " 2   LotFrontage    2433 non-null   float64\n",
      " 3   LotArea        2919 non-null   int64  \n",
      " 4   Street         2919 non-null   object \n",
      " 5   Alley          198 non-null    object \n",
      " 6   LotShape       2919 non-null   object \n",
      " 7   LandContour    2919 non-null   object \n",
      " 8   Utilities      2917 non-null   object \n",
      " 9   LotConfig      2919 non-null   object \n",
      " 10  LandSlope      2919 non-null   object \n",
      " 11  Neighborhood   2919 non-null   object \n",
      " 12  Condition1     2919 non-null   object \n",
      " 13  Condition2     2919 non-null   object \n",
      " 14  BldgType       2919 non-null   object \n",
      " 15  HouseStyle     2919 non-null   object \n",
      " 16  OverallQual    2919 non-null   int64  \n",
      " 17  OverallCond    2919 non-null   int64  \n",
      " 18  YearBuilt      2919 non-null   int64  \n",
      " 19  YearRemodAdd   2919 non-null   int64  \n",
      " 20  RoofStyle      2919 non-null   object \n",
      " 21  RoofMatl       2919 non-null   object \n",
      " 22  Exterior1st    2918 non-null   object \n",
      " 23  Exterior2nd    2918 non-null   object \n",
      " 24  MasVnrType     2895 non-null   object \n",
      " 25  MasVnrArea     2896 non-null   float64\n",
      " 26  ExterQual      2919 non-null   object \n",
      " 27  ExterCond      2919 non-null   object \n",
      " 28  Foundation     2919 non-null   object \n",
      " 29  BsmtQual       2838 non-null   object \n",
      " 30  BsmtCond       2837 non-null   object \n",
      " 31  BsmtExposure   2837 non-null   object \n",
      " 32  BsmtFinType1   2840 non-null   object \n",
      " 33  BsmtFinSF1     2918 non-null   float64\n",
      " 34  BsmtFinType2   2839 non-null   object \n",
      " 35  BsmtFinSF2     2918 non-null   float64\n",
      " 36  BsmtUnfSF      2918 non-null   float64\n",
      " 37  TotalBsmtSF    2918 non-null   float64\n",
      " 38  Heating        2919 non-null   object \n",
      " 39  HeatingQC      2919 non-null   object \n",
      " 40  CentralAir     2919 non-null   object \n",
      " 41  Electrical     2918 non-null   object \n",
      " 42  1stFlrSF       2919 non-null   int64  \n",
      " 43  2ndFlrSF       2919 non-null   int64  \n",
      " 44  LowQualFinSF   2919 non-null   int64  \n",
      " 45  GrLivArea      2919 non-null   int64  \n",
      " 46  BsmtFullBath   2917 non-null   float64\n",
      " 47  BsmtHalfBath   2917 non-null   float64\n",
      " 48  FullBath       2919 non-null   int64  \n",
      " 49  HalfBath       2919 non-null   int64  \n",
      " 50  BedroomAbvGr   2919 non-null   int64  \n",
      " 51  KitchenAbvGr   2919 non-null   int64  \n",
      " 52  KitchenQual    2918 non-null   object \n",
      " 53  TotRmsAbvGrd   2919 non-null   int64  \n",
      " 54  Functional     2917 non-null   object \n",
      " 55  Fireplaces     2919 non-null   int64  \n",
      " 56  FireplaceQu    1499 non-null   object \n",
      " 57  GarageType     2762 non-null   object \n",
      " 58  GarageYrBlt    2760 non-null   float64\n",
      " 59  GarageFinish   2760 non-null   object \n",
      " 60  GarageCars     2918 non-null   float64\n",
      " 61  GarageArea     2918 non-null   float64\n",
      " 62  GarageQual     2760 non-null   object \n",
      " 63  GarageCond     2760 non-null   object \n",
      " 64  PavedDrive     2919 non-null   object \n",
      " 65  WoodDeckSF     2919 non-null   int64  \n",
      " 66  OpenPorchSF    2919 non-null   int64  \n",
      " 67  EnclosedPorch  2919 non-null   int64  \n",
      " 68  3SsnPorch      2919 non-null   int64  \n",
      " 69  ScreenPorch    2919 non-null   int64  \n",
      " 70  PoolArea       2919 non-null   int64  \n",
      " 71  PoolQC         10 non-null     object \n",
      " 72  Fence          571 non-null    object \n",
      " 73  MiscFeature    105 non-null    object \n",
      " 74  MiscVal        2919 non-null   int64  \n",
      " 75  MoSold         2919 non-null   int64  \n",
      " 76  YrSold         2919 non-null   int64  \n",
      " 77  SaleType       2918 non-null   object \n",
      " 78  SaleCondition  2919 non-null   object \n",
      "dtypes: float64(11), int64(25), object(43)\n",
      "memory usage: 1.8+ MB\n"
     ]
    }
   ],
   "source": [
    "all_data.info()"
   ]
  },
  {
   "cell_type": "code",
   "execution_count": 10,
   "metadata": {},
   "outputs": [],
   "source": [
    "all_data = all_data.drop(['Alley', 'FireplaceQu', 'PoolQC' , 'Fence', 'MiscFeature'], axis=1)"
   ]
  },
  {
   "cell_type": "markdown",
   "metadata": {},
   "source": [
    "### 1.1 Fill NA"
   ]
  },
  {
   "cell_type": "code",
   "execution_count": 11,
   "metadata": {},
   "outputs": [
    {
     "data": {
      "text/plain": [
       "Index(['MSZoning', 'LotFrontage', 'Utilities', 'Exterior1st', 'Exterior2nd',\n",
       "       'MasVnrType', 'MasVnrArea', 'BsmtQual', 'BsmtCond', 'BsmtExposure',\n",
       "       'BsmtFinType1', 'BsmtFinSF1', 'BsmtFinType2', 'BsmtFinSF2', 'BsmtUnfSF',\n",
       "       'TotalBsmtSF', 'Electrical', 'BsmtFullBath', 'BsmtHalfBath',\n",
       "       'KitchenQual', 'Functional', 'GarageType', 'GarageYrBlt',\n",
       "       'GarageFinish', 'GarageCars', 'GarageArea', 'GarageQual', 'GarageCond',\n",
       "       'SaleType'],\n",
       "      dtype='object')"
      ]
     },
     "execution_count": 11,
     "metadata": {},
     "output_type": "execute_result"
    }
   ],
   "source": [
    "all_data.columns[all_data.isna().sum() > 0]"
   ]
  },
  {
   "cell_type": "markdown",
   "metadata": {},
   "source": [
    "1. LotFrontage - per reasonable assumption, fill the NA values with 0, e.g. there is no connection to steet\n",
    "2. Alley - - fill with 'NA'\n",
    "3. MasVnrType - fill with 'None'.  It's assumed, that if there is no information, then there is no veneer\n",
    "4. MasVnrArea - fill with 0, e.g. there is no masonry veneer\n",
    "5. BsmtQual - fill with 'NA'\n",
    "6. BsmtCond - fill with 'NA'\n",
    "7. BsmtExposure - fill with 'NA'\n",
    "8. BsmtFinType1 - fill with 'NA'\n",
    "9. BsmtFinType2 - fill with 'NA'\n",
    "10. Electrical - fill with 'SBrkr' as most common\n",
    "11. FireplaceQu - fill with 'NA'\n",
    "12. GarageType - assumed if square of garage is 0 then ther is no garage 'NA'\n",
    "13. GarageYrBlt - need to find solution\n",
    "14. GarageFinish - fill with 'NA'\n",
    "15. GarageQual - fill with 'NA'\n",
    "16. GarageCond - fill with 'NA'\n",
    "17. PoolQC - fill with 'NA'\n",
    "18. Fence - fill with 'NA'\n",
    "19. MiscFeature - fill with 'NA'\n",
    "\n",
    "20. Also let's change a type of some columns"
   ]
  },
  {
   "cell_type": "code",
   "execution_count": 12,
   "metadata": {},
   "outputs": [],
   "source": [
    "all_data['LotFrontage'] = all_data['LotFrontage'].fillna(all_data['LotFrontage'].mean())\n",
    "all_data['Utilities'] = all_data['Utilities'].fillna('AllPub')\n",
    "all_data['MasVnrType'] = all_data['MasVnrType'].fillna('None')\n",
    "all_data['MasVnrArea'] = all_data['MasVnrArea'].fillna(0)\n",
    "all_data['BsmtQual'] = all_data['BsmtQual'].fillna('NA')\n",
    "all_data['BsmtCond'] = all_data['BsmtCond'].fillna('NA')\n",
    "all_data['BsmtExposure'] = all_data['BsmtExposure'].fillna('NA')\n",
    "all_data['BsmtFinType1'] = all_data['BsmtFinType1'].fillna('NA')\n",
    "all_data['BsmtFinSF1'] = all_data['BsmtFinSF1'].fillna(0)\n",
    "all_data['BsmtFinType2'] = all_data['BsmtFinType2'].fillna('NA')\n",
    "all_data['BsmtFinSF2'] = all_data['BsmtFinSF2'].fillna(0)\n",
    "all_data['BsmtUnfSF'] = all_data['BsmtUnfSF'].fillna(0)\n",
    "all_data['TotalBsmtSF'] = all_data['TotalBsmtSF'].fillna(0)\n",
    "all_data['BsmtFullBath'] = all_data['BsmtFullBath'].fillna(0)\n",
    "all_data['BsmtHalfBath'] = all_data['BsmtHalfBath'].fillna(0)\n",
    "all_data['Exterior1st'] = all_data['Exterior1st'].fillna('VinylSd')\n",
    "all_data['Exterior2nd'] = all_data['Exterior2nd'].fillna('AsbShng')\n",
    "all_data['KitchenQual'] = all_data['KitchenQual'].fillna('TA')\n",
    "all_data['Functional'] = all_data['Functional'].fillna('Typ')\n",
    "all_data['GarageType'] = all_data['GarageType'].fillna('NA')\n",
    "all_data['GarageYrBlt'] = all_data['GarageYrBlt'].fillna(all_data['GarageYrBlt'].mean()).astype('int')\n",
    "all_data['GarageFinish'] = all_data['GarageFinish'].fillna('NA')\n",
    "all_data['GarageCars'] = all_data['GarageCars'].fillna(0)\n",
    "all_data['GarageArea'] = all_data['GarageArea'].fillna(0)\n",
    "all_data['GarageQual'] = all_data['GarageQual'].fillna('NA')\n",
    "all_data['GarageCond'] = all_data['GarageCond'].fillna('NA')\n",
    "all_data['SaleType'] = all_data['SaleType'].fillna('Oth')\n",
    "all_data['MSSubClass'] = all_data['MSSubClass'].astype('str')\n",
    "all_data['MSZoning'] = all_data['MSZoning'].fillna('RL')"
   ]
  },
  {
   "cell_type": "code",
   "execution_count": 13,
   "metadata": {},
   "outputs": [
    {
     "data": {
      "image/png": "[encoded data removed]",
      "text/plain": [
       "<Figure size 432x288 with 1 Axes>"
      ]
     },
     "metadata": {
      "needs_background": "light"
     },
     "output_type": "display_data"
    }
   ],
   "source": [
    "sns.scatterplot(x=all_data['GrLivArea'], y=np.exp(y));"
   ]
  },
  {
   "cell_type": "code",
   "execution_count": 14,
   "metadata": {},
   "outputs": [
    {
     "data": {
      "image/png": "[encoded data removed]",
      "text/plain": [
       "<Figure size 432x288 with 1 Axes>"
      ]
     },
     "metadata": {
      "needs_background": "light"
     },
     "output_type": "display_data"
    }
   ],
   "source": [
    "sns.scatterplot(x=all_data['OverallQual'], y=np.exp(y));"
   ]
  },
  {
   "cell_type": "markdown",
   "metadata": {},
   "source": [
    "### 1.2. Repalcing and dummies"
   ]
  },
  {
   "cell_type": "code",
   "execution_count": 15,
   "metadata": {},
   "outputs": [],
   "source": [
    "cat_data = all_data"
   ]
  },
  {
   "cell_type": "code",
   "execution_count": 16,
   "metadata": {},
   "outputs": [],
   "source": [
    "all_data = pd.get_dummies(all_data)"
   ]
  },
  {
   "cell_type": "code",
   "execution_count": 17,
   "metadata": {},
   "outputs": [
    {
     "data": {
      "text/plain": [
       "(2919, 294)"
      ]
     },
     "execution_count": 17,
     "metadata": {},
     "output_type": "execute_result"
    }
   ],
   "source": [
    "all_data.shape"
   ]
  },
  {
   "cell_type": "markdown",
   "metadata": {},
   "source": [
    "## 2. Feature engineering"
   ]
  },
  {
   "cell_type": "code",
   "execution_count": 18,
   "metadata": {},
   "outputs": [],
   "source": [
    "#all_data['Age_House']= (all_data['YrSold']-all_data['YearBuilt'])"
   ]
  },
  {
   "cell_type": "markdown",
   "metadata": {},
   "source": [
    "## 3. Scaling & Splitting"
   ]
  },
  {
   "cell_type": "code",
   "execution_count": 19,
   "metadata": {},
   "outputs": [],
   "source": [
    "scaler = StandardScaler()"
   ]
  },
  {
   "cell_type": "code",
   "execution_count": 20,
   "metadata": {},
   "outputs": [],
   "source": [
    "cols = list(all_data.columns[all_data.dtypes != object])"
   ]
  },
  {
   "cell_type": "code",
   "execution_count": 21,
   "metadata": {},
   "outputs": [],
   "source": [
    "all_data[cols] = scaler.fit_transform(all_data[cols])"
   ]
  },
  {
   "cell_type": "code",
   "execution_count": 22,
   "metadata": {},
   "outputs": [],
   "source": [
    "split = data.shape[0]"
   ]
  },
  {
   "cell_type": "code",
   "execution_count": 23,
   "metadata": {},
   "outputs": [],
   "source": [
    "X = all_data[:split]\n",
    "X_test = all_data[split:]"
   ]
  },
  {
   "cell_type": "code",
   "execution_count": 24,
   "metadata": {},
   "outputs": [],
   "source": [
    "X_train, X_holdout, y_train, y_holdout = train_test_split(X, y, test_size=0.3)"
   ]
  },
  {
   "cell_type": "code",
   "execution_count": 25,
   "metadata": {},
   "outputs": [
    {
     "data": {
      "text/plain": [
       "((1022, 294), (438, 294), (1459, 294))"
      ]
     },
     "execution_count": 25,
     "metadata": {},
     "output_type": "execute_result"
    }
   ],
   "source": [
    "X_train.shape, X_holdout.shape, X_test.shape"
   ]
  },
  {
   "cell_type": "markdown",
   "metadata": {},
   "source": [
    "## 4. Prediction"
   ]
  },
  {
   "cell_type": "markdown",
   "metadata": {},
   "source": [
    "### 4.1. Lasso"
   ]
  },
  {
   "cell_type": "code",
   "execution_count": 26,
   "metadata": {},
   "outputs": [
    {
     "name": "stdout",
     "output_type": "stream",
     "text": [
      "CPU times: user 12 s, sys: 10.9 s, total: 22.9 s\n",
      "Wall time: 2.87 s\n"
     ]
    },
    {
     "data": {
      "text/plain": [
       "LassoCV(alphas=array([1.00000000e-04, 1.09698580e-04, 1.20337784e-04, 1.32008840e-04,\n",
       "       1.44811823e-04, 1.58856513e-04, 1.74263339e-04, 1.91164408e-04,\n",
       "       2.09704640e-04, 2.30043012e-04, 2.52353917e-04, 2.76828663e-04,\n",
       "       3.03677112e-04, 3.33129479e-04, 3.65438307e-04, 4.00880633e-04,\n",
       "       4.39760361e-04, 4.82410870e-04, 5.29197874e-04, 5.80522552e-04,\n",
       "       6.36824994e-04, 6.98587975e-0...\n",
       "       1.18953407e+03, 1.30490198e+03, 1.43145894e+03, 1.57029012e+03,\n",
       "       1.72258597e+03, 1.88965234e+03, 2.07292178e+03, 2.27396575e+03,\n",
       "       2.49450814e+03, 2.73644000e+03, 3.00183581e+03, 3.29297126e+03,\n",
       "       3.61234270e+03, 3.96268864e+03, 4.34701316e+03, 4.76861170e+03,\n",
       "       5.23109931e+03, 5.73844165e+03, 6.29498899e+03, 6.90551352e+03,\n",
       "       7.57525026e+03, 8.30994195e+03, 9.11588830e+03, 1.00000000e+04]),\n",
       "        cv=10, random_state=17)"
      ]
     },
     "execution_count": 26,
     "metadata": {},
     "output_type": "execute_result"
    }
   ],
   "source": [
    "%%time\n",
    "alphas = np.logspace(-4, 4, 200)\n",
    "lasso_cv = LassoCV(cv=10, alphas=alphas, random_state=SEED)\n",
    "lasso_cv.fit(X_train, y_train)"
   ]
  },
  {
   "cell_type": "code",
   "execution_count": 27,
   "metadata": {},
   "outputs": [
    {
     "data": {
      "text/plain": [
       "0.004880251583654433"
      ]
     },
     "execution_count": 27,
     "metadata": {},
     "output_type": "execute_result"
    }
   ],
   "source": [
    "lasso_cv.alpha_"
   ]
  },
  {
   "cell_type": "code",
   "execution_count": 28,
   "metadata": {},
   "outputs": [
    {
     "data": {
      "text/plain": [
       "Lasso(alpha=0.004880251583654433)"
      ]
     },
     "execution_count": 28,
     "metadata": {},
     "output_type": "execute_result"
    }
   ],
   "source": [
    "lasso = Lasso(alpha=lasso_cv.alpha_)\n",
    "lasso.fit(X_train, y_train)"
   ]
  },
  {
   "cell_type": "code",
   "execution_count": 29,
   "metadata": {},
   "outputs": [],
   "source": [
    "lasso_coef = pd.DataFrame(data={'coef' : lasso.coef_, 'abs_coef' : np.abs(lasso.coef_)}, \n",
    "                          index=X_train.columns).sort_values(by='abs_coef', ascending=False)"
   ]
  },
  {
   "cell_type": "code",
   "execution_count": 30,
   "metadata": {},
   "outputs": [
    {
     "data": {
      "text/html": [
       "<div>\n",
       "<style scoped>\n",
       "    .dataframe tbody tr th:only-of-type {\n",
       "        vertical-align: middle;\n",
       "    }\n",
       "\n",
       "    .dataframe tbody tr th {\n",
       "        vertical-align: top;\n",
       "    }\n",
       "\n",
       "    .dataframe thead th {\n",
       "        text-align: right;\n",
       "    }\n",
       "</style>\n",
       "<table border=\"1\" class=\"dataframe\">\n",
       "  <thead>\n",
       "    <tr style=\"text-align: right;\">\n",
       "      <th></th>\n",
       "      <th>coef</th>\n",
       "      <th>abs_coef</th>\n",
       "    </tr>\n",
       "  </thead>\n",
       "  <tbody>\n",
       "    <tr>\n",
       "      <th>GrLivArea</th>\n",
       "      <td>0.128825</td>\n",
       "      <td>0.128825</td>\n",
       "    </tr>\n",
       "    <tr>\n",
       "      <th>OverallQual</th>\n",
       "      <td>0.079001</td>\n",
       "      <td>0.079001</td>\n",
       "    </tr>\n",
       "    <tr>\n",
       "      <th>Condition2_PosN</th>\n",
       "      <td>-0.054920</td>\n",
       "      <td>0.054920</td>\n",
       "    </tr>\n",
       "    <tr>\n",
       "      <th>YearBuilt</th>\n",
       "      <td>0.043861</td>\n",
       "      <td>0.043861</td>\n",
       "    </tr>\n",
       "    <tr>\n",
       "      <th>TotalBsmtSF</th>\n",
       "      <td>0.043845</td>\n",
       "      <td>0.043845</td>\n",
       "    </tr>\n",
       "    <tr>\n",
       "      <th>OverallCond</th>\n",
       "      <td>0.039446</td>\n",
       "      <td>0.039446</td>\n",
       "    </tr>\n",
       "    <tr>\n",
       "      <th>MSZoning_C (all)</th>\n",
       "      <td>-0.038222</td>\n",
       "      <td>0.038222</td>\n",
       "    </tr>\n",
       "    <tr>\n",
       "      <th>BsmtFinSF1</th>\n",
       "      <td>0.026604</td>\n",
       "      <td>0.026604</td>\n",
       "    </tr>\n",
       "    <tr>\n",
       "      <th>GarageCars</th>\n",
       "      <td>0.024349</td>\n",
       "      <td>0.024349</td>\n",
       "    </tr>\n",
       "    <tr>\n",
       "      <th>Neighborhood_Crawfor</th>\n",
       "      <td>0.018070</td>\n",
       "      <td>0.018070</td>\n",
       "    </tr>\n",
       "  </tbody>\n",
       "</table>\n",
       "</div>"
      ],
      "text/plain": [
       "                          coef  abs_coef\n",
       "GrLivArea             0.128825  0.128825\n",
       "OverallQual           0.079001  0.079001\n",
       "Condition2_PosN      -0.054920  0.054920\n",
       "YearBuilt             0.043861  0.043861\n",
       "TotalBsmtSF           0.043845  0.043845\n",
       "OverallCond           0.039446  0.039446\n",
       "MSZoning_C (all)     -0.038222  0.038222\n",
       "BsmtFinSF1            0.026604  0.026604\n",
       "GarageCars            0.024349  0.024349\n",
       "Neighborhood_Crawfor  0.018070  0.018070"
      ]
     },
     "execution_count": 30,
     "metadata": {},
     "output_type": "execute_result"
    }
   ],
   "source": [
    "lasso_coef.head(10)"
   ]
  },
  {
   "cell_type": "code",
   "execution_count": 31,
   "metadata": {},
   "outputs": [
    {
     "name": "stdout",
     "output_type": "stream",
     "text": [
      "Mean squared error (train): 0.010\n",
      "Mean squared error (holdout): 0.033\n"
     ]
    }
   ],
   "source": [
    "print(\"Mean squared error (train): %.3f\" % mean_squared_error(y_train, lasso.predict(X_train)))\n",
    "print(\"Mean squared error (holdout): %.3f\" % mean_squared_error(y_holdout, lasso.predict(X_holdout)))"
   ]
  },
  {
   "cell_type": "code",
   "execution_count": 32,
   "metadata": {},
   "outputs": [],
   "source": [
    "pd.DataFrame(np.exp(lasso.predict(X_test)), index=X_test.index,columns=['SalePrice']).to_csv('lasso_submission.csv')"
   ]
  },
  {
   "cell_type": "markdown",
   "metadata": {},
   "source": [
    "### 4.2 Ridge "
   ]
  },
  {
   "cell_type": "code",
   "execution_count": 33,
   "metadata": {},
   "outputs": [
    {
     "data": {
      "text/plain": [
       "RidgeCV(alphas=array([1.00000000e-04, 7.74263683e-04, 5.99484250e-03, 4.64158883e-02,\n",
       "       3.59381366e-01, 2.78255940e+00, 2.15443469e+01, 1.66810054e+02,\n",
       "       1.29154967e+03, 1.00000000e+04]),\n",
       "        cv=10)"
      ]
     },
     "execution_count": 33,
     "metadata": {},
     "output_type": "execute_result"
    }
   ],
   "source": [
    "alphas = np.logspace(-4, 4, 10)\n",
    "ridge_cv = RidgeCV(cv=10, alphas=alphas)\n",
    "ridge_cv.fit(X_train, y_train)"
   ]
  },
  {
   "cell_type": "code",
   "execution_count": 34,
   "metadata": {},
   "outputs": [
    {
     "data": {
      "text/plain": [
       "166.81005372000558"
      ]
     },
     "execution_count": 34,
     "metadata": {},
     "output_type": "execute_result"
    }
   ],
   "source": [
    "ridge_cv.alpha_"
   ]
  },
  {
   "cell_type": "code",
   "execution_count": 35,
   "metadata": {},
   "outputs": [],
   "source": [
    "ridge = Ridge(alpha=ridge_cv.alpha_)\n",
    "ridge.fit(X_train, y_train)\n",
    "ridge_coef = pd.DataFrame(data={'coef' : ridge.coef_, 'abs_coef' : np.abs(ridge.coef_)}, \n",
    "                          index=X_train.columns).sort_values(by='abs_coef', ascending=False)"
   ]
  },
  {
   "cell_type": "code",
   "execution_count": 36,
   "metadata": {},
   "outputs": [
    {
     "data": {
      "text/html": [
       "<div>\n",
       "<style scoped>\n",
       "    .dataframe tbody tr th:only-of-type {\n",
       "        vertical-align: middle;\n",
       "    }\n",
       "\n",
       "    .dataframe tbody tr th {\n",
       "        vertical-align: top;\n",
       "    }\n",
       "\n",
       "    .dataframe thead th {\n",
       "        text-align: right;\n",
       "    }\n",
       "</style>\n",
       "<table border=\"1\" class=\"dataframe\">\n",
       "  <thead>\n",
       "    <tr style=\"text-align: right;\">\n",
       "      <th></th>\n",
       "      <th>coef</th>\n",
       "      <th>abs_coef</th>\n",
       "    </tr>\n",
       "  </thead>\n",
       "  <tbody>\n",
       "    <tr>\n",
       "      <th>GrLivArea</th>\n",
       "      <td>0.043262</td>\n",
       "      <td>0.043262</td>\n",
       "    </tr>\n",
       "    <tr>\n",
       "      <th>Condition2_PosN</th>\n",
       "      <td>-0.040179</td>\n",
       "      <td>0.040179</td>\n",
       "    </tr>\n",
       "    <tr>\n",
       "      <th>OverallQual</th>\n",
       "      <td>0.039690</td>\n",
       "      <td>0.039690</td>\n",
       "    </tr>\n",
       "    <tr>\n",
       "      <th>1stFlrSF</th>\n",
       "      <td>0.034878</td>\n",
       "      <td>0.034878</td>\n",
       "    </tr>\n",
       "    <tr>\n",
       "      <th>MSZoning_C (all)</th>\n",
       "      <td>-0.033910</td>\n",
       "      <td>0.033910</td>\n",
       "    </tr>\n",
       "    <tr>\n",
       "      <th>OverallCond</th>\n",
       "      <td>0.031770</td>\n",
       "      <td>0.031770</td>\n",
       "    </tr>\n",
       "    <tr>\n",
       "      <th>TotalBsmtSF</th>\n",
       "      <td>0.029387</td>\n",
       "      <td>0.029387</td>\n",
       "    </tr>\n",
       "    <tr>\n",
       "      <th>BsmtFinSF1</th>\n",
       "      <td>0.022545</td>\n",
       "      <td>0.022545</td>\n",
       "    </tr>\n",
       "    <tr>\n",
       "      <th>GarageArea</th>\n",
       "      <td>0.020112</td>\n",
       "      <td>0.020112</td>\n",
       "    </tr>\n",
       "    <tr>\n",
       "      <th>2ndFlrSF</th>\n",
       "      <td>0.019552</td>\n",
       "      <td>0.019552</td>\n",
       "    </tr>\n",
       "    <tr>\n",
       "      <th>Neighborhood_Crawfor</th>\n",
       "      <td>0.018505</td>\n",
       "      <td>0.018505</td>\n",
       "    </tr>\n",
       "    <tr>\n",
       "      <th>LotArea</th>\n",
       "      <td>0.017988</td>\n",
       "      <td>0.017988</td>\n",
       "    </tr>\n",
       "    <tr>\n",
       "      <th>GarageCars</th>\n",
       "      <td>0.016906</td>\n",
       "      <td>0.016906</td>\n",
       "    </tr>\n",
       "    <tr>\n",
       "      <th>KitchenQual_Ex</th>\n",
       "      <td>0.016396</td>\n",
       "      <td>0.016396</td>\n",
       "    </tr>\n",
       "    <tr>\n",
       "      <th>Neighborhood_StoneBr</th>\n",
       "      <td>0.016294</td>\n",
       "      <td>0.016294</td>\n",
       "    </tr>\n",
       "    <tr>\n",
       "      <th>YearRemodAdd</th>\n",
       "      <td>0.015572</td>\n",
       "      <td>0.015572</td>\n",
       "    </tr>\n",
       "    <tr>\n",
       "      <th>Fireplaces</th>\n",
       "      <td>0.015531</td>\n",
       "      <td>0.015531</td>\n",
       "    </tr>\n",
       "    <tr>\n",
       "      <th>Neighborhood_NridgHt</th>\n",
       "      <td>0.015316</td>\n",
       "      <td>0.015316</td>\n",
       "    </tr>\n",
       "    <tr>\n",
       "      <th>HalfBath</th>\n",
       "      <td>0.015213</td>\n",
       "      <td>0.015213</td>\n",
       "    </tr>\n",
       "    <tr>\n",
       "      <th>TotRmsAbvGrd</th>\n",
       "      <td>0.015131</td>\n",
       "      <td>0.015131</td>\n",
       "    </tr>\n",
       "  </tbody>\n",
       "</table>\n",
       "</div>"
      ],
      "text/plain": [
       "                          coef  abs_coef\n",
       "GrLivArea             0.043262  0.043262\n",
       "Condition2_PosN      -0.040179  0.040179\n",
       "OverallQual           0.039690  0.039690\n",
       "1stFlrSF              0.034878  0.034878\n",
       "MSZoning_C (all)     -0.033910  0.033910\n",
       "OverallCond           0.031770  0.031770\n",
       "TotalBsmtSF           0.029387  0.029387\n",
       "BsmtFinSF1            0.022545  0.022545\n",
       "GarageArea            0.020112  0.020112\n",
       "2ndFlrSF              0.019552  0.019552\n",
       "Neighborhood_Crawfor  0.018505  0.018505\n",
       "LotArea               0.017988  0.017988\n",
       "GarageCars            0.016906  0.016906\n",
       "KitchenQual_Ex        0.016396  0.016396\n",
       "Neighborhood_StoneBr  0.016294  0.016294\n",
       "YearRemodAdd          0.015572  0.015572\n",
       "Fireplaces            0.015531  0.015531\n",
       "Neighborhood_NridgHt  0.015316  0.015316\n",
       "HalfBath              0.015213  0.015213\n",
       "TotRmsAbvGrd          0.015131  0.015131"
      ]
     },
     "execution_count": 36,
     "metadata": {},
     "output_type": "execute_result"
    }
   ],
   "source": [
    "ridge_coef.head(20)"
   ]
  },
  {
   "cell_type": "code",
   "execution_count": 37,
   "metadata": {},
   "outputs": [
    {
     "name": "stdout",
     "output_type": "stream",
     "text": [
      "Mean squared error (train): 0.008\n",
      "Mean squared error (holdout): 0.031\n"
     ]
    }
   ],
   "source": [
    "print(\"Mean squared error (train): %.3f\" % mean_squared_error(y_train, ridge.predict(X_train)))\n",
    "print(\"Mean squared error (holdout): %.3f\" % mean_squared_error(y_holdout, ridge.predict(X_holdout)))"
   ]
  },
  {
   "cell_type": "code",
   "execution_count": 38,
   "metadata": {},
   "outputs": [],
   "source": [
    "pd.DataFrame(np.exp(ridge.predict(X_test)), index=X_test.index,columns=['SalePrice']).to_csv('submission.csv')"
   ]
  },
  {
   "cell_type": "markdown",
   "metadata": {},
   "source": [
    "### 4.3. Random Forest Regressor"
   ]
  },
  {
   "cell_type": "code",
   "execution_count": 75,
   "metadata": {},
   "outputs": [
    {
     "ename": "KeyboardInterrupt",
     "evalue": "",
     "output_type": "error",
     "traceback": [
      "\u001b[0;31m---------------------------------------------------------------------------\u001b[0m",
      "\u001b[0;31mKeyboardInterrupt\u001b[0m                         Traceback (most recent call last)",
      "\u001b[0;32m<timed exec>\u001b[0m in \u001b[0;36m<module>\u001b[0;34m\u001b[0m\n",
      "\u001b[0;32m~/jupyter/kosmo/lib/python3.8/site-packages/sklearn/utils/validation.py\u001b[0m in \u001b[0;36minner_f\u001b[0;34m(*args, **kwargs)\u001b[0m\n\u001b[1;32m     70\u001b[0m                           FutureWarning)\n\u001b[1;32m     71\u001b[0m         \u001b[0mkwargs\u001b[0m\u001b[0;34m.\u001b[0m\u001b[0mupdate\u001b[0m\u001b[0;34m(\u001b[0m\u001b[0;34m{\u001b[0m\u001b[0mk\u001b[0m\u001b[0;34m:\u001b[0m \u001b[0marg\u001b[0m \u001b[0;32mfor\u001b[0m \u001b[0mk\u001b[0m\u001b[0;34m,\u001b[0m \u001b[0marg\u001b[0m \u001b[0;32min\u001b[0m \u001b[0mzip\u001b[0m\u001b[0;34m(\u001b[0m\u001b[0msig\u001b[0m\u001b[0;34m.\u001b[0m\u001b[0mparameters\u001b[0m\u001b[0;34m,\u001b[0m \u001b[0margs\u001b[0m\u001b[0;34m)\u001b[0m\u001b[0;34m}\u001b[0m\u001b[0;34m)\u001b[0m\u001b[0;34m\u001b[0m\u001b[0;34m\u001b[0m\u001b[0m\n\u001b[0;32m---> 72\u001b[0;31m         \u001b[0;32mreturn\u001b[0m \u001b[0mf\u001b[0m\u001b[0;34m(\u001b[0m\u001b[0;34m**\u001b[0m\u001b[0mkwargs\u001b[0m\u001b[0;34m)\u001b[0m\u001b[0;34m\u001b[0m\u001b[0;34m\u001b[0m\u001b[0m\n\u001b[0m\u001b[1;32m     73\u001b[0m     \u001b[0;32mreturn\u001b[0m \u001b[0minner_f\u001b[0m\u001b[0;34m\u001b[0m\u001b[0;34m\u001b[0m\u001b[0m\n\u001b[1;32m     74\u001b[0m \u001b[0;34m\u001b[0m\u001b[0m\n",
      "\u001b[0;32m~/jupyter/kosmo/lib/python3.8/site-packages/sklearn/model_selection/_search.py\u001b[0m in \u001b[0;36mfit\u001b[0;34m(self, X, y, groups, **fit_params)\u001b[0m\n\u001b[1;32m    734\u001b[0m                 \u001b[0;32mreturn\u001b[0m \u001b[0mresults\u001b[0m\u001b[0;34m\u001b[0m\u001b[0;34m\u001b[0m\u001b[0m\n\u001b[1;32m    735\u001b[0m \u001b[0;34m\u001b[0m\u001b[0m\n\u001b[0;32m--> 736\u001b[0;31m             \u001b[0mself\u001b[0m\u001b[0;34m.\u001b[0m\u001b[0m_run_search\u001b[0m\u001b[0;34m(\u001b[0m\u001b[0mevaluate_candidates\u001b[0m\u001b[0;34m)\u001b[0m\u001b[0;34m\u001b[0m\u001b[0;34m\u001b[0m\u001b[0m\n\u001b[0m\u001b[1;32m    737\u001b[0m \u001b[0;34m\u001b[0m\u001b[0m\n\u001b[1;32m    738\u001b[0m         \u001b[0;31m# For multi-metric evaluation, store the best_index_, best_params_ and\u001b[0m\u001b[0;34m\u001b[0m\u001b[0;34m\u001b[0m\u001b[0;34m\u001b[0m\u001b[0m\n",
      "\u001b[0;32m~/jupyter/kosmo/lib/python3.8/site-packages/sklearn/model_selection/_search.py\u001b[0m in \u001b[0;36m_run_search\u001b[0;34m(self, evaluate_candidates)\u001b[0m\n\u001b[1;32m   1186\u001b[0m     \u001b[0;32mdef\u001b[0m \u001b[0m_run_search\u001b[0m\u001b[0;34m(\u001b[0m\u001b[0mself\u001b[0m\u001b[0;34m,\u001b[0m \u001b[0mevaluate_candidates\u001b[0m\u001b[0;34m)\u001b[0m\u001b[0;34m:\u001b[0m\u001b[0;34m\u001b[0m\u001b[0;34m\u001b[0m\u001b[0m\n\u001b[1;32m   1187\u001b[0m         \u001b[0;34m\"\"\"Search all candidates in param_grid\"\"\"\u001b[0m\u001b[0;34m\u001b[0m\u001b[0;34m\u001b[0m\u001b[0m\n\u001b[0;32m-> 1188\u001b[0;31m         \u001b[0mevaluate_candidates\u001b[0m\u001b[0;34m(\u001b[0m\u001b[0mParameterGrid\u001b[0m\u001b[0;34m(\u001b[0m\u001b[0mself\u001b[0m\u001b[0;34m.\u001b[0m\u001b[0mparam_grid\u001b[0m\u001b[0;34m)\u001b[0m\u001b[0;34m)\u001b[0m\u001b[0;34m\u001b[0m\u001b[0;34m\u001b[0m\u001b[0m\n\u001b[0m\u001b[1;32m   1189\u001b[0m \u001b[0;34m\u001b[0m\u001b[0m\n\u001b[1;32m   1190\u001b[0m \u001b[0;34m\u001b[0m\u001b[0m\n",
      "\u001b[0;32m~/jupyter/kosmo/lib/python3.8/site-packages/sklearn/model_selection/_search.py\u001b[0m in \u001b[0;36mevaluate_candidates\u001b[0;34m(candidate_params)\u001b[0m\n\u001b[1;32m    706\u001b[0m                               n_splits, n_candidates, n_candidates * n_splits))\n\u001b[1;32m    707\u001b[0m \u001b[0;34m\u001b[0m\u001b[0m\n\u001b[0;32m--> 708\u001b[0;31m                 out = parallel(delayed(_fit_and_score)(clone(base_estimator),\n\u001b[0m\u001b[1;32m    709\u001b[0m                                                        \u001b[0mX\u001b[0m\u001b[0;34m,\u001b[0m \u001b[0my\u001b[0m\u001b[0;34m,\u001b[0m\u001b[0;34m\u001b[0m\u001b[0;34m\u001b[0m\u001b[0m\n\u001b[1;32m    710\u001b[0m                                                        \u001b[0mtrain\u001b[0m\u001b[0;34m=\u001b[0m\u001b[0mtrain\u001b[0m\u001b[0;34m,\u001b[0m \u001b[0mtest\u001b[0m\u001b[0;34m=\u001b[0m\u001b[0mtest\u001b[0m\u001b[0;34m,\u001b[0m\u001b[0;34m\u001b[0m\u001b[0;34m\u001b[0m\u001b[0m\n",
      "\u001b[0;32m~/jupyter/kosmo/lib/python3.8/site-packages/joblib/parallel.py\u001b[0m in \u001b[0;36m__call__\u001b[0;34m(self, iterable)\u001b[0m\n\u001b[1;32m   1059\u001b[0m \u001b[0;34m\u001b[0m\u001b[0m\n\u001b[1;32m   1060\u001b[0m             \u001b[0;32mwith\u001b[0m \u001b[0mself\u001b[0m\u001b[0;34m.\u001b[0m\u001b[0m_backend\u001b[0m\u001b[0;34m.\u001b[0m\u001b[0mretrieval_context\u001b[0m\u001b[0;34m(\u001b[0m\u001b[0;34m)\u001b[0m\u001b[0;34m:\u001b[0m\u001b[0;34m\u001b[0m\u001b[0;34m\u001b[0m\u001b[0m\n\u001b[0;32m-> 1061\u001b[0;31m                 \u001b[0mself\u001b[0m\u001b[0;34m.\u001b[0m\u001b[0mretrieve\u001b[0m\u001b[0;34m(\u001b[0m\u001b[0;34m)\u001b[0m\u001b[0;34m\u001b[0m\u001b[0;34m\u001b[0m\u001b[0m\n\u001b[0m\u001b[1;32m   1062\u001b[0m             \u001b[0;31m# Make sure that we get a last message telling us we are done\u001b[0m\u001b[0;34m\u001b[0m\u001b[0;34m\u001b[0m\u001b[0;34m\u001b[0m\u001b[0m\n\u001b[1;32m   1063\u001b[0m             \u001b[0melapsed_time\u001b[0m \u001b[0;34m=\u001b[0m \u001b[0mtime\u001b[0m\u001b[0;34m.\u001b[0m\u001b[0mtime\u001b[0m\u001b[0;34m(\u001b[0m\u001b[0;34m)\u001b[0m \u001b[0;34m-\u001b[0m \u001b[0mself\u001b[0m\u001b[0;34m.\u001b[0m\u001b[0m_start_time\u001b[0m\u001b[0;34m\u001b[0m\u001b[0;34m\u001b[0m\u001b[0m\n",
      "\u001b[0;32m~/jupyter/kosmo/lib/python3.8/site-packages/joblib/parallel.py\u001b[0m in \u001b[0;36mretrieve\u001b[0;34m(self)\u001b[0m\n\u001b[1;32m    938\u001b[0m             \u001b[0;32mtry\u001b[0m\u001b[0;34m:\u001b[0m\u001b[0;34m\u001b[0m\u001b[0;34m\u001b[0m\u001b[0m\n\u001b[1;32m    939\u001b[0m                 \u001b[0;32mif\u001b[0m \u001b[0mgetattr\u001b[0m\u001b[0;34m(\u001b[0m\u001b[0mself\u001b[0m\u001b[0;34m.\u001b[0m\u001b[0m_backend\u001b[0m\u001b[0;34m,\u001b[0m \u001b[0;34m'supports_timeout'\u001b[0m\u001b[0;34m,\u001b[0m \u001b[0;32mFalse\u001b[0m\u001b[0;34m)\u001b[0m\u001b[0;34m:\u001b[0m\u001b[0;34m\u001b[0m\u001b[0;34m\u001b[0m\u001b[0m\n\u001b[0;32m--> 940\u001b[0;31m                     \u001b[0mself\u001b[0m\u001b[0;34m.\u001b[0m\u001b[0m_output\u001b[0m\u001b[0;34m.\u001b[0m\u001b[0mextend\u001b[0m\u001b[0;34m(\u001b[0m\u001b[0mjob\u001b[0m\u001b[0;34m.\u001b[0m\u001b[0mget\u001b[0m\u001b[0;34m(\u001b[0m\u001b[0mtimeout\u001b[0m\u001b[0;34m=\u001b[0m\u001b[0mself\u001b[0m\u001b[0;34m.\u001b[0m\u001b[0mtimeout\u001b[0m\u001b[0;34m)\u001b[0m\u001b[0;34m)\u001b[0m\u001b[0;34m\u001b[0m\u001b[0;34m\u001b[0m\u001b[0m\n\u001b[0m\u001b[1;32m    941\u001b[0m                 \u001b[0;32melse\u001b[0m\u001b[0;34m:\u001b[0m\u001b[0;34m\u001b[0m\u001b[0;34m\u001b[0m\u001b[0m\n\u001b[1;32m    942\u001b[0m                     \u001b[0mself\u001b[0m\u001b[0;34m.\u001b[0m\u001b[0m_output\u001b[0m\u001b[0;34m.\u001b[0m\u001b[0mextend\u001b[0m\u001b[0;34m(\u001b[0m\u001b[0mjob\u001b[0m\u001b[0;34m.\u001b[0m\u001b[0mget\u001b[0m\u001b[0;34m(\u001b[0m\u001b[0;34m)\u001b[0m\u001b[0;34m)\u001b[0m\u001b[0;34m\u001b[0m\u001b[0;34m\u001b[0m\u001b[0m\n",
      "\u001b[0;32m~/jupyter/kosmo/lib/python3.8/site-packages/joblib/_parallel_backends.py\u001b[0m in \u001b[0;36mwrap_future_result\u001b[0;34m(future, timeout)\u001b[0m\n\u001b[1;32m    540\u001b[0m         AsyncResults.get from multiprocessing.\"\"\"\n\u001b[1;32m    541\u001b[0m         \u001b[0;32mtry\u001b[0m\u001b[0;34m:\u001b[0m\u001b[0;34m\u001b[0m\u001b[0;34m\u001b[0m\u001b[0m\n\u001b[0;32m--> 542\u001b[0;31m             \u001b[0;32mreturn\u001b[0m \u001b[0mfuture\u001b[0m\u001b[0;34m.\u001b[0m\u001b[0mresult\u001b[0m\u001b[0;34m(\u001b[0m\u001b[0mtimeout\u001b[0m\u001b[0;34m=\u001b[0m\u001b[0mtimeout\u001b[0m\u001b[0;34m)\u001b[0m\u001b[0;34m\u001b[0m\u001b[0;34m\u001b[0m\u001b[0m\n\u001b[0m\u001b[1;32m    543\u001b[0m         \u001b[0;32mexcept\u001b[0m \u001b[0mCfTimeoutError\u001b[0m \u001b[0;32mas\u001b[0m \u001b[0me\u001b[0m\u001b[0;34m:\u001b[0m\u001b[0;34m\u001b[0m\u001b[0;34m\u001b[0m\u001b[0m\n\u001b[1;32m    544\u001b[0m             \u001b[0;32mraise\u001b[0m \u001b[0mTimeoutError\u001b[0m \u001b[0;32mfrom\u001b[0m \u001b[0me\u001b[0m\u001b[0;34m\u001b[0m\u001b[0;34m\u001b[0m\u001b[0m\n",
      "\u001b[0;32m/usr/lib/python3.8/concurrent/futures/_base.py\u001b[0m in \u001b[0;36mresult\u001b[0;34m(self, timeout)\u001b[0m\n\u001b[1;32m    432\u001b[0m                 \u001b[0;32mreturn\u001b[0m \u001b[0mself\u001b[0m\u001b[0;34m.\u001b[0m\u001b[0m__get_result\u001b[0m\u001b[0;34m(\u001b[0m\u001b[0;34m)\u001b[0m\u001b[0;34m\u001b[0m\u001b[0;34m\u001b[0m\u001b[0m\n\u001b[1;32m    433\u001b[0m \u001b[0;34m\u001b[0m\u001b[0m\n\u001b[0;32m--> 434\u001b[0;31m             \u001b[0mself\u001b[0m\u001b[0;34m.\u001b[0m\u001b[0m_condition\u001b[0m\u001b[0;34m.\u001b[0m\u001b[0mwait\u001b[0m\u001b[0;34m(\u001b[0m\u001b[0mtimeout\u001b[0m\u001b[0;34m)\u001b[0m\u001b[0;34m\u001b[0m\u001b[0;34m\u001b[0m\u001b[0m\n\u001b[0m\u001b[1;32m    435\u001b[0m \u001b[0;34m\u001b[0m\u001b[0m\n\u001b[1;32m    436\u001b[0m             \u001b[0;32mif\u001b[0m \u001b[0mself\u001b[0m\u001b[0;34m.\u001b[0m\u001b[0m_state\u001b[0m \u001b[0;32min\u001b[0m \u001b[0;34m[\u001b[0m\u001b[0mCANCELLED\u001b[0m\u001b[0;34m,\u001b[0m \u001b[0mCANCELLED_AND_NOTIFIED\u001b[0m\u001b[0;34m]\u001b[0m\u001b[0;34m:\u001b[0m\u001b[0;34m\u001b[0m\u001b[0;34m\u001b[0m\u001b[0m\n",
      "\u001b[0;32m/usr/lib/python3.8/threading.py\u001b[0m in \u001b[0;36mwait\u001b[0;34m(self, timeout)\u001b[0m\n\u001b[1;32m    300\u001b[0m         \u001b[0;32mtry\u001b[0m\u001b[0;34m:\u001b[0m    \u001b[0;31m# restore state no matter what (e.g., KeyboardInterrupt)\u001b[0m\u001b[0;34m\u001b[0m\u001b[0;34m\u001b[0m\u001b[0m\n\u001b[1;32m    301\u001b[0m             \u001b[0;32mif\u001b[0m \u001b[0mtimeout\u001b[0m \u001b[0;32mis\u001b[0m \u001b[0;32mNone\u001b[0m\u001b[0;34m:\u001b[0m\u001b[0;34m\u001b[0m\u001b[0;34m\u001b[0m\u001b[0m\n\u001b[0;32m--> 302\u001b[0;31m                 \u001b[0mwaiter\u001b[0m\u001b[0;34m.\u001b[0m\u001b[0macquire\u001b[0m\u001b[0;34m(\u001b[0m\u001b[0;34m)\u001b[0m\u001b[0;34m\u001b[0m\u001b[0;34m\u001b[0m\u001b[0m\n\u001b[0m\u001b[1;32m    303\u001b[0m                 \u001b[0mgotit\u001b[0m \u001b[0;34m=\u001b[0m \u001b[0;32mTrue\u001b[0m\u001b[0;34m\u001b[0m\u001b[0;34m\u001b[0m\u001b[0m\n\u001b[1;32m    304\u001b[0m             \u001b[0;32melse\u001b[0m\u001b[0;34m:\u001b[0m\u001b[0;34m\u001b[0m\u001b[0;34m\u001b[0m\u001b[0m\n",
      "\u001b[0;31mKeyboardInterrupt\u001b[0m: "
     ]
    }
   ],
   "source": [
    "%%time\n",
    "forest = RandomForestRegressor(random_state=SEED)\n",
    "forest_params = {'n_estimators' : range(100, 300, 20), 'max_depth': range(10, 30, 5), \n",
    "                 'max_features': range(30, 70, 5)}\n",
    "\n",
    "locally_best_forest = GridSearchCV(forest, param_grid=forest_params, cv=10, n_jobs=-1) \n",
    "locally_best_forest.fit(X_train, y_train)"
   ]
  },
  {
   "cell_type": "code",
   "execution_count": 76,
   "metadata": {},
   "outputs": [
    {
     "ename": "AttributeError",
     "evalue": "'GridSearchCV' object has no attribute 'best_params_'",
     "output_type": "error",
     "traceback": [
      "\u001b[0;31m---------------------------------------------------------------------------\u001b[0m",
      "\u001b[0;31mAttributeError\u001b[0m                            Traceback (most recent call last)",
      "\u001b[0;32m<ipython-input-76-d728972823e4>\u001b[0m in \u001b[0;36m<module>\u001b[0;34m\u001b[0m\n\u001b[0;32m----> 1\u001b[0;31m \u001b[0mlocally_best_forest\u001b[0m\u001b[0;34m.\u001b[0m\u001b[0mbest_params_\u001b[0m\u001b[0;34m,\u001b[0m \u001b[0mlocally_best_forest\u001b[0m\u001b[0;34m.\u001b[0m\u001b[0mbest_score_\u001b[0m\u001b[0;34m\u001b[0m\u001b[0;34m\u001b[0m\u001b[0m\n\u001b[0m",
      "\u001b[0;31mAttributeError\u001b[0m: 'GridSearchCV' object has no attribute 'best_params_'"
     ]
    }
   ],
   "source": [
    "locally_best_forest.best_params_, locally_best_forest.best_score_"
   ]
  },
  {
   "cell_type": "code",
   "execution_count": null,
   "metadata": {},
   "outputs": [],
   "source": [
    "locally_best_forest = RandomForestRegressor(n_estimators = 500, max_depth=20, max_features=50)\n",
    "locally_best_forest.fit(X_train, y_train)"
   ]
  },
  {
   "cell_type": "code",
   "execution_count": null,
   "metadata": {},
   "outputs": [],
   "source": [
    "print(\"Mean squared error (train): %.3f\" % mean_squared_error(y_train, locally_best_forest.predict(X_train))) \n",
    "print(\"Mean squared error (holdout): %.3f\" % mean_squared_error(y_holdout, locally_best_forest.predict(X_holdout)))"
   ]
  },
  {
   "cell_type": "code",
   "execution_count": null,
   "metadata": {},
   "outputs": [],
   "source": [
    "forest_feat= pd.DataFrame(data={'feature' : np.log(locally_best_forest.feature_importances_)}, \n",
    "                          index=X_train.columns).sort_values(by='feature', ascending=False)"
   ]
  },
  {
   "cell_type": "code",
   "execution_count": null,
   "metadata": {},
   "outputs": [],
   "source": [
    "pd.DataFrame(np.exp(locally_best_forest.predict(X_test)), index=X_test.index,columns=['SalePrice']).to_csv('forest_submission.csv')"
   ]
  },
  {
   "cell_type": "code",
   "execution_count": null,
   "metadata": {
    "scrolled": true
   },
   "outputs": [],
   "source": [
    "forest_feat.head(20)"
   ]
  },
  {
   "cell_type": "markdown",
   "metadata": {},
   "source": [
    "### 4.4. SGDRegressor"
   ]
  },
  {
   "cell_type": "code",
   "execution_count": 68,
   "metadata": {},
   "outputs": [],
   "source": [
    "sgd = SGDRegressor(random_state=SEED)"
   ]
  },
  {
   "cell_type": "code",
   "execution_count": 69,
   "metadata": {},
   "outputs": [],
   "source": [
    "sgd_grid = {\n",
    "    'alpha': np.logspace(-4, 0, 10),\n",
    "    'loss': ['squared_loss', 'huber', 'epsilon_insensitive'],\n",
    "    'penalty': ['l2', 'l1', 'elasticnet'],\n",
    "    'learning_rate': ['constant', 'optimal', 'invscaling']}"
   ]
  },
  {
   "cell_type": "code",
   "execution_count": 70,
   "metadata": {},
   "outputs": [
    {
     "name": "stdout",
     "output_type": "stream",
     "text": [
      "CPU times: user 3.62 s, sys: 298 ms, total: 3.92 s\n",
      "Wall time: 1min 27s\n"
     ]
    },
    {
     "data": {
      "text/plain": [
       "GridSearchCV(cv=10, estimator=SGDRegressor(random_state=17), n_jobs=-1,\n",
       "             param_grid={'alpha': array([1.00000000e-04, 2.78255940e-04, 7.74263683e-04, 2.15443469e-03,\n",
       "       5.99484250e-03, 1.66810054e-02, 4.64158883e-02, 1.29154967e-01,\n",
       "       3.59381366e-01, 1.00000000e+00]),\n",
       "                         'learning_rate': ['constant', 'optimal', 'invscaling'],\n",
       "                         'loss': ['squared_loss', 'huber',\n",
       "                                  'epsilon_insensitive'],\n",
       "                         'penalty': ['l2', 'l1', 'elasticnet']})"
      ]
     },
     "execution_count": 70,
     "metadata": {},
     "output_type": "execute_result"
    }
   ],
   "source": [
    "%%time\n",
    "locally_best_sgd = GridSearchCV(sgd, param_grid=sgd_grid, cv=10, n_jobs=-1)\n",
    "locally_best_sgd.fit(X_train, y_train)"
   ]
  },
  {
   "cell_type": "code",
   "execution_count": 71,
   "metadata": {},
   "outputs": [
    {
     "data": {
      "text/plain": [
       "{'alpha': 0.046415888336127774,\n",
       " 'learning_rate': 'optimal',\n",
       " 'loss': 'epsilon_insensitive',\n",
       " 'penalty': 'elasticnet'}"
      ]
     },
     "execution_count": 71,
     "metadata": {},
     "output_type": "execute_result"
    }
   ],
   "source": [
    "locally_best_sgd.best_params_"
   ]
  },
  {
   "cell_type": "code",
   "execution_count": 72,
   "metadata": {},
   "outputs": [],
   "source": [
    "sgd_best = locally_best_sgd.best_estimator_"
   ]
  },
  {
   "cell_type": "code",
   "execution_count": 73,
   "metadata": {},
   "outputs": [
    {
     "name": "stdout",
     "output_type": "stream",
     "text": [
      "Mean squared error (train): 0.011\n",
      "Mean squared error (holdout): 0.041\n"
     ]
    }
   ],
   "source": [
    "print(\"Mean squared error (train): %.3f\" % mean_squared_error(y_train, sgd_best.predict(X_train))) \n",
    "print(\"Mean squared error (holdout): %.3f\" % mean_squared_error(y_holdout, sgd_best.predict(X_holdout)))"
   ]
  },
  {
   "cell_type": "code",
   "execution_count": 74,
   "metadata": {},
   "outputs": [],
   "source": [
    "pd.DataFrame(np.exp(sgd_best.predict(X_test)), index=X_test.index,columns=['SalePrice']).to_csv('submission.csv')"
   ]
  },
  {
   "cell_type": "markdown",
   "metadata": {},
   "source": [
    "### 4.5. XGBoost"
   ]
  },
  {
   "cell_type": "code",
   "execution_count": 45,
   "metadata": {},
   "outputs": [],
   "source": [
    "xgb1 = XGBRegressor(objective='reg:squarederror', nthread = 8, random_state=SEED)"
   ]
  },
  {
   "cell_type": "code",
   "execution_count": 46,
   "metadata": {},
   "outputs": [],
   "source": [
    "xgb_params1 = {'max_depth': [3, 5, 6, 7],\n",
    "              'min_child_weight': [1, 5],\n",
    "              'subsample': [0.3, 0.7, 1],\n",
    "              'colsample_bytree': [0.3, 0.7, 1]}"
   ]
  },
  {
   "cell_type": "code",
   "execution_count": 47,
   "metadata": {},
   "outputs": [],
   "source": [
    "xgb_grid = RandomizedSearchCV(xgb1,\n",
    "                        param_distributions = xgb_params1,\n",
    "                        cv = 10,\n",
    "                        scoring='neg_root_mean_squared_error')"
   ]
  },
  {
   "cell_type": "code",
   "execution_count": 48,
   "metadata": {},
   "outputs": [
    {
     "name": "stdout",
     "output_type": "stream",
     "text": [
      "CPU times: user 1min 51s, sys: 207 ms, total: 1min 51s\n",
      "Wall time: 15.3 s\n"
     ]
    },
    {
     "data": {
      "text/plain": [
       "RandomizedSearchCV(cv=10,\n",
       "                   estimator=XGBRegressor(base_score=None, booster=None,\n",
       "                                          colsample_bylevel=None,\n",
       "                                          colsample_bynode=None,\n",
       "                                          colsample_bytree=None, gamma=None,\n",
       "                                          gpu_id=None, importance_type='gain',\n",
       "                                          interaction_constraints=None,\n",
       "                                          learning_rate=None,\n",
       "                                          max_delta_step=None, max_depth=None,\n",
       "                                          min_child_weight=None, missing=nan,\n",
       "                                          monotone_constraints=None,\n",
       "                                          n_estimators=100, n_jobs=None,\n",
       "                                          nthread=8, num_parallel_tree=None,\n",
       "                                          random_state=None, reg_alpha=None,\n",
       "                                          reg_lambda=None,\n",
       "                                          scale_pos_weight=None, subsample=None,\n",
       "                                          tree_method=None,\n",
       "                                          validate_parameters=None,\n",
       "                                          verbosity=None),\n",
       "                   param_distributions={'colsample_bytree': [0.3, 0.7, 1],\n",
       "                                        'max_depth': [3, 5, 6, 7],\n",
       "                                        'min_child_weight': [1, 5],\n",
       "                                        'subsample': [0.3, 0.7, 1]},\n",
       "                   scoring='neg_root_mean_squared_error')"
      ]
     },
     "execution_count": 48,
     "metadata": {},
     "output_type": "execute_result"
    }
   ],
   "source": [
    "%%time\n",
    "xgb_grid.fit(X_train, y_train)"
   ]
  },
  {
   "cell_type": "code",
   "execution_count": 49,
   "metadata": {},
   "outputs": [
    {
     "data": {
      "text/plain": [
       "{'subsample': 1,\n",
       " 'min_child_weight': 5,\n",
       " 'max_depth': 5,\n",
       " 'colsample_bytree': 0.3}"
      ]
     },
     "execution_count": 49,
     "metadata": {},
     "output_type": "execute_result"
    }
   ],
   "source": [
    "xgb_grid.best_params_"
   ]
  },
  {
   "cell_type": "code",
   "execution_count": 50,
   "metadata": {},
   "outputs": [],
   "source": [
    "xgb2 = XGBRegressor(objective='reg:squarederror', nthread = 8, n_estimators=500,\n",
    "                   colsample_bytree=xgb_grid.best_params_['colsample_bytree'],\n",
    "                   max_depth=xgb_grid.best_params_['max_depth'],\n",
    "                   min_child_weight=xgb_grid.best_params_['min_child_weight'],\n",
    "                   subsample=xgb_grid.best_params_['subsample'],\n",
    "                   random_state=SEED)"
   ]
  },
  {
   "cell_type": "code",
   "execution_count": 51,
   "metadata": {},
   "outputs": [],
   "source": [
    "xgb_params2 = {'learning_rate' : np.arange(0.1, 1, 0.2)}               "
   ]
  },
  {
   "cell_type": "code",
   "execution_count": 52,
   "metadata": {},
   "outputs": [],
   "source": [
    "xgb2_grid = GridSearchCV(xgb2,\n",
    "                        xgb_params2,\n",
    "                        cv = 10,\n",
    "                        scoring='neg_root_mean_squared_error')"
   ]
  },
  {
   "cell_type": "code",
   "execution_count": 53,
   "metadata": {},
   "outputs": [
    {
     "name": "stdout",
     "output_type": "stream",
     "text": [
      "CPU times: user 2min 35s, sys: 251 ms, total: 2min 35s\n",
      "Wall time: 20.3 s\n"
     ]
    },
    {
     "data": {
      "text/plain": [
       "GridSearchCV(cv=10,\n",
       "             estimator=XGBRegressor(base_score=None, booster=None,\n",
       "                                    colsample_bylevel=None,\n",
       "                                    colsample_bynode=None, colsample_bytree=0.3,\n",
       "                                    gamma=None, gpu_id=None,\n",
       "                                    importance_type='gain',\n",
       "                                    interaction_constraints=None,\n",
       "                                    learning_rate=None, max_delta_step=None,\n",
       "                                    max_depth=5, min_child_weight=5,\n",
       "                                    missing=nan, monotone_constraints=None,\n",
       "                                    n_estimators=500, n_jobs=None, nthread=8,\n",
       "                                    num_parallel_tree=None, random_state=None,\n",
       "                                    reg_alpha=None, reg_lambda=None,\n",
       "                                    scale_pos_weight=None, subsample=1,\n",
       "                                    tree_method=None, validate_parameters=None,\n",
       "                                    verbosity=None),\n",
       "             param_grid={'learning_rate': array([0.1, 0.3, 0.5, 0.7, 0.9])},\n",
       "             scoring='neg_root_mean_squared_error')"
      ]
     },
     "execution_count": 53,
     "metadata": {},
     "output_type": "execute_result"
    }
   ],
   "source": [
    "%%time\n",
    "xgb2_grid.fit(X_train, y_train)"
   ]
  },
  {
   "cell_type": "code",
   "execution_count": 54,
   "metadata": {},
   "outputs": [
    {
     "data": {
      "text/plain": [
       "{'learning_rate': 0.1}"
      ]
     },
     "execution_count": 54,
     "metadata": {},
     "output_type": "execute_result"
    }
   ],
   "source": [
    "xgb2_grid.best_params_"
   ]
  },
  {
   "cell_type": "code",
   "execution_count": 55,
   "metadata": {},
   "outputs": [],
   "source": [
    "best_xgb = xgb2_grid.best_estimator_"
   ]
  },
  {
   "cell_type": "code",
   "execution_count": 56,
   "metadata": {},
   "outputs": [
    {
     "name": "stdout",
     "output_type": "stream",
     "text": [
      "Mean squared error (train): 0.000\n",
      "Mean squared error (holdout): 0.01602\n"
     ]
    }
   ],
   "source": [
    "print(\"Mean squared error (train): %.3f\" % mean_squared_error(y_train, best_xgb.predict(X_train))) \n",
    "print(\"Mean squared error (holdout): %.5f\" % mean_squared_error(y_holdout, best_xgb.predict(X_holdout)))"
   ]
  },
  {
   "cell_type": "code",
   "execution_count": 57,
   "metadata": {},
   "outputs": [],
   "source": [
    "pd.DataFrame(np.exp(best_xgb.predict(X_test)), index=X_test.index,columns=['SalePrice']).to_csv('Xgbost_submission.csv')"
   ]
  },
  {
   "cell_type": "code",
   "execution_count": 58,
   "metadata": {},
   "outputs": [],
   "source": [
    "w = np.arange(0.1, 1, 0.1)\n",
    "d = {}"
   ]
  },
  {
   "cell_type": "code",
   "execution_count": 59,
   "metadata": {},
   "outputs": [
    {
     "name": "stdout",
     "output_type": "stream",
     "text": [
      "0.9\n",
      "0.029892789573042665\n"
     ]
    }
   ],
   "source": [
    "for i in w:\n",
    "    d[i] = mean_squared_error(y_holdout, i*lasso.predict(X_holdout) + (1 - i)*best_xgb.predict(X_holdout))\n",
    "w1 = max(d, key=d.get)\n",
    "print(w1)\n",
    "print(d[w1])"
   ]
  },
  {
   "cell_type": "code",
   "execution_count": 60,
   "metadata": {},
   "outputs": [],
   "source": [
    "pd.DataFrame(np.exp(w1*lasso.predict(X_test) + (1 - w1)*best_xgb.predict(X_test)), \n",
    "             index=X_test.index,columns=['SalePrice']).to_csv('lin+xgb_submission.csv')"
   ]
  },
  {
   "cell_type": "markdown",
   "metadata": {},
   "source": [
    "### 4.6. Catboost"
   ]
  },
  {
   "cell_type": "code",
   "execution_count": 61,
   "metadata": {},
   "outputs": [],
   "source": [
    "col = cat_data.columns[cat_data.dtypes == 'object']"
   ]
  },
  {
   "cell_type": "code",
   "execution_count": 62,
   "metadata": {},
   "outputs": [],
   "source": [
    "cat_data[col] = cat_data[col].astype(str)\n",
    "X_test_cat = cat_data[split:]"
   ]
  },
  {
   "cell_type": "code",
   "execution_count": 63,
   "metadata": {},
   "outputs": [],
   "source": [
    "X_train_cat, X_holdout_cat, y_train_cat, y_holdout_cat = train_test_split(cat_data[:split], y, test_size=0.3)"
   ]
  },
  {
   "cell_type": "code",
   "execution_count": 64,
   "metadata": {},
   "outputs": [],
   "source": [
    "cat = CatBoostRegressor(cat_features=np.where(X_train_cat.dtypes == 'object')[0].tolist())"
   ]
  },
  {
   "cell_type": "code",
   "execution_count": 65,
   "metadata": {},
   "outputs": [
    {
     "name": "stdout",
     "output_type": "stream",
     "text": [
      "Learning rate set to 0.039182\n",
      "0:\tlearn: 0.3937312\ttotal: 67.3ms\tremaining: 1m 7s\n",
      "1:\tlearn: 0.3836722\ttotal: 77.9ms\tremaining: 38.9s\n",
      "2:\tlearn: 0.3741006\ttotal: 87.3ms\tremaining: 29s\n",
      "3:\tlearn: 0.3653302\ttotal: 96.2ms\tremaining: 23.9s\n",
      "4:\tlearn: 0.3563146\ttotal: 106ms\tremaining: 21.1s\n",
      "5:\tlearn: 0.3476280\ttotal: 115ms\tremaining: 19s\n",
      "6:\tlearn: 0.3391447\ttotal: 125ms\tremaining: 17.7s\n",
      "7:\tlearn: 0.3315956\ttotal: 135ms\tremaining: 16.8s\n",
      "8:\tlearn: 0.3240441\ttotal: 148ms\tremaining: 16.3s\n",
      "9:\tlearn: 0.3167256\ttotal: 157ms\tremaining: 15.6s\n",
      "10:\tlearn: 0.3098349\ttotal: 165ms\tremaining: 14.9s\n",
      "11:\tlearn: 0.3031576\ttotal: 175ms\tremaining: 14.4s\n",
      "12:\tlearn: 0.2969097\ttotal: 185ms\tremaining: 14s\n",
      "13:\tlearn: 0.2908678\ttotal: 196ms\tremaining: 13.8s\n",
      "14:\tlearn: 0.2848133\ttotal: 207ms\tremaining: 13.6s\n",
      "15:\tlearn: 0.2793122\ttotal: 217ms\tremaining: 13.3s\n",
      "16:\tlearn: 0.2735631\ttotal: 225ms\tremaining: 13s\n",
      "17:\tlearn: 0.2683944\ttotal: 234ms\tremaining: 12.8s\n",
      "18:\tlearn: 0.2631728\ttotal: 243ms\tremaining: 12.6s\n",
      "19:\tlearn: 0.2584074\ttotal: 253ms\tremaining: 12.4s\n",
      "20:\tlearn: 0.2536798\ttotal: 261ms\tremaining: 12.2s\n",
      "21:\tlearn: 0.2493818\ttotal: 271ms\tremaining: 12.1s\n",
      "22:\tlearn: 0.2448600\ttotal: 280ms\tremaining: 11.9s\n",
      "23:\tlearn: 0.2406168\ttotal: 288ms\tremaining: 11.7s\n",
      "24:\tlearn: 0.2367456\ttotal: 298ms\tremaining: 11.6s\n",
      "25:\tlearn: 0.2327517\ttotal: 308ms\tremaining: 11.5s\n",
      "26:\tlearn: 0.2290563\ttotal: 317ms\tremaining: 11.4s\n",
      "27:\tlearn: 0.2252717\ttotal: 326ms\tremaining: 11.3s\n",
      "28:\tlearn: 0.2216960\ttotal: 335ms\tremaining: 11.2s\n",
      "29:\tlearn: 0.2182693\ttotal: 344ms\tremaining: 11.1s\n",
      "30:\tlearn: 0.2145614\ttotal: 354ms\tremaining: 11.1s\n",
      "31:\tlearn: 0.2113191\ttotal: 363ms\tremaining: 11s\n",
      "32:\tlearn: 0.2082174\ttotal: 371ms\tremaining: 10.9s\n",
      "33:\tlearn: 0.2052198\ttotal: 381ms\tremaining: 10.8s\n",
      "34:\tlearn: 0.2022177\ttotal: 390ms\tremaining: 10.7s\n",
      "35:\tlearn: 0.1992661\ttotal: 401ms\tremaining: 10.7s\n",
      "36:\tlearn: 0.1962199\ttotal: 410ms\tremaining: 10.7s\n",
      "37:\tlearn: 0.1939641\ttotal: 419ms\tremaining: 10.6s\n",
      "38:\tlearn: 0.1914634\ttotal: 427ms\tremaining: 10.5s\n",
      "39:\tlearn: 0.1887330\ttotal: 435ms\tremaining: 10.4s\n",
      "40:\tlearn: 0.1865344\ttotal: 444ms\tremaining: 10.4s\n",
      "41:\tlearn: 0.1846369\ttotal: 453ms\tremaining: 10.3s\n",
      "42:\tlearn: 0.1824138\ttotal: 462ms\tremaining: 10.3s\n",
      "43:\tlearn: 0.1804630\ttotal: 472ms\tremaining: 10.2s\n",
      "44:\tlearn: 0.1784375\ttotal: 480ms\tremaining: 10.2s\n",
      "45:\tlearn: 0.1764477\ttotal: 489ms\tremaining: 10.1s\n",
      "46:\tlearn: 0.1746794\ttotal: 498ms\tremaining: 10.1s\n",
      "47:\tlearn: 0.1726870\ttotal: 508ms\tremaining: 10.1s\n",
      "48:\tlearn: 0.1709747\ttotal: 516ms\tremaining: 10s\n",
      "49:\tlearn: 0.1692507\ttotal: 525ms\tremaining: 9.98s\n",
      "50:\tlearn: 0.1674684\ttotal: 535ms\tremaining: 9.95s\n",
      "51:\tlearn: 0.1657095\ttotal: 543ms\tremaining: 9.89s\n",
      "52:\tlearn: 0.1641171\ttotal: 551ms\tremaining: 9.85s\n",
      "53:\tlearn: 0.1625575\ttotal: 560ms\tremaining: 9.81s\n",
      "54:\tlearn: 0.1612552\ttotal: 569ms\tremaining: 9.77s\n",
      "55:\tlearn: 0.1599571\ttotal: 580ms\tremaining: 9.77s\n",
      "56:\tlearn: 0.1587318\ttotal: 590ms\tremaining: 9.76s\n",
      "57:\tlearn: 0.1576070\ttotal: 600ms\tremaining: 9.74s\n",
      "58:\tlearn: 0.1562532\ttotal: 610ms\tremaining: 9.73s\n",
      "59:\tlearn: 0.1551257\ttotal: 620ms\tremaining: 9.71s\n",
      "60:\tlearn: 0.1539802\ttotal: 629ms\tremaining: 9.69s\n",
      "61:\tlearn: 0.1528104\ttotal: 638ms\tremaining: 9.65s\n",
      "62:\tlearn: 0.1517819\ttotal: 648ms\tremaining: 9.64s\n",
      "63:\tlearn: 0.1505597\ttotal: 658ms\tremaining: 9.62s\n",
      "64:\tlearn: 0.1493977\ttotal: 667ms\tremaining: 9.6s\n",
      "65:\tlearn: 0.1483891\ttotal: 677ms\tremaining: 9.57s\n",
      "66:\tlearn: 0.1474742\ttotal: 687ms\tremaining: 9.56s\n",
      "67:\tlearn: 0.1463262\ttotal: 695ms\tremaining: 9.52s\n",
      "68:\tlearn: 0.1454008\ttotal: 703ms\tremaining: 9.48s\n",
      "69:\tlearn: 0.1444149\ttotal: 711ms\tremaining: 9.44s\n",
      "70:\tlearn: 0.1436789\ttotal: 722ms\tremaining: 9.44s\n",
      "71:\tlearn: 0.1429357\ttotal: 732ms\tremaining: 9.43s\n",
      "72:\tlearn: 0.1418017\ttotal: 741ms\tremaining: 9.41s\n",
      "73:\tlearn: 0.1410349\ttotal: 746ms\tremaining: 9.33s\n",
      "74:\tlearn: 0.1403236\ttotal: 756ms\tremaining: 9.32s\n",
      "75:\tlearn: 0.1393082\ttotal: 765ms\tremaining: 9.3s\n",
      "76:\tlearn: 0.1387146\ttotal: 772ms\tremaining: 9.25s\n",
      "77:\tlearn: 0.1380923\ttotal: 781ms\tremaining: 9.23s\n",
      "78:\tlearn: 0.1372918\ttotal: 790ms\tremaining: 9.21s\n",
      "79:\tlearn: 0.1365940\ttotal: 799ms\tremaining: 9.18s\n",
      "80:\tlearn: 0.1358262\ttotal: 808ms\tremaining: 9.16s\n",
      "81:\tlearn: 0.1351191\ttotal: 820ms\tremaining: 9.17s\n",
      "82:\tlearn: 0.1344742\ttotal: 831ms\tremaining: 9.18s\n",
      "83:\tlearn: 0.1338982\ttotal: 843ms\tremaining: 9.19s\n",
      "84:\tlearn: 0.1332729\ttotal: 853ms\tremaining: 9.18s\n",
      "85:\tlearn: 0.1326403\ttotal: 861ms\tremaining: 9.15s\n",
      "86:\tlearn: 0.1321952\ttotal: 872ms\tremaining: 9.15s\n",
      "87:\tlearn: 0.1315935\ttotal: 882ms\tremaining: 9.14s\n",
      "88:\tlearn: 0.1310809\ttotal: 892ms\tremaining: 9.13s\n",
      "89:\tlearn: 0.1304116\ttotal: 902ms\tremaining: 9.12s\n",
      "90:\tlearn: 0.1298904\ttotal: 911ms\tremaining: 9.1s\n",
      "91:\tlearn: 0.1293246\ttotal: 920ms\tremaining: 9.08s\n",
      "92:\tlearn: 0.1287893\ttotal: 930ms\tremaining: 9.06s\n",
      "93:\tlearn: 0.1281434\ttotal: 938ms\tremaining: 9.04s\n",
      "94:\tlearn: 0.1274760\ttotal: 949ms\tremaining: 9.04s\n",
      "95:\tlearn: 0.1269897\ttotal: 959ms\tremaining: 9.03s\n",
      "96:\tlearn: 0.1261700\ttotal: 967ms\tremaining: 9s\n",
      "97:\tlearn: 0.1254998\ttotal: 977ms\tremaining: 8.99s\n",
      "98:\tlearn: 0.1248593\ttotal: 987ms\tremaining: 8.98s\n",
      "99:\tlearn: 0.1244456\ttotal: 997ms\tremaining: 8.97s\n",
      "100:\tlearn: 0.1240765\ttotal: 1.01s\tremaining: 8.97s\n",
      "101:\tlearn: 0.1235695\ttotal: 1.02s\tremaining: 8.95s\n",
      "102:\tlearn: 0.1231474\ttotal: 1.02s\tremaining: 8.92s\n",
      "103:\tlearn: 0.1228150\ttotal: 1.03s\tremaining: 8.92s\n",
      "104:\tlearn: 0.1225113\ttotal: 1.04s\tremaining: 8.85s\n",
      "105:\tlearn: 0.1222071\ttotal: 1.05s\tremaining: 8.83s\n",
      "106:\tlearn: 0.1218218\ttotal: 1.06s\tremaining: 8.82s\n",
      "107:\tlearn: 0.1213819\ttotal: 1.07s\tremaining: 8.81s\n",
      "108:\tlearn: 0.1210137\ttotal: 1.07s\tremaining: 8.79s\n",
      "109:\tlearn: 0.1206259\ttotal: 1.08s\tremaining: 8.78s\n",
      "110:\tlearn: 0.1202844\ttotal: 1.09s\tremaining: 8.77s\n",
      "111:\tlearn: 0.1197998\ttotal: 1.1s\tremaining: 8.76s\n",
      "112:\tlearn: 0.1193639\ttotal: 1.11s\tremaining: 8.74s\n",
      "113:\tlearn: 0.1190265\ttotal: 1.12s\tremaining: 8.72s\n",
      "114:\tlearn: 0.1184925\ttotal: 1.13s\tremaining: 8.71s\n",
      "115:\tlearn: 0.1182351\ttotal: 1.14s\tremaining: 8.7s\n",
      "116:\tlearn: 0.1177460\ttotal: 1.15s\tremaining: 8.7s\n",
      "117:\tlearn: 0.1174240\ttotal: 1.16s\tremaining: 8.69s\n",
      "118:\tlearn: 0.1172084\ttotal: 1.17s\tremaining: 8.68s\n",
      "119:\tlearn: 0.1168197\ttotal: 1.18s\tremaining: 8.66s\n",
      "120:\tlearn: 0.1165875\ttotal: 1.19s\tremaining: 8.63s\n",
      "121:\tlearn: 0.1161257\ttotal: 1.2s\tremaining: 8.62s\n",
      "122:\tlearn: 0.1157961\ttotal: 1.21s\tremaining: 8.61s\n",
      "123:\tlearn: 0.1154342\ttotal: 1.22s\tremaining: 8.6s\n",
      "124:\tlearn: 0.1151129\ttotal: 1.23s\tremaining: 8.6s\n",
      "125:\tlearn: 0.1147995\ttotal: 1.24s\tremaining: 8.58s\n",
      "126:\tlearn: 0.1144635\ttotal: 1.25s\tremaining: 8.57s\n",
      "127:\tlearn: 0.1141829\ttotal: 1.26s\tremaining: 8.57s\n",
      "128:\tlearn: 0.1139005\ttotal: 1.27s\tremaining: 8.56s\n",
      "129:\tlearn: 0.1136905\ttotal: 1.28s\tremaining: 8.55s\n",
      "130:\tlearn: 0.1134101\ttotal: 1.29s\tremaining: 8.54s\n",
      "131:\tlearn: 0.1131660\ttotal: 1.3s\tremaining: 8.52s\n",
      "132:\tlearn: 0.1130752\ttotal: 1.3s\tremaining: 8.5s\n",
      "133:\tlearn: 0.1128202\ttotal: 1.31s\tremaining: 8.49s\n",
      "134:\tlearn: 0.1125120\ttotal: 1.32s\tremaining: 8.48s\n",
      "135:\tlearn: 0.1121919\ttotal: 1.33s\tremaining: 8.47s\n",
      "136:\tlearn: 0.1120093\ttotal: 1.34s\tremaining: 8.46s\n",
      "137:\tlearn: 0.1116513\ttotal: 1.35s\tremaining: 8.45s\n",
      "138:\tlearn: 0.1114644\ttotal: 1.36s\tremaining: 8.43s\n",
      "139:\tlearn: 0.1112220\ttotal: 1.37s\tremaining: 8.41s\n",
      "140:\tlearn: 0.1109661\ttotal: 1.38s\tremaining: 8.4s\n",
      "141:\tlearn: 0.1107606\ttotal: 1.39s\tremaining: 8.39s\n",
      "142:\tlearn: 0.1104249\ttotal: 1.4s\tremaining: 8.38s\n",
      "143:\tlearn: 0.1101119\ttotal: 1.41s\tremaining: 8.37s\n",
      "144:\tlearn: 0.1100043\ttotal: 1.42s\tremaining: 8.36s\n",
      "145:\tlearn: 0.1098061\ttotal: 1.43s\tremaining: 8.36s\n",
      "146:\tlearn: 0.1095653\ttotal: 1.44s\tremaining: 8.35s\n",
      "147:\tlearn: 0.1092507\ttotal: 1.45s\tremaining: 8.35s\n",
      "148:\tlearn: 0.1090082\ttotal: 1.46s\tremaining: 8.33s\n",
      "149:\tlearn: 0.1088327\ttotal: 1.47s\tremaining: 8.32s\n",
      "150:\tlearn: 0.1087003\ttotal: 1.48s\tremaining: 8.31s\n",
      "151:\tlearn: 0.1085136\ttotal: 1.49s\tremaining: 8.3s\n",
      "152:\tlearn: 0.1082579\ttotal: 1.5s\tremaining: 8.29s\n",
      "153:\tlearn: 0.1080895\ttotal: 1.5s\tremaining: 8.27s\n",
      "154:\tlearn: 0.1078704\ttotal: 1.51s\tremaining: 8.26s\n",
      "155:\tlearn: 0.1076724\ttotal: 1.52s\tremaining: 8.25s\n",
      "156:\tlearn: 0.1074207\ttotal: 1.53s\tremaining: 8.23s\n",
      "157:\tlearn: 0.1071776\ttotal: 1.54s\tremaining: 8.22s\n",
      "158:\tlearn: 0.1070374\ttotal: 1.55s\tremaining: 8.21s\n",
      "159:\tlearn: 0.1067608\ttotal: 1.56s\tremaining: 8.19s\n",
      "160:\tlearn: 0.1066305\ttotal: 1.57s\tremaining: 8.17s\n",
      "161:\tlearn: 0.1063358\ttotal: 1.58s\tremaining: 8.16s\n",
      "162:\tlearn: 0.1061549\ttotal: 1.59s\tremaining: 8.15s\n",
      "163:\tlearn: 0.1060183\ttotal: 1.59s\tremaining: 8.13s\n",
      "164:\tlearn: 0.1057814\ttotal: 1.6s\tremaining: 8.12s\n",
      "165:\tlearn: 0.1055633\ttotal: 1.61s\tremaining: 8.1s\n",
      "166:\tlearn: 0.1052831\ttotal: 1.62s\tremaining: 8.1s\n"
     ]
    },
    {
     "name": "stdout",
     "output_type": "stream",
     "text": [
      "167:\tlearn: 0.1051816\ttotal: 1.64s\tremaining: 8.1s\n",
      "168:\tlearn: 0.1049742\ttotal: 1.65s\tremaining: 8.09s\n",
      "169:\tlearn: 0.1047880\ttotal: 1.65s\tremaining: 8.08s\n",
      "170:\tlearn: 0.1045954\ttotal: 1.66s\tremaining: 8.06s\n",
      "171:\tlearn: 0.1044654\ttotal: 1.67s\tremaining: 8.05s\n",
      "172:\tlearn: 0.1042932\ttotal: 1.68s\tremaining: 8.04s\n",
      "173:\tlearn: 0.1041399\ttotal: 1.69s\tremaining: 8.03s\n",
      "174:\tlearn: 0.1039564\ttotal: 1.7s\tremaining: 8.01s\n",
      "175:\tlearn: 0.1038380\ttotal: 1.71s\tremaining: 8s\n",
      "176:\tlearn: 0.1036361\ttotal: 1.72s\tremaining: 7.99s\n",
      "177:\tlearn: 0.1034351\ttotal: 1.73s\tremaining: 7.97s\n",
      "178:\tlearn: 0.1031862\ttotal: 1.73s\tremaining: 7.96s\n",
      "179:\tlearn: 0.1030266\ttotal: 1.74s\tremaining: 7.94s\n",
      "180:\tlearn: 0.1028482\ttotal: 1.75s\tremaining: 7.93s\n",
      "181:\tlearn: 0.1026168\ttotal: 1.76s\tremaining: 7.92s\n",
      "182:\tlearn: 0.1024178\ttotal: 1.77s\tremaining: 7.91s\n",
      "183:\tlearn: 0.1023095\ttotal: 1.78s\tremaining: 7.91s\n",
      "184:\tlearn: 0.1020922\ttotal: 1.79s\tremaining: 7.9s\n",
      "185:\tlearn: 0.1019507\ttotal: 1.8s\tremaining: 7.89s\n",
      "186:\tlearn: 0.1018856\ttotal: 1.81s\tremaining: 7.88s\n",
      "187:\tlearn: 0.1018139\ttotal: 1.82s\tremaining: 7.87s\n",
      "188:\tlearn: 0.1016492\ttotal: 1.83s\tremaining: 7.86s\n",
      "189:\tlearn: 0.1013948\ttotal: 1.84s\tremaining: 7.85s\n",
      "190:\tlearn: 0.1012794\ttotal: 1.85s\tremaining: 7.85s\n",
      "191:\tlearn: 0.1011679\ttotal: 1.86s\tremaining: 7.84s\n",
      "192:\tlearn: 0.1011091\ttotal: 1.87s\tremaining: 7.83s\n",
      "193:\tlearn: 0.1010340\ttotal: 1.88s\tremaining: 7.83s\n",
      "194:\tlearn: 0.1008663\ttotal: 1.89s\tremaining: 7.82s\n",
      "195:\tlearn: 0.1007581\ttotal: 1.9s\tremaining: 7.81s\n",
      "196:\tlearn: 0.1005618\ttotal: 1.91s\tremaining: 7.8s\n",
      "197:\tlearn: 0.1003832\ttotal: 1.92s\tremaining: 7.78s\n",
      "198:\tlearn: 0.1002631\ttotal: 1.93s\tremaining: 7.76s\n",
      "199:\tlearn: 0.1001654\ttotal: 1.94s\tremaining: 7.75s\n",
      "200:\tlearn: 0.1000528\ttotal: 1.95s\tremaining: 7.74s\n",
      "201:\tlearn: 0.0998939\ttotal: 1.96s\tremaining: 7.73s\n",
      "202:\tlearn: 0.0997448\ttotal: 1.96s\tremaining: 7.71s\n",
      "203:\tlearn: 0.0995123\ttotal: 1.97s\tremaining: 7.7s\n",
      "204:\tlearn: 0.0994063\ttotal: 1.98s\tremaining: 7.69s\n",
      "205:\tlearn: 0.0992604\ttotal: 1.99s\tremaining: 7.68s\n",
      "206:\tlearn: 0.0989358\ttotal: 2s\tremaining: 7.67s\n",
      "207:\tlearn: 0.0987762\ttotal: 2.01s\tremaining: 7.65s\n",
      "208:\tlearn: 0.0986756\ttotal: 2.02s\tremaining: 7.64s\n",
      "209:\tlearn: 0.0985710\ttotal: 2.03s\tremaining: 7.64s\n",
      "210:\tlearn: 0.0983946\ttotal: 2.04s\tremaining: 7.62s\n",
      "211:\tlearn: 0.0982401\ttotal: 2.05s\tremaining: 7.62s\n",
      "212:\tlearn: 0.0981108\ttotal: 2.06s\tremaining: 7.61s\n",
      "213:\tlearn: 0.0979171\ttotal: 2.07s\tremaining: 7.6s\n",
      "214:\tlearn: 0.0977554\ttotal: 2.08s\tremaining: 7.59s\n",
      "215:\tlearn: 0.0976596\ttotal: 2.09s\tremaining: 7.59s\n",
      "216:\tlearn: 0.0973822\ttotal: 2.1s\tremaining: 7.58s\n",
      "217:\tlearn: 0.0973058\ttotal: 2.11s\tremaining: 7.57s\n",
      "218:\tlearn: 0.0971131\ttotal: 2.12s\tremaining: 7.56s\n",
      "219:\tlearn: 0.0970518\ttotal: 2.13s\tremaining: 7.55s\n",
      "220:\tlearn: 0.0968489\ttotal: 2.14s\tremaining: 7.54s\n",
      "221:\tlearn: 0.0966688\ttotal: 2.15s\tremaining: 7.53s\n",
      "222:\tlearn: 0.0966539\ttotal: 2.16s\tremaining: 7.52s\n",
      "223:\tlearn: 0.0964712\ttotal: 2.17s\tremaining: 7.51s\n",
      "224:\tlearn: 0.0963224\ttotal: 2.18s\tremaining: 7.5s\n",
      "225:\tlearn: 0.0963012\ttotal: 2.19s\tremaining: 7.49s\n",
      "226:\tlearn: 0.0962262\ttotal: 2.2s\tremaining: 7.48s\n",
      "227:\tlearn: 0.0960490\ttotal: 2.21s\tremaining: 7.47s\n",
      "228:\tlearn: 0.0959081\ttotal: 2.21s\tremaining: 7.45s\n",
      "229:\tlearn: 0.0958078\ttotal: 2.22s\tremaining: 7.44s\n",
      "230:\tlearn: 0.0954816\ttotal: 2.23s\tremaining: 7.43s\n",
      "231:\tlearn: 0.0954589\ttotal: 2.24s\tremaining: 7.42s\n",
      "232:\tlearn: 0.0953645\ttotal: 2.25s\tremaining: 7.42s\n",
      "233:\tlearn: 0.0952706\ttotal: 2.26s\tremaining: 7.4s\n",
      "234:\tlearn: 0.0951760\ttotal: 2.27s\tremaining: 7.39s\n",
      "235:\tlearn: 0.0951532\ttotal: 2.28s\tremaining: 7.38s\n",
      "236:\tlearn: 0.0949697\ttotal: 2.29s\tremaining: 7.37s\n",
      "237:\tlearn: 0.0948451\ttotal: 2.3s\tremaining: 7.36s\n",
      "238:\tlearn: 0.0948288\ttotal: 2.31s\tremaining: 7.34s\n",
      "239:\tlearn: 0.0947232\ttotal: 2.32s\tremaining: 7.34s\n",
      "240:\tlearn: 0.0945605\ttotal: 2.33s\tremaining: 7.33s\n",
      "241:\tlearn: 0.0944744\ttotal: 2.34s\tremaining: 7.32s\n",
      "242:\tlearn: 0.0942630\ttotal: 2.35s\tremaining: 7.31s\n",
      "243:\tlearn: 0.0942249\ttotal: 2.35s\tremaining: 7.3s\n",
      "244:\tlearn: 0.0940711\ttotal: 2.37s\tremaining: 7.29s\n",
      "245:\tlearn: 0.0939328\ttotal: 2.38s\tremaining: 7.28s\n",
      "246:\tlearn: 0.0938903\ttotal: 2.38s\tremaining: 7.27s\n",
      "247:\tlearn: 0.0938211\ttotal: 2.39s\tremaining: 7.26s\n",
      "248:\tlearn: 0.0937999\ttotal: 2.4s\tremaining: 7.25s\n",
      "249:\tlearn: 0.0937264\ttotal: 2.41s\tremaining: 7.24s\n",
      "250:\tlearn: 0.0937125\ttotal: 2.42s\tremaining: 7.23s\n",
      "251:\tlearn: 0.0934566\ttotal: 2.43s\tremaining: 7.22s\n",
      "252:\tlearn: 0.0933084\ttotal: 2.44s\tremaining: 7.21s\n",
      "253:\tlearn: 0.0931835\ttotal: 2.45s\tremaining: 7.21s\n",
      "254:\tlearn: 0.0930834\ttotal: 2.46s\tremaining: 7.2s\n",
      "255:\tlearn: 0.0930182\ttotal: 2.47s\tremaining: 7.19s\n",
      "256:\tlearn: 0.0929477\ttotal: 2.48s\tremaining: 7.18s\n",
      "257:\tlearn: 0.0929152\ttotal: 2.49s\tremaining: 7.17s\n",
      "258:\tlearn: 0.0928055\ttotal: 2.5s\tremaining: 7.16s\n",
      "259:\tlearn: 0.0926577\ttotal: 2.51s\tremaining: 7.15s\n",
      "260:\tlearn: 0.0926265\ttotal: 2.52s\tremaining: 7.14s\n",
      "261:\tlearn: 0.0926121\ttotal: 2.53s\tremaining: 7.13s\n",
      "262:\tlearn: 0.0925927\ttotal: 2.54s\tremaining: 7.12s\n",
      "263:\tlearn: 0.0923852\ttotal: 2.55s\tremaining: 7.11s\n",
      "264:\tlearn: 0.0922012\ttotal: 2.56s\tremaining: 7.1s\n",
      "265:\tlearn: 0.0920454\ttotal: 2.57s\tremaining: 7.08s\n",
      "266:\tlearn: 0.0920176\ttotal: 2.58s\tremaining: 7.08s\n",
      "267:\tlearn: 0.0919302\ttotal: 2.59s\tremaining: 7.07s\n",
      "268:\tlearn: 0.0917347\ttotal: 2.6s\tremaining: 7.05s\n",
      "269:\tlearn: 0.0915217\ttotal: 2.61s\tremaining: 7.05s\n",
      "270:\tlearn: 0.0915078\ttotal: 2.62s\tremaining: 7.04s\n",
      "271:\tlearn: 0.0914360\ttotal: 2.63s\tremaining: 7.03s\n",
      "272:\tlearn: 0.0914109\ttotal: 2.63s\tremaining: 7.02s\n",
      "273:\tlearn: 0.0912421\ttotal: 2.65s\tremaining: 7.01s\n",
      "274:\tlearn: 0.0911019\ttotal: 2.65s\tremaining: 7s\n",
      "275:\tlearn: 0.0909344\ttotal: 2.66s\tremaining: 6.99s\n",
      "276:\tlearn: 0.0909132\ttotal: 2.67s\tremaining: 6.98s\n",
      "277:\tlearn: 0.0907465\ttotal: 2.68s\tremaining: 6.97s\n",
      "278:\tlearn: 0.0907133\ttotal: 2.69s\tremaining: 6.96s\n",
      "279:\tlearn: 0.0906727\ttotal: 2.7s\tremaining: 6.95s\n",
      "280:\tlearn: 0.0906142\ttotal: 2.71s\tremaining: 6.94s\n",
      "281:\tlearn: 0.0905755\ttotal: 2.72s\tremaining: 6.93s\n",
      "282:\tlearn: 0.0905567\ttotal: 2.73s\tremaining: 6.92s\n",
      "283:\tlearn: 0.0904592\ttotal: 2.74s\tremaining: 6.91s\n",
      "284:\tlearn: 0.0903158\ttotal: 2.75s\tremaining: 6.89s\n",
      "285:\tlearn: 0.0902266\ttotal: 2.76s\tremaining: 6.89s\n",
      "286:\tlearn: 0.0901836\ttotal: 2.77s\tremaining: 6.88s\n",
      "287:\tlearn: 0.0901322\ttotal: 2.78s\tremaining: 6.87s\n",
      "288:\tlearn: 0.0900351\ttotal: 2.79s\tremaining: 6.86s\n",
      "289:\tlearn: 0.0899060\ttotal: 2.8s\tremaining: 6.85s\n",
      "290:\tlearn: 0.0896652\ttotal: 2.81s\tremaining: 6.84s\n",
      "291:\tlearn: 0.0896498\ttotal: 2.82s\tremaining: 6.83s\n",
      "292:\tlearn: 0.0895394\ttotal: 2.83s\tremaining: 6.82s\n",
      "293:\tlearn: 0.0894096\ttotal: 2.84s\tremaining: 6.81s\n",
      "294:\tlearn: 0.0891271\ttotal: 2.85s\tremaining: 6.8s\n",
      "295:\tlearn: 0.0890303\ttotal: 2.86s\tremaining: 6.79s\n",
      "296:\tlearn: 0.0889752\ttotal: 2.87s\tremaining: 6.79s\n",
      "297:\tlearn: 0.0888197\ttotal: 2.87s\tremaining: 6.77s\n",
      "298:\tlearn: 0.0886613\ttotal: 2.88s\tremaining: 6.76s\n",
      "299:\tlearn: 0.0886093\ttotal: 2.89s\tremaining: 6.75s\n",
      "300:\tlearn: 0.0884745\ttotal: 2.9s\tremaining: 6.74s\n",
      "301:\tlearn: 0.0884597\ttotal: 2.91s\tremaining: 6.74s\n",
      "302:\tlearn: 0.0884187\ttotal: 2.92s\tremaining: 6.73s\n",
      "303:\tlearn: 0.0882360\ttotal: 2.93s\tremaining: 6.72s\n",
      "304:\tlearn: 0.0880082\ttotal: 2.94s\tremaining: 6.71s\n",
      "305:\tlearn: 0.0878718\ttotal: 2.95s\tremaining: 6.7s\n",
      "306:\tlearn: 0.0878532\ttotal: 2.96s\tremaining: 6.68s\n",
      "307:\tlearn: 0.0878140\ttotal: 2.97s\tremaining: 6.67s\n",
      "308:\tlearn: 0.0877158\ttotal: 2.98s\tremaining: 6.66s\n",
      "309:\tlearn: 0.0876156\ttotal: 2.99s\tremaining: 6.65s\n",
      "310:\tlearn: 0.0873975\ttotal: 3s\tremaining: 6.64s\n",
      "311:\tlearn: 0.0873395\ttotal: 3.01s\tremaining: 6.63s\n",
      "312:\tlearn: 0.0873287\ttotal: 3.02s\tremaining: 6.63s\n",
      "313:\tlearn: 0.0872634\ttotal: 3.03s\tremaining: 6.62s\n",
      "314:\tlearn: 0.0871668\ttotal: 3.04s\tremaining: 6.61s\n",
      "315:\tlearn: 0.0870767\ttotal: 3.05s\tremaining: 6.6s\n",
      "316:\tlearn: 0.0870034\ttotal: 3.06s\tremaining: 6.59s\n",
      "317:\tlearn: 0.0869584\ttotal: 3.07s\tremaining: 6.58s\n",
      "318:\tlearn: 0.0869192\ttotal: 3.08s\tremaining: 6.58s\n",
      "319:\tlearn: 0.0868501\ttotal: 3.09s\tremaining: 6.57s\n",
      "320:\tlearn: 0.0867891\ttotal: 3.1s\tremaining: 6.56s\n",
      "321:\tlearn: 0.0867100\ttotal: 3.11s\tremaining: 6.55s\n",
      "322:\tlearn: 0.0866997\ttotal: 3.12s\tremaining: 6.54s\n",
      "323:\tlearn: 0.0866807\ttotal: 3.13s\tremaining: 6.53s\n",
      "324:\tlearn: 0.0866200\ttotal: 3.14s\tremaining: 6.52s\n",
      "325:\tlearn: 0.0866100\ttotal: 3.15s\tremaining: 6.51s\n",
      "326:\tlearn: 0.0864644\ttotal: 3.16s\tremaining: 6.5s\n",
      "327:\tlearn: 0.0863542\ttotal: 3.17s\tremaining: 6.49s\n",
      "328:\tlearn: 0.0862905\ttotal: 3.18s\tremaining: 6.49s\n",
      "329:\tlearn: 0.0862029\ttotal: 3.19s\tremaining: 6.48s\n",
      "330:\tlearn: 0.0861221\ttotal: 3.2s\tremaining: 6.46s\n",
      "331:\tlearn: 0.0860624\ttotal: 3.21s\tremaining: 6.46s\n",
      "332:\tlearn: 0.0860240\ttotal: 3.22s\tremaining: 6.45s\n",
      "333:\tlearn: 0.0859501\ttotal: 3.23s\tremaining: 6.44s\n",
      "334:\tlearn: 0.0858419\ttotal: 3.24s\tremaining: 6.43s\n",
      "335:\tlearn: 0.0858228\ttotal: 3.25s\tremaining: 6.42s\n"
     ]
    },
    {
     "name": "stdout",
     "output_type": "stream",
     "text": [
      "336:\tlearn: 0.0856829\ttotal: 3.26s\tremaining: 6.41s\n",
      "337:\tlearn: 0.0854697\ttotal: 3.27s\tremaining: 6.4s\n",
      "338:\tlearn: 0.0854576\ttotal: 3.28s\tremaining: 6.4s\n",
      "339:\tlearn: 0.0854428\ttotal: 3.29s\tremaining: 6.39s\n",
      "340:\tlearn: 0.0853589\ttotal: 3.3s\tremaining: 6.38s\n",
      "341:\tlearn: 0.0853057\ttotal: 3.31s\tremaining: 6.38s\n",
      "342:\tlearn: 0.0852872\ttotal: 3.32s\tremaining: 6.37s\n",
      "343:\tlearn: 0.0852762\ttotal: 3.33s\tremaining: 6.36s\n",
      "344:\tlearn: 0.0852605\ttotal: 3.35s\tremaining: 6.35s\n",
      "345:\tlearn: 0.0852366\ttotal: 3.35s\tremaining: 6.34s\n",
      "346:\tlearn: 0.0851674\ttotal: 3.37s\tremaining: 6.33s\n",
      "347:\tlearn: 0.0850713\ttotal: 3.38s\tremaining: 6.32s\n",
      "348:\tlearn: 0.0849235\ttotal: 3.38s\tremaining: 6.31s\n",
      "349:\tlearn: 0.0849148\ttotal: 3.4s\tremaining: 6.3s\n",
      "350:\tlearn: 0.0848784\ttotal: 3.4s\tremaining: 6.3s\n",
      "351:\tlearn: 0.0848508\ttotal: 3.42s\tremaining: 6.29s\n",
      "352:\tlearn: 0.0848410\ttotal: 3.42s\tremaining: 6.28s\n",
      "353:\tlearn: 0.0848329\ttotal: 3.43s\tremaining: 6.27s\n",
      "354:\tlearn: 0.0848240\ttotal: 3.45s\tremaining: 6.26s\n",
      "355:\tlearn: 0.0847033\ttotal: 3.46s\tremaining: 6.25s\n",
      "356:\tlearn: 0.0846600\ttotal: 3.47s\tremaining: 6.25s\n",
      "357:\tlearn: 0.0846429\ttotal: 3.48s\tremaining: 6.24s\n",
      "358:\tlearn: 0.0845823\ttotal: 3.49s\tremaining: 6.23s\n",
      "359:\tlearn: 0.0845767\ttotal: 3.5s\tremaining: 6.22s\n",
      "360:\tlearn: 0.0844938\ttotal: 3.51s\tremaining: 6.21s\n",
      "361:\tlearn: 0.0844863\ttotal: 3.52s\tremaining: 6.2s\n",
      "362:\tlearn: 0.0844648\ttotal: 3.53s\tremaining: 6.19s\n",
      "363:\tlearn: 0.0844202\ttotal: 3.54s\tremaining: 6.18s\n",
      "364:\tlearn: 0.0843987\ttotal: 3.55s\tremaining: 6.17s\n",
      "365:\tlearn: 0.0842762\ttotal: 3.56s\tremaining: 6.16s\n",
      "366:\tlearn: 0.0842635\ttotal: 3.57s\tremaining: 6.15s\n",
      "367:\tlearn: 0.0842491\ttotal: 3.58s\tremaining: 6.14s\n",
      "368:\tlearn: 0.0842446\ttotal: 3.59s\tremaining: 6.13s\n",
      "369:\tlearn: 0.0841429\ttotal: 3.6s\tremaining: 6.13s\n",
      "370:\tlearn: 0.0840537\ttotal: 3.61s\tremaining: 6.12s\n",
      "371:\tlearn: 0.0838669\ttotal: 3.62s\tremaining: 6.11s\n",
      "372:\tlearn: 0.0837130\ttotal: 3.63s\tremaining: 6.1s\n",
      "373:\tlearn: 0.0834988\ttotal: 3.64s\tremaining: 6.09s\n",
      "374:\tlearn: 0.0834330\ttotal: 3.65s\tremaining: 6.08s\n",
      "375:\tlearn: 0.0833797\ttotal: 3.66s\tremaining: 6.07s\n",
      "376:\tlearn: 0.0833225\ttotal: 3.67s\tremaining: 6.06s\n",
      "377:\tlearn: 0.0832206\ttotal: 3.68s\tremaining: 6.05s\n",
      "378:\tlearn: 0.0831413\ttotal: 3.69s\tremaining: 6.05s\n",
      "379:\tlearn: 0.0830183\ttotal: 3.7s\tremaining: 6.04s\n",
      "380:\tlearn: 0.0829985\ttotal: 3.71s\tremaining: 6.03s\n",
      "381:\tlearn: 0.0829162\ttotal: 3.72s\tremaining: 6.02s\n",
      "382:\tlearn: 0.0828095\ttotal: 3.73s\tremaining: 6.01s\n",
      "383:\tlearn: 0.0827838\ttotal: 3.74s\tremaining: 6s\n",
      "384:\tlearn: 0.0827013\ttotal: 3.75s\tremaining: 5.99s\n",
      "385:\tlearn: 0.0825887\ttotal: 3.76s\tremaining: 5.98s\n",
      "386:\tlearn: 0.0825623\ttotal: 3.77s\tremaining: 5.97s\n",
      "387:\tlearn: 0.0825016\ttotal: 3.78s\tremaining: 5.96s\n",
      "388:\tlearn: 0.0824033\ttotal: 3.79s\tremaining: 5.95s\n",
      "389:\tlearn: 0.0823423\ttotal: 3.8s\tremaining: 5.94s\n",
      "390:\tlearn: 0.0822317\ttotal: 3.81s\tremaining: 5.93s\n",
      "391:\tlearn: 0.0822210\ttotal: 3.82s\tremaining: 5.92s\n",
      "392:\tlearn: 0.0821033\ttotal: 3.83s\tremaining: 5.91s\n",
      "393:\tlearn: 0.0819922\ttotal: 3.84s\tremaining: 5.9s\n",
      "394:\tlearn: 0.0819850\ttotal: 3.85s\tremaining: 5.89s\n",
      "395:\tlearn: 0.0818823\ttotal: 3.86s\tremaining: 5.88s\n",
      "396:\tlearn: 0.0818757\ttotal: 3.87s\tremaining: 5.88s\n",
      "397:\tlearn: 0.0818125\ttotal: 3.88s\tremaining: 5.87s\n",
      "398:\tlearn: 0.0817903\ttotal: 3.89s\tremaining: 5.87s\n",
      "399:\tlearn: 0.0816608\ttotal: 3.9s\tremaining: 5.86s\n",
      "400:\tlearn: 0.0816498\ttotal: 3.91s\tremaining: 5.85s\n",
      "401:\tlearn: 0.0814161\ttotal: 3.92s\tremaining: 5.84s\n",
      "402:\tlearn: 0.0814047\ttotal: 3.93s\tremaining: 5.83s\n",
      "403:\tlearn: 0.0812117\ttotal: 3.94s\tremaining: 5.82s\n",
      "404:\tlearn: 0.0811868\ttotal: 3.95s\tremaining: 5.81s\n",
      "405:\tlearn: 0.0811689\ttotal: 3.96s\tremaining: 5.8s\n",
      "406:\tlearn: 0.0811314\ttotal: 3.97s\tremaining: 5.79s\n",
      "407:\tlearn: 0.0810503\ttotal: 3.98s\tremaining: 5.78s\n",
      "408:\tlearn: 0.0810291\ttotal: 3.99s\tremaining: 5.77s\n",
      "409:\tlearn: 0.0808116\ttotal: 4s\tremaining: 5.76s\n",
      "410:\tlearn: 0.0807115\ttotal: 4.01s\tremaining: 5.75s\n",
      "411:\tlearn: 0.0806416\ttotal: 4.02s\tremaining: 5.74s\n",
      "412:\tlearn: 0.0806224\ttotal: 4.03s\tremaining: 5.73s\n",
      "413:\tlearn: 0.0806182\ttotal: 4.04s\tremaining: 5.72s\n",
      "414:\tlearn: 0.0805997\ttotal: 4.05s\tremaining: 5.71s\n",
      "415:\tlearn: 0.0805807\ttotal: 4.06s\tremaining: 5.7s\n",
      "416:\tlearn: 0.0805677\ttotal: 4.07s\tremaining: 5.69s\n",
      "417:\tlearn: 0.0804825\ttotal: 4.08s\tremaining: 5.68s\n",
      "418:\tlearn: 0.0804016\ttotal: 4.09s\tremaining: 5.67s\n",
      "419:\tlearn: 0.0803741\ttotal: 4.1s\tremaining: 5.66s\n",
      "420:\tlearn: 0.0802778\ttotal: 4.11s\tremaining: 5.65s\n",
      "421:\tlearn: 0.0801513\ttotal: 4.12s\tremaining: 5.64s\n",
      "422:\tlearn: 0.0801095\ttotal: 4.13s\tremaining: 5.63s\n",
      "423:\tlearn: 0.0799884\ttotal: 4.14s\tremaining: 5.62s\n",
      "424:\tlearn: 0.0799718\ttotal: 4.15s\tremaining: 5.62s\n",
      "425:\tlearn: 0.0798835\ttotal: 4.16s\tremaining: 5.61s\n",
      "426:\tlearn: 0.0798093\ttotal: 4.17s\tremaining: 5.6s\n",
      "427:\tlearn: 0.0797989\ttotal: 4.18s\tremaining: 5.59s\n",
      "428:\tlearn: 0.0797924\ttotal: 4.19s\tremaining: 5.58s\n",
      "429:\tlearn: 0.0797843\ttotal: 4.2s\tremaining: 5.57s\n",
      "430:\tlearn: 0.0796871\ttotal: 4.21s\tremaining: 5.56s\n",
      "431:\tlearn: 0.0795923\ttotal: 4.22s\tremaining: 5.55s\n",
      "432:\tlearn: 0.0794908\ttotal: 4.23s\tremaining: 5.54s\n",
      "433:\tlearn: 0.0794052\ttotal: 4.24s\tremaining: 5.53s\n",
      "434:\tlearn: 0.0792717\ttotal: 4.25s\tremaining: 5.52s\n",
      "435:\tlearn: 0.0792137\ttotal: 4.26s\tremaining: 5.51s\n",
      "436:\tlearn: 0.0789992\ttotal: 4.27s\tremaining: 5.5s\n",
      "437:\tlearn: 0.0789312\ttotal: 4.28s\tremaining: 5.49s\n",
      "438:\tlearn: 0.0788823\ttotal: 4.29s\tremaining: 5.49s\n",
      "439:\tlearn: 0.0788193\ttotal: 4.3s\tremaining: 5.47s\n",
      "440:\tlearn: 0.0786760\ttotal: 4.31s\tremaining: 5.46s\n",
      "441:\tlearn: 0.0786137\ttotal: 4.32s\tremaining: 5.46s\n",
      "442:\tlearn: 0.0786017\ttotal: 4.33s\tremaining: 5.45s\n",
      "443:\tlearn: 0.0785906\ttotal: 4.34s\tremaining: 5.44s\n",
      "444:\tlearn: 0.0785619\ttotal: 4.35s\tremaining: 5.43s\n",
      "445:\tlearn: 0.0785564\ttotal: 4.36s\tremaining: 5.42s\n",
      "446:\tlearn: 0.0784597\ttotal: 4.37s\tremaining: 5.41s\n",
      "447:\tlearn: 0.0784069\ttotal: 4.38s\tremaining: 5.4s\n",
      "448:\tlearn: 0.0783301\ttotal: 4.39s\tremaining: 5.39s\n",
      "449:\tlearn: 0.0782641\ttotal: 4.4s\tremaining: 5.38s\n",
      "450:\tlearn: 0.0781058\ttotal: 4.41s\tremaining: 5.37s\n",
      "451:\tlearn: 0.0780740\ttotal: 4.42s\tremaining: 5.36s\n",
      "452:\tlearn: 0.0780151\ttotal: 4.43s\tremaining: 5.35s\n",
      "453:\tlearn: 0.0779688\ttotal: 4.44s\tremaining: 5.34s\n",
      "454:\tlearn: 0.0778258\ttotal: 4.45s\tremaining: 5.33s\n",
      "455:\tlearn: 0.0777704\ttotal: 4.46s\tremaining: 5.32s\n",
      "456:\tlearn: 0.0777172\ttotal: 4.47s\tremaining: 5.31s\n",
      "457:\tlearn: 0.0777075\ttotal: 4.48s\tremaining: 5.31s\n",
      "458:\tlearn: 0.0776911\ttotal: 4.49s\tremaining: 5.3s\n",
      "459:\tlearn: 0.0775423\ttotal: 4.5s\tremaining: 5.29s\n",
      "460:\tlearn: 0.0774001\ttotal: 4.51s\tremaining: 5.28s\n",
      "461:\tlearn: 0.0772951\ttotal: 4.52s\tremaining: 5.27s\n",
      "462:\tlearn: 0.0770903\ttotal: 4.53s\tremaining: 5.26s\n",
      "463:\tlearn: 0.0770017\ttotal: 4.54s\tremaining: 5.25s\n",
      "464:\tlearn: 0.0769773\ttotal: 4.55s\tremaining: 5.24s\n",
      "465:\tlearn: 0.0769228\ttotal: 4.56s\tremaining: 5.23s\n",
      "466:\tlearn: 0.0768587\ttotal: 4.57s\tremaining: 5.22s\n",
      "467:\tlearn: 0.0768504\ttotal: 4.58s\tremaining: 5.21s\n",
      "468:\tlearn: 0.0767779\ttotal: 4.59s\tremaining: 5.2s\n",
      "469:\tlearn: 0.0766780\ttotal: 4.61s\tremaining: 5.19s\n",
      "470:\tlearn: 0.0765922\ttotal: 4.62s\tremaining: 5.18s\n",
      "471:\tlearn: 0.0765428\ttotal: 4.63s\tremaining: 5.17s\n",
      "472:\tlearn: 0.0764790\ttotal: 4.64s\tremaining: 5.17s\n",
      "473:\tlearn: 0.0763675\ttotal: 4.64s\tremaining: 5.15s\n",
      "474:\tlearn: 0.0763593\ttotal: 4.65s\tremaining: 5.14s\n",
      "475:\tlearn: 0.0762833\ttotal: 4.67s\tremaining: 5.14s\n",
      "476:\tlearn: 0.0762141\ttotal: 4.68s\tremaining: 5.13s\n",
      "477:\tlearn: 0.0761299\ttotal: 4.69s\tremaining: 5.12s\n",
      "478:\tlearn: 0.0759975\ttotal: 4.7s\tremaining: 5.11s\n",
      "479:\tlearn: 0.0759223\ttotal: 4.71s\tremaining: 5.1s\n",
      "480:\tlearn: 0.0759010\ttotal: 4.72s\tremaining: 5.09s\n",
      "481:\tlearn: 0.0757477\ttotal: 4.73s\tremaining: 5.08s\n",
      "482:\tlearn: 0.0756798\ttotal: 4.74s\tremaining: 5.07s\n",
      "483:\tlearn: 0.0755280\ttotal: 4.75s\tremaining: 5.06s\n",
      "484:\tlearn: 0.0754593\ttotal: 4.75s\tremaining: 5.05s\n",
      "485:\tlearn: 0.0754501\ttotal: 4.76s\tremaining: 5.04s\n",
      "486:\tlearn: 0.0754329\ttotal: 4.78s\tremaining: 5.03s\n",
      "487:\tlearn: 0.0754232\ttotal: 4.78s\tremaining: 5.02s\n",
      "488:\tlearn: 0.0753537\ttotal: 4.79s\tremaining: 5.01s\n",
      "489:\tlearn: 0.0753068\ttotal: 4.8s\tremaining: 5s\n",
      "490:\tlearn: 0.0752388\ttotal: 4.82s\tremaining: 4.99s\n",
      "491:\tlearn: 0.0751125\ttotal: 4.83s\tremaining: 4.98s\n",
      "492:\tlearn: 0.0750582\ttotal: 4.83s\tremaining: 4.97s\n",
      "493:\tlearn: 0.0750164\ttotal: 4.84s\tremaining: 4.96s\n",
      "494:\tlearn: 0.0750057\ttotal: 4.86s\tremaining: 4.95s\n",
      "495:\tlearn: 0.0748293\ttotal: 4.87s\tremaining: 4.95s\n",
      "496:\tlearn: 0.0747951\ttotal: 4.88s\tremaining: 4.93s\n",
      "497:\tlearn: 0.0747870\ttotal: 4.89s\tremaining: 4.92s\n"
     ]
    },
    {
     "name": "stdout",
     "output_type": "stream",
     "text": [
      "498:\tlearn: 0.0747427\ttotal: 4.9s\tremaining: 4.92s\n",
      "499:\tlearn: 0.0747338\ttotal: 4.91s\tremaining: 4.91s\n",
      "500:\tlearn: 0.0746504\ttotal: 4.92s\tremaining: 4.9s\n",
      "501:\tlearn: 0.0746446\ttotal: 4.93s\tremaining: 4.89s\n",
      "502:\tlearn: 0.0745304\ttotal: 4.94s\tremaining: 4.88s\n",
      "503:\tlearn: 0.0745149\ttotal: 4.95s\tremaining: 4.87s\n",
      "504:\tlearn: 0.0744386\ttotal: 4.96s\tremaining: 4.86s\n",
      "505:\tlearn: 0.0744083\ttotal: 4.97s\tremaining: 4.85s\n",
      "506:\tlearn: 0.0743248\ttotal: 4.98s\tremaining: 4.84s\n",
      "507:\tlearn: 0.0741965\ttotal: 4.99s\tremaining: 4.83s\n",
      "508:\tlearn: 0.0740954\ttotal: 5s\tremaining: 4.82s\n",
      "509:\tlearn: 0.0740922\ttotal: 5s\tremaining: 4.81s\n",
      "510:\tlearn: 0.0740439\ttotal: 5.02s\tremaining: 4.8s\n",
      "511:\tlearn: 0.0740366\ttotal: 5.03s\tremaining: 4.79s\n",
      "512:\tlearn: 0.0739668\ttotal: 5.04s\tremaining: 4.78s\n",
      "513:\tlearn: 0.0738589\ttotal: 5.05s\tremaining: 4.77s\n",
      "514:\tlearn: 0.0738546\ttotal: 5.05s\tremaining: 4.76s\n",
      "515:\tlearn: 0.0738449\ttotal: 5.07s\tremaining: 4.75s\n",
      "516:\tlearn: 0.0737949\ttotal: 5.08s\tremaining: 4.74s\n",
      "517:\tlearn: 0.0737915\ttotal: 5.09s\tremaining: 4.73s\n",
      "518:\tlearn: 0.0737215\ttotal: 5.1s\tremaining: 4.72s\n",
      "519:\tlearn: 0.0736920\ttotal: 5.11s\tremaining: 4.72s\n",
      "520:\tlearn: 0.0735736\ttotal: 5.12s\tremaining: 4.71s\n",
      "521:\tlearn: 0.0735265\ttotal: 5.13s\tremaining: 4.7s\n",
      "522:\tlearn: 0.0735178\ttotal: 5.14s\tremaining: 4.69s\n",
      "523:\tlearn: 0.0734301\ttotal: 5.15s\tremaining: 4.68s\n",
      "524:\tlearn: 0.0734108\ttotal: 5.16s\tremaining: 4.67s\n",
      "525:\tlearn: 0.0733353\ttotal: 5.17s\tremaining: 4.66s\n",
      "526:\tlearn: 0.0732573\ttotal: 5.18s\tremaining: 4.65s\n",
      "527:\tlearn: 0.0731848\ttotal: 5.19s\tremaining: 4.64s\n",
      "528:\tlearn: 0.0731255\ttotal: 5.2s\tremaining: 4.63s\n",
      "529:\tlearn: 0.0731044\ttotal: 5.21s\tremaining: 4.62s\n",
      "530:\tlearn: 0.0730958\ttotal: 5.22s\tremaining: 4.61s\n",
      "531:\tlearn: 0.0730883\ttotal: 5.23s\tremaining: 4.6s\n",
      "532:\tlearn: 0.0730165\ttotal: 5.24s\tremaining: 4.59s\n",
      "533:\tlearn: 0.0729284\ttotal: 5.25s\tremaining: 4.58s\n",
      "534:\tlearn: 0.0728219\ttotal: 5.26s\tremaining: 4.57s\n",
      "535:\tlearn: 0.0726555\ttotal: 5.27s\tremaining: 4.56s\n",
      "536:\tlearn: 0.0725087\ttotal: 5.28s\tremaining: 4.55s\n",
      "537:\tlearn: 0.0724134\ttotal: 5.29s\tremaining: 4.54s\n",
      "538:\tlearn: 0.0722242\ttotal: 5.3s\tremaining: 4.53s\n",
      "539:\tlearn: 0.0722147\ttotal: 5.31s\tremaining: 4.52s\n",
      "540:\tlearn: 0.0721142\ttotal: 5.32s\tremaining: 4.51s\n",
      "541:\tlearn: 0.0720919\ttotal: 5.33s\tremaining: 4.5s\n",
      "542:\tlearn: 0.0720307\ttotal: 5.34s\tremaining: 4.49s\n",
      "543:\tlearn: 0.0720237\ttotal: 5.35s\tremaining: 4.48s\n",
      "544:\tlearn: 0.0720098\ttotal: 5.36s\tremaining: 4.47s\n",
      "545:\tlearn: 0.0719348\ttotal: 5.37s\tremaining: 4.46s\n",
      "546:\tlearn: 0.0718845\ttotal: 5.38s\tremaining: 4.45s\n",
      "547:\tlearn: 0.0717244\ttotal: 5.39s\tremaining: 4.44s\n",
      "548:\tlearn: 0.0716505\ttotal: 5.4s\tremaining: 4.43s\n",
      "549:\tlearn: 0.0716425\ttotal: 5.41s\tremaining: 4.42s\n",
      "550:\tlearn: 0.0715089\ttotal: 5.42s\tremaining: 4.41s\n",
      "551:\tlearn: 0.0714446\ttotal: 5.43s\tremaining: 4.4s\n",
      "552:\tlearn: 0.0714020\ttotal: 5.43s\tremaining: 4.39s\n",
      "553:\tlearn: 0.0713029\ttotal: 5.44s\tremaining: 4.38s\n",
      "554:\tlearn: 0.0712136\ttotal: 5.45s\tremaining: 4.37s\n",
      "555:\tlearn: 0.0710723\ttotal: 5.46s\tremaining: 4.36s\n",
      "556:\tlearn: 0.0710676\ttotal: 5.47s\tremaining: 4.35s\n",
      "557:\tlearn: 0.0709961\ttotal: 5.48s\tremaining: 4.34s\n",
      "558:\tlearn: 0.0709940\ttotal: 5.49s\tremaining: 4.33s\n",
      "559:\tlearn: 0.0709866\ttotal: 5.5s\tremaining: 4.33s\n",
      "560:\tlearn: 0.0709049\ttotal: 5.51s\tremaining: 4.32s\n",
      "561:\tlearn: 0.0708162\ttotal: 5.53s\tremaining: 4.31s\n",
      "562:\tlearn: 0.0707042\ttotal: 5.54s\tremaining: 4.3s\n",
      "563:\tlearn: 0.0705548\ttotal: 5.55s\tremaining: 4.29s\n",
      "564:\tlearn: 0.0705040\ttotal: 5.56s\tremaining: 4.28s\n",
      "565:\tlearn: 0.0704787\ttotal: 5.57s\tremaining: 4.27s\n",
      "566:\tlearn: 0.0704034\ttotal: 5.58s\tremaining: 4.26s\n",
      "567:\tlearn: 0.0703504\ttotal: 5.59s\tremaining: 4.25s\n",
      "568:\tlearn: 0.0702955\ttotal: 5.6s\tremaining: 4.24s\n",
      "569:\tlearn: 0.0702887\ttotal: 5.61s\tremaining: 4.23s\n",
      "570:\tlearn: 0.0702505\ttotal: 5.62s\tremaining: 4.22s\n",
      "571:\tlearn: 0.0701985\ttotal: 5.63s\tremaining: 4.21s\n",
      "572:\tlearn: 0.0701280\ttotal: 5.64s\tremaining: 4.2s\n",
      "573:\tlearn: 0.0700570\ttotal: 5.65s\tremaining: 4.19s\n",
      "574:\tlearn: 0.0699655\ttotal: 5.66s\tremaining: 4.18s\n",
      "575:\tlearn: 0.0698846\ttotal: 5.67s\tremaining: 4.17s\n",
      "576:\tlearn: 0.0698103\ttotal: 5.67s\tremaining: 4.16s\n",
      "577:\tlearn: 0.0696198\ttotal: 5.68s\tremaining: 4.15s\n",
      "578:\tlearn: 0.0695652\ttotal: 5.69s\tremaining: 4.14s\n",
      "579:\tlearn: 0.0695309\ttotal: 5.7s\tremaining: 4.13s\n",
      "580:\tlearn: 0.0694996\ttotal: 5.71s\tremaining: 4.12s\n",
      "581:\tlearn: 0.0694306\ttotal: 5.72s\tremaining: 4.11s\n",
      "582:\tlearn: 0.0693634\ttotal: 5.74s\tremaining: 4.1s\n",
      "583:\tlearn: 0.0692908\ttotal: 5.75s\tremaining: 4.09s\n",
      "584:\tlearn: 0.0692608\ttotal: 5.76s\tremaining: 4.09s\n",
      "585:\tlearn: 0.0692465\ttotal: 5.77s\tremaining: 4.08s\n",
      "586:\tlearn: 0.0691620\ttotal: 5.78s\tremaining: 4.07s\n",
      "587:\tlearn: 0.0691096\ttotal: 5.79s\tremaining: 4.06s\n",
      "588:\tlearn: 0.0690621\ttotal: 5.8s\tremaining: 4.05s\n",
      "589:\tlearn: 0.0690087\ttotal: 5.81s\tremaining: 4.04s\n",
      "590:\tlearn: 0.0690040\ttotal: 5.82s\tremaining: 4.03s\n",
      "591:\tlearn: 0.0688629\ttotal: 5.83s\tremaining: 4.02s\n",
      "592:\tlearn: 0.0688554\ttotal: 5.84s\tremaining: 4.01s\n",
      "593:\tlearn: 0.0687616\ttotal: 5.85s\tremaining: 4s\n",
      "594:\tlearn: 0.0687569\ttotal: 5.86s\tremaining: 3.99s\n",
      "595:\tlearn: 0.0686050\ttotal: 5.87s\tremaining: 3.98s\n",
      "596:\tlearn: 0.0685730\ttotal: 5.88s\tremaining: 3.97s\n",
      "597:\tlearn: 0.0685277\ttotal: 5.89s\tremaining: 3.96s\n",
      "598:\tlearn: 0.0685237\ttotal: 5.9s\tremaining: 3.95s\n",
      "599:\tlearn: 0.0684771\ttotal: 5.91s\tremaining: 3.94s\n",
      "600:\tlearn: 0.0683768\ttotal: 5.92s\tremaining: 3.93s\n",
      "601:\tlearn: 0.0683318\ttotal: 5.93s\tremaining: 3.92s\n",
      "602:\tlearn: 0.0682505\ttotal: 5.94s\tremaining: 3.91s\n",
      "603:\tlearn: 0.0682441\ttotal: 5.95s\tremaining: 3.9s\n",
      "604:\tlearn: 0.0682322\ttotal: 5.96s\tremaining: 3.89s\n",
      "605:\tlearn: 0.0682206\ttotal: 5.97s\tremaining: 3.88s\n",
      "606:\tlearn: 0.0681863\ttotal: 5.98s\tremaining: 3.87s\n",
      "607:\tlearn: 0.0681559\ttotal: 5.99s\tremaining: 3.86s\n",
      "608:\tlearn: 0.0681139\ttotal: 6s\tremaining: 3.85s\n",
      "609:\tlearn: 0.0680920\ttotal: 6.01s\tremaining: 3.84s\n",
      "610:\tlearn: 0.0680293\ttotal: 6.02s\tremaining: 3.83s\n",
      "611:\tlearn: 0.0679392\ttotal: 6.03s\tremaining: 3.82s\n",
      "612:\tlearn: 0.0679137\ttotal: 6.04s\tremaining: 3.81s\n",
      "613:\tlearn: 0.0679104\ttotal: 6.05s\tremaining: 3.8s\n",
      "614:\tlearn: 0.0678044\ttotal: 6.06s\tremaining: 3.79s\n",
      "615:\tlearn: 0.0676858\ttotal: 6.07s\tremaining: 3.78s\n",
      "616:\tlearn: 0.0675863\ttotal: 6.08s\tremaining: 3.77s\n",
      "617:\tlearn: 0.0675098\ttotal: 6.09s\tremaining: 3.76s\n",
      "618:\tlearn: 0.0674695\ttotal: 6.1s\tremaining: 3.75s\n",
      "619:\tlearn: 0.0673602\ttotal: 6.11s\tremaining: 3.75s\n",
      "620:\tlearn: 0.0673568\ttotal: 6.12s\tremaining: 3.73s\n",
      "621:\tlearn: 0.0673155\ttotal: 6.13s\tremaining: 3.73s\n",
      "622:\tlearn: 0.0672383\ttotal: 6.14s\tremaining: 3.72s\n",
      "623:\tlearn: 0.0671991\ttotal: 6.15s\tremaining: 3.71s\n",
      "624:\tlearn: 0.0671929\ttotal: 6.16s\tremaining: 3.7s\n",
      "625:\tlearn: 0.0671581\ttotal: 6.17s\tremaining: 3.69s\n",
      "626:\tlearn: 0.0671055\ttotal: 6.18s\tremaining: 3.68s\n",
      "627:\tlearn: 0.0670400\ttotal: 6.19s\tremaining: 3.67s\n",
      "628:\tlearn: 0.0670368\ttotal: 6.2s\tremaining: 3.66s\n",
      "629:\tlearn: 0.0670067\ttotal: 6.21s\tremaining: 3.65s\n",
      "630:\tlearn: 0.0668972\ttotal: 6.22s\tremaining: 3.64s\n",
      "631:\tlearn: 0.0668483\ttotal: 6.23s\tremaining: 3.63s\n",
      "632:\tlearn: 0.0667963\ttotal: 6.24s\tremaining: 3.62s\n",
      "633:\tlearn: 0.0667930\ttotal: 6.25s\tremaining: 3.61s\n",
      "634:\tlearn: 0.0667865\ttotal: 6.26s\tremaining: 3.6s\n",
      "635:\tlearn: 0.0667560\ttotal: 6.27s\tremaining: 3.59s\n",
      "636:\tlearn: 0.0666481\ttotal: 6.28s\tremaining: 3.58s\n",
      "637:\tlearn: 0.0666301\ttotal: 6.29s\tremaining: 3.57s\n",
      "638:\tlearn: 0.0665763\ttotal: 6.3s\tremaining: 3.56s\n",
      "639:\tlearn: 0.0665348\ttotal: 6.31s\tremaining: 3.55s\n",
      "640:\tlearn: 0.0664929\ttotal: 6.32s\tremaining: 3.54s\n",
      "641:\tlearn: 0.0663665\ttotal: 6.33s\tremaining: 3.53s\n",
      "642:\tlearn: 0.0662982\ttotal: 6.34s\tremaining: 3.52s\n",
      "643:\tlearn: 0.0662324\ttotal: 6.35s\tremaining: 3.51s\n",
      "644:\tlearn: 0.0661626\ttotal: 6.36s\tremaining: 3.5s\n",
      "645:\tlearn: 0.0660958\ttotal: 6.37s\tremaining: 3.49s\n",
      "646:\tlearn: 0.0659892\ttotal: 6.38s\tremaining: 3.48s\n",
      "647:\tlearn: 0.0659337\ttotal: 6.39s\tremaining: 3.47s\n",
      "648:\tlearn: 0.0659225\ttotal: 6.39s\tremaining: 3.46s\n",
      "649:\tlearn: 0.0657686\ttotal: 6.4s\tremaining: 3.45s\n",
      "650:\tlearn: 0.0657329\ttotal: 6.41s\tremaining: 3.44s\n",
      "651:\tlearn: 0.0656424\ttotal: 6.42s\tremaining: 3.43s\n",
      "652:\tlearn: 0.0656360\ttotal: 6.43s\tremaining: 3.42s\n",
      "653:\tlearn: 0.0656190\ttotal: 6.44s\tremaining: 3.41s\n",
      "654:\tlearn: 0.0655972\ttotal: 6.45s\tremaining: 3.4s\n",
      "655:\tlearn: 0.0655765\ttotal: 6.46s\tremaining: 3.39s\n",
      "656:\tlearn: 0.0655413\ttotal: 6.47s\tremaining: 3.38s\n",
      "657:\tlearn: 0.0654532\ttotal: 6.48s\tremaining: 3.37s\n",
      "658:\tlearn: 0.0654243\ttotal: 6.49s\tremaining: 3.36s\n",
      "659:\tlearn: 0.0653727\ttotal: 6.5s\tremaining: 3.35s\n",
      "660:\tlearn: 0.0652506\ttotal: 6.51s\tremaining: 3.34s\n",
      "661:\tlearn: 0.0652385\ttotal: 6.52s\tremaining: 3.33s\n",
      "662:\tlearn: 0.0651100\ttotal: 6.53s\tremaining: 3.32s\n",
      "663:\tlearn: 0.0650660\ttotal: 6.54s\tremaining: 3.31s\n"
     ]
    },
    {
     "name": "stdout",
     "output_type": "stream",
     "text": [
      "664:\tlearn: 0.0650454\ttotal: 6.55s\tremaining: 3.3s\n",
      "665:\tlearn: 0.0650246\ttotal: 6.57s\tremaining: 3.29s\n",
      "666:\tlearn: 0.0650126\ttotal: 6.58s\tremaining: 3.28s\n",
      "667:\tlearn: 0.0649232\ttotal: 6.58s\tremaining: 3.27s\n",
      "668:\tlearn: 0.0649186\ttotal: 6.6s\tremaining: 3.26s\n",
      "669:\tlearn: 0.0648617\ttotal: 6.61s\tremaining: 3.25s\n",
      "670:\tlearn: 0.0648325\ttotal: 6.62s\tremaining: 3.24s\n",
      "671:\tlearn: 0.0647871\ttotal: 6.63s\tremaining: 3.23s\n",
      "672:\tlearn: 0.0647182\ttotal: 6.64s\tremaining: 3.22s\n",
      "673:\tlearn: 0.0645994\ttotal: 6.65s\tremaining: 3.21s\n",
      "674:\tlearn: 0.0645539\ttotal: 6.66s\tremaining: 3.21s\n",
      "675:\tlearn: 0.0644762\ttotal: 6.67s\tremaining: 3.2s\n",
      "676:\tlearn: 0.0644514\ttotal: 6.68s\tremaining: 3.19s\n",
      "677:\tlearn: 0.0643944\ttotal: 6.69s\tremaining: 3.17s\n",
      "678:\tlearn: 0.0643861\ttotal: 6.7s\tremaining: 3.17s\n",
      "679:\tlearn: 0.0643258\ttotal: 6.71s\tremaining: 3.15s\n",
      "680:\tlearn: 0.0643237\ttotal: 6.72s\tremaining: 3.15s\n",
      "681:\tlearn: 0.0643218\ttotal: 6.73s\tremaining: 3.14s\n",
      "682:\tlearn: 0.0642606\ttotal: 6.74s\tremaining: 3.13s\n",
      "683:\tlearn: 0.0642368\ttotal: 6.75s\tremaining: 3.12s\n",
      "684:\tlearn: 0.0641698\ttotal: 6.76s\tremaining: 3.11s\n",
      "685:\tlearn: 0.0641429\ttotal: 6.77s\tremaining: 3.1s\n",
      "686:\tlearn: 0.0640925\ttotal: 6.78s\tremaining: 3.09s\n",
      "687:\tlearn: 0.0640725\ttotal: 6.79s\tremaining: 3.08s\n",
      "688:\tlearn: 0.0639425\ttotal: 6.8s\tremaining: 3.07s\n",
      "689:\tlearn: 0.0638985\ttotal: 6.81s\tremaining: 3.06s\n",
      "690:\tlearn: 0.0638476\ttotal: 6.82s\tremaining: 3.05s\n",
      "691:\tlearn: 0.0638353\ttotal: 6.83s\tremaining: 3.04s\n",
      "692:\tlearn: 0.0637423\ttotal: 6.84s\tremaining: 3.03s\n",
      "693:\tlearn: 0.0637001\ttotal: 6.86s\tremaining: 3.02s\n",
      "694:\tlearn: 0.0636081\ttotal: 6.87s\tremaining: 3.01s\n",
      "695:\tlearn: 0.0635447\ttotal: 6.88s\tremaining: 3s\n",
      "696:\tlearn: 0.0635160\ttotal: 6.88s\tremaining: 2.99s\n",
      "697:\tlearn: 0.0634301\ttotal: 6.89s\tremaining: 2.98s\n",
      "698:\tlearn: 0.0633426\ttotal: 6.9s\tremaining: 2.97s\n",
      "699:\tlearn: 0.0633136\ttotal: 6.91s\tremaining: 2.96s\n",
      "700:\tlearn: 0.0633014\ttotal: 6.92s\tremaining: 2.95s\n",
      "701:\tlearn: 0.0632026\ttotal: 6.93s\tremaining: 2.94s\n",
      "702:\tlearn: 0.0631737\ttotal: 6.94s\tremaining: 2.93s\n",
      "703:\tlearn: 0.0631538\ttotal: 6.95s\tremaining: 2.92s\n",
      "704:\tlearn: 0.0631262\ttotal: 6.96s\tremaining: 2.91s\n",
      "705:\tlearn: 0.0630865\ttotal: 6.98s\tremaining: 2.9s\n",
      "706:\tlearn: 0.0630016\ttotal: 6.99s\tremaining: 2.9s\n",
      "707:\tlearn: 0.0629428\ttotal: 7s\tremaining: 2.88s\n",
      "708:\tlearn: 0.0628782\ttotal: 7s\tremaining: 2.87s\n",
      "709:\tlearn: 0.0628151\ttotal: 7.01s\tremaining: 2.86s\n",
      "710:\tlearn: 0.0626856\ttotal: 7.02s\tremaining: 2.85s\n",
      "711:\tlearn: 0.0626265\ttotal: 7.03s\tremaining: 2.84s\n",
      "712:\tlearn: 0.0626207\ttotal: 7.04s\tremaining: 2.83s\n",
      "713:\tlearn: 0.0625998\ttotal: 7.05s\tremaining: 2.83s\n",
      "714:\tlearn: 0.0625278\ttotal: 7.06s\tremaining: 2.81s\n",
      "715:\tlearn: 0.0624880\ttotal: 7.07s\tremaining: 2.81s\n",
      "716:\tlearn: 0.0624077\ttotal: 7.08s\tremaining: 2.8s\n",
      "717:\tlearn: 0.0623988\ttotal: 7.09s\tremaining: 2.79s\n",
      "718:\tlearn: 0.0623526\ttotal: 7.1s\tremaining: 2.77s\n",
      "719:\tlearn: 0.0623195\ttotal: 7.11s\tremaining: 2.77s\n",
      "720:\tlearn: 0.0622552\ttotal: 7.12s\tremaining: 2.75s\n",
      "721:\tlearn: 0.0622488\ttotal: 7.13s\tremaining: 2.75s\n",
      "722:\tlearn: 0.0622334\ttotal: 7.14s\tremaining: 2.74s\n",
      "723:\tlearn: 0.0621947\ttotal: 7.15s\tremaining: 2.73s\n",
      "724:\tlearn: 0.0621002\ttotal: 7.16s\tremaining: 2.72s\n",
      "725:\tlearn: 0.0620596\ttotal: 7.17s\tremaining: 2.71s\n",
      "726:\tlearn: 0.0620569\ttotal: 7.18s\tremaining: 2.7s\n",
      "727:\tlearn: 0.0620144\ttotal: 7.19s\tremaining: 2.69s\n",
      "728:\tlearn: 0.0619919\ttotal: 7.2s\tremaining: 2.68s\n",
      "729:\tlearn: 0.0619547\ttotal: 7.21s\tremaining: 2.67s\n",
      "730:\tlearn: 0.0619326\ttotal: 7.22s\tremaining: 2.66s\n",
      "731:\tlearn: 0.0618902\ttotal: 7.23s\tremaining: 2.65s\n",
      "732:\tlearn: 0.0618652\ttotal: 7.24s\tremaining: 2.64s\n",
      "733:\tlearn: 0.0618206\ttotal: 7.25s\tremaining: 2.63s\n",
      "734:\tlearn: 0.0617574\ttotal: 7.26s\tremaining: 2.62s\n",
      "735:\tlearn: 0.0617041\ttotal: 7.27s\tremaining: 2.61s\n",
      "736:\tlearn: 0.0616799\ttotal: 7.28s\tremaining: 2.6s\n",
      "737:\tlearn: 0.0616196\ttotal: 7.29s\tremaining: 2.59s\n",
      "738:\tlearn: 0.0615935\ttotal: 7.3s\tremaining: 2.58s\n",
      "739:\tlearn: 0.0615173\ttotal: 7.32s\tremaining: 2.57s\n",
      "740:\tlearn: 0.0614445\ttotal: 7.33s\tremaining: 2.56s\n",
      "741:\tlearn: 0.0614311\ttotal: 7.34s\tremaining: 2.55s\n",
      "742:\tlearn: 0.0613846\ttotal: 7.35s\tremaining: 2.54s\n",
      "743:\tlearn: 0.0613357\ttotal: 7.36s\tremaining: 2.53s\n",
      "744:\tlearn: 0.0612493\ttotal: 7.37s\tremaining: 2.52s\n",
      "745:\tlearn: 0.0612174\ttotal: 7.38s\tremaining: 2.51s\n",
      "746:\tlearn: 0.0611555\ttotal: 7.39s\tremaining: 2.5s\n",
      "747:\tlearn: 0.0611140\ttotal: 7.4s\tremaining: 2.49s\n",
      "748:\tlearn: 0.0610352\ttotal: 7.41s\tremaining: 2.48s\n",
      "749:\tlearn: 0.0609836\ttotal: 7.42s\tremaining: 2.47s\n",
      "750:\tlearn: 0.0609367\ttotal: 7.43s\tremaining: 2.46s\n",
      "751:\tlearn: 0.0609323\ttotal: 7.44s\tremaining: 2.45s\n",
      "752:\tlearn: 0.0608963\ttotal: 7.45s\tremaining: 2.44s\n",
      "753:\tlearn: 0.0608785\ttotal: 7.46s\tremaining: 2.43s\n",
      "754:\tlearn: 0.0607505\ttotal: 7.47s\tremaining: 2.42s\n",
      "755:\tlearn: 0.0607009\ttotal: 7.48s\tremaining: 2.41s\n",
      "756:\tlearn: 0.0606685\ttotal: 7.49s\tremaining: 2.4s\n",
      "757:\tlearn: 0.0605958\ttotal: 7.5s\tremaining: 2.39s\n",
      "758:\tlearn: 0.0605581\ttotal: 7.51s\tremaining: 2.38s\n",
      "759:\tlearn: 0.0604860\ttotal: 7.52s\tremaining: 2.37s\n",
      "760:\tlearn: 0.0604755\ttotal: 7.53s\tremaining: 2.36s\n",
      "761:\tlearn: 0.0603917\ttotal: 7.54s\tremaining: 2.35s\n",
      "762:\tlearn: 0.0603350\ttotal: 7.55s\tremaining: 2.34s\n",
      "763:\tlearn: 0.0602589\ttotal: 7.56s\tremaining: 2.33s\n",
      "764:\tlearn: 0.0601098\ttotal: 7.57s\tremaining: 2.32s\n",
      "765:\tlearn: 0.0600754\ttotal: 7.57s\tremaining: 2.31s\n",
      "766:\tlearn: 0.0600711\ttotal: 7.59s\tremaining: 2.3s\n",
      "767:\tlearn: 0.0600673\ttotal: 7.6s\tremaining: 2.29s\n",
      "768:\tlearn: 0.0600421\ttotal: 7.61s\tremaining: 2.28s\n",
      "769:\tlearn: 0.0599552\ttotal: 7.62s\tremaining: 2.27s\n",
      "770:\tlearn: 0.0599456\ttotal: 7.63s\tremaining: 2.27s\n",
      "771:\tlearn: 0.0599053\ttotal: 7.64s\tremaining: 2.25s\n",
      "772:\tlearn: 0.0598962\ttotal: 7.65s\tremaining: 2.25s\n",
      "773:\tlearn: 0.0598420\ttotal: 7.66s\tremaining: 2.24s\n",
      "774:\tlearn: 0.0598292\ttotal: 7.67s\tremaining: 2.23s\n",
      "775:\tlearn: 0.0597810\ttotal: 7.68s\tremaining: 2.22s\n",
      "776:\tlearn: 0.0597308\ttotal: 7.69s\tremaining: 2.21s\n",
      "777:\tlearn: 0.0596630\ttotal: 7.7s\tremaining: 2.2s\n",
      "778:\tlearn: 0.0596555\ttotal: 7.71s\tremaining: 2.19s\n",
      "779:\tlearn: 0.0596524\ttotal: 7.72s\tremaining: 2.18s\n",
      "780:\tlearn: 0.0595627\ttotal: 7.73s\tremaining: 2.17s\n",
      "781:\tlearn: 0.0595346\ttotal: 7.74s\tremaining: 2.16s\n",
      "782:\tlearn: 0.0594885\ttotal: 7.75s\tremaining: 2.15s\n",
      "783:\tlearn: 0.0594864\ttotal: 7.76s\tremaining: 2.14s\n",
      "784:\tlearn: 0.0594411\ttotal: 7.77s\tremaining: 2.13s\n",
      "785:\tlearn: 0.0593663\ttotal: 7.78s\tremaining: 2.12s\n",
      "786:\tlearn: 0.0593613\ttotal: 7.79s\tremaining: 2.11s\n",
      "787:\tlearn: 0.0593530\ttotal: 7.8s\tremaining: 2.1s\n",
      "788:\tlearn: 0.0593204\ttotal: 7.81s\tremaining: 2.09s\n",
      "789:\tlearn: 0.0593091\ttotal: 7.82s\tremaining: 2.08s\n",
      "790:\tlearn: 0.0593048\ttotal: 7.83s\tremaining: 2.07s\n",
      "791:\tlearn: 0.0592433\ttotal: 7.84s\tremaining: 2.06s\n",
      "792:\tlearn: 0.0591999\ttotal: 7.85s\tremaining: 2.05s\n",
      "793:\tlearn: 0.0591436\ttotal: 7.86s\tremaining: 2.04s\n",
      "794:\tlearn: 0.0591087\ttotal: 7.87s\tremaining: 2.03s\n",
      "795:\tlearn: 0.0590093\ttotal: 7.88s\tremaining: 2.02s\n",
      "796:\tlearn: 0.0589537\ttotal: 7.89s\tremaining: 2.01s\n",
      "797:\tlearn: 0.0588922\ttotal: 7.9s\tremaining: 2s\n",
      "798:\tlearn: 0.0588239\ttotal: 7.91s\tremaining: 1.99s\n",
      "799:\tlearn: 0.0587531\ttotal: 7.92s\tremaining: 1.98s\n",
      "800:\tlearn: 0.0587332\ttotal: 7.93s\tremaining: 1.97s\n",
      "801:\tlearn: 0.0586846\ttotal: 7.94s\tremaining: 1.96s\n",
      "802:\tlearn: 0.0586543\ttotal: 7.95s\tremaining: 1.95s\n",
      "803:\tlearn: 0.0586023\ttotal: 7.96s\tremaining: 1.94s\n",
      "804:\tlearn: 0.0585617\ttotal: 7.97s\tremaining: 1.93s\n",
      "805:\tlearn: 0.0584682\ttotal: 7.98s\tremaining: 1.92s\n",
      "806:\tlearn: 0.0584567\ttotal: 7.99s\tremaining: 1.91s\n",
      "807:\tlearn: 0.0583811\ttotal: 8s\tremaining: 1.9s\n",
      "808:\tlearn: 0.0583412\ttotal: 8.01s\tremaining: 1.89s\n",
      "809:\tlearn: 0.0583056\ttotal: 8.02s\tremaining: 1.88s\n",
      "810:\tlearn: 0.0582644\ttotal: 8.03s\tremaining: 1.87s\n",
      "811:\tlearn: 0.0582252\ttotal: 8.04s\tremaining: 1.86s\n",
      "812:\tlearn: 0.0582237\ttotal: 8.05s\tremaining: 1.85s\n",
      "813:\tlearn: 0.0581738\ttotal: 8.06s\tremaining: 1.84s\n",
      "814:\tlearn: 0.0580930\ttotal: 8.08s\tremaining: 1.83s\n",
      "815:\tlearn: 0.0580364\ttotal: 8.09s\tremaining: 1.82s\n",
      "816:\tlearn: 0.0580108\ttotal: 8.09s\tremaining: 1.81s\n",
      "817:\tlearn: 0.0580010\ttotal: 8.11s\tremaining: 1.8s\n",
      "818:\tlearn: 0.0579481\ttotal: 8.12s\tremaining: 1.79s\n",
      "819:\tlearn: 0.0579462\ttotal: 8.13s\tremaining: 1.78s\n",
      "820:\tlearn: 0.0579370\ttotal: 8.14s\tremaining: 1.77s\n",
      "821:\tlearn: 0.0579357\ttotal: 8.15s\tremaining: 1.76s\n",
      "822:\tlearn: 0.0579176\ttotal: 8.16s\tremaining: 1.75s\n",
      "823:\tlearn: 0.0578109\ttotal: 8.17s\tremaining: 1.74s\n",
      "824:\tlearn: 0.0578029\ttotal: 8.18s\tremaining: 1.73s\n",
      "825:\tlearn: 0.0577499\ttotal: 8.19s\tremaining: 1.72s\n"
     ]
    },
    {
     "name": "stdout",
     "output_type": "stream",
     "text": [
      "826:\tlearn: 0.0577208\ttotal: 8.2s\tremaining: 1.72s\n",
      "827:\tlearn: 0.0576154\ttotal: 8.21s\tremaining: 1.71s\n",
      "828:\tlearn: 0.0575767\ttotal: 8.22s\tremaining: 1.7s\n",
      "829:\tlearn: 0.0574824\ttotal: 8.23s\tremaining: 1.69s\n",
      "830:\tlearn: 0.0574467\ttotal: 8.24s\tremaining: 1.68s\n",
      "831:\tlearn: 0.0574353\ttotal: 8.25s\tremaining: 1.67s\n",
      "832:\tlearn: 0.0574325\ttotal: 8.26s\tremaining: 1.66s\n",
      "833:\tlearn: 0.0573508\ttotal: 8.27s\tremaining: 1.65s\n",
      "834:\tlearn: 0.0573261\ttotal: 8.28s\tremaining: 1.64s\n",
      "835:\tlearn: 0.0573077\ttotal: 8.29s\tremaining: 1.63s\n",
      "836:\tlearn: 0.0572520\ttotal: 8.3s\tremaining: 1.62s\n",
      "837:\tlearn: 0.0572151\ttotal: 8.31s\tremaining: 1.61s\n",
      "838:\tlearn: 0.0571815\ttotal: 8.32s\tremaining: 1.6s\n",
      "839:\tlearn: 0.0570755\ttotal: 8.33s\tremaining: 1.59s\n",
      "840:\tlearn: 0.0570310\ttotal: 8.34s\tremaining: 1.58s\n",
      "841:\tlearn: 0.0569972\ttotal: 8.35s\tremaining: 1.57s\n",
      "842:\tlearn: 0.0569909\ttotal: 8.36s\tremaining: 1.56s\n",
      "843:\tlearn: 0.0569761\ttotal: 8.37s\tremaining: 1.55s\n",
      "844:\tlearn: 0.0569209\ttotal: 8.38s\tremaining: 1.54s\n",
      "845:\tlearn: 0.0568821\ttotal: 8.39s\tremaining: 1.53s\n",
      "846:\tlearn: 0.0568488\ttotal: 8.4s\tremaining: 1.52s\n",
      "847:\tlearn: 0.0568159\ttotal: 8.41s\tremaining: 1.51s\n",
      "848:\tlearn: 0.0567408\ttotal: 8.43s\tremaining: 1.5s\n",
      "849:\tlearn: 0.0566771\ttotal: 8.44s\tremaining: 1.49s\n",
      "850:\tlearn: 0.0566751\ttotal: 8.45s\tremaining: 1.48s\n",
      "851:\tlearn: 0.0566736\ttotal: 8.46s\tremaining: 1.47s\n",
      "852:\tlearn: 0.0565834\ttotal: 8.46s\tremaining: 1.46s\n",
      "853:\tlearn: 0.0564635\ttotal: 8.47s\tremaining: 1.45s\n",
      "854:\tlearn: 0.0564111\ttotal: 8.48s\tremaining: 1.44s\n",
      "855:\tlearn: 0.0563552\ttotal: 8.49s\tremaining: 1.43s\n",
      "856:\tlearn: 0.0563287\ttotal: 8.51s\tremaining: 1.42s\n",
      "857:\tlearn: 0.0562648\ttotal: 8.52s\tremaining: 1.41s\n",
      "858:\tlearn: 0.0562579\ttotal: 8.53s\tremaining: 1.4s\n",
      "859:\tlearn: 0.0562425\ttotal: 8.54s\tremaining: 1.39s\n",
      "860:\tlearn: 0.0561695\ttotal: 8.55s\tremaining: 1.38s\n",
      "861:\tlearn: 0.0561185\ttotal: 8.55s\tremaining: 1.37s\n",
      "862:\tlearn: 0.0560131\ttotal: 8.56s\tremaining: 1.36s\n",
      "863:\tlearn: 0.0559332\ttotal: 8.57s\tremaining: 1.35s\n",
      "864:\tlearn: 0.0559312\ttotal: 8.58s\tremaining: 1.34s\n",
      "865:\tlearn: 0.0559265\ttotal: 8.59s\tremaining: 1.33s\n",
      "866:\tlearn: 0.0559083\ttotal: 8.6s\tremaining: 1.32s\n",
      "867:\tlearn: 0.0559022\ttotal: 8.61s\tremaining: 1.31s\n",
      "868:\tlearn: 0.0558851\ttotal: 8.62s\tremaining: 1.3s\n",
      "869:\tlearn: 0.0558478\ttotal: 8.63s\tremaining: 1.29s\n",
      "870:\tlearn: 0.0558255\ttotal: 8.64s\tremaining: 1.28s\n",
      "871:\tlearn: 0.0558237\ttotal: 8.66s\tremaining: 1.27s\n",
      "872:\tlearn: 0.0558039\ttotal: 8.67s\tremaining: 1.26s\n",
      "873:\tlearn: 0.0557808\ttotal: 8.68s\tremaining: 1.25s\n",
      "874:\tlearn: 0.0556943\ttotal: 8.69s\tremaining: 1.24s\n",
      "875:\tlearn: 0.0556898\ttotal: 8.7s\tremaining: 1.23s\n",
      "876:\tlearn: 0.0556622\ttotal: 8.71s\tremaining: 1.22s\n",
      "877:\tlearn: 0.0556601\ttotal: 8.72s\tremaining: 1.21s\n",
      "878:\tlearn: 0.0556277\ttotal: 8.73s\tremaining: 1.2s\n",
      "879:\tlearn: 0.0555628\ttotal: 8.74s\tremaining: 1.19s\n",
      "880:\tlearn: 0.0555247\ttotal: 8.75s\tremaining: 1.18s\n",
      "881:\tlearn: 0.0554851\ttotal: 8.76s\tremaining: 1.17s\n",
      "882:\tlearn: 0.0554123\ttotal: 8.77s\tremaining: 1.16s\n",
      "883:\tlearn: 0.0553813\ttotal: 8.78s\tremaining: 1.15s\n",
      "884:\tlearn: 0.0553369\ttotal: 8.79s\tremaining: 1.14s\n",
      "885:\tlearn: 0.0553266\ttotal: 8.8s\tremaining: 1.13s\n",
      "886:\tlearn: 0.0552478\ttotal: 8.81s\tremaining: 1.12s\n",
      "887:\tlearn: 0.0551968\ttotal: 8.82s\tremaining: 1.11s\n",
      "888:\tlearn: 0.0551425\ttotal: 8.83s\tremaining: 1.1s\n",
      "889:\tlearn: 0.0551394\ttotal: 8.84s\tremaining: 1.09s\n",
      "890:\tlearn: 0.0551272\ttotal: 8.85s\tremaining: 1.08s\n",
      "891:\tlearn: 0.0550988\ttotal: 8.86s\tremaining: 1.07s\n",
      "892:\tlearn: 0.0550635\ttotal: 8.87s\tremaining: 1.06s\n",
      "893:\tlearn: 0.0550214\ttotal: 8.88s\tremaining: 1.05s\n",
      "894:\tlearn: 0.0549842\ttotal: 8.89s\tremaining: 1.04s\n",
      "895:\tlearn: 0.0549364\ttotal: 8.9s\tremaining: 1.03s\n",
      "896:\tlearn: 0.0548553\ttotal: 8.91s\tremaining: 1.02s\n",
      "897:\tlearn: 0.0547699\ttotal: 8.92s\tremaining: 1.01s\n",
      "898:\tlearn: 0.0547170\ttotal: 8.93s\tremaining: 1s\n",
      "899:\tlearn: 0.0547053\ttotal: 8.94s\tremaining: 994ms\n",
      "900:\tlearn: 0.0546677\ttotal: 8.95s\tremaining: 984ms\n",
      "901:\tlearn: 0.0546148\ttotal: 8.96s\tremaining: 974ms\n",
      "902:\tlearn: 0.0545913\ttotal: 8.97s\tremaining: 964ms\n",
      "903:\tlearn: 0.0545452\ttotal: 8.98s\tremaining: 954ms\n",
      "904:\tlearn: 0.0544446\ttotal: 8.99s\tremaining: 944ms\n",
      "905:\tlearn: 0.0544104\ttotal: 9s\tremaining: 934ms\n",
      "906:\tlearn: 0.0543599\ttotal: 9.01s\tremaining: 924ms\n",
      "907:\tlearn: 0.0543085\ttotal: 9.02s\tremaining: 914ms\n",
      "908:\tlearn: 0.0542886\ttotal: 9.03s\tremaining: 904ms\n",
      "909:\tlearn: 0.0542089\ttotal: 9.04s\tremaining: 894ms\n",
      "910:\tlearn: 0.0542031\ttotal: 9.05s\tremaining: 884ms\n",
      "911:\tlearn: 0.0541587\ttotal: 9.06s\tremaining: 874ms\n",
      "912:\tlearn: 0.0541428\ttotal: 9.07s\tremaining: 864ms\n",
      "913:\tlearn: 0.0541058\ttotal: 9.08s\tremaining: 855ms\n",
      "914:\tlearn: 0.0540745\ttotal: 9.09s\tremaining: 845ms\n",
      "915:\tlearn: 0.0539659\ttotal: 9.1s\tremaining: 835ms\n",
      "916:\tlearn: 0.0539596\ttotal: 9.11s\tremaining: 825ms\n",
      "917:\tlearn: 0.0539114\ttotal: 9.12s\tremaining: 815ms\n",
      "918:\tlearn: 0.0538912\ttotal: 9.13s\tremaining: 805ms\n",
      "919:\tlearn: 0.0538594\ttotal: 9.14s\tremaining: 795ms\n",
      "920:\tlearn: 0.0538556\ttotal: 9.15s\tremaining: 785ms\n",
      "921:\tlearn: 0.0538527\ttotal: 9.16s\tremaining: 775ms\n",
      "922:\tlearn: 0.0537986\ttotal: 9.17s\tremaining: 765ms\n",
      "923:\tlearn: 0.0537185\ttotal: 9.18s\tremaining: 755ms\n",
      "924:\tlearn: 0.0536845\ttotal: 9.19s\tremaining: 745ms\n",
      "925:\tlearn: 0.0536812\ttotal: 9.2s\tremaining: 735ms\n",
      "926:\tlearn: 0.0536255\ttotal: 9.21s\tremaining: 725ms\n",
      "927:\tlearn: 0.0536113\ttotal: 9.22s\tremaining: 715ms\n",
      "928:\tlearn: 0.0535633\ttotal: 9.23s\tremaining: 706ms\n",
      "929:\tlearn: 0.0535621\ttotal: 9.24s\tremaining: 696ms\n",
      "930:\tlearn: 0.0535577\ttotal: 9.25s\tremaining: 686ms\n",
      "931:\tlearn: 0.0535060\ttotal: 9.26s\tremaining: 676ms\n",
      "932:\tlearn: 0.0534810\ttotal: 9.27s\tremaining: 666ms\n",
      "933:\tlearn: 0.0534782\ttotal: 9.28s\tremaining: 656ms\n",
      "934:\tlearn: 0.0534696\ttotal: 9.29s\tremaining: 646ms\n",
      "935:\tlearn: 0.0534088\ttotal: 9.3s\tremaining: 636ms\n",
      "936:\tlearn: 0.0533903\ttotal: 9.31s\tremaining: 626ms\n",
      "937:\tlearn: 0.0533174\ttotal: 9.32s\tremaining: 616ms\n",
      "938:\tlearn: 0.0532634\ttotal: 9.33s\tremaining: 606ms\n",
      "939:\tlearn: 0.0532483\ttotal: 9.34s\tremaining: 596ms\n",
      "940:\tlearn: 0.0531748\ttotal: 9.35s\tremaining: 586ms\n",
      "941:\tlearn: 0.0531254\ttotal: 9.36s\tremaining: 576ms\n",
      "942:\tlearn: 0.0531027\ttotal: 9.37s\tremaining: 566ms\n",
      "943:\tlearn: 0.0530956\ttotal: 9.38s\tremaining: 556ms\n",
      "944:\tlearn: 0.0530276\ttotal: 9.38s\tremaining: 546ms\n",
      "945:\tlearn: 0.0529524\ttotal: 9.39s\tremaining: 536ms\n",
      "946:\tlearn: 0.0529085\ttotal: 9.4s\tremaining: 526ms\n",
      "947:\tlearn: 0.0528349\ttotal: 9.41s\tremaining: 516ms\n",
      "948:\tlearn: 0.0528033\ttotal: 9.43s\tremaining: 507ms\n",
      "949:\tlearn: 0.0527217\ttotal: 9.44s\tremaining: 497ms\n",
      "950:\tlearn: 0.0526796\ttotal: 9.45s\tremaining: 487ms\n",
      "951:\tlearn: 0.0526216\ttotal: 9.46s\tremaining: 477ms\n",
      "952:\tlearn: 0.0525678\ttotal: 9.47s\tremaining: 467ms\n",
      "953:\tlearn: 0.0525648\ttotal: 9.48s\tremaining: 457ms\n",
      "954:\tlearn: 0.0525475\ttotal: 9.49s\tremaining: 447ms\n",
      "955:\tlearn: 0.0524567\ttotal: 9.5s\tremaining: 437ms\n",
      "956:\tlearn: 0.0523910\ttotal: 9.51s\tremaining: 427ms\n",
      "957:\tlearn: 0.0523355\ttotal: 9.52s\tremaining: 417ms\n",
      "958:\tlearn: 0.0523280\ttotal: 9.53s\tremaining: 407ms\n",
      "959:\tlearn: 0.0522660\ttotal: 9.54s\tremaining: 397ms\n",
      "960:\tlearn: 0.0522213\ttotal: 9.54s\tremaining: 387ms\n",
      "961:\tlearn: 0.0521313\ttotal: 9.55s\tremaining: 377ms\n",
      "962:\tlearn: 0.0520974\ttotal: 9.56s\tremaining: 367ms\n",
      "963:\tlearn: 0.0520738\ttotal: 9.57s\tremaining: 358ms\n",
      "964:\tlearn: 0.0519966\ttotal: 9.58s\tremaining: 348ms\n",
      "965:\tlearn: 0.0519614\ttotal: 9.59s\tremaining: 338ms\n",
      "966:\tlearn: 0.0519229\ttotal: 9.6s\tremaining: 328ms\n",
      "967:\tlearn: 0.0519038\ttotal: 9.61s\tremaining: 318ms\n",
      "968:\tlearn: 0.0518092\ttotal: 9.62s\tremaining: 308ms\n",
      "969:\tlearn: 0.0517629\ttotal: 9.63s\tremaining: 298ms\n",
      "970:\tlearn: 0.0517169\ttotal: 9.64s\tremaining: 288ms\n",
      "971:\tlearn: 0.0517007\ttotal: 9.65s\tremaining: 278ms\n",
      "972:\tlearn: 0.0516623\ttotal: 9.66s\tremaining: 268ms\n",
      "973:\tlearn: 0.0516449\ttotal: 9.67s\tremaining: 258ms\n",
      "974:\tlearn: 0.0516067\ttotal: 9.69s\tremaining: 248ms\n",
      "975:\tlearn: 0.0515439\ttotal: 9.7s\tremaining: 238ms\n",
      "976:\tlearn: 0.0514871\ttotal: 9.71s\tremaining: 228ms\n",
      "977:\tlearn: 0.0514311\ttotal: 9.71s\tremaining: 219ms\n",
      "978:\tlearn: 0.0514035\ttotal: 9.72s\tremaining: 209ms\n",
      "979:\tlearn: 0.0513884\ttotal: 9.73s\tremaining: 199ms\n",
      "980:\tlearn: 0.0513603\ttotal: 9.74s\tremaining: 189ms\n",
      "981:\tlearn: 0.0513499\ttotal: 9.76s\tremaining: 179ms\n",
      "982:\tlearn: 0.0513050\ttotal: 9.77s\tremaining: 169ms\n",
      "983:\tlearn: 0.0512625\ttotal: 9.77s\tremaining: 159ms\n",
      "984:\tlearn: 0.0512210\ttotal: 9.79s\tremaining: 149ms\n",
      "985:\tlearn: 0.0512090\ttotal: 9.8s\tremaining: 139ms\n",
      "986:\tlearn: 0.0511948\ttotal: 9.81s\tremaining: 129ms\n",
      "987:\tlearn: 0.0511902\ttotal: 9.82s\tremaining: 119ms\n",
      "988:\tlearn: 0.0511876\ttotal: 9.83s\tremaining: 109ms\n",
      "989:\tlearn: 0.0511682\ttotal: 9.84s\tremaining: 99.4ms\n"
     ]
    },
    {
     "name": "stdout",
     "output_type": "stream",
     "text": [
      "990:\tlearn: 0.0511630\ttotal: 9.85s\tremaining: 89.5ms\n",
      "991:\tlearn: 0.0511597\ttotal: 9.86s\tremaining: 79.5ms\n",
      "992:\tlearn: 0.0511178\ttotal: 9.87s\tremaining: 69.6ms\n",
      "993:\tlearn: 0.0510683\ttotal: 9.88s\tremaining: 59.6ms\n",
      "994:\tlearn: 0.0510193\ttotal: 9.89s\tremaining: 49.7ms\n",
      "995:\tlearn: 0.0509787\ttotal: 9.9s\tremaining: 39.8ms\n",
      "996:\tlearn: 0.0509178\ttotal: 9.91s\tremaining: 29.8ms\n",
      "997:\tlearn: 0.0509099\ttotal: 9.92s\tremaining: 19.9ms\n",
      "998:\tlearn: 0.0508530\ttotal: 9.93s\tremaining: 9.94ms\n",
      "999:\tlearn: 0.0507497\ttotal: 9.94s\tremaining: 0us\n"
     ]
    },
    {
     "data": {
      "text/plain": [
       "<catboost.core.CatBoostRegressor at 0x7f9ae712fee0>"
      ]
     },
     "execution_count": 65,
     "metadata": {},
     "output_type": "execute_result"
    }
   ],
   "source": [
    "cat.fit(X_train_cat, y_train_cat)"
   ]
  },
  {
   "cell_type": "code",
   "execution_count": 67,
   "metadata": {},
   "outputs": [
    {
     "name": "stdout",
     "output_type": "stream",
     "text": [
      "Mean squared error (train): 0.004\n",
      "Mean squared error (holdout): 0.01588\n"
     ]
    }
   ],
   "source": [
    "print(\"Mean squared error (train): %.3f\" % mean_squared_error(y_train_cat, cat.predict(X_train_cat))) \n",
    "print(\"Mean squared error (holdout): %.5f\" % mean_squared_error(y_holdout_cat, cat.predict(X_holdout_cat)))"
   ]
  },
  {
   "cell_type": "code",
   "execution_count": null,
   "metadata": {},
   "outputs": [],
   "source": []
  },
  {
   "cell_type": "code",
   "execution_count": null,
   "metadata": {},
   "outputs": [],
   "source": []
  }
 ],
 "metadata": {
  "kernelspec": {
   "display_name": "Python 3",
   "language": "python",
   "name": "python3"
  },
  "language_info": {
   "codemirror_mode": {
    "name": "ipython",
    "version": 3
   },
   "file_extension": ".py",
   "mimetype": "text/x-python",
   "name": "python",
   "nbconvert_exporter": "python",
   "pygments_lexer": "ipython3",
   "version": "3.7.4"
  }
 },
 "nbformat": 4,
 "nbformat_minor": 2
}
